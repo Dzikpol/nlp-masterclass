{
 "cells": [
  {
   "cell_type": "code",
   "execution_count": 1,
   "metadata": {
    "slideshow": {
     "slide_type": "skip"
    }
   },
   "outputs": [],
   "source": [
    "import xml.etree.ElementTree as ET\n",
    "import os\n",
    "import re"
   ]
  },
  {
   "cell_type": "code",
   "execution_count": 2,
   "metadata": {
    "slideshow": {
     "slide_type": "skip"
    }
   },
   "outputs": [],
   "source": [
    "PATTERN1 = re.compile(r\"(?<=[a-zA-Z])\\n\")\n",
    "PATTERN2 = re.compile(r\"\\s+\")\n",
    "\n",
    "def clean_text(text):\n",
    "    out = PATTERN1.sub(\". \", text)\n",
    "    return PATTERN2.sub(\" \", out)"
   ]
  },
  {
   "cell_type": "code",
   "execution_count": 3,
   "metadata": {
    "slideshow": {
     "slide_type": "skip"
    }
   },
   "outputs": [],
   "source": [
    "def load_data(path):\n",
    "    data = []\n",
    "    for file in os.listdir(path):\n",
    "        with open(f\"{path}/{file}\", \"r\") as f:\n",
    "            raw = f.read()\n",
    "        root = ET.fromstring(raw)\n",
    "        doc = clean_text(root.find(\"body\").text)\n",
    "        for summary in root.find(\"summaries\").findall(\"summary\"):\n",
    "            if summary.attrib[\"ratio\"] == \"10\":\n",
    "                kind = summary.attrib[\"type\"]\n",
    "                text = clean_text(summary.find(\"body\").text)\n",
    "                data.append((doc, text, kind))\n",
    "    return data"
   ]
  },
  {
   "cell_type": "code",
   "execution_count": 4,
   "metadata": {
    "slideshow": {
     "slide_type": "skip"
    }
   },
   "outputs": [],
   "source": [
    "data = load_data(\"PSC_1.0/data\")"
   ]
  },
  {
   "cell_type": "markdown",
   "metadata": {
    "slideshow": {
     "slide_type": "slide"
    }
   },
   "source": [
    "# CLARIN-PL - Summarize\n",
    "\n",
    "http://ws.clarin-pl.eu/summarize.shtml"
   ]
  },
  {
   "cell_type": "markdown",
   "metadata": {
    "slideshow": {
     "slide_type": "fragment"
    }
   },
   "source": [
    "http://nlp.pwr.wroc.pl/redmine/projects/nlprest2/wiki\n",
    "\n",
    "http://nlp.pwr.wroc.pl/redmine/projects/nlprest2/wiki/Tools"
   ]
  },
  {
   "cell_type": "code",
   "execution_count": 5,
   "metadata": {
    "slideshow": {
     "slide_type": "slide"
    }
   },
   "outputs": [],
   "source": [
    "docs = [data[0][0], data[-1][0]]"
   ]
  },
  {
   "cell_type": "code",
   "execution_count": 6,
   "metadata": {
    "slideshow": {
     "slide_type": "fragment"
    }
   },
   "outputs": [
    {
     "data": {
      "text/plain": [
       "['ŚWIĘTO NIEPODLEGŁOŚCI. Nic nie jest dobitniejszym świadectwem solidarności niż praca dla dobra wspólnego. Poszerzanie wolności. RYS. ANDRZEJ LEGUS. JERZY BUZEK. Święto Niepodległości, na przełomie tysiącleci, stwarza szczególną okazję do refleksji nad dokonaniami dwóch pokoleń: tego, którego udziałem stało się w 1918 roku odzyskanie wolności i tego, które niepodległą Rzeczpospolitą od dziesięciu lat współtworzy. Jakie pożytki czerpiemy dziś z ponownie odzyskanej wolności? Jaka jest dzisiejsza wymowa słowa patriotyzm? Jak teraz układają się relacje między Polakami a ich państwem? Na czym w 1999 roku polega czyn obywatelski? Odpowiedzi na te pytania postanowiłem w tym roku poszukać w Krakowie, \"mateczniku polskości\", w mieście, gdzie historia i współczesność przenikają się w stopniu najpełniejszym. Dziedzictwo. 11 listopada to wielkie i radosne święto. Odzyskanie wolności zawsze stanowi tytuł do narodowej dumy. Dla Polaków czyn zbrojny, który przyniósł wolność, miał wymiar szczególny. Po dekadach znaczonych bezowocnymi zrywami powstańczymi okazał się wreszcie czynem skutecznym, nadającym sens hekatombie ofiar poprzedniego stulecia. Skutecznym - co warto pamiętać - w efekcie mądrej akcji dyplomatycznej. Ta z kolei stała się możliwa przede wszystkim dzięki żywotności polskiej tradycji i kultury. Niepodległość nieprzypadkowo kojarzona jest dziś z nazwiskami Piłsudskiego, Dmowskiego, Paderewskiego. One bowiem symbolizują łańcuch uzupełniających się działań zbrojnych i dyplomatycznych, cały czas wspieranych siłą polskiej kultury. Oddając sprawiedliwość i honor wysiłkowi całego narodu trzeba zawsze pamiętać, że czyn niepodległościowy niejedno miał imię. Na Wawelu, nad kryptami królów i bohaterów narodowych, został wzniesiony baldachim upamiętniający 1918 rok. Widnieje na nim napis: \"Ciała śpią, duchy czuwają\". Tu wystarczy chwila skupienia, by uzmysłowić sobie, czym jest Polska, jakie dziedzictwo otrzymaliśmy w darze i jakie zobowiązania na nas ciążą. Wawel i jego sarkofagi to żywa pamięć znamienitej przeszłości. Na tyle żywa, że jak mickiewiczowska pieśń \"uszła cało\" z zawieruchy historii. Przekazywano ją w rodzinie, w Kościele, uczono z książek. Właśnie dlatego Polska - skreślona z mapy Europy - nie była dla pokoleń czasu niewoli abstrakcją, lecz obowiązkiem do spełniania. Czasem także trudnym dziedzictwem, które należało pokonać, wznosząc się ponad własne ograniczenia. Dzięki tej pamięci naród przetrwał, a w kluczowym momencie historii dostrzegł swoją szansę i miał odwagę z niej skorzystać. Bez czynu niepodległość pozostałaby przecież jedynie martwą ideą. Dlatego krakowskie rozważania o patriotyzmie trzeba rozpocząć od hołdu złożonego bohaterom narodowym przy grobie marszałka Józefa Piłsudskiego i przy prochach bezimiennych żołnierzy Rzeczypospolitej. W tym roku będę miał także okazję szczególną, by równocześnie docenić polski czyn dyplomatyczny - uczestnicząc w odsłonięciu i poświęceniu tablicy pamiątkowej ku czci Romana Dmowskiego. Wierzę, iż dla naszego pokolenia stanie się ona znakiem przypominającym, że duch patriotyczny w decydujących dla losów narodu momentach tryumfował nad duchem politycznych sporów. Pamięć o tych, którzy mimo 123 lat niewoli, upokorzeń i klęsk, nigdy nie pogodzili się z utratą wolności, a także o tych, którzy ów protest przechowali przez noc nazizmu i komunizmu na zawsze pozostanie źródłem naszej siły. To ze względu na tę pamięć nie wolno nam zmarnować daru wolności. Testament przeszłych pokoleń przypomina o obowiązku jego utrwalania w codziennych dokonaniach i wyborach. Dziedzictwo czynu 11 listopada to patriotyzm najwyższej próby. Dobre państwo. Nie sposób dziś negować osiągnięć II Rzeczypospolitej. Z perspektywy czasu tamte dokonania zdumiewają śmiałością i rozmachem. Pokolenie, które czynem zbrojnym wywalczyło wolność nie zmarnowało jej, choć nie dane mu było dokończyć dzieła odbudowy polskiej państwowości. My, przedstawiciele pokolenia \"Solidarności\", odzyskawszy suwerenność po półwieczu komunizmu, czujemy się tamtego dzieła kontynuatorami. Jak dziś postrzegamy czyn patriotyczny? Czym dla mnie jako premiera polskiego rządu jest odzyskane na nowo państwo? Przede wszystkim wspólnotą polityczną władz centralnych i samorządu, dobrem wspólnym obywateli. Dziś narodowy czyn ma swój początek w gminie, gdzie podejmowane są decyzje dotyczące lokalnej społeczności. W moim głębokim odczuciu właśnie oddanie władzy w ręce ludzi - w gminie, powiecie i województwie - jest największym zwycięstwem ponownie odzyskanej wolności. To dzięki temu zwycięstwu w ciągu 10 lat dokonaliśmy cywilizacyjnego skoku, podejmując wyzwanie pokolenia, które w 1918 roku rozpoczęło wielkie dzieło reformowania i odbudowy Polski. Samorząd jest najlepszą szkołą patriotyzmu. Lokalnego, powiatowego, regionalnego. Ale także narodowego, bo wszelki patriotyzm zaczyna się od umiłowania tego, co bliskie. Kultura narodowa i lokalna są ze sobą splecione, mają wspólne korzenie, które określają naszą tożsamość. Wybór Krakowa na kulturalną stolicę Europy w roku 2000 potwierdza, że we współczesnym świecie docenia się udział kultury w budowaniu tożsamości, choć w przypadku tego miasta jest to na pewno bardziej kultura narodowa niż lokalna. W decentralizującej się Europie nie ma bowiem pojęcia prowincji, bo często to właśnie ona stanowić może centrum życia duchowego i kulturalnego. Kraków jest dziś przykładem tego, jak działania na rzecz ochrony narodowego dziedzictwa wpływają na rozwój miasta i warunki życia jego mieszkańców. Doświadczenia samorządów polskich wskazują wiele przykładów dobrego gospodarowania lokalnym dziedzictwem, które nie ogranicza się do ochrony zabytków, ale czyni z kultury instrument rozwoju. Bo to dzięki kulturze w równym stopniu jak przez sukces gospodarczy stajemy się członkiem europejskiej wspólnoty - co istotne - zachowując własną tożsamość. W małych ojczyznach dobrze zagospodarowano wolność. Było to możliwe także dlatego, że właśnie tam najsilniejsza jest owa pamięć historyczna, która sto lat temu pozwoliła przetrwać zły czas. Dlatego dobre państwo trzeba i warto budować na fundamencie lokalnego dziedzictwa. W czasach globalizacji, nowoczesny patriotyzm rozumiem właśnie jako budowanie Polski na dole, we własnej, lokalnej przestrzeni duchowej. Nowoczesne technologie pozwalają bowiem być wszędzie, będąc zarazem u siebie - zakotwiczonym w tradycji, kulturze, wartościach. Reformatorskie dzieło mijającej dekady ku temu przecież zmierzało. Jestem dumny, że mój rząd oddając prawo decydowania o swoim losie mieszkańcom wspólnot lokalnych, dzieła tego dopełnił. Zbudowaliśmy państwo, które pozwala swoim obywatelom swobodnie działać dla dobra wspólnego. Pro publico bono. Czym jest dziś czyn obywatelski? Myślę, że po raz pierwszy w naszej historii jest to czyn rozumiany jako aktywność społeczna, a nie jako reakcja na zagrożenia zewnętrzne. Jest to także (wreszcie!) czyn radosny. Patriotyzm zawsze kojarzył się z działaniem niepartykularnym. Z przełamywaniem egoizmu, społeczną solidarnością i wielkodusznością. Ale przede wszystkim z odwagą. Trudno bowiem było wskazać w naszej historii czas, gdy zarazem czyn obywatelski nie wiązał się z ofiarą i wyrzeczeniem, gdy nie był obciążony ryzykiem. Za patriotyzm trzeba było płacić wysoką cenę, często cenę życia. Dlatego dla większości Polaków Święto Niepodległości jest dniem powagi, smutnej zadumy i refleksji. Dlatego często patriotyzm kojarzy się z wyzwaniem niedostępnym przeciętnemu człowiekowi. Tak wiele od niego wymagał. Nadszedł jednak czas, gdy czyn obywatelski może stać się także źródłem powszechnej i wielkiej satysfakcji, bo płynącej z prostego czynienia dobra. W dodatku dziś, działając pro publico bono, można przyczyniać się do cywilizacyjnego rozwoju państwa, zwiększając jego dobrobyt. Nie wiąże się to z żadnym zagrożeniem czy ryzykiem, przeciwnie można \"narazić się\" jedynie na uznanie i szacunek innych. Działalność publiczna zaczyna, choć z licznymi jeszcze zahamowaniami, przynosić popularność, staje się naturalną drogą doboru ludzi najwyższego zaufania w państwie, pozwala upowszechniać pozytywne wzorce. Dzięki nim z kolei łatwiej o upowszechnianie takich postaw obywatelskich, którym przyświeca przede wszystkim dobro wspólne. Każdy wysiłek pro publico bono służy ojczyźnie, poszerza bowiem przestrzeń wolności, zachęca obywateli do samoorganizacji. Mądrość narodu polega na tym, że potrafi nobilitować twórczą pracę obywatelską. Jest ona bowiem dowodem istnienia wspólnoty, potwierdza jej tożsamość i ciągłość historyczną. Każdy taki wysiłek - doceniony i dostrzeżony - wzmacnia zaufanie do państwa, jest gwarantem trwałości społecznych więzów. Gwarantem niepodległości i gwarantem naszej indywidualnej i zbiorowej wolności... A przecież: \"Wolność jest najlepszą, najskuteczniejszą i najtańszą sztuką gospodarowania\" (Ferdynand Zweig). Fundament narodowego bytu. Z kraju o gospodarce scentralizowanej Polska stała się wreszcie bogata w przedsięwzięcia obywatelskie. Inicjatywa przyznawania nagród \"Pro publico bono\", której mam zaszczyt patronować, ma na celu przedsięwzięcia te dostrzec i docenić. Nic bowiem nie jest dobitniejszym świadectwem solidarności niż praca dla dobra wspólnego. A właśnie taka praca tworzy fundament narodowego bytu. 11 listopada 1999 roku w Krakowie kapituła konkursu \"Pro publico bono\" pod przewodnictwem prof. Andrzeja Zolla (i honorowym pana Jana Nowaka-Jeziorańskiego) wyłoni pierwszych laureatów. Jeśli ta inicjatywa zyska poparcie społeczne, stanie się corocznym wydarzeniem, dodając do klimatu Święta Niepodległości niemały ładunek optymizmu i wiary w niezmierzone pokłady patriotyzmu. Naszego prawdziwego narodowego bogactwa.',\n",
       " 'POMOCE SZKOLNE. Szkołokrążcy, prywatni i państwowi. Ryzykowny biznes. ANNA PACIOREK. Na zakup pomocy szkolnych wydaje się z budżetu oświaty niewiele pieniędzy - od 0,5 do 1 proc. - szacuje MEN. Zakupy te są bardzo nierytmiczne. Zazwyczaj pod koniec roku, kiedy nagle pojawiają się środki finansowe szkoły starają się je upłynnić i biorą wszystko, co się da, a producenci nie są w stanie sprostać zamówieniom. Skończyły się czasy, gdy bez aprobaty MEN szkoła nie mogła zakupić żadnej pomocy. Teraz wprawdzie funkcjonuje lista pomocy zalecanych przez MEN, ale nie jest ona obligatoryjna ani dla producentów, ani dla kupujących. Skończył się też monopol MEN w zakresie produkcji i dystrybucji pomocy dydaktycznych. Na rynku pomocy szkolnych trwa walka o klienta, walka między szkołokrążcami, oferującymi kiepski, a tani towar, którym nie zależy na umieszczeniu swoich produktów na liście MEN; dawnymi państwowymi producentami, przyzwyczajonymi do swej monopolistycznej pozycji oraz nowoczesnymi prywatnymi firmami, których produkty zbierają nagrody na krajowych i zagranicznych targach, jak np. ELBOX. Trwanie w poczuciu misji. - Firmy państwowe, które działały na tym polu, były przyzwyczajone, że w MEN jest pewna pula pieniędzy na pomoce naukowe, jaka im się należy - mówi Paweł Bernas dyrektor ELBOX-u - a tu nagle pojawia się firma prywatna, która robi na tyle dobre pomoce, że MEN zdecydowało się włączyć jej wyroby do zakupów centralnych. Od tego momentu jesteśmy postrzegani jako ci, którzy wyciągają z kieszeni tych fabryk \"ich\" pieniądze. Od 1992 r. powstał jednolity front przeciwko ELBOX-owi wszystkich tych, którzy nie dorównują nam swoją ofertą. Do głównych przeciwników ELBOX-u należą pracownicy resortowego Ośrodka Badawczo-Rozwojowego Pomocy Naukowych i Sprzętu Szkolnego, który został przez MEN postawiony w stan likwidacji. \"Warunkiem właściwego funkcjonowania, tak potrzebnego Ośrodka - napisali oni w liście do ministra Jerzego Wiatra - były: nowoczesne i efektywne zarządzanie, właściwy nadzór nad Ośrodkiem i pracami tam prowadzonymi ze strony organu założycielskiego, zlecenie przez MEN koniecznych i odpowiednio wyprzedzających badań i studiów. Te warunki nie były spełnione (...) Od wielu miesięcy Ośrodek zmierzał ku upadkowi ekonomicznemu przy niekompetentnej postawie zarządu firmy oraz ignorancji i przyzwoleniu na taki stan rzeczy ze strony MEN. Dorobek ludzi i ich aktywność zostały zmarnowane i to - wszystko na to wskazuje - bezpowrotnie. Ludzie, związani tyle lat z pracą dla oświaty, zostali bez perspektyw.\" Swoje \"10 pytań do ministra Jerzego Wiatra\" rozpoczynają tak: Jak to się dzieje, że w czasie gdy MEN doprowadza do likwidacji swojej agendy - Ośrodka Badawczo-Rozwojowego Pomocy Naukowych i Sprzętu Szkolnego - znajdują się w ministerstwie pieniądze na finansowanie prywatnej firmy ELBOX?\". - Ośrodek w tej formule działania nie był w stanie się utrzymać - wyjaśnia Maria Branecka z MEN. - Ośrodek nie może tkwić w pozycji misji dziejowej, jak niektóre nasze drukarnie resortowe, którym też się wydawało, że nic im się nie może stać, bo przecież produkują szkolne podręczniki. Ośrodek działał w formule samofinansowania. Producenci popadli w kłopoty, więc przestali zamawiać w Ośrodku projekty. Ośrodek zaczął więc sam realizować swoje projekty, wchodzić w kooperację i sprzedawać - często z niezłym skutkiem. Natomiast funkcje badawcze zostały odsunięte na dalszy tor. Ośrodek jako jednostka badawczo-rozwojowa był zakwalifikowany przez KBN do kategorii D; nie udało mu się nigdy uzyskać z KBN środków na działalność naukową. Co zostało z tych lat. Przed 1992 r. bez aprobaty MEN nie można było wprowadzać do obrotu żadnych pomocy naukowych, szkoły nie mogły kupować nic, co nie miało tej aprobaty. MEN nadzorowało producentów pomocy dydaktycznych - było organem założycielskim dla 9 fabryk pomocy naukowych. Nadzorowało również przedsiębiorstwa dystrybucyjne, czyli CEZAS-y - osiemnaście przedsiębiorstw zlokalizowanych w siedzibach dawnych województw plus w Toruniu. W latach 80. notowano taki niedobór pomocy dydaktycznych, że XXIV Plenum KC PZPR zobowiązało ministra oświaty do wybudowania dwóch fabryk pomocy i zwiększenia produkcji. Zobowiązanie pozostało na papierze. A po 1990 r. w dziewięciu istniejących fabrykach pomocy szkolnych proces przekształceń własnościowych przebiegał niejednakowo. I tak fabrykę w Kętach, która robiła pomoce z drewna i meble przedszkolne, kupili spadkobiercy byłych właścicieli. Nie produkuje ona już pomocy dydaktycznych. Fabryka w Częstochowie upadła; wojewodzie pozostało skierowanie wniosku do sądu o wykreśleniu z rejestru. - Tam produkowano pomoce do chemii i fizyki, np. jako jedyna fabryka w Polsce wytwarzała episkopy - mówi Maria Branecka. - Tych pomocy nie ma i nie będzie. Fabryka w Bytomiu została sprzedana za długi. Inwestor, który kupił fabrykę, podpisał umowę, że jeżeli nie będzie produkować pomocy dydaktycznych, to oprzyrządowanie przekaże do dyspozycji MEN. Kiedy część pracowników założyła spółkę MEN przekazało im oprzyrządowanie, dzięki któremu produkują niewielkie ilości brył geometrycznych. Fabryki w Kartuzach i Olsztynie zostały sprywatyzowane metodą spółki pracowniczej; specjalizują się w produkcji mebli i tablic szkolnych. Pozostałych zakładów nie udało się sprywatyzować i ostatnio, w związku ze zmianami centrum administracyjno-gospodarczego, zostały one przekazane przez MEN wojewodom. Fabryka w Poznaniu, dawniej mająca w ofercie ponad 200 pomocy dydaktycznych, obecnie produkuje szczątkowe ilości. Fabryka w Nysie jest w lepszej kondycji, robi nawet na indywidualne zamówienia pomoce z fizyki oraz pracy-techniki. Fabryka w Warszawie, specjalizująca się w produkcji preparatów do biologii z naturalnych materiałów jest w trudnej sytuacji, chociaż wynajmowała powierzchnie i miała z tego dochód. Fabryka w Koszalinie produkuje meble do internatów i szkół, dość drogie, ale dobre. Przedsiębiorstwo Zaopatrzenia Szkół CEZAS w swoich 18 jednostkach zajmowało się przekazywaniem do szkół pomocy naukowych zgodnie z decyzjami MEN. Było pośrednikiem między resortowymi fabrykami i szkołami. Tylko CEZAS w Zielonej Górze wziął się także za produkcję. Po 1990 roku dwa CEZAS-y - w Bydgoszczy i Poznaniu - zostały zlikwidowane. Sprywatyzowano \"ścieżką pracowniczą\" CEZAS-y w Lublinie, Olsztynie, Toruniu, Wrocławiu, Zielonej Górze. CEZAS w Koszalinie został sprzedany. Pozostałe dziesięć przekazano wojewodom, przy czym w Opolu w stanie kwalifikującym się do upadłości, a w Szczecinie w stanie upadłości. MEN miało też zaplecze naukowe w zakresie projektowania i wdrażania środków dydaktycznych. Był nim właśnie Ośrodek, którego likwidacja ma być zakończona do końca kwietnia. Drugi resortowy - Centralny Ośrodek Badawczo-Rozwojowy Aparatury Badawczej i Dydaktycznej, czyli COBRABID, wywodzący się z dawnego resortu nauki i szkolnictwa wyższego - ma się lepiej, gdyż potrafił w porę dostosować się do gospodarki rynkowej. Sporne zamówienia publiczne. Do czasu wejścia w życie przepisów o zamówieniach publicznych w 1995 roku MEN stosowało w ramach systemu pierwszego wyposażenia zakupy centralne na wyposażanie nowo otwieranych szkół. - Jestem zwolenniczką zakupów centralnych, choć to może niepopularne - mówi Maria Branecka. - To się sprawdza przy zakupie komputerów, tak jak się sprawdziło przy zakupach telewizorów, magnetowidów, gdyż wtedy można załatwić lepsze warunki kontraktu. Zazwyczaj wstępną listę zakupów wysyłaliśmy do kuratorów z prośbą o ich wskazania i zamówienia. Potem komasowaliśmy te zamówienia, \"przycinaliśmy\" do naszych możliwości finansowych i kupowaliśmy centralnie. Zakupy trafiały do kuratoriów i dalej były dzielone na szkoły. Raport NIK krytykował ten system, wskazywał przypadki, gdy zakupiono wyposażenie budynku, który jeszcze nie został wykończony i meble trzeba było przechowywać w stodole. Jednak, zdaniem Marii Braneckiej, nawet to składowanie nie było złym rozwiązaniem, gdyż w sumie meble zostały kupione taniej. Ustawa o zamówieniach publicznych przewiduje także zakupy z wolnej ręki - jeśli np. jakiś produkt ma jednego producenta, a przecież wszystkie środki z listy MEN są wyrobami unikalnymi. - W 1995 r. rozpętała się burza prasowa - wspomina naczelnik Branecka. - Zarzucano nam, że kupujemy coś, na co kuratorzy nie mają ochoty. Kierownictwo MEN wycofało się z zamówień centralnych, a urząd zamówień publicznych nie wyraził zgody na zakup pomocy dydaktycznych z wolnej ręki. W końcu roku pieniądze rozdzielono na kuratoria. Jedni kupili pomoce naukowe, inni przekazali te środki na opał, jeszcze inni na inwestycje. To było 52,5 mld starych zł. Rozpoczęło się szaleńcze wydawanie pieniędzy - producenci pracowali na trzy zmiany, a i tak nie mogli sprostać zamówieniom. - Zakup bez przetargu to problem, z którym będą się spotykać wszyscy producenci pomocy naukowych, które nie mają odpowiedników, są na rynku unikalne - mówi dyrektor Bernas. Jeden z zarzutów stawianych ministrowi Wiatrowi przez Ośrodek Badawczo-Rozwojowy Pomocy Naukowych i Sprzętu Szkolnego dotyczył zaliczek danych przez MEN firmie ELBOX. - Wszystkie transakcje producentów pomocy dydaktycznych związane z centralnym zaopatrzeniem szkół były związane z przedpłatami - mówi Paweł Bernas. - Zaliczkowanie jest uzasadnione, gdyż żeby zrealizować kontrakt, firma musi brać kredyty w banku. Nie widzę w tym nic zdrożnego, aby zamiast zapłacić nadwyżkę w postaci obsługi kredytu komercyjnym bankom, która przyczynia się do zwiększenia ceny, MEN otrzymywało w ramach kontraktów znaczące rabaty albo dostawy większej ilości produktów niż zamówiono. Np. kontrakt ELBOX-u na 1996 r. zawarty na kwotę 413 tys. zł przewidywał dostarczenie dodatkowych bezpłatnych 100 kompletów oprogramowania ELI 2.0 i 1400 dodatkowych kompletów materiałów dydaktycznych na kwotę 49 tys.&nbsp;755 zł. Poza tym firma zobowiązała się do ogłoszenia i sfinansowania konkursu dla nauczycieli na opracowanie konspektu lekcji z wykorzystaniem pakietu ELI 2.0 Lista zalecanych środków dydaktycznych. Minister edukacji już nie aprobuje, tak jak kiedyś, pomocy dydaktycznych do użytku szkolnego, a jedynie zaleca ich stosowanie. Przy czym system ten jest dobrowolny, rekomenduje się pomoc dydaktyczną na wniosek producenta, po wykazaniu się przez niego dwoma pozytywnymi recenzjami recenzentów z listy MEN. Ta lista istnieje od 1992 roku. Jest na niej 115 specjalistów, rekomendowanych przez np. szkoły wyższe i wojewódzkie ośrodki metodyczne. Recenzję zleca producent i za nią płaci. Po pozytywnych recenzjach dana pomoc naukowa zostaje umieszczona w wykazie pomocy zalecanych przez MEN do użytku szkolnego. Obecnie w wykazie jest 258 zalecanych pozycji, dalsze pięć jest w trakcie zatwierdzania. Swoje produkty umieściło w nim 43 dystrybutorów i 55 producentów. - Zdecydowanie wolę iść do recenzenta z wydrukiem komputerowym, niż drukować instrukcję w liczbie 1000 egzemplarzy - mówi dyrektor Bernas. - Iść z prototypem pomocy, bo traktujemy recenzję, jako coś, co może nam pomóc, żeby nasz wyrób był dobry i merytorycznie bezbłędny. Zasada, aby produkt był wzięty z magazynu, to znaczy np. z wydrukowaną instrukcją, jest przede wszystkim nieekonomiczna. - Z tej procedury korzysta niewielka część producentów - mówi Maria Branecka. - System nie jest bardzo popularny, bo jeżeli inni mogą dobrze żyć, sprzedając do szkół naprawdę byle co, to dobrzy producenci nie do końca mają motywację, by ubiegać się o wpis do wykazu. Gdyby były jakiekolwiek preferencje np. przy zakupach środków dydaktycznych, to może i ta lista byłaby obszerniejsza. A szkoły miałyby pewność, że kupują pomoc bez błędów. Ale nie mamy możliwości administracyjnych - nie możemy zaleceń zamienić na nakaz. - Na rynku pomocy naukowych jest sporo dobrych firm prywatnych, wśród których zdecydowanie wybija się ELBOX - dodaje Maria Branecka - a też dużo firm, które osiągają znacznie wyższe obroty niż te pierwsze. One opierają się na sprzedaży obwoźnej; nie są to firmy, które się reklamują czy wystawiają na targach pomocy dydaktycznych. Ich tam nie widać, podobnie jak w wykazie pomocy zalecanych przez MEN do użytku szkolnego. Za to było kilka skierowań do prokuratury o kradzież praw autorskich. Tacy producenci funkcjonują na rynku i to zupełnie nieźle - po prostu jeżdżą od szkoły do szkoły sprzedając swoje wyroby. Nie zawsze są to wyroby, które by przeszły przez nasze sito recenzenckie, trafiają się nawet plansze z błędami ortograficznymi. Oni wygrywają konkurencję, dlatego że robią pomoce tanie, nieomal jednorazowego użytku. A gdy szkole brakuje środków, to o wiele łatwiej jej wydać 10 zł niż kilkaset. System do naprawy. Z całą pewnością zaopatrywanie szkół w pomoce naukowe wymaga zmian, można powiedzieć systemowych, chociaż nie wszystkie mogą być natychmiast wprowadzone. Niewykonalne wydaje się na razie uregulowanie rynku zamówień, gdyż szkoły nie otrzymują rytmicznie środków na zakupy pomocy dydaktycznych. Jak np. przeciwdziałać szkołokrążcom, którzy szybko pojawiają się w szkole, tam gdzie w danym momencie są \"rzucone\" środki na zakup pomocy naukowych i oferują niedobry, a tani towar? - Oni zgarniają te pieniądze z rynku - mówi dyrektor Bernas. - Przyjeżdżamy do szkoły i słyszymy: ale my już zrobiliśmy zakupy! I pokazują nam, np. bryły geometryczne za 10 zł w woreczku od maślanki, parę rurek plastikowych i trochę łączników. Pomimo iż na woreczku narysowano wiele brył, części z nich nie da się złożyć, ponieważ zaoszczędzono na łącznikach. U nas cały zestaw brył, do wykorzystania przez wiele lat, kosztuje ok. 500 złotych. Zdaniem dyrektora Bernasa system zalecania pomocy naukowych powinien być obligatoryjny, gdyż wtedy nauczyciel miałby pewność, że pomoce dydaktyczne kupowane przez szkoły nie zawierają błędów. MEN zamierza promować pomoce dydaktyczne ze swojej listy, wyposażając w nie WOM-y, wyższe szkoły pedagogiczne, żeby obecni i przyszli nauczyciele wiedzieli, z jakich pomocy mogą korzystać. MEN wydało rozporządzenie, na mocy którego od 1 maja producentów mebli szkolnych będą obowiązywały certyfikaty na zgodność z normą. Szkoła nie będzie mogła kupić mebli, jeżeli producent nie będzie miał certyfikatu. Certyfikat będzie też wymagany na środki dydaktyczne zasilane napięciem wyższym niż bezpieczne i pomoce dydaktyczne, które emitują szkodliwe promieniowanie. W planach MEN ma jeszcze opracowanie standardów wyposażenia medialnego szkół, pod kątem nowych podstaw programowych. - Przymierzamy się do przeglądu wszystkich środków dydaktycznych zalecanych do użytku szkolnego w grupach tematycznych - mówi Maria Branecka. - Być może spotkanie recenzentów doprowadzi do zweryfikowania tej listy.']"
      ]
     },
     "execution_count": 6,
     "metadata": {},
     "output_type": "execute_result"
    }
   ],
   "source": [
    "docs"
   ]
  },
  {
   "cell_type": "code",
   "execution_count": 7,
   "metadata": {
    "slideshow": {
     "slide_type": "slide"
    }
   },
   "outputs": [],
   "source": [
    "import json\n",
    "from urllib.request import urlopen, Request\n",
    "import glob   \n",
    "import os\n",
    "import time\n",
    "from rouge import Rouge"
   ]
  },
  {
   "cell_type": "code",
   "execution_count": 8,
   "metadata": {
    "slideshow": {
     "slide_type": "fragment"
    }
   },
   "outputs": [],
   "source": [
    "if not os.path.exists(\"summary\"):\n",
    "    os.mkdir(\"summary\")"
   ]
  },
  {
   "cell_type": "code",
   "execution_count": 9,
   "metadata": {
    "slideshow": {
     "slide_type": "fragment"
    }
   },
   "outputs": [],
   "source": [
    "user = \"moj@adres.email\" \n",
    "task = 'any2txt|wcrft2({\"morfeusz2\":false})|liner2({\"model\":\"names\"})|summarize'\n",
    "url = \"http://ws.clarin-pl.eu/nlprest2/base\"\n",
    "\n",
    "out_path = 'summary/'"
   ]
  },
  {
   "cell_type": "code",
   "execution_count": 10,
   "metadata": {
    "slideshow": {
     "slide_type": "slide"
    }
   },
   "outputs": [],
   "source": [
    "def upload(doc, url):\n",
    "    return urlopen(Request(url + \"/upload/\", doc.encode(), {'Content-Type': 'binary/octet-stream'})).read()"
   ]
  },
  {
   "cell_type": "code",
   "execution_count": 11,
   "metadata": {
    "slideshow": {
     "slide_type": "fragment"
    }
   },
   "outputs": [],
   "source": [
    "def process(data, url):\n",
    "    doc = json.dumps(data).encode('utf-8')\n",
    "    taskid = urlopen(Request(url + '/startTask/', doc, {'Content-Type': 'application/json'})).read()\n",
    "    time.sleep(0.2)\n",
    "    resp = urlopen(Request(url + '/getStatus/' + taskid.decode(\"utf-8\")))\n",
    "    data = json.load(resp)\n",
    "    while data[\"status\"] == \"QUEUE\" or data[\"status\"] == \"PROCESSING\":\n",
    "        time.sleep(0.5)\n",
    "        resp = urlopen(Request(url + '/getStatus/' + taskid.decode(\"utf-8\")))\n",
    "        data = json.load(resp)\n",
    "    if data[\"status\"]==\"ERROR\":\n",
    "        print(\"Error \" + data[\"value\"])\n",
    "        return None\n",
    "    return data[\"value\"]"
   ]
  },
  {
   "cell_type": "code",
   "execution_count": 12,
   "metadata": {
    "slideshow": {
     "slide_type": "slide"
    }
   },
   "outputs": [
    {
     "name": "stdout",
     "output_type": "stream",
     "text": [
      "Processing: 0\n",
      "Processing: 1\n",
      "GLOBAL 13.117507696151733 seconds ---\n"
     ]
    }
   ],
   "source": [
    "global_time = time.time()\n",
    "for idx, doc in enumerate(docs):\n",
    "    doc_id = upload(doc, url)\n",
    "    print(f\"Processing: {idx}\")\n",
    "    data_ = {'lpmn' : task, 'user' : user, 'file' : doc_id.decode(\"utf-8\")}\n",
    "    data_ = process(data_, url)\n",
    "    if data_ is None:\n",
    "        continue\n",
    "    data_ = data_[0][\"fileID\"]\n",
    "    content = urlopen(Request(url + '/download' + data_)).read()\n",
    "    with open(out_path + str(idx) + '.txt', \"w\") as f:\n",
    "        f.write(content.decode(\"utf-8\"))\n",
    "print(\"GLOBAL %s seconds ---\" % (time.time() - global_time))"
   ]
  },
  {
   "cell_type": "code",
   "execution_count": 13,
   "metadata": {
    "slideshow": {
     "slide_type": "slide"
    }
   },
   "outputs": [],
   "source": [
    "summaries = []\n",
    "for i in range(len(docs)):\n",
    "    with open(f\"summary/{i}.txt\", \"r\") as f:\n",
    "        summaries.append(f.read())"
   ]
  },
  {
   "cell_type": "code",
   "execution_count": 14,
   "metadata": {
    "scrolled": true,
    "slideshow": {
     "slide_type": "slide"
    }
   },
   "outputs": [
    {
     "name": "stdout",
     "output_type": "stream",
     "text": [
      "Nic nie jest dobitniejszym świadectwem solidarności niż praca dla dobra wspólnego.\n",
      "Święto Niepodległości, na przełomie tysiącleci, stwarza szczególną okazję do refleksji nad dokonaniami dwóch pokoleń: tego, którego udziałem stało się w 1918 roku odzyskanie wolności i tego, które niepodległą Rzeczpospolitą od dziesięciu lat współtworzy.\n",
      "Odpowiedzi na te pytania postanowiłem w tym roku poszukać w Krakowie, \"mateczniku polskości\", w mieście, gdzie historia i współczesność przenikają się w stopniu najpełniejszym.\n",
      "Ta z kolei stała się możliwa przede wszystkim dzięki żywotności polskiej tradycji i kultury.\n",
      "One bowiem symbolizują łańcuch uzupełniających się działań zbrojnych i dyplomatycznych, cały czas wspieranych siłą polskiej kultury.\n",
      "Tu wystarczy chwila skupienia, by uzmysłowić sobie, czym jest Polska, jakie dziedzictwo otrzymaliśmy w darze i jakie zobowiązania na nas ciążą.\n",
      "Przekazywano ją w rodzinie, w Kościele, uczono z książek.\n",
      "Dzięki tej pamięci naród przetrwał, a w kluczowym momencie historii dostrzegł swoją szansę i miał odwagę z niej skorzystać.\n",
      "W tym roku będę miał także okazję szczególną, by równocześnie docenić polski czyn dyplomatyczny - uczestnicząc w odsłonięciu i poświęceniu tablicy pamiątkowej ku czci Romana Dmowskiego.\n",
      "Pamięć o tych, którzy mimo 123 lat niewoli, upokorzeń i klęsk, nigdy nie pogodzili się z utratą wolności, a także o tych, którzy ów protest przechowali przez noc nazizmu i komunizmu na zawsze pozostanie źródłem naszej siły.\n",
      "Testament przeszłych pokoleń przypomina o obowiązku jego utrwalania w codziennych dokonaniach i wyborach.\n",
      "W moim głębokim odczuciu właśnie oddanie władzy w ręce ludzi - w gminie, powiecie i województwie - jest największym zwycięstwem ponownie odzyskanej wolności.\n",
      "To dzięki temu zwycięstwu w ciągu 10 lat dokonaliśmy cywilizacyjnego skoku, podejmując wyzwanie pokolenia, które w 1918 roku rozpoczęło wielkie dzieło reformowania i odbudowy Polski.\n",
      "Wybór Krakowa na kulturalną stolicę Europy w roku 2000 potwierdza, że we współczesnym świecie docenia się udział kultury w budowaniu tożsamości, choć w przypadku tego miasta jest to na pewno bardziej kultura narodowa niż lokalna.\n",
      "W decentralizującej się Europie nie ma bowiem pojęcia prowincji, bo często to właśnie ona stanowić może centrum życia duchowego i kulturalnego.\n",
      "Kraków jest dziś przykładem tego, jak działania na rzecz ochrony narodowego dziedzictwa wpływają na rozwój miasta i warunki życia jego mieszkańców.\n",
      "W czasach globalizacji, nowoczesny patriotyzm rozumiem właśnie jako budowanie Polski na dole, we własnej, lokalnej przestrzeni duchowej.\n",
      "Myślę, że po raz pierwszy w naszej historii jest to czyn rozumiany jako aktywność społeczna, a nie jako reakcja na zagrożenia zewnętrzne.\n",
      "Trudno bowiem było wskazać w naszej historii czas, gdy zarazem czyn obywatelski nie wiązał się z ofiarą i wyrzeczeniem, gdy nie był obciążony ryzykiem.\n",
      "Nie wiąże się to z żadnym zagrożeniem czy ryzykiem, przeciwnie można \"narazić się\" jedynie na uznanie i szacunek innych.\n"
     ]
    }
   ],
   "source": [
    "print(summaries[0])"
   ]
  },
  {
   "cell_type": "code",
   "execution_count": 15,
   "metadata": {
    "scrolled": true,
    "slideshow": {
     "slide_type": "slide"
    }
   },
   "outputs": [
    {
     "name": "stdout",
     "output_type": "stream",
     "text": [
      "Na zakup pomocy szkolnych wydaje się z budżetu oświaty niewiele pieniędzy - od 0,5 do 1 proc. - szacuje MEN.\n",
      "Zazwyczaj pod koniec roku, kiedy nagle pojawiają się środki finansowe szkoły starają się je upłynnić i biorą wszystko, co się da, a producenci nie są w stanie sprostać zamówieniom.\n",
      "Teraz wprawdzie funkcjonuje lista pomocy zalecanych przez MEN, ale nie jest ona obligatoryjna ani dla producentów, ani dla kupujących.\n",
      "Skończył się też monopol MEN w zakresie produkcji i dystrybucji pomocy dydaktycznych.\n",
      "Na rynku pomocy szkolnych trwa walka o klienta, walka między szkołokrążcami, oferującymi kiepski, a tani towar, którym nie zależy na umieszczeniu swoich produktów na liście MEN; dawnymi państwowymi producentami, przyzwyczajonymi do swej monopolistycznej pozycji oraz nowoczesnymi prywatnymi firmami, których produkty zbierają nagrody na krajowych i zagranicznych targach, jak np. ELBOX.\n",
      "- Firmy państwowe, które działały na tym polu, były przyzwyczajone, że w MEN jest pewna pula pieniędzy na pomoce naukowe, jaka im się należy - mówi Paweł Bernas dyrektor ELBOX-u - a tu nagle pojawia się firma prywatna, która robi na tyle dobre pomoce, że MEN zdecydowało się włączyć jej wyroby do zakupów centralnych.\n",
      "Do głównych przeciwników ELBOX-u należą pracownicy resortowego Ośrodka Badawczo-Rozwojowego Pomocy Naukowych i Sprzętu Szkolnego, który został przez MEN postawiony w stan likwidacji.\n",
      "\"Warunkiem właściwego funkcjonowania, tak potrzebnego Ośrodka - napisali oni w liście do ministra Jerzego Wiatra - były: nowoczesne i efektywne zarządzanie, właściwy nadzór nad Ośrodkiem i pracami tam prowadzonymi ze strony organu założycielskiego, zlecenie przez MEN koniecznych i odpowiednio wyprzedzających badań i studiów.\n",
      "Swoje \"10 pytań do ministra Jerzego Wiatra\" rozpoczynają tak: Jak to się dzieje, że w czasie gdy MEN doprowadza do likwidacji swojej agendy - Ośrodka Badawczo-Rozwojowego Pomocy Naukowych i Sprzętu Szkolnego - znajdują się w ministerstwie pieniądze na finansowanie prywatnej firmy ELBOX?\".\n",
      "- Ośrodek w tej formule działania nie był w stanie się utrzymać - wyjaśnia Maria Branecka z MEN.\n",
      "Przed 1992 r. bez aprobaty MEN nie można było wprowadzać do obrotu żadnych pomocy naukowych, szkoły nie mogły kupować nic, co nie miało tej aprobaty.\n",
      "W latach 80. notowano taki niedobór pomocy dydaktycznych, że XXIV Plenum KC PZPR zobowiązało ministra oświaty do wybudowania dwóch fabryk pomocy i zwiększenia produkcji.\n",
      "I tak fabrykę w Kętach, która robiła pomoce z drewna i meble przedszkolne, kupili spadkobiercy byłych właścicieli.\n",
      "- Tam produkowano pomoce do chemii i fizyki, np. jako jedyna fabryka w Polsce wytwarzała episkopy - mówi Maria Branecka.\n",
      "Fabryki w Kartuzach i Olsztynie zostały sprywatyzowane metodą spółki pracowniczej; specjalizują się w produkcji mebli i tablic szkolnych.\n",
      "Fabryka w Nysie jest w lepszej kondycji, robi nawet na indywidualne zamówienia pomoce z fizyki oraz pracy-techniki.\n",
      "Fabryka w Warszawie, specjalizująca się w produkcji preparatów do biologii z naturalnych materiałów jest w trudnej sytuacji, chociaż wynajmowała powierzchnie i miała z tego dochód.\n",
      "Pozostałe dziesięć przekazano wojewodom, przy czym w Opolu w stanie kwalifikującym się do upadłości, a w Szczecinie w stanie upadłości.\n",
      "Drugi resortowy - Centralny Ośrodek Badawczo-Rozwojowy Aparatury Badawczej i Dydaktycznej, czyli COBRABID, wywodzący się z dawnego resortu nauki i szkolnictwa wyższego - ma się lepiej, gdyż potrafił w porę dostosować się do gospodarki rynkowej.\n",
      "Do czasu wejścia w życie przepisów o zamówieniach publicznych w 1995 roku MEN stosowało w ramach systemu pierwszego wyposażenia zakupy centralne na wyposażanie nowo otwieranych szkół.\n",
      "Kierownictwo MEN wycofało się z zamówień centralnych, a urząd zamówień publicznych nie wyraził zgody na zakup pomocy dydaktycznych z wolnej ręki.\n",
      "Nie widzę w tym nic zdrożnego, aby zamiast zapłacić nadwyżkę w postaci obsługi kredytu komercyjnym bankom, która przyczynia się do zwiększenia ceny, MEN otrzymywało w ramach kontraktów znaczące rabaty albo dostawy większej ilości produktów niż zamówiono.\n",
      "Np. kontrakt ELBOX-u na 1996 r. zawarty na kwotę 413 tys. zł przewidywał dostarczenie dodatkowych bezpłatnych 100 kompletów oprogramowania ELI 2.0 i 1400 dodatkowych kompletów materiałów dydaktycznych na kwotę 49 tys.&nbsp;755 zł.\n",
      "Jak np. przeciwdziałać szkołokrążcom, którzy szybko pojawiają się w szkole, tam gdzie w danym momencie są \"rzucone\" środki na zakup pomocy naukowych i oferują niedobry, a tani towar?\n",
      "MEN zamierza promować pomoce dydaktyczne ze swojej listy, wyposażając w nie WOM-y, wyższe szkoły pedagogiczne, żeby obecni i przyszli nauczyciele wiedzieli, z jakich pomocy mogą korzystać.\n"
     ]
    }
   ],
   "source": [
    "print(summaries[1])"
   ]
  },
  {
   "cell_type": "code",
   "execution_count": 16,
   "metadata": {
    "slideshow": {
     "slide_type": "slide"
    }
   },
   "outputs": [],
   "source": [
    "doc_hash1 = hash(data[0][0])\n",
    "references1 = [s for d, s, _ in data if hash(d) == doc_hash1]"
   ]
  },
  {
   "cell_type": "code",
   "execution_count": 17,
   "metadata": {
    "slideshow": {
     "slide_type": "fragment"
    }
   },
   "outputs": [],
   "source": [
    "doc_hash2 = hash(data[-1][0])\n",
    "references2 = [s for d, s, _ in data if hash(d) == doc_hash2]"
   ]
  },
  {
   "cell_type": "code",
   "execution_count": 18,
   "metadata": {
    "slideshow": {
     "slide_type": "fragment"
    }
   },
   "outputs": [],
   "source": [
    "rouge = Rouge()"
   ]
  },
  {
   "cell_type": "code",
   "execution_count": 19,
   "metadata": {
    "slideshow": {
     "slide_type": "fragment"
    }
   },
   "outputs": [],
   "source": [
    "summary1 = [summaries[0]] * len(references1)\n",
    "summary2 = [summaries[1]] * len(references2)"
   ]
  },
  {
   "cell_type": "code",
   "execution_count": 20,
   "metadata": {
    "slideshow": {
     "slide_type": "fragment"
    }
   },
   "outputs": [],
   "source": [
    "scores1 = rouge.get_scores(summary1, references1, avg=True)\n",
    "scores2 = rouge.get_scores(summary2, references2, avg=True)"
   ]
  },
  {
   "cell_type": "code",
   "execution_count": 21,
   "metadata": {
    "slideshow": {
     "slide_type": "slide"
    }
   },
   "outputs": [
    {
     "name": "stdout",
     "output_type": "stream",
     "text": [
      "rouge-1: {'f': 0.29654115271182935, 'p': 0.19441860465116279, 'r': 0.6267064196419978}\n",
      "rouge-2: {'f': 0.20584424446663988, 'p': 0.13473193473193473, 'r': 0.43735206408434013}\n",
      "rouge-l: {'f': 0.31405066720683344, 'p': 0.21493506493506492, 'r': 0.585829056166307}\n"
     ]
    }
   ],
   "source": [
    "for k, v in scores1.items():\n",
    "    print(f\"{k}: {v}\")"
   ]
  },
  {
   "cell_type": "code",
   "execution_count": 22,
   "metadata": {
    "slideshow": {
     "slide_type": "fragment"
    }
   },
   "outputs": [
    {
     "name": "stdout",
     "output_type": "stream",
     "text": [
      "rouge-1: {'f': 0.3279446590478781, 'p': 0.21426470588235294, 'r': 0.698931834557462}\n",
      "rouge-2: {'f': 0.24517026553519652, 'p': 0.1600883652430044, 'r': 0.5235602426786029}\n",
      "rouge-l: {'f': 0.34722453818885485, 'p': 0.23775280898876403, 'r': 0.6443945850535673}\n"
     ]
    }
   ],
   "source": [
    "for k, v in scores2.items():\n",
    "    print(f\"{k}: {v}\")"
   ]
  },
  {
   "cell_type": "markdown",
   "metadata": {
    "slideshow": {
     "slide_type": "skip"
    }
   },
   "source": [
    "\n"
   ]
  }
 ],
 "metadata": {
  "celltoolbar": "Slideshow",
  "kernelspec": {
   "display_name": "Python 3",
   "language": "python",
   "name": "python3"
  },
  "language_info": {
   "codemirror_mode": {
    "name": "ipython",
    "version": 3
   },
   "file_extension": ".py",
   "mimetype": "text/x-python",
   "name": "python",
   "nbconvert_exporter": "python",
   "pygments_lexer": "ipython3",
   "version": "3.8.5"
  }
 },
 "nbformat": 4,
 "nbformat_minor": 4
}
