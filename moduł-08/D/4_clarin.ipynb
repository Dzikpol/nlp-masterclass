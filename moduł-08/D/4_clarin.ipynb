{
 "cells": [
  {
   "cell_type": "code",
   "execution_count": 1,
   "metadata": {
    "slideshow": {
     "slide_type": "skip"
    }
   },
   "outputs": [],
   "source": [
    "with open(\"klej_polemo2.0-in/dev.tsv\", \"r\") as f:\n",
    "    raw_dev = f.readlines()"
   ]
  },
  {
   "cell_type": "code",
   "execution_count": 2,
   "metadata": {
    "slideshow": {
     "slide_type": "skip"
    }
   },
   "outputs": [],
   "source": [
    "def prepare_data(raw_data):\n",
    "    corpus = []\n",
    "    labels = []\n",
    "    for doc in raw_data:\n",
    "        text, target = doc.strip().split(\"\\t\")\n",
    "        if \"plus\" in target:\n",
    "            label = 0\n",
    "        elif \"minus\" in target:\n",
    "            label = 1\n",
    "        else:\n",
    "            label = 2\n",
    "        corpus.append(text)\n",
    "        labels.append(label)\n",
    "    return corpus, labels"
   ]
  },
  {
   "cell_type": "code",
   "execution_count": 3,
   "metadata": {
    "slideshow": {
     "slide_type": "skip"
    }
   },
   "outputs": [],
   "source": [
    "test_corpus, test_labels = prepare_data(raw_dev[1:])"
   ]
  },
  {
   "cell_type": "markdown",
   "metadata": {
    "slideshow": {
     "slide_type": "slide"
    }
   },
   "source": [
    "# CLARIN-PL - Analizator wydźwięku\n",
    "\n",
    "https://ws.clarin-pl.eu/sentyment.shtml"
   ]
  },
  {
   "cell_type": "markdown",
   "metadata": {
    "slideshow": {
     "slide_type": "fragment"
    }
   },
   "source": [
    "http://nlp.pwr.wroc.pl/redmine/projects/nlprest2/wiki\n",
    "\n",
    "http://nlp.pwr.wroc.pl/redmine/projects/nlprest2/wiki/Tools"
   ]
  },
  {
   "cell_type": "code",
   "execution_count": 4,
   "metadata": {
    "slideshow": {
     "slide_type": "slide"
    }
   },
   "outputs": [],
   "source": [
    "import json\n",
    "from urllib.request import urlopen, Request\n",
    "import os\n",
    "import time\n",
    "from collections import Counter\n",
    "import pandas as pd\n",
    "from sklearn.metrics import classification_report"
   ]
  },
  {
   "cell_type": "code",
   "execution_count": 5,
   "metadata": {
    "slideshow": {
     "slide_type": "fragment"
    }
   },
   "outputs": [],
   "source": [
    "if not os.path.exists(\"output\"):\n",
    "    os.mkdir(\"output\")"
   ]
  },
  {
   "cell_type": "code",
   "execution_count": 6,
   "metadata": {
    "slideshow": {
     "slide_type": "fragment"
    }
   },
   "outputs": [],
   "source": [
    "user = \"moj@adres.email\" \n",
    "task = 'any2txt|wcrft2({\"morfeusz2\":true})|wsd|sentiment|out(\"senti\")|sentimerge({\"split_paragraphs\":\"False\"})'\n",
    "url = \"http://ws.clarin-pl.eu/nlprest2/base\"\n",
    "\n",
    "out_path = 'output/'"
   ]
  },
  {
   "cell_type": "code",
   "execution_count": 7,
   "metadata": {
    "slideshow": {
     "slide_type": "slide"
    }
   },
   "outputs": [],
   "source": [
    "def upload(doc, url):\n",
    "    return urlopen(Request(url + \"/upload/\", doc.encode(), {'Content-Type': 'binary/octet-stream'})).read()"
   ]
  },
  {
   "cell_type": "code",
   "execution_count": 8,
   "metadata": {
    "slideshow": {
     "slide_type": "fragment"
    }
   },
   "outputs": [],
   "source": [
    "def process(data, url):\n",
    "    doc = json.dumps(data).encode('utf-8')\n",
    "    taskid = urlopen(Request(url + '/startTask/', doc, {'Content-Type': 'application/json'})).read()\n",
    "    time.sleep(0.2)\n",
    "    resp = urlopen(Request(url + '/getStatus/' + taskid.decode(\"utf-8\")))\n",
    "    data = json.load(resp)\n",
    "    while data[\"status\"] == \"QUEUE\" or data[\"status\"] == \"PROCESSING\":\n",
    "        time.sleep(0.5)\n",
    "        resp = urlopen(Request(url + '/getStatus/' + taskid.decode(\"utf-8\")))\n",
    "        data = json.load(resp)\n",
    "    if data[\"status\"]==\"ERROR\":\n",
    "        print(\"Error \" + data[\"value\"])\n",
    "        return None\n",
    "    return data[\"value\"]"
   ]
  },
  {
   "cell_type": "code",
   "execution_count": 9,
   "metadata": {
    "slideshow": {
     "slide_type": "slide"
    }
   },
   "outputs": [
    {
     "name": "stdout",
     "output_type": "stream",
     "text": [
      "Processing: 0\n",
      "Processing: 1\n",
      "Processing: 2\n",
      "GLOBAL 55.801297664642334 seconds\n"
     ]
    }
   ],
   "source": [
    "global_time = time.time()\n",
    "for idx, doc in enumerate(test_corpus[:3]):\n",
    "    doc_id = upload(doc, url)\n",
    "    print(f\"Processing: {idx}\")\n",
    "    data = {'lpmn' : task, 'user' : user, 'file' : doc_id.decode(\"utf-8\")}\n",
    "    data = process(data, url)\n",
    "    if data is None:\n",
    "        continue\n",
    "    data = data[\"result\"][0][\"fileID\"]\n",
    "    content = urlopen(Request(url + '/download' + data)).read()\n",
    "    with open(out_path + str(idx) + '.csv', \"w\") as f:\n",
    "        f.write(content.decode(\"utf-8\"))\n",
    "print(f\"GLOBAL {time.time() - global_time} seconds\")"
   ]
  },
  {
   "cell_type": "code",
   "execution_count": 10,
   "metadata": {
    "scrolled": false,
    "slideshow": {
     "slide_type": "slide"
    }
   },
   "outputs": [
    {
     "data": {
      "text/html": [
       "<div>\n",
       "<style scoped>\n",
       "    .dataframe tbody tr th:only-of-type {\n",
       "        vertical-align: middle;\n",
       "    }\n",
       "\n",
       "    .dataframe tbody tr th {\n",
       "        vertical-align: top;\n",
       "    }\n",
       "\n",
       "    .dataframe thead th {\n",
       "        text-align: right;\n",
       "    }\n",
       "</style>\n",
       "<table border=\"1\" class=\"dataframe\">\n",
       "  <thead>\n",
       "    <tr style=\"text-align: right;\">\n",
       "      <th></th>\n",
       "      <th>Lemma</th>\n",
       "      <th>Syn_id</th>\n",
       "      <th>Polarity</th>\n",
       "      <th>Emotion_names</th>\n",
       "      <th>Emotion_valuations</th>\n",
       "      <th>Units in synset</th>\n",
       "    </tr>\n",
       "  </thead>\n",
       "  <tbody>\n",
       "    <tr>\n",
       "      <th>0</th>\n",
       "      <td>pani</td>\n",
       "      <td>129</td>\n",
       "      <td>0</td>\n",
       "      <td>NaN</td>\n",
       "      <td>NaN</td>\n",
       "      <td>białogłowa.1(15:os) wenusjanka.3(15:os) pani.2...</td>\n",
       "    </tr>\n",
       "    <tr>\n",
       "      <th>1</th>\n",
       "      <td>doktor</td>\n",
       "      <td>231013</td>\n",
       "      <td>0</td>\n",
       "      <td>NaN</td>\n",
       "      <td>NaN</td>\n",
       "      <td>doktor.3(7:por) dr.1(7:por)</td>\n",
       "    </tr>\n",
       "    <tr>\n",
       "      <th>2</th>\n",
       "      <td>bardzo</td>\n",
       "      <td>460680</td>\n",
       "      <td>0</td>\n",
       "      <td>NaN</td>\n",
       "      <td>NaN</td>\n",
       "      <td>bardzo.1(48:48)</td>\n",
       "    </tr>\n",
       "    <tr>\n",
       "      <th>3</th>\n",
       "      <td>miła</td>\n",
       "      <td>227066</td>\n",
       "      <td>1</td>\n",
       "      <td>radość,zaufanie</td>\n",
       "      <td>dobro,piękno,szczęście</td>\n",
       "      <td>luba.1(15:os) dulcynea.2(15:os) miła.1(15:os) ...</td>\n",
       "    </tr>\n",
       "    <tr>\n",
       "      <th>4</th>\n",
       "      <td>szkła</td>\n",
       "      <td>31312</td>\n",
       "      <td>0</td>\n",
       "      <td>NaN</td>\n",
       "      <td>NaN</td>\n",
       "      <td>szkła.1(3:wytw) patrzałki.1(3:wytw) binokle.2(...</td>\n",
       "    </tr>\n",
       "    <tr>\n",
       "      <th>5</th>\n",
       "      <td>dobrany</td>\n",
       "      <td>104472</td>\n",
       "      <td>1</td>\n",
       "      <td>radość,zaufanie</td>\n",
       "      <td>dobro,szczęście,użyteczność</td>\n",
       "      <td>dobrany.1(42:jak)</td>\n",
       "    </tr>\n",
       "    <tr>\n",
       "      <th>6</th>\n",
       "      <td>mama</td>\n",
       "      <td>6298</td>\n",
       "      <td>0</td>\n",
       "      <td>NaN</td>\n",
       "      <td>NaN</td>\n",
       "      <td>matka.1(15:os) mama.1(15:os) rodzicielka.1(15:os)</td>\n",
       "    </tr>\n",
       "    <tr>\n",
       "      <th>7</th>\n",
       "      <td>źle</td>\n",
       "      <td>454949</td>\n",
       "      <td>0</td>\n",
       "      <td>NaN</td>\n",
       "      <td>NaN</td>\n",
       "      <td>negatywnie.2(48:48) niedobrze.2(48:48) źle.3(4...</td>\n",
       "    </tr>\n",
       "    <tr>\n",
       "      <th>8</th>\n",
       "      <td>gabinet</td>\n",
       "      <td>5583</td>\n",
       "      <td>0</td>\n",
       "      <td>NaN</td>\n",
       "      <td>NaN</td>\n",
       "      <td>biuro.2(12:msc) kancelaria.1(12:msc) gabinet.4...</td>\n",
       "    </tr>\n",
       "    <tr>\n",
       "      <th>9</th>\n",
       "      <td>być</td>\n",
       "      <td>250920</td>\n",
       "      <td>0</td>\n",
       "      <td>NaN</td>\n",
       "      <td>NaN</td>\n",
       "      <td>być.9(40:cst)</td>\n",
       "    </tr>\n",
       "    <tr>\n",
       "      <th>10</th>\n",
       "      <td>ciemno</td>\n",
       "      <td>452275</td>\n",
       "      <td>0</td>\n",
       "      <td>NaN</td>\n",
       "      <td>NaN</td>\n",
       "      <td>ciemno.3(48:48)</td>\n",
       "    </tr>\n",
       "    <tr>\n",
       "      <th>11</th>\n",
       "      <td>nieodpowiedni</td>\n",
       "      <td>104449</td>\n",
       "      <td>-1</td>\n",
       "      <td>wstręt,złość</td>\n",
       "      <td>błąd,nieużyteczność,niewiedza</td>\n",
       "      <td>niewłaściwy.1(42:jak) nieodpowiedni.1(42:jak) ...</td>\n",
       "    </tr>\n",
       "  </tbody>\n",
       "</table>\n",
       "</div>"
      ],
      "text/plain": [
       "            Lemma  Syn_id  Polarity    Emotion_names  \\\n",
       "0            pani     129         0              NaN   \n",
       "1          doktor  231013         0              NaN   \n",
       "2          bardzo  460680         0              NaN   \n",
       "3            miła  227066         1  radość,zaufanie   \n",
       "4           szkła   31312         0              NaN   \n",
       "5         dobrany  104472         1  radość,zaufanie   \n",
       "6            mama    6298         0              NaN   \n",
       "7             źle  454949         0              NaN   \n",
       "8         gabinet    5583         0              NaN   \n",
       "9             być  250920         0              NaN   \n",
       "10         ciemno  452275         0              NaN   \n",
       "11  nieodpowiedni  104449        -1     wstręt,złość   \n",
       "\n",
       "               Emotion_valuations  \\\n",
       "0                             NaN   \n",
       "1                             NaN   \n",
       "2                             NaN   \n",
       "3          dobro,piękno,szczęście   \n",
       "4                             NaN   \n",
       "5     dobro,szczęście,użyteczność   \n",
       "6                             NaN   \n",
       "7                             NaN   \n",
       "8                             NaN   \n",
       "9                             NaN   \n",
       "10                            NaN   \n",
       "11  błąd,nieużyteczność,niewiedza   \n",
       "\n",
       "                                      Units in synset  \n",
       "0   białogłowa.1(15:os) wenusjanka.3(15:os) pani.2...  \n",
       "1                         doktor.3(7:por) dr.1(7:por)  \n",
       "2                                     bardzo.1(48:48)  \n",
       "3   luba.1(15:os) dulcynea.2(15:os) miła.1(15:os) ...  \n",
       "4   szkła.1(3:wytw) patrzałki.1(3:wytw) binokle.2(...  \n",
       "5                                   dobrany.1(42:jak)  \n",
       "6   matka.1(15:os) mama.1(15:os) rodzicielka.1(15:os)  \n",
       "7   negatywnie.2(48:48) niedobrze.2(48:48) źle.3(4...  \n",
       "8   biuro.2(12:msc) kancelaria.1(12:msc) gabinet.4...  \n",
       "9                                       być.9(40:cst)  \n",
       "10                                    ciemno.3(48:48)  \n",
       "11  niewłaściwy.1(42:jak) nieodpowiedni.1(42:jak) ...  "
      ]
     },
     "execution_count": 10,
     "metadata": {},
     "output_type": "execute_result"
    }
   ],
   "source": [
    "pd.read_csv(\"output/0.csv\", sep=\";\").head(12)"
   ]
  },
  {
   "cell_type": "code",
   "execution_count": 11,
   "metadata": {
    "slideshow": {
     "slide_type": "fragment"
    }
   },
   "outputs": [
    {
     "data": {
      "text/plain": [
       "array([ 0,  0,  0,  1,  0,  1,  0,  0,  0,  0,  0, -1,  0,  0,  0,  0,  0,\n",
       "        0,  0,  0,  0,  0, -1,  0,  0,  0,  0,  0, -1,  0,  0,  0,  0,  0,\n",
       "        0,  0,  0,  0,  0,  0,  0,  0])"
      ]
     },
     "execution_count": 11,
     "metadata": {},
     "output_type": "execute_result"
    }
   ],
   "source": [
    "pd.read_csv(\"output/0.csv\", sep=\";\")[\"Polarity\"].values"
   ]
  },
  {
   "cell_type": "code",
   "execution_count": 12,
   "metadata": {
    "slideshow": {
     "slide_type": "slide"
    }
   },
   "outputs": [],
   "source": [
    "scores = []\n",
    "for i in range(len(test_corpus)):\n",
    "    scores.append(pd.read_csv(f\"output/{i}.csv\", sep=\";\")[\"Polarity\"].values)"
   ]
  },
  {
   "cell_type": "code",
   "execution_count": 13,
   "metadata": {
    "slideshow": {
     "slide_type": "fragment"
    }
   },
   "outputs": [],
   "source": [
    "scores_sum = [sum(doc) for doc in scores]"
   ]
  },
  {
   "cell_type": "code",
   "execution_count": 14,
   "metadata": {
    "slideshow": {
     "slide_type": "fragment"
    }
   },
   "outputs": [],
   "source": [
    "scores_avg = [sum(doc) / len(doc) for doc in scores]"
   ]
  },
  {
   "cell_type": "code",
   "execution_count": 15,
   "metadata": {
    "slideshow": {
     "slide_type": "fragment"
    }
   },
   "outputs": [
    {
     "data": {
      "text/plain": [
       "(11, -10)"
      ]
     },
     "execution_count": 15,
     "metadata": {},
     "output_type": "execute_result"
    }
   ],
   "source": [
    "max(scores_sum), min(scores_sum)"
   ]
  },
  {
   "cell_type": "code",
   "execution_count": 16,
   "metadata": {
    "slideshow": {
     "slide_type": "fragment"
    }
   },
   "outputs": [
    {
     "data": {
      "text/plain": [
       "(0.2571428571428571, -0.27586206896551724)"
      ]
     },
     "execution_count": 16,
     "metadata": {},
     "output_type": "execute_result"
    }
   ],
   "source": [
    "max(scores_avg), min(scores_avg)"
   ]
  },
  {
   "cell_type": "code",
   "execution_count": 17,
   "metadata": {
    "slideshow": {
     "slide_type": "slide"
    }
   },
   "outputs": [],
   "source": [
    "def predictor(val, pos_t, neg_t):\n",
    "    if val > pos_t:\n",
    "        return 0\n",
    "    elif val < neg_t:\n",
    "        return 1\n",
    "    else:\n",
    "        return 2"
   ]
  },
  {
   "cell_type": "code",
   "execution_count": 18,
   "metadata": {
    "slideshow": {
     "slide_type": "fragment"
    }
   },
   "outputs": [
    {
     "data": {
      "text/plain": [
       "Counter({1: 271, 0: 209, 2: 243})"
      ]
     },
     "execution_count": 18,
     "metadata": {},
     "output_type": "execute_result"
    }
   ],
   "source": [
    "Counter(test_labels)"
   ]
  },
  {
   "cell_type": "code",
   "execution_count": 19,
   "metadata": {
    "slideshow": {
     "slide_type": "fragment"
    }
   },
   "outputs": [
    {
     "data": {
      "text/plain": [
       "Counter({1: 99, 2: 507, 0: 117})"
      ]
     },
     "execution_count": 19,
     "metadata": {},
     "output_type": "execute_result"
    }
   ],
   "source": [
    "sum_preds = [predictor(doc, 2, 1) for doc in scores_sum]\n",
    "Counter(sum_preds)"
   ]
  },
  {
   "cell_type": "code",
   "execution_count": 20,
   "metadata": {
    "slideshow": {
     "slide_type": "fragment"
    }
   },
   "outputs": [
    {
     "data": {
      "text/plain": [
       "Counter({1: 99, 2: 466, 0: 158})"
      ]
     },
     "execution_count": 20,
     "metadata": {},
     "output_type": "execute_result"
    }
   ],
   "source": [
    "avg_preds = [predictor(doc, 0.03, 0.01) for doc in scores_avg]\n",
    "Counter(avg_preds)"
   ]
  },
  {
   "cell_type": "code",
   "execution_count": 21,
   "metadata": {
    "slideshow": {
     "slide_type": "slide"
    }
   },
   "outputs": [
    {
     "name": "stdout",
     "output_type": "stream",
     "text": [
      "              precision    recall  f1-score   support\n",
      "\n",
      "           0       0.50      0.28      0.36       209\n",
      "           1       0.66      0.24      0.35       271\n",
      "           2       0.33      0.70      0.45       243\n",
      "\n",
      "    accuracy                           0.40       723\n",
      "   macro avg       0.50      0.40      0.39       723\n",
      "weighted avg       0.50      0.40      0.39       723\n",
      "\n"
     ]
    }
   ],
   "source": [
    "print(classification_report(test_labels, sum_preds))"
   ]
  },
  {
   "cell_type": "code",
   "execution_count": 22,
   "metadata": {
    "slideshow": {
     "slide_type": "fragment"
    }
   },
   "outputs": [
    {
     "name": "stdout",
     "output_type": "stream",
     "text": [
      "              precision    recall  f1-score   support\n",
      "\n",
      "           0       0.46      0.35      0.40       209\n",
      "           1       0.66      0.24      0.35       271\n",
      "           2       0.33      0.63      0.43       243\n",
      "\n",
      "    accuracy                           0.40       723\n",
      "   macro avg       0.48      0.41      0.39       723\n",
      "weighted avg       0.49      0.40      0.39       723\n",
      "\n"
     ]
    }
   ],
   "source": [
    "print(classification_report(test_labels, avg_preds))"
   ]
  },
  {
   "cell_type": "markdown",
   "metadata": {
    "slideshow": {
     "slide_type": "skip"
    }
   },
   "source": [
    "\n"
   ]
  }
 ],
 "metadata": {
  "celltoolbar": "Slideshow",
  "kernelspec": {
   "display_name": "Python 3",
   "language": "python",
   "name": "python3"
  },
  "language_info": {
   "codemirror_mode": {
    "name": "ipython",
    "version": 3
   },
   "file_extension": ".py",
   "mimetype": "text/x-python",
   "name": "python",
   "nbconvert_exporter": "python",
   "pygments_lexer": "ipython3",
   "version": "3.8.5"
  }
 },
 "nbformat": 4,
 "nbformat_minor": 4
}
