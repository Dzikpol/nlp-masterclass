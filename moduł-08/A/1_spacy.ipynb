{
 "cells": [
  {
   "cell_type": "code",
   "execution_count": 1,
   "metadata": {
    "slideshow": {
     "slide_type": "skip"
    }
   },
   "outputs": [],
   "source": [
    "with open(\"klej_ar/train.tsv\", \"r\") as f:\n",
    "    raw_train = f.readlines()"
   ]
  },
  {
   "cell_type": "code",
   "execution_count": 2,
   "metadata": {
    "slideshow": {
     "slide_type": "skip"
    }
   },
   "outputs": [],
   "source": [
    "with open(\"klej_ar/dev.tsv\", \"r\") as f:\n",
    "    raw_dev = f.readlines()"
   ]
  },
  {
   "cell_type": "code",
   "execution_count": 3,
   "metadata": {
    "slideshow": {
     "slide_type": "skip"
    }
   },
   "outputs": [],
   "source": [
    "def prepare_data(raw_data):\n",
    "    corpus = []\n",
    "    labels = []\n",
    "    for doc in raw_data:\n",
    "        record = doc.strip().split(\"\\t\")\n",
    "        if len(record) != 2:\n",
    "            continue\n",
    "        text, target = record\n",
    "        label = int(float(target))\n",
    "        corpus.append(text)\n",
    "        labels.append(label)\n",
    "    return corpus, labels"
   ]
  },
  {
   "cell_type": "code",
   "execution_count": 4,
   "metadata": {
    "slideshow": {
     "slide_type": "skip"
    }
   },
   "outputs": [],
   "source": [
    "train_corpus, train_labels = prepare_data(raw_train[1:])"
   ]
  },
  {
   "cell_type": "code",
   "execution_count": 5,
   "metadata": {
    "slideshow": {
     "slide_type": "skip"
    }
   },
   "outputs": [],
   "source": [
    "test_corpus, test_labels = prepare_data(raw_dev[1:])"
   ]
  },
  {
   "cell_type": "markdown",
   "metadata": {
    "slideshow": {
     "slide_type": "slide"
    }
   },
   "source": [
    "# Spacy"
   ]
  },
  {
   "cell_type": "code",
   "execution_count": 6,
   "metadata": {
    "slideshow": {
     "slide_type": "slide"
    }
   },
   "outputs": [],
   "source": [
    "simplification = {1: 1, 2: 1, 3: 2, 4: 3, 5: 3}\n",
    "train_labels = [simplification[label] for label in train_labels]\n",
    "test_labels = [simplification[label] for label in test_labels]"
   ]
  },
  {
   "cell_type": "code",
   "execution_count": 7,
   "metadata": {
    "slideshow": {
     "slide_type": "slide"
    }
   },
   "outputs": [],
   "source": [
    "import random\n",
    "from sklearn.metrics import classification_report\n",
    "import spacy\n",
    "from spacy.util import minibatch\n",
    "\n",
    "nlp = spacy.load('pl_core_news_md')\n",
    "random.seed(42)"
   ]
  },
  {
   "cell_type": "code",
   "execution_count": 8,
   "metadata": {
    "slideshow": {
     "slide_type": "fragment"
    }
   },
   "outputs": [
    {
     "data": {
      "text/plain": [
       "['tagger', 'parser', 'ner']"
      ]
     },
     "execution_count": 8,
     "metadata": {},
     "output_type": "execute_result"
    }
   ],
   "source": [
    "nlp.pipe_names"
   ]
  },
  {
   "cell_type": "code",
   "execution_count": 9,
   "metadata": {
    "slideshow": {
     "slide_type": "fragment"
    }
   },
   "outputs": [],
   "source": [
    "textcat = nlp.create_pipe(\"textcat\", config={\"exclusive_classes\": True, \"architecture\": \"simple_cnn\"})\n",
    "nlp.add_pipe(textcat, last=True)"
   ]
  },
  {
   "cell_type": "code",
   "execution_count": 10,
   "metadata": {
    "slideshow": {
     "slide_type": "fragment"
    }
   },
   "outputs": [
    {
     "data": {
      "text/plain": [
       "['tagger', 'parser', 'ner', 'textcat']"
      ]
     },
     "execution_count": 10,
     "metadata": {},
     "output_type": "execute_result"
    }
   ],
   "source": [
    "nlp.pipe_names"
   ]
  },
  {
   "cell_type": "code",
   "execution_count": 11,
   "metadata": {
    "slideshow": {
     "slide_type": "slide"
    }
   },
   "outputs": [
    {
     "data": {
      "text/plain": [
       "1"
      ]
     },
     "execution_count": 11,
     "metadata": {},
     "output_type": "execute_result"
    }
   ],
   "source": [
    "textcat.add_label(\"1\")\n",
    "textcat.add_label(\"2\")\n",
    "textcat.add_label(\"3\")"
   ]
  },
  {
   "cell_type": "code",
   "execution_count": 12,
   "metadata": {
    "slideshow": {
     "slide_type": "fragment"
    }
   },
   "outputs": [
    {
     "data": {
      "text/plain": [
       "('1', '2', '3')"
      ]
     },
     "execution_count": 12,
     "metadata": {},
     "output_type": "execute_result"
    }
   ],
   "source": [
    "textcat.labels"
   ]
  },
  {
   "cell_type": "code",
   "execution_count": 13,
   "metadata": {
    "slideshow": {
     "slide_type": "fragment"
    }
   },
   "outputs": [],
   "source": [
    "spacy_train_labels = [{\"cats\": {\"1\": label == 1, \n",
    "                                \"2\": label == 2, \n",
    "                                \"3\": label == 3}} \n",
    "                      for label in train_labels]"
   ]
  },
  {
   "cell_type": "code",
   "execution_count": 14,
   "metadata": {
    "slideshow": {
     "slide_type": "fragment"
    }
   },
   "outputs": [
    {
     "data": {
      "text/plain": [
       "{'cats': {'1': False, '2': True, '3': False}}"
      ]
     },
     "execution_count": 14,
     "metadata": {},
     "output_type": "execute_result"
    }
   ],
   "source": [
    "spacy_train_labels[0]"
   ]
  },
  {
   "cell_type": "code",
   "execution_count": 15,
   "metadata": {
    "slideshow": {
     "slide_type": "slide"
    }
   },
   "outputs": [],
   "source": [
    "train_data = list(zip(train_corpus, spacy_train_labels))"
   ]
  },
  {
   "cell_type": "code",
   "execution_count": 16,
   "metadata": {
    "slideshow": {
     "slide_type": "fragment"
    }
   },
   "outputs": [
    {
     "data": {
      "text/plain": [
       "[('Jako do ceny dobra. Przyssawka mogłaby być lepsza. Po 2 miesiącach użytkowania musiałem nóżkę z przyssawką rozkręcić i przyssawkę podkleić bo guma zaczęła pękać od strony mocowania do uchwytu (uchwyt zaczął się po prostu trząść bo zrobił się luz).  Mechanizm mocowania telefonu póki co (3 miesiące użytkowania) działa bez zarzutu. ',\n",
       "  {'cats': {'1': False, '2': True, '3': False}}),\n",
       " ('Na słuchawkę czekałam spory czas a po zadzwonieniu okazało się ,że paczka im się zawieruszyła i w ten sam dzień mieli wysłać najszybszym kurierem i mimo to i tak czekałam znowu gdzie bardzo mi była potrzebna.  Do tego niby bateria trzyma długo gdzie tak nie jest i słuchawka się rozłącza . Dostałam ponownie wiadomość o tym ,że znowu dostanę te samą paczkę po wiadomości do nich ,że to pomyłka Pan odpisał mi,że nie bo to gratis no to się nastawiłam ,że gratis i ,że opłacona za to ,że tyle musiałam czekać .Tym razem przyjeżdża listonosz i mówi paczka do opłaty .Paczka poszła na pocztę i tam sobie leży ;) !  ',\n",
       "  {'cats': {'1': True, '2': False, '3': False}})]"
      ]
     },
     "execution_count": 16,
     "metadata": {},
     "output_type": "execute_result"
    }
   ],
   "source": [
    "train_data[:2]"
   ]
  },
  {
   "cell_type": "code",
   "execution_count": 18,
   "metadata": {
    "slideshow": {
     "slide_type": "slide"
    }
   },
   "outputs": [],
   "source": [
    "not_for_training = [pipe for pipe in nlp.pipe_names if pipe != \"textcat\"]"
   ]
  },
  {
   "cell_type": "code",
   "execution_count": 19,
   "metadata": {
    "slideshow": {
     "slide_type": "fragment"
    }
   },
   "outputs": [],
   "source": [
    "ITERATIONS = 10\n",
    "BATCH = 48"
   ]
  },
  {
   "cell_type": "code",
   "execution_count": null,
   "metadata": {
    "slideshow": {
     "slide_type": "slide"
    }
   },
   "outputs": [],
   "source": [
    "with nlp.disable_pipes(not_for_training):\n",
    "    optimizer = nlp.begin_training()\n",
    "    for i in range(ITERATIONS):\n",
    "        loss = {}\n",
    "        random.shuffle(train_data)\n",
    "        batches = minibatch(train_data, size=BATCH)\n",
    "        for batch in batches:\n",
    "            text, labels = zip(*batch)\n",
    "            nlp.update(text, labels, drop=0.5, sgd=optimizer, losses=loss)\n",
    "        print(f\"iter: {i}  loss: {loss['textcat']}\", end=\"\\t\")\n",
    "        with textcat.model.use_params(optimizer.averages):\n",
    "            docs = (nlp.tokenizer(text) for text in test_corpus)\n",
    "            preds = [int(max(doc.cats.items(), key=lambda x: x[1])[0]) for doc in textcat.pipe(docs)]\n",
    "            acc = accuracy_score(test_labels, preds)\n",
    "            print(f\"dev acc: {acc}\")"
   ]
  },
  {
   "cell_type": "code",
   "execution_count": 20,
   "metadata": {
    "slideshow": {
     "slide_type": "slide"
    }
   },
   "outputs": [
    {
     "name": "stdout",
     "output_type": "stream",
     "text": [
      "iter: 0  loss: 0.0480814356560586\tdev acc: 0.6182190378710338\n",
      "iter: 1  loss: 0.04261774256883655\tdev acc: 0.6816786079836233\n",
      "iter: 2  loss: 0.037633761487086304\tdev acc: 0.6980552712384852\n",
      "iter: 3  loss: 0.03759206104587065\tdev acc: 0.7093142272262026\n",
      "iter: 4  loss: 0.03551659890945302\tdev acc: 0.72978505629478\n",
      "iter: 5  loss: 0.03301691386150196\tdev acc: 0.7256908904810645\n",
      "iter: 6  loss: 0.029631754121510312\tdev acc: 0.72978505629478\n",
      "iter: 7  loss: 0.03158019229886122\tdev acc: 0.7287615148413511\n",
      "iter: 8  loss: 0.027786335562268505\tdev acc: 0.7287615148413511\n",
      "iter: 9  loss: 0.028273644784349017\tdev acc: 0.72978505629478\n"
     ]
    }
   ],
   "source": [
    "with nlp.disable_pipes(not_for_training):\n",
    "    optimizer = nlp.begin_training()\n",
    "    for i in range(ITERATIONS):\n",
    "        loss = {}\n",
    "        random.shuffle(train_data)\n",
    "        batches = minibatch(train_data, size=BATCH)\n",
    "        for batch in batches:\n",
    "            text, labels = zip(*batch)\n",
    "            nlp.update(text, labels, drop=0.5, sgd=optimizer, losses=loss)\n",
    "        print(f\"iter: {i}  loss: {loss['textcat']}\", end=\"\\t\")\n",
    "        with textcat.model.use_params(optimizer.averages):\n",
    "            docs = (nlp.tokenizer(text) for text in test_corpus)\n",
    "            preds = [int(max(doc.cats.items(), key=lambda x: x[1])[0]) for doc in textcat.pipe(docs)]\n",
    "            acc = accuracy_score(test_labels, preds)\n",
    "            print(f\"dev acc: {acc}\")"
   ]
  },
  {
   "cell_type": "code",
   "execution_count": 21,
   "metadata": {
    "slideshow": {
     "slide_type": "slide"
    }
   },
   "outputs": [],
   "source": [
    "with nlp.use_params(optimizer.averages):\n",
    "    nlp.to_disk(\"spacy_model\")"
   ]
  },
  {
   "cell_type": "code",
   "execution_count": 22,
   "metadata": {
    "slideshow": {
     "slide_type": "fragment"
    }
   },
   "outputs": [
    {
     "data": {
      "text/plain": [
       "['meta.json', 'parser', 'tagger', 'ner', 'tokenizer', 'vocab', 'textcat']"
      ]
     },
     "execution_count": 22,
     "metadata": {},
     "output_type": "execute_result"
    }
   ],
   "source": [
    "import os\n",
    "os.listdir(\"spacy_model\")"
   ]
  },
  {
   "cell_type": "code",
   "execution_count": 23,
   "metadata": {
    "slideshow": {
     "slide_type": "fragment"
    }
   },
   "outputs": [],
   "source": [
    "nlp = spacy.load(\"spacy_model\")"
   ]
  },
  {
   "cell_type": "code",
   "execution_count": 24,
   "metadata": {
    "slideshow": {
     "slide_type": "fragment"
    }
   },
   "outputs": [],
   "source": [
    "doc_corpus = list(nlp.pipe(train_corpus))"
   ]
  },
  {
   "cell_type": "code",
   "execution_count": 25,
   "metadata": {
    "slideshow": {
     "slide_type": "slide"
    }
   },
   "outputs": [
    {
     "data": {
      "text/plain": [
       "{'1': 0.2227286994457245, '2': 0.25765758752822876, '3': 0.5196137428283691}"
      ]
     },
     "execution_count": 25,
     "metadata": {},
     "output_type": "execute_result"
    }
   ],
   "source": [
    "doc_corpus[0].cats"
   ]
  },
  {
   "cell_type": "code",
   "execution_count": 26,
   "metadata": {
    "slideshow": {
     "slide_type": "fragment"
    }
   },
   "outputs": [
    {
     "data": {
      "text/plain": [
       "('3', 0.5196137428283691)"
      ]
     },
     "execution_count": 26,
     "metadata": {},
     "output_type": "execute_result"
    }
   ],
   "source": [
    "max(doc_corpus[0].cats.items(), key=lambda x: x[1])"
   ]
  },
  {
   "cell_type": "code",
   "execution_count": 27,
   "metadata": {
    "slideshow": {
     "slide_type": "fragment"
    }
   },
   "outputs": [],
   "source": [
    "spacy_preds = [max(doc.cats.items(), key=lambda x: x[1])[0] for doc in doc_corpus]"
   ]
  },
  {
   "cell_type": "code",
   "execution_count": 28,
   "metadata": {
    "slideshow": {
     "slide_type": "slide"
    }
   },
   "outputs": [
    {
     "data": {
      "text/plain": [
       "['3', '1', '3']"
      ]
     },
     "execution_count": 28,
     "metadata": {},
     "output_type": "execute_result"
    }
   ],
   "source": [
    "spacy_preds[:3]"
   ]
  },
  {
   "cell_type": "code",
   "execution_count": 29,
   "metadata": {
    "slideshow": {
     "slide_type": "fragment"
    }
   },
   "outputs": [],
   "source": [
    "spacy_preds = [int(pred) for pred in spacy_preds]"
   ]
  },
  {
   "cell_type": "code",
   "execution_count": 30,
   "metadata": {
    "slideshow": {
     "slide_type": "fragment"
    }
   },
   "outputs": [
    {
     "name": "stdout",
     "output_type": "stream",
     "text": [
      "              precision    recall  f1-score   support\n",
      "\n",
      "           1       0.77      0.88      0.82      2799\n",
      "           2       0.50      0.02      0.04      1195\n",
      "           3       0.84      0.95      0.89      5186\n",
      "\n",
      "    accuracy                           0.81      9180\n",
      "   macro avg       0.70      0.62      0.58      9180\n",
      "weighted avg       0.77      0.81      0.76      9180\n",
      "\n"
     ]
    }
   ],
   "source": [
    "print(classification_report(train_labels, spacy_preds))"
   ]
  },
  {
   "cell_type": "code",
   "execution_count": 31,
   "metadata": {
    "slideshow": {
     "slide_type": "slide"
    }
   },
   "outputs": [],
   "source": [
    "test_doc_corpus = list(nlp.pipe(test_corpus))"
   ]
  },
  {
   "cell_type": "code",
   "execution_count": 32,
   "metadata": {
    "slideshow": {
     "slide_type": "fragment"
    }
   },
   "outputs": [],
   "source": [
    "test_spacy_preds = [max(doc.cats.items(), key=lambda x: x[1])[0] for doc in test_doc_corpus]"
   ]
  },
  {
   "cell_type": "code",
   "execution_count": 33,
   "metadata": {
    "slideshow": {
     "slide_type": "fragment"
    }
   },
   "outputs": [],
   "source": [
    "test_spacy_preds = [int(pred) for pred in test_spacy_preds]"
   ]
  },
  {
   "cell_type": "code",
   "execution_count": 34,
   "metadata": {
    "slideshow": {
     "slide_type": "fragment"
    }
   },
   "outputs": [
    {
     "name": "stdout",
     "output_type": "stream",
     "text": [
      "              precision    recall  f1-score   support\n",
      "\n",
      "           1       0.69      0.79      0.74       327\n",
      "           2       0.00      0.00      0.00       137\n",
      "           3       0.76      0.88      0.82       513\n",
      "\n",
      "    accuracy                           0.73       977\n",
      "   macro avg       0.48      0.56      0.52       977\n",
      "weighted avg       0.63      0.73      0.68       977\n",
      "\n"
     ]
    }
   ],
   "source": [
    "print(classification_report(test_labels, test_spacy_preds))"
   ]
  },
  {
   "cell_type": "markdown",
   "metadata": {
    "slideshow": {
     "slide_type": "skip"
    }
   },
   "source": [
    "\n"
   ]
  }
 ],
 "metadata": {
  "celltoolbar": "Slideshow",
  "kernelspec": {
   "display_name": "Python 3",
   "language": "python",
   "name": "python3"
  },
  "language_info": {
   "codemirror_mode": {
    "name": "ipython",
    "version": 3
   },
   "file_extension": ".py",
   "mimetype": "text/x-python",
   "name": "python",
   "nbconvert_exporter": "python",
   "pygments_lexer": "ipython3",
   "version": "3.8.5"
  }
 },
 "nbformat": 4,
 "nbformat_minor": 4
}
