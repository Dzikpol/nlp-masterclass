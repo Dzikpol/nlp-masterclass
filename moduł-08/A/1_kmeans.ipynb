{
 "cells": [
  {
   "cell_type": "code",
   "execution_count": 1,
   "metadata": {
    "id": "wHqVMb-OXq3H",
    "slideshow": {
     "slide_type": "skip"
    }
   },
   "outputs": [],
   "source": [
    "with open(\"klej_ar/dev.tsv\", \"r\") as f:\n",
    "    raw_dev = f.readlines()"
   ]
  },
  {
   "cell_type": "code",
   "execution_count": 2,
   "metadata": {
    "id": "URiQz79mXq3J",
    "slideshow": {
     "slide_type": "skip"
    }
   },
   "outputs": [],
   "source": [
    "def prepare_data(raw_data):\n",
    "    corpus = []\n",
    "    labels = []\n",
    "    for doc in raw_data:\n",
    "        record = doc.strip().split(\"\\t\")\n",
    "        if len(record) != 2:\n",
    "            continue\n",
    "        text, target = record\n",
    "        label = int(float(target))\n",
    "        corpus.append(text)\n",
    "        labels.append(label)\n",
    "    return corpus, labels"
   ]
  },
  {
   "cell_type": "code",
   "execution_count": 3,
   "metadata": {
    "id": "zO62GFMFXq3L",
    "slideshow": {
     "slide_type": "skip"
    }
   },
   "outputs": [],
   "source": [
    "test_corpus, test_labels = prepare_data(raw_dev[1:])"
   ]
  },
  {
   "cell_type": "markdown",
   "metadata": {
    "slideshow": {
     "slide_type": "slide"
    }
   },
   "source": [
    "# K-means"
   ]
  },
  {
   "cell_type": "markdown",
   "metadata": {
    "slideshow": {
     "slide_type": "fragment"
    }
   },
   "source": [
    "```\n",
    "!pip install kmeans-pytorch\n",
    "```"
   ]
  },
  {
   "cell_type": "code",
   "execution_count": 4,
   "metadata": {
    "slideshow": {
     "slide_type": "slide"
    }
   },
   "outputs": [],
   "source": [
    "from collections import Counter\n",
    "import torch\n",
    "from sklearn.metrics import homogeneity_score\n",
    "from transformers import RobertaModel, HerbertTokenizer\n",
    "from kmeans_pytorch import kmeans"
   ]
  },
  {
   "cell_type": "code",
   "execution_count": 5,
   "metadata": {
    "id": "a841CuuiOMzw",
    "slideshow": {
     "slide_type": "fragment"
    }
   },
   "outputs": [],
   "source": [
    "DEVICE = torch.device(\"cuda:0\" if torch.cuda.is_available() else \"cpu\")"
   ]
  },
  {
   "cell_type": "code",
   "execution_count": 6,
   "metadata": {
    "colab": {
     "base_uri": "https://localhost:8080/",
     "height": 217,
     "referenced_widgets": [
      "045c15efd445478a809464d11dd13fa8",
      "58df552a75114a2fbd93f1cf7211ee1d",
      "225cfbfa2cc94f6ebaf3ce2fa2d162ef",
      "9c3f5cced5664b8aaf7b0f07a0d9b43b",
      "dddb2a3ada024d44be7dbbbd17492468",
      "c22e54fb0c334e718eab1ab1228876b5",
      "0a1095caffee4c6d8ea9479c45be4e5a",
      "25b6adf1b45b41639dbdeb3435e8d743",
      "f26fc4e70bee422b8b3d6df1cabcc295",
      "a7665831efe84321bfb24141d21f9520",
      "bd726d8b7b714cb19ce7e322c3f34fff",
      "f27c4de926db47da9407ef061af5dd6e",
      "11d8c755a69941549e0077836bb4bbae",
      "250dc2a893d4446faf61dd49332eb8dc",
      "c03d6b95af3d40d284448059163cf8c3",
      "888f9dcf10784dc88c39d75edd1f6e0e",
      "f998c242fb204235bde90b77b33cf334",
      "402a1448c5ce4aa991e25ac7fc81b565",
      "d5d4df65e91a41ecbfaf45d7ef267bd8",
      "71e9986beabc47aeab49718e1582928a",
      "aa897da8b06f44789fa9b6c7377032a5",
      "c7dc74b55f6b4b01a95ff787bb034ff0",
      "e7cda50d418c4ab1a70103d1cf39a746",
      "0227f547ee4e47558b22a6e1fe064b20",
      "cfcd4b6d090b409385147d4454a0dffc",
      "f62d3b54da0c40759846753326c7cb05",
      "80fc0b24b41e4e50bb1ee42c3739843c",
      "51781143db7c444bb0848998a1894473",
      "f236c49e7b37457abd80e261f4fecd1c",
      "d8f4918215a54b1293cdc7aa7ab7d1a6",
      "8204ff24ea5b475ca5b7a00c202c395a",
      "d128adc6cc1c4512b18546c495f44d16"
     ]
    },
    "id": "KlOXh5lUOMzw",
    "outputId": "c8e9e065-dafe-4237-a66f-ca16636ce691",
    "slideshow": {
     "slide_type": "slide"
    }
   },
   "outputs": [],
   "source": [
    "tokenizer = HerbertTokenizer.from_pretrained(\"allegro/herbert-klej-cased-tokenizer-v1\")\n",
    "herbert = RobertaModel.from_pretrained(\"allegro/herbert-klej-cased-v1\")"
   ]
  },
  {
   "cell_type": "code",
   "execution_count": 7,
   "metadata": {
    "slideshow": {
     "slide_type": "fragment"
    }
   },
   "outputs": [],
   "source": [
    "herbert = herbert.to(DEVICE)"
   ]
  },
  {
   "cell_type": "code",
   "execution_count": 8,
   "metadata": {
    "id": "tbqoHoShOMzx",
    "slideshow": {
     "slide_type": "slide"
    }
   },
   "outputs": [],
   "source": [
    "PAD_TOKEN_ID = tokenizer.pad_token_id\n",
    "\n",
    "def transform_data(docs, max_len, model=herbert):\n",
    "    tokenized = tokenizer(docs)\n",
    "    input_ids = tokenized[\"input_ids\"]\n",
    "    for i, inp in enumerate(input_ids):\n",
    "        inp_len = len(inp)\n",
    "        inp = inp[:max_len] + [PAD_TOKEN_ID] * (max_len - inp_len)\n",
    "        input_ids[i] = inp\n",
    "    X_raw = torch.LongTensor(input_ids).to(DEVICE)\n",
    "    with torch.no_grad():\n",
    "        X = model(X_raw)[0]\n",
    "    return X"
   ]
  },
  {
   "cell_type": "code",
   "execution_count": 9,
   "metadata": {
    "slideshow": {
     "slide_type": "slide"
    }
   },
   "outputs": [],
   "source": [
    "X = transform_data(test_corpus, 120)"
   ]
  },
  {
   "cell_type": "code",
   "execution_count": 10,
   "metadata": {
    "slideshow": {
     "slide_type": "fragment"
    }
   },
   "outputs": [
    {
     "data": {
      "text/plain": [
       "torch.Size([977, 120, 768])"
      ]
     },
     "execution_count": 10,
     "metadata": {},
     "output_type": "execute_result"
    }
   ],
   "source": [
    "X.shape"
   ]
  },
  {
   "cell_type": "code",
   "execution_count": 11,
   "metadata": {
    "slideshow": {
     "slide_type": "fragment"
    }
   },
   "outputs": [],
   "source": [
    "X = torch.mean(X, dim=1)"
   ]
  },
  {
   "cell_type": "code",
   "execution_count": 12,
   "metadata": {
    "slideshow": {
     "slide_type": "fragment"
    }
   },
   "outputs": [
    {
     "data": {
      "text/plain": [
       "torch.Size([977, 768])"
      ]
     },
     "execution_count": 12,
     "metadata": {},
     "output_type": "execute_result"
    }
   ],
   "source": [
    "X.shape"
   ]
  },
  {
   "cell_type": "code",
   "execution_count": 14,
   "metadata": {
    "slideshow": {
     "slide_type": "slide"
    }
   },
   "outputs": [],
   "source": [
    "K = 5\n",
    "DISTANCE = \"euclidean\""
   ]
  },
  {
   "cell_type": "code",
   "execution_count": 15,
   "metadata": {
    "slideshow": {
     "slide_type": "fragment"
    }
   },
   "outputs": [
    {
     "name": "stderr",
     "output_type": "stream",
     "text": [
      "[running kmeans]: 5it [00:00, 34.24it/s, center_shift=0.932255, iteration=6, tol=0.000100]  "
     ]
    },
    {
     "name": "stdout",
     "output_type": "stream",
     "text": [
      "running k-means on cpu..\n"
     ]
    },
    {
     "name": "stderr",
     "output_type": "stream",
     "text": [
      "[running kmeans]: 21it [00:00, 37.23it/s, center_shift=0.000000, iteration=21, tol=0.000100]"
     ]
    }
   ],
   "source": [
    "cluster_ids, cluster_centers = kmeans(X=X, num_clusters=K, distance=DISTANCE, device=DEVICE)"
   ]
  },
  {
   "cell_type": "code",
   "execution_count": 16,
   "metadata": {
    "slideshow": {
     "slide_type": "fragment"
    }
   },
   "outputs": [
    {
     "data": {
      "text/plain": [
       "tensor([[-0.7501,  0.2049, -0.1205,  ..., -0.0583,  0.0391, -0.0982],\n",
       "        [-0.9566, -0.0715,  0.0968,  ..., -0.0259,  0.1986, -0.0875],\n",
       "        [-1.0970,  0.1626, -0.0283,  ...,  0.0154, -0.1323,  0.0220],\n",
       "        [-0.5467,  0.3209, -0.1815,  ..., -0.1395,  0.1057, -0.1917],\n",
       "        [ 0.0822, -0.4587, -1.0303,  ..., -0.8803, -0.4848,  0.6816]])"
      ]
     },
     "execution_count": 16,
     "metadata": {},
     "output_type": "execute_result"
    }
   ],
   "source": [
    "cluster_centers"
   ]
  },
  {
   "cell_type": "code",
   "execution_count": 18,
   "metadata": {
    "scrolled": true,
    "slideshow": {
     "slide_type": "fragment"
    }
   },
   "outputs": [
    {
     "data": {
      "text/plain": [
       "tensor([2, 2, 3, 2, 2, 3, 2, 3, 3, 0])"
      ]
     },
     "execution_count": 18,
     "metadata": {},
     "output_type": "execute_result"
    }
   ],
   "source": [
    "cluster_ids[:10]"
   ]
  },
  {
   "cell_type": "code",
   "execution_count": 19,
   "metadata": {
    "slideshow": {
     "slide_type": "slide"
    }
   },
   "outputs": [],
   "source": [
    "cluster_ids_list = cluster_ids.tolist()"
   ]
  },
  {
   "cell_type": "code",
   "execution_count": 20,
   "metadata": {
    "slideshow": {
     "slide_type": "fragment"
    }
   },
   "outputs": [],
   "source": [
    "counter = Counter(zip(test_labels, cluster_ids_list))"
   ]
  },
  {
   "cell_type": "code",
   "execution_count": 22,
   "metadata": {
    "slideshow": {
     "slide_type": "fragment"
    }
   },
   "outputs": [
    {
     "data": {
      "text/plain": [
       "24"
      ]
     },
     "execution_count": 22,
     "metadata": {},
     "output_type": "execute_result"
    }
   ],
   "source": [
    "len(counter)"
   ]
  },
  {
   "cell_type": "code",
   "execution_count": 24,
   "metadata": {
    "slideshow": {
     "slide_type": "slide"
    }
   },
   "outputs": [
    {
     "data": {
      "text/plain": [
       "Counter({(3, 2): 45,\n",
       "         (4, 2): 90,\n",
       "         (1, 3): 66,\n",
       "         (5, 2): 107,\n",
       "         (5, 3): 93,\n",
       "         (1, 0): 57,\n",
       "         (2, 2): 45,\n",
       "         (3, 3): 44,\n",
       "         (5, 0): 91,\n",
       "         (1, 2): 79,\n",
       "         (4, 3): 53,\n",
       "         (2, 0): 26,\n",
       "         (2, 3): 40,\n",
       "         (4, 0): 51,\n",
       "         (5, 1): 7,\n",
       "         (1, 1): 7,\n",
       "         (3, 0): 41,\n",
       "         (3, 1): 6,\n",
       "         (4, 1): 1,\n",
       "         (2, 1): 5,\n",
       "         (5, 4): 17,\n",
       "         (4, 4): 3,\n",
       "         (2, 4): 2,\n",
       "         (3, 4): 1})"
      ]
     },
     "execution_count": 24,
     "metadata": {},
     "output_type": "execute_result"
    }
   ],
   "source": [
    "counter"
   ]
  },
  {
   "cell_type": "code",
   "execution_count": 25,
   "metadata": {
    "slideshow": {
     "slide_type": "fragment"
    }
   },
   "outputs": [
    {
     "data": {
      "text/plain": [
       "0.012783818729679933"
      ]
     },
     "execution_count": 25,
     "metadata": {},
     "output_type": "execute_result"
    }
   ],
   "source": [
    "homogeneity_score(test_labels, cluster_ids_list)"
   ]
  },
  {
   "cell_type": "markdown",
   "metadata": {
    "slideshow": {
     "slide_type": "slide"
    }
   },
   "source": [
    "## pykeops\n",
    "\n",
    "```\n",
    "!pip install pykeops[full]\n",
    "```\n",
    "\n",
    "https://www.kernel-operations.io/keops/_auto_tutorials/kmeans/plot_kmeans_torch.html"
   ]
  },
  {
   "cell_type": "markdown",
   "metadata": {
    "slideshow": {
     "slide_type": "skip"
    }
   },
   "source": [
    "\n"
   ]
  }
 ],
 "metadata": {
  "celltoolbar": "Slideshow",
  "kernelspec": {
   "display_name": "Python 3",
   "language": "python",
   "name": "python3"
  },
  "language_info": {
   "codemirror_mode": {
    "name": "ipython",
    "version": 3
   },
   "file_extension": ".py",
   "mimetype": "text/x-python",
   "name": "python",
   "nbconvert_exporter": "python",
   "pygments_lexer": "ipython3",
   "version": "3.8.5"
  }
 },
 "nbformat": 4,
 "nbformat_minor": 4
}
