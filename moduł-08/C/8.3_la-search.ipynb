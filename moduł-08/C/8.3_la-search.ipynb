{
 "cells": [
  {
   "cell_type": "markdown",
   "metadata": {
    "id": "fh4QvzojVcnb"
   },
   "source": [
    "# Moduł 8.3 Wyszukiwanie semantyczne\n",
    "## Indeksowanie i przeszukiwanie tekstu w oparciu o międzyjęzykowe reprezentacje dystrybucyjne\n",
    "\n"
   ]
  },
  {
   "cell_type": "code",
   "execution_count": 1,
   "metadata": {
    "colab": {
     "base_uri": "https://localhost:8080/"
    },
    "executionInfo": {
     "elapsed": 21777,
     "status": "ok",
     "timestamp": 1609623188102,
     "user": {
      "displayName": "Piotr Pęzik",
      "photoUrl": "https://lh3.googleusercontent.com/a-/AOh14GiZ7i0oPBUhmXYrUMEAOBIuQfvFWyKz4sEOLJ2otC4=s64",
      "userId": "15401984500622025149"
     },
     "user_tz": -60
    },
    "id": "s3C_B_tjV6Ql",
    "outputId": "e6fd1edd-c55e-4171-a125-2f0dda61e11e"
   },
   "outputs": [
    {
     "name": "stdout",
     "output_type": "stream",
     "text": [
      "Collecting laserembeddings\n",
      "  Downloading laserembeddings-1.1.0-py3-none-any.whl (13 kB)\n",
      "Collecting torch<2.0.0,>=1.0.1.post2\n",
      "  Downloading torch-1.7.1-cp37-none-macosx_10_9_x86_64.whl (108.8 MB)\n",
      "\u001b[K     |████████████████████████████████| 108.8 MB 1.0 MB/s eta 0:00:01\n",
      "\u001b[?25hCollecting transliterate==1.10.2\n",
      "  Using cached transliterate-1.10.2-py2.py3-none-any.whl (45 kB)\n",
      "Processing /Users/ppez/Library/Caches/pip/wheels/63/2a/db/63e2909042c634ef551d0d9ac825b2b0b32dede4a6d87ddc94/sacremoses-0.0.35-cp37-none-any.whl\n",
      "Requirement already satisfied: numpy<2.0.0,>=1.15.4 in /Users/ppez/anaconda3/lib/python3.7/site-packages (from laserembeddings) (1.19.2)\n",
      "Collecting subword-nmt<0.4.0,>=0.3.6\n",
      "  Using cached subword_nmt-0.3.7-py2.py3-none-any.whl (26 kB)\n",
      "Requirement already satisfied: typing-extensions in /Users/ppez/anaconda3/lib/python3.7/site-packages (from torch<2.0.0,>=1.0.1.post2->laserembeddings) (3.7.4.3)\n",
      "Requirement already satisfied: six>=1.1.0 in /Users/ppez/anaconda3/lib/python3.7/site-packages (from transliterate==1.10.2->laserembeddings) (1.12.0)\n",
      "Requirement already satisfied: tqdm in /Users/ppez/anaconda3/lib/python3.7/site-packages (from sacremoses==0.0.35->laserembeddings) (4.54.0)\n",
      "Requirement already satisfied: click in /Users/ppez/anaconda3/lib/python3.7/site-packages (from sacremoses==0.0.35->laserembeddings) (7.1.2)\n",
      "Requirement already satisfied: joblib in /Users/ppez/anaconda3/lib/python3.7/site-packages (from sacremoses==0.0.35->laserembeddings) (0.13.2)\n",
      "Installing collected packages: torch, transliterate, sacremoses, subword-nmt, laserembeddings\n",
      "Successfully installed laserembeddings-1.1.0 sacremoses-0.0.35 subword-nmt-0.3.7 torch-1.7.1 transliterate-1.10.2\n",
      "\u001b[33mWARNING: You are using pip version 20.2.4; however, version 20.3.3 is available.\n",
      "You should consider upgrading via the '/Users/ppez/anaconda3/bin/python -m pip install --upgrade pip' command.\u001b[0m\n",
      "Downloading models into /Users/ppez/anaconda3/lib/python3.7/site-packages/laserembeddings/data\n",
      "\n",
      "✅   Downloaded https://dl.fbaipublicfiles.com/laser/models/93langs.fcodes    \n",
      "✅   Downloaded https://dl.fbaipublicfiles.com/laser/models/93langs.fvocab    \n",
      "✅   Downloaded https://dl.fbaipublicfiles.com/laser/models/bilstm.93langs.2018-12-26.pt    \n",
      "\n",
      "✨ You're all set!\n"
     ]
    }
   ],
   "source": [
    "# Instalacja laserembeddings \n",
    "!pip install laserembeddings # https://pypi.org/project/laserembeddings/\n",
    "from laserembeddings import Laser\n",
    "!python -m laserembeddings download-models"
   ]
  },
  {
   "cell_type": "code",
   "execution_count": 2,
   "metadata": {
    "colab": {
     "base_uri": "https://localhost:8080/"
    },
    "executionInfo": {
     "elapsed": 12828,
     "status": "ok",
     "timestamp": 1609623201722,
     "user": {
      "displayName": "Piotr Pęzik",
      "photoUrl": "https://lh3.googleusercontent.com/a-/AOh14GiZ7i0oPBUhmXYrUMEAOBIuQfvFWyKz4sEOLJ2otC4=s64",
      "userId": "15401984500622025149"
     },
     "user_tz": -60
    },
    "id": "BZKp9bpgVSEo",
    "outputId": "a187a84a-6775-45f9-a748-5f0e6f8b5da7"
   },
   "outputs": [
    {
     "name": "stdout",
     "output_type": "stream",
     "text": [
      "[[ 0.00466173  0.00013475  0.00118413 ...  0.00125459  0.00705035\n",
      "   0.01940012]\n",
      " [ 0.00449018  0.00083818  0.00012739 ...  0.00020635  0.01097564\n",
      "  -0.00251776]]\n",
      "[[ 5.5652321e-03  1.0571270e-05  1.2139205e-03 ... -6.7800356e-05\n",
      "  -3.4577381e-03  2.1616975e-02]\n",
      " [ 6.5513351e-03  3.1476589e-03 -1.2269928e-03 ...  6.8447008e-03\n",
      "   1.1222734e-02  3.3674815e-03]]\n",
      "<class 'numpy.ndarray'>\n",
      "(1024,)\n"
     ]
    }
   ],
   "source": [
    "# Międzyjęzykowe reprezentacje zdań\n",
    "\n",
    "from laserembeddings import Laser\n",
    "laser = Laser()\n",
    "\n",
    "test_embeddings_en = laser.embed_sentences(\n",
    "    ['Two dogs and a cat.', # 1A\n",
    "     'Hello, how are you?'], # 1B\n",
    "    lang='en')  # parametr lang jest używany do segmentacji\n",
    "\n",
    "test_embeddings_pl = laser.embed_sentences(\n",
    "    ['Dwa psy i kot.', # 2A Podobieństwo do 'Hello, how are you?' nawet przy nieoczywistej synonimii\n",
    "     'Hejka, co słychać?'], # 2B\n",
    "    lang='pl')\n",
    "\n",
    "print(test_embeddings_en)\n",
    "print(test_embeddings_pl)\n",
    "\n",
    "print(type(test_embeddings_en[0]))\n",
    "print(test_embeddings_en[0].shape)"
   ]
  },
  {
   "cell_type": "code",
   "execution_count": 3,
   "metadata": {
    "colab": {
     "base_uri": "https://localhost:8080/"
    },
    "executionInfo": {
     "elapsed": 1690,
     "status": "ok",
     "timestamp": 1609623204687,
     "user": {
      "displayName": "Piotr Pęzik",
      "photoUrl": "https://lh3.googleusercontent.com/a-/AOh14GiZ7i0oPBUhmXYrUMEAOBIuQfvFWyKz4sEOLJ2otC4=s64",
      "userId": "15401984500622025149"
     },
     "user_tz": -60
    },
    "id": "wox_5Hi4TF4q",
    "outputId": "f76cd298-b6f0-4add-d508-16cbd2d9bda3"
   },
   "outputs": [
    {
     "name": "stdout",
     "output_type": "stream",
     "text": [
      "Cosine similarity\n",
      "[[0.88267004 0.3634114 ]\n",
      " [0.3035773  0.7367395 ]]\n"
     ]
    }
   ],
   "source": [
    "# Podobieństwo kosinusowe\n",
    "\n",
    "from sklearn import metrics \n",
    "import numpy as np\n",
    "\n",
    "print(\"Cosine similarity\")\n",
    "similarity = metrics.pairwise.cosine_similarity(test_embeddings_en,test_embeddings_pl)\n",
    "print(similarity)\n",
    "\n",
    "assert(similarity[0][0]>similarity[0][1])\n",
    "assert(similarity[1][0]<similarity[1][1])"
   ]
  },
  {
   "cell_type": "code",
   "execution_count": 4,
   "metadata": {
    "colab": {
     "base_uri": "https://localhost:8080/"
    },
    "executionInfo": {
     "elapsed": 1078,
     "status": "ok",
     "timestamp": 1609623206798,
     "user": {
      "displayName": "Piotr Pęzik",
      "photoUrl": "https://lh3.googleusercontent.com/a-/AOh14GiZ7i0oPBUhmXYrUMEAOBIuQfvFWyKz4sEOLJ2otC4=s64",
      "userId": "15401984500622025149"
     },
     "user_tz": -60
    },
    "id": "D3sPWKMnMd-M",
    "outputId": "f7eee00a-74d8-4906-83ca-3c2c1f388668"
   },
   "outputs": [
    {
     "name": "stdout",
     "output_type": "stream",
     "text": [
      "[[0.99999994 0.9804411 ]\n",
      " [0.9804411  1.0000002 ]]\n"
     ]
    }
   ],
   "source": [
    "# Segment tłumaczeniowy z korpusu Paralela (korpus Europarl -- użyty do treningu modelu LASER)\n",
    "\n",
    "embeddings_pl_en = laser.embed_sentences(\n",
    "    ['Głosowałam za przyjęciem przedmiotowego dokumentu, którego celem jest wzmocnienie praw pacjentów w transgranicznej opiece zdrowotnej.',\n",
    "     'I voted in favour of this document, which aims to strengthen patients rights in cross-border healthcare.'\n",
    "     ],\n",
    "    lang=['pl','en'])\n",
    "\n",
    "print(metrics.pairwise.cosine_similarity(embeddings_pl_en))\n"
   ]
  },
  {
   "cell_type": "code",
   "execution_count": null,
   "metadata": {
    "colab": {
     "base_uri": "https://localhost:8080/"
    },
    "executionInfo": {
     "elapsed": 1086,
     "status": "ok",
     "timestamp": 1609623208833,
     "user": {
      "displayName": "Piotr Pęzik",
      "photoUrl": "https://lh3.googleusercontent.com/a-/AOh14GiZ7i0oPBUhmXYrUMEAOBIuQfvFWyKz4sEOLJ2otC4=s64",
      "userId": "15401984500622025149"
     },
     "user_tz": -60
    },
    "id": "OaGBZAEr3fMS",
    "outputId": "9bdeca4e-9258-4cec-bbec-c9d6daeb1ef1"
   },
   "outputs": [
    {
     "name": "stdout",
     "output_type": "stream",
     "text": [
      "[[1.0000001  0.71394753]\n",
      " [0.71394753 1.0000001 ]]\n"
     ]
    }
   ],
   "source": [
    "# Bardziej realistyczny przykład\n",
    "\n",
    "# Tytuł podobnej informacji prasowej\n",
    "embeddings_pl_en = laser.embed_sentences(\n",
    "    ['Meghan Markle na wojnie przeciw rzecznikom Pałacu. Nie czuła się przez nich chroniona.', # plotek.pl\n",
    "     'Meghan Markle felt ‘unprotected’ by royals during stressful pregnancy' # nbcnews.com\n",
    "     ],\n",
    "    lang=['pl','en'])\n",
    "\n",
    "print(metrics.pairwise.cosine_similarity(embeddings_pl_en))\n",
    "\n"
   ]
  },
  {
   "cell_type": "code",
   "execution_count": null,
   "metadata": {
    "colab": {
     "base_uri": "https://localhost:8080/"
    },
    "executionInfo": {
     "elapsed": 2173,
     "status": "ok",
     "timestamp": 1609623212757,
     "user": {
      "displayName": "Piotr Pęzik",
      "photoUrl": "https://lh3.googleusercontent.com/a-/AOh14GiZ7i0oPBUhmXYrUMEAOBIuQfvFWyKz4sEOLJ2otC4=s64",
      "userId": "15401984500622025149"
     },
     "user_tz": -60
    },
    "id": "LZVYIAByKy1l",
    "outputId": "a55cb73d-26e7-44b3-d2ab-9d98129fa028"
   },
   "outputs": [
    {
     "name": "stdout",
     "output_type": "stream",
     "text": [
      "Request status: 200.\n",
      "Retrieved 500 segments. \n",
      "{'text_id_en': '445n', 'authors_pl': [''], 'license_en': 'CC-BY', 'source': 'CORDIS', 'medium': 'kanal_internet', 'title_m_en': 'Community Research and Development Information Service', 'title_a_en': \"US researchers develop techniques for 'ethical' stem cell lines\", 'lang_trg': 'pol', 'authors_en': [''], 'seg_pl_txt': 'Zespół amerykańskich badaczy uważa, że znalazł sposób na wyprowadzenie linii embrionalnych komórek macierzystych bez konieczności niszczenia embrionu źródłowego.', 'license_pl': 'CC-BY', 'genre': 'typ_publ', 'url_en': 'http://cordis.europa.eu', 'id': 'danXp', 'lang_src': 'eng', 'alignment_type': 'SIMPLE', 'title_m_pl': 'Wspólnotowy Serwis Informacyjny Badań i Rozwoju', 'seq': 1, 'seg_en_txt': 'A team of US researchers believes that it has found a way to develop embryonic stem cell lines without destroying the source embryo.', 'title_a_pl': 'Badacze w USA opracowują metody \"etycznego\" wyprowadzania linii komórek macierzystych', 'segment_id_en': 'o9zbzz', 'import_id': 1, 'url_pl': 'http://cordis.europa.eu', 'segment_id_pl': 'R8Axzp', 'word_total': 41, 'alignment_mode': 'STATISTICAL', '_version_': 1572129422205517824, 'timestamp': 'Jul 6, 2017 2:04:12 AM'}\n"
     ]
    }
   ],
   "source": [
    "# Spróbujmy ocenić dokładność (accuracy) tej metody na zbiorze prawdziwych ekwiwalentów z korpusu Paralela\n",
    "# http://paralela.clarin-pl.eu\n",
    "# http://paralela.clarin-pl.eu/api/index/sources\n",
    "\n",
    "import requests\n",
    "\n",
    "# Pobieramy segmenty tłumaczeniowe wraz z metadanymi\n",
    "seg_limit=500\n",
    "cordis_segments = requests.get(\"http://paralela.clarin-pl.eu/api/index/\"+\n",
    "                \"segments?query=source:CORDIS&start=0&rows={}\".format(seg_limit))\n",
    "print(\"Request status: {}.\".format(cordis_segments.status_code))\n",
    "\n",
    "seg_dict = cordis_segments.json()\n",
    "\n",
    "print(\"Retrieved {} segments. \".format(len(seg_dict)))\n",
    "\n",
    "print(next(iter(seg_dict.values())))\n"
   ]
  },
  {
   "cell_type": "code",
   "execution_count": null,
   "metadata": {
    "colab": {
     "base_uri": "https://localhost:8080/"
    },
    "executionInfo": {
     "elapsed": 984,
     "status": "ok",
     "timestamp": 1609623214136,
     "user": {
      "displayName": "Piotr Pęzik",
      "photoUrl": "https://lh3.googleusercontent.com/a-/AOh14GiZ7i0oPBUhmXYrUMEAOBIuQfvFWyKz4sEOLJ2otC4=s64",
      "userId": "15401984500622025149"
     },
     "user_tz": -60
    },
    "id": "Vc9bJuZX9bAE",
    "outputId": "f92ec9cd-3573-4d56-83ed-328abe178434"
   },
   "outputs": [
    {
     "name": "stdout",
     "output_type": "stream",
     "text": [
      "[(\"US researchers develop techniques for 'ethical' stem cell lines\", 'Badacze w USA opracowują metody \"etycznego\" wyprowadzania linii komórek macierzystych'), ('Homing pigeons smell their way home', 'Gołębie powracające do domu znajdują drogę kierując się węchem'), ('Environmental forensics conference, UK', 'Konferencja poświęcona środowiskowej medycynie sądowej, Wielka Brytania'), ('Noctilucent clouds found on Mars', 'Na Marsie odkryto obłoki srebrzyste'), (\"It's raining cosmic dust\", 'Deszcz kosmicznego pyłu')]\n",
      "Unique title pairs: 34\n"
     ]
    }
   ],
   "source": [
    "# Ograniczmy się do unikalnych tytułów artykułów\n",
    "\n",
    "title_pairs = []\n",
    "for seg_id in seg_dict:\n",
    "  title_pair = (seg_dict[seg_id]['title_a_en'],seg_dict[seg_id]['title_a_pl'])\n",
    "  if title_pair not in title_pairs: \n",
    "    title_pairs.append(title_pair)\n",
    "\n",
    "print(title_pairs[0:5])\n",
    "print(\"Unique title pairs: {}\".format(len(title_pairs)))\n"
   ]
  },
  {
   "cell_type": "code",
   "execution_count": null,
   "metadata": {
    "colab": {
     "base_uri": "https://localhost:8080/"
    },
    "executionInfo": {
     "elapsed": 1539,
     "status": "ok",
     "timestamp": 1609623216827,
     "user": {
      "displayName": "Piotr Pęzik",
      "photoUrl": "https://lh3.googleusercontent.com/a-/AOh14GiZ7i0oPBUhmXYrUMEAOBIuQfvFWyKz4sEOLJ2otC4=s64",
      "userId": "15401984500622025149"
     },
     "user_tz": -60
    },
    "id": "g78Mtc_SdwKE",
    "outputId": "7800b7fb-9cd0-40e2-a4f0-e203ccf97632"
   },
   "outputs": [
    {
     "name": "stdout",
     "output_type": "stream",
     "text": [
      "1. (\"US researchers develop techniques for 'ethical' stem cell lines\", 'Badacze w USA opracowują metody \"etycznego\" wyprowadzania linii komórek macierzystych')\n",
      "[[0.8680676]]\n",
      "--------------------------------------------------\n",
      "2. ('Homing pigeons smell their way home', 'Gołębie powracające do domu znajdują drogę kierując się węchem')\n",
      "[[0.7118055]]\n",
      "--------------------------------------------------\n",
      "3. ('Environmental forensics conference, UK', 'Konferencja poświęcona środowiskowej medycynie sądowej, Wielka Brytania')\n",
      "[[0.85798585]]\n",
      "--------------------------------------------------\n",
      "4. ('Noctilucent clouds found on Mars', 'Na Marsie odkryto obłoki srebrzyste')\n",
      "[[0.704545]]\n",
      "--------------------------------------------------\n",
      "5. (\"It's raining cosmic dust\", 'Deszcz kosmicznego pyłu')\n",
      "[[0.7869777]]\n",
      "--------------------------------------------------\n",
      "6. ('Ocean census hints at immense diversity of marine microbes', 'Badanie oceanów sygnalizuje ogromną różnorodność morskich mikroorganizmów')\n",
      "[[0.8470954]]\n",
      "--------------------------------------------------\n",
      "7. ('International congress on Information Society, Alicante, Spain', 'Międzynarodowy kongres poświęcony społeczeństwu informacyjnemu, Alicante, Hiszpania')\n",
      "[[0.9606373]]\n",
      "--------------------------------------------------\n",
      "8. ('European Venture Market, Potsdam', 'European Venture Market, Poczdam')\n",
      "[[0.93925583]]\n",
      "--------------------------------------------------\n",
      "9. ('New drug targets could produce cancer antibiotics', 'Nowe docelowe zastosowania leków mogą doprowadzić do powstania antybiotyków na raka')\n",
      "[[0.90592486]]\n",
      "--------------------------------------------------\n",
      "10. ('GEM-SET conference, Newcastle', 'Konferencja GEM-SET, Newcastle')\n",
      "[[0.9594822]]\n",
      "--------------------------------------------------\n",
      "11. ('Report recommends revision of bioethics law to allow therapeutic cloning and embryonic stem cell research', 'W raporcie zaleca się zmianę ustawy o bioetyce, aby umożliwić klonowanie terapeutyczne i badania nad embrionalnymi komórkami macierzystymi')\n",
      "[[0.9445363]]\n",
      "--------------------------------------------------\n",
      "12. (\"ESA satellites see changes in Earth's magnetic field\", 'Satelity ESA obserwują zmiany pola magnetycznego Ziemi')\n",
      "[[0.87213993]]\n",
      "--------------------------------------------------\n",
      "13. ('Survey sees growth in e-government across Europe, Austria leads the way', 'W Europie zaobserwowano upowszechnienie e-administracji, przewodzi Austria')\n",
      "[[0.8083276]]\n",
      "--------------------------------------------------\n",
      "14. ('First test tube baby to give birth', 'Pierwsze dziecko z probówki jest w ciąży')\n",
      "[[0.6680312]]\n",
      "--------------------------------------------------\n",
      "15. ('X-ray microscope gives researchers nanovision', 'Badacze uzyskują nanoobrazy z mikroskopu rentgenowskiego')\n",
      "[[0.79786724]]\n",
      "--------------------------------------------------\n",
      "16. ('Final evaluation of eTEN Programme', 'Końcowa ocena programu eTEN')\n",
      "[[0.93281543]]\n",
      "--------------------------------------------------\n",
      "17. ('Research without borders, Australia', 'Badania bez granic, Australia')\n",
      "[[0.9501184]]\n",
      "--------------------------------------------------\n",
      "18. ('EU project reveals a new approach to demonstrations at CeBIT', 'Na targach CeBIT projekt UE ujawnia nowa metode prezentacji')\n",
      "[[0.78118587]]\n",
      "--------------------------------------------------\n",
      "19. ('UK pressure group calls for more science and engineering funding', 'Brytyjska grupa nacisku apeluje o wieksze naklady na nauke i technike')\n",
      "[[0.86793953]]\n",
      "--------------------------------------------------\n",
      "20. ('Anti file-sharing system scoops one of three IST Grand Prizes', 'System uniemozliwiajacy udostepnianie plikow otrzymuje jedna z trzech glownych nagrod w dziedzinie IST')\n",
      "[[0.7713036]]\n",
      "--------------------------------------------------\n",
      "21. ('Nanotechnologies for drug delivery', 'Notechnologie w dozowaniu leków')\n",
      "[[0.8230163]]\n",
      "--------------------------------------------------\n",
      "22. ('VINNOVA welcomes increased opportunities for SMEs in FP7', 'VINNOVA przyjmuje z zadowoleniem wieksze mozliwosci dla MSP w 7. PR')\n",
      "[[0.86192244]]\n",
      "--------------------------------------------------\n",
      "23. ('Competitiveness clusters for Industries and agro-resources: a new stage in the industrial and agricultural revolution?', 'Klastry konkurencyjności na rzecz przemysłu i zasobów rolnych: nowy etap rewolucji przemysłowej i rolnej?')\n",
      "[[0.96153307]]\n",
      "--------------------------------------------------\n",
      "24. ('EFIS conference: signal and signal processing in the immune system', 'Konferencja EFIS: sygnały i przetwarzanie sygnałów w układzie immunologicznym')\n",
      "[[0.9283051]]\n",
      "--------------------------------------------------\n",
      "25. ('Commission authorises import of GM maize for animal feed', 'Komisja zezwala na import genetycznie zmodyfikowanej kukurydzy na pasze dla zwierzat')\n",
      "[[0.8975904]]\n",
      "--------------------------------------------------\n",
      "26. ('US comes out on top in EU-US innovation comparison', 'Ameryka zwycieza porownanie innowacyjnosci UE i USA')\n",
      "[[0.7839256]]\n",
      "--------------------------------------------------\n",
      "27. ('Czech Republic seeks to boost innovation', 'Czechy daza do wprowadzenia innowacji na szersza skale')\n",
      "[[0.75704527]]\n",
      "--------------------------------------------------\n",
      "28. (\"Local authorities' telematic network to hold ICT conference in Poland\", 'Sieć teleinformatyczna władz lokalnych organizuje w Polsce konferencję poświęconą tematom związanym z wykorzystaniem technologii informacyjno-komunikacyjnych')\n",
      "[[0.8326272]]\n",
      "--------------------------------------------------\n",
      "29. (\"French expert explains her concept of a 'new transaction space' for innovation\", 'Francuski ekspert wyjasnia swa koncepcje \"nowej przestrzeni\" dla innowacyjnosci')\n",
      "[[0.9251865]]\n",
      "--------------------------------------------------\n",
      "30. (\"Barroso to speak at EUA convention on 'strong universities for Europe'\", 'Barroso wygłosi na kongresie EUA mowę na temat \"silnych uniwersytetów dla Europy\"')\n",
      "[[0.90121686]]\n",
      "--------------------------------------------------\n",
      "31. ('Chirac calls for airline tax to fight AIDS in Africa', 'Chirac nawoluje do wprowadzenia podatku lotniczego w celu zwalczania AIDS w Afryce')\n",
      "[[0.9079027]]\n",
      "--------------------------------------------------\n",
      "32. (\"SITE project brings the EU's IST programme to Siberia\", 'Projekt SITE wprowadza na Syberii program UE dotyczący technologii społeczeństwa informacyjnego')\n",
      "[[0.8262028]]\n",
      "--------------------------------------------------\n",
      "33. ('Austrian scientists identify SARS receptor', 'Austriaccy naukowcy identyfikuja receptor SARS')\n",
      "[[0.9625126]]\n",
      "--------------------------------------------------\n",
      "34. ('European instruments on first Indian lunar expedition', 'Europejskie instrumenty na pokladzie pierwszego indyjskiego satelity')\n",
      "[[0.8160917]]\n",
      "--------------------------------------------------\n"
     ]
    }
   ],
   "source": [
    "# Podobieństwo ekwiwalentych tytułów \n",
    "\n",
    "sims = []\n",
    "for ti, title_pair in enumerate(title_pairs):\n",
    "  en_vec = laser.embed_sentences([title_pair[0]],lang='en')\n",
    "  pl_vec = laser.embed_sentences([title_pair[1]], lang = 'pl')\n",
    "  cos_sim = metrics.pairwise.cosine_similarity(en_vec,pl_vec)\n",
    "  sims.append(cos_sim[0][0])\n",
    "  print(\"{}. {}\\n{}\\n{}\".format(ti+1,title_pair,cos_sim, \"-\"*50))\n"
   ]
  },
  {
   "cell_type": "code",
   "execution_count": null,
   "metadata": {
    "colab": {
     "base_uri": "https://localhost:8080/"
    },
    "executionInfo": {
     "elapsed": 1098,
     "status": "ok",
     "timestamp": 1609623220016,
     "user": {
      "displayName": "Piotr Pęzik",
      "photoUrl": "https://lh3.googleusercontent.com/a-/AOh14GiZ7i0oPBUhmXYrUMEAOBIuQfvFWyKz4sEOLJ2otC4=s64",
      "userId": "15401984500622025149"
     },
     "user_tz": -60
    },
    "id": "pH8fz5gvyXJK",
    "outputId": "758ddc77-5928-4fc9-ec46-dd751dfb938a"
   },
   "outputs": [
    {
     "name": "stdout",
     "output_type": "stream",
     "text": [
      "Average similarity: 0.8565035585094901\n"
     ]
    }
   ],
   "source": [
    "print(\"Average similarity: {}\".format(sum(sims)/(len(sims))))\n"
   ]
  },
  {
   "cell_type": "code",
   "execution_count": null,
   "metadata": {
    "id": "QBQ6EAT12F4T"
   },
   "outputs": [],
   "source": [
    "# Batch mode\n",
    "embeddings_en = laser.embed_sentences(\n",
    "    [t[0] for t in title_pairs],\n",
    "    lang='en')\n",
    "\n",
    "embeddings_pl = laser.embed_sentences(\n",
    "    [t[0] for t in title_pairs],\n",
    "    lang='pl')"
   ]
  },
  {
   "cell_type": "code",
   "execution_count": null,
   "metadata": {
    "id": "f3vmMXseWTKJ"
   },
   "outputs": [],
   "source": [
    "from sklearn import metrics \n",
    "from operator import itemgetter\n",
    "\"\"\"\n",
    "query: query text\n",
    "texts: lista tekstów z kolekcji\n",
    "candidate_vecs: kolekcja wektorów tekstów w których szukamy maks. k najbliższych sąsiadów o min. podobieństwie kosinusowym\n",
    "laser: instancja LASER-a\n",
    "lang: język tekstu zapytania\n",
    "\"\"\"\n",
    "def knn_search(query, candidate_vecs, texts, laser, lang, max_k, min_sim=0.6):\n",
    "    query_vec = laser.embed_sentences([query],lang=lang)\n",
    "    res = []\n",
    "    for vi,v in enumerate(candidate_vecs):\n",
    "        cos = metrics.pairwise.cosine_similarity([v],query_vec)\n",
    "        if cos[0][0] >= min_sim:\n",
    "           res.append((vi,cos[0][0]))\n",
    "    res = sorted(res, key=itemgetter(1), reverse=True)\n",
    "    return [[ri, r, texts[r[0]]] for ri,r in enumerate(res[0:max_k])]"
   ]
  },
  {
   "cell_type": "code",
   "execution_count": null,
   "metadata": {
    "colab": {
     "base_uri": "https://localhost:8080/"
    },
    "executionInfo": {
     "elapsed": 1742,
     "status": "ok",
     "timestamp": 1609623226455,
     "user": {
      "displayName": "Piotr Pęzik",
      "photoUrl": "https://lh3.googleusercontent.com/a-/AOh14GiZ7i0oPBUhmXYrUMEAOBIuQfvFWyKz4sEOLJ2otC4=s64",
      "userId": "15401984500622025149"
     },
     "user_tz": -60
    },
    "id": "_J8wLTIHLigS",
    "outputId": "40f5ca70-9bf5-4378-ce76-535f7d9d84d8"
   },
   "outputs": [
    {
     "name": "stdout",
     "output_type": "stream",
     "text": [
      "\n",
      "\n",
      "1. Top equivalents for (\"US researchers develop techniques for 'ethical' stem cell lines\", 'Badacze w USA opracowują metody \"etycznego\" wyprowadzania linii komórek macierzystych'):\n",
      "[[0, (0, 0.8680676), \"US researchers develop techniques for 'ethical' stem cell lines\"]]\n",
      "\n",
      "\n",
      "2. Top equivalents for ('Homing pigeons smell their way home', 'Gołębie powracające do domu znajdują drogę kierując się węchem'):\n",
      "[[0, (1, 0.7118054), 'Homing pigeons smell their way home']]\n",
      "\n",
      "\n",
      "3. Top equivalents for ('Environmental forensics conference, UK', 'Konferencja poświęcona środowiskowej medycynie sądowej, Wielka Brytania'):\n",
      "[[0, (2, 0.85798585), 'Environmental forensics conference, UK']]\n",
      "\n",
      "\n",
      "4. Top equivalents for ('Noctilucent clouds found on Mars', 'Na Marsie odkryto obłoki srebrzyste'):\n",
      "[[0, (3, 0.704545), 'Noctilucent clouds found on Mars']]\n",
      "\n",
      "\n",
      "5. Top equivalents for (\"It's raining cosmic dust\", 'Deszcz kosmicznego pyłu'):\n",
      "[[0, (4, 0.78697765), \"It's raining cosmic dust\"]]\n",
      "\n",
      "\n",
      "6. Top equivalents for ('Ocean census hints at immense diversity of marine microbes', 'Badanie oceanów sygnalizuje ogromną różnorodność morskich mikroorganizmów'):\n",
      "[[0, (5, 0.84709543), 'Ocean census hints at immense diversity of marine microbes']]\n",
      "\n",
      "\n",
      "7. Top equivalents for ('International congress on Information Society, Alicante, Spain', 'Międzynarodowy kongres poświęcony społeczeństwu informacyjnemu, Alicante, Hiszpania'):\n",
      "[[0, (6, 0.9606374), 'International congress on Information Society, Alicante, Spain']]\n",
      "\n",
      "\n",
      "8. Top equivalents for ('European Venture Market, Potsdam', 'European Venture Market, Poczdam'):\n",
      "[[0, (7, 0.93925583), 'European Venture Market, Potsdam']]\n",
      "\n",
      "\n",
      "9. Top equivalents for ('New drug targets could produce cancer antibiotics', 'Nowe docelowe zastosowania leków mogą doprowadzić do powstania antybiotyków na raka'):\n",
      "[[0, (8, 0.90592486), 'New drug targets could produce cancer antibiotics']]\n",
      "\n",
      "\n",
      "10. Top equivalents for ('GEM-SET conference, Newcastle', 'Konferencja GEM-SET, Newcastle'):\n",
      "[[0, (9, 0.9594822), 'GEM-SET conference, Newcastle']]\n",
      "\n",
      "\n",
      "11. Top equivalents for ('Report recommends revision of bioethics law to allow therapeutic cloning and embryonic stem cell research', 'W raporcie zaleca się zmianę ustawy o bioetyce, aby umożliwić klonowanie terapeutyczne i badania nad embrionalnymi komórkami macierzystymi'):\n",
      "[[0, (10, 0.9445363), 'Report recommends revision of bioethics law to allow therapeutic cloning and embryonic stem cell research']]\n",
      "\n",
      "\n",
      "12. Top equivalents for (\"ESA satellites see changes in Earth's magnetic field\", 'Satelity ESA obserwują zmiany pola magnetycznego Ziemi'):\n",
      "[[0, (11, 0.8721399), \"ESA satellites see changes in Earth's magnetic field\"]]\n",
      "\n",
      "\n",
      "13. Top equivalents for ('Survey sees growth in e-government across Europe, Austria leads the way', 'W Europie zaobserwowano upowszechnienie e-administracji, przewodzi Austria'):\n",
      "[[0, (12, 0.8083277), 'Survey sees growth in e-government across Europe, Austria leads the way']]\n",
      "\n",
      "\n",
      "14. Top equivalents for ('First test tube baby to give birth', 'Pierwsze dziecko z probówki jest w ciąży'):\n",
      "[[0, (13, 0.66803116), 'First test tube baby to give birth']]\n",
      "\n",
      "\n",
      "15. Top equivalents for ('X-ray microscope gives researchers nanovision', 'Badacze uzyskują nanoobrazy z mikroskopu rentgenowskiego'):\n",
      "[[0, (14, 0.7978672), 'X-ray microscope gives researchers nanovision']]\n",
      "\n",
      "\n",
      "16. Top equivalents for ('Final evaluation of eTEN Programme', 'Końcowa ocena programu eTEN'):\n",
      "[[0, (15, 0.93281543), 'Final evaluation of eTEN Programme']]\n",
      "\n",
      "\n",
      "17. Top equivalents for ('Research without borders, Australia', 'Badania bez granic, Australia'):\n",
      "[[0, (16, 0.9501184), 'Research without borders, Australia']]\n",
      "\n",
      "\n",
      "18. Top equivalents for ('EU project reveals a new approach to demonstrations at CeBIT', 'Na targach CeBIT projekt UE ujawnia nowa metode prezentacji'):\n",
      "[[0, (17, 0.7811859), 'EU project reveals a new approach to demonstrations at CeBIT']]\n",
      "\n",
      "\n",
      "19. Top equivalents for ('UK pressure group calls for more science and engineering funding', 'Brytyjska grupa nacisku apeluje o wieksze naklady na nauke i technike'):\n",
      "[[0, (18, 0.8679396), 'UK pressure group calls for more science and engineering funding']]\n",
      "\n",
      "\n",
      "20. Top equivalents for ('Anti file-sharing system scoops one of three IST Grand Prizes', 'System uniemozliwiajacy udostepnianie plikow otrzymuje jedna z trzech glownych nagrod w dziedzinie IST'):\n",
      "[[0, (19, 0.77130353), 'Anti file-sharing system scoops one of three IST Grand Prizes']]\n",
      "\n",
      "\n",
      "21. Top equivalents for ('Nanotechnologies for drug delivery', 'Notechnologie w dozowaniu leków'):\n",
      "[[0, (20, 0.8230163), 'Nanotechnologies for drug delivery']]\n",
      "\n",
      "\n",
      "22. Top equivalents for ('VINNOVA welcomes increased opportunities for SMEs in FP7', 'VINNOVA przyjmuje z zadowoleniem wieksze mozliwosci dla MSP w 7. PR'):\n",
      "[[0, (21, 0.8619224), 'VINNOVA welcomes increased opportunities for SMEs in FP7']]\n",
      "\n",
      "\n",
      "23. Top equivalents for ('Competitiveness clusters for Industries and agro-resources: a new stage in the industrial and agricultural revolution?', 'Klastry konkurencyjności na rzecz przemysłu i zasobów rolnych: nowy etap rewolucji przemysłowej i rolnej?'):\n",
      "[[0, (22, 0.961533), 'Competitiveness clusters for Industries and agro-resources: a new stage in the industrial and agricultural revolution?']]\n",
      "\n",
      "\n",
      "24. Top equivalents for ('EFIS conference: signal and signal processing in the immune system', 'Konferencja EFIS: sygnały i przetwarzanie sygnałów w układzie immunologicznym'):\n",
      "[[0, (23, 0.92830503), 'EFIS conference: signal and signal processing in the immune system']]\n",
      "\n",
      "\n",
      "25. Top equivalents for ('Commission authorises import of GM maize for animal feed', 'Komisja zezwala na import genetycznie zmodyfikowanej kukurydzy na pasze dla zwierzat'):\n",
      "[[0, (24, 0.89759034), 'Commission authorises import of GM maize for animal feed']]\n",
      "\n",
      "\n",
      "26. Top equivalents for ('US comes out on top in EU-US innovation comparison', 'Ameryka zwycieza porownanie innowacyjnosci UE i USA'):\n",
      "[[0, (25, 0.7839256), 'US comes out on top in EU-US innovation comparison']]\n",
      "\n",
      "\n",
      "27. Top equivalents for ('Czech Republic seeks to boost innovation', 'Czechy daza do wprowadzenia innowacji na szersza skale'):\n",
      "[[0, (26, 0.75704515), 'Czech Republic seeks to boost innovation']]\n",
      "\n",
      "\n",
      "28. Top equivalents for (\"Local authorities' telematic network to hold ICT conference in Poland\", 'Sieć teleinformatyczna władz lokalnych organizuje w Polsce konferencję poświęconą tematom związanym z wykorzystaniem technologii informacyjno-komunikacyjnych'):\n",
      "[[0, (27, 0.8326271), \"Local authorities' telematic network to hold ICT conference in Poland\"]]\n",
      "\n",
      "\n",
      "29. Top equivalents for (\"French expert explains her concept of a 'new transaction space' for innovation\", 'Francuski ekspert wyjasnia swa koncepcje \"nowej przestrzeni\" dla innowacyjnosci'):\n",
      "[[0, (28, 0.9251866), \"French expert explains her concept of a 'new transaction space' for innovation\"]]\n",
      "\n",
      "\n",
      "30. Top equivalents for (\"Barroso to speak at EUA convention on 'strong universities for Europe'\", 'Barroso wygłosi na kongresie EUA mowę na temat \"silnych uniwersytetów dla Europy\"'):\n",
      "[[0, (29, 0.90121675), \"Barroso to speak at EUA convention on 'strong universities for Europe'\"]]\n",
      "\n",
      "\n",
      "31. Top equivalents for ('Chirac calls for airline tax to fight AIDS in Africa', 'Chirac nawoluje do wprowadzenia podatku lotniczego w celu zwalczania AIDS w Afryce'):\n",
      "[[0, (30, 0.90790266), 'Chirac calls for airline tax to fight AIDS in Africa']]\n",
      "\n",
      "\n",
      "32. Top equivalents for (\"SITE project brings the EU's IST programme to Siberia\", 'Projekt SITE wprowadza na Syberii program UE dotyczący technologii społeczeństwa informacyjnego'):\n",
      "[[0, (31, 0.8262028), \"SITE project brings the EU's IST programme to Siberia\"]]\n",
      "\n",
      "\n",
      "33. Top equivalents for ('Austrian scientists identify SARS receptor', 'Austriaccy naukowcy identyfikuja receptor SARS'):\n",
      "[[0, (32, 0.9625126), 'Austrian scientists identify SARS receptor']]\n",
      "\n",
      "\n",
      "34. Top equivalents for ('European instruments on first Indian lunar expedition', 'Europejskie instrumenty na pokladzie pierwszego indyjskiego satelity'):\n",
      "[[0, (33, 0.8160916), 'European instruments on first Indian lunar expedition']]\n"
     ]
    }
   ],
   "source": [
    "# Liczymy accuracy na 34 parach tłumaczeniowych\n",
    "\n",
    "hits = 0\n",
    "misses = 0\n",
    "\n",
    "for pi, title_pair in enumerate(title_pairs):\n",
    "  print(\"\\n\\n{}. Top equivalents for {}:\".format(pi+1, title_pair))\n",
    "  equivalents = knn_search(title_pair[1], candidate_vecs=embeddings_en, \n",
    "                           texts= [t[0] for t in title_pairs], lang='pl', laser=laser, max_k=1, min_sim=0.5)\n",
    "  print(equivalents)\n",
    "  if equivalents[0][2]==title_pair[0]:\n",
    "    hits+=1\n",
    "  else:\n",
    "    misses+=1"
   ]
  },
  {
   "cell_type": "code",
   "execution_count": null,
   "metadata": {
    "colab": {
     "base_uri": "https://localhost:8080/"
    },
    "executionInfo": {
     "elapsed": 573,
     "status": "ok",
     "timestamp": 1609623229447,
     "user": {
      "displayName": "Piotr Pęzik",
      "photoUrl": "https://lh3.googleusercontent.com/a-/AOh14GiZ7i0oPBUhmXYrUMEAOBIuQfvFWyKz4sEOLJ2otC4=s64",
      "userId": "15401984500622025149"
     },
     "user_tz": -60
    },
    "id": "f7cAEbr8yH6l",
    "outputId": "02ce1ca0-9de3-490a-a5b5-c19dff965223"
   },
   "outputs": [
    {
     "name": "stdout",
     "output_type": "stream",
     "text": [
      "\n",
      " Accuracy: 34/(34+0) = 1.0\n"
     ]
    }
   ],
   "source": [
    "print(\"\\n Accuracy: {}/({}+{}) = {}\".format(hits,hits,misses,(hits/(hits+misses))))\n"
   ]
  },
  {
   "cell_type": "markdown",
   "metadata": {
    "id": "kC7cGJskXEEB"
   },
   "source": [
    "## Indeskowanie wektorów za pomocą FAISS"
   ]
  },
  {
   "cell_type": "code",
   "execution_count": null,
   "metadata": {
    "colab": {
     "base_uri": "https://localhost:8080/"
    },
    "executionInfo": {
     "elapsed": 9051,
     "status": "ok",
     "timestamp": 1609623239362,
     "user": {
      "displayName": "Piotr Pęzik",
      "photoUrl": "https://lh3.googleusercontent.com/a-/AOh14GiZ7i0oPBUhmXYrUMEAOBIuQfvFWyKz4sEOLJ2otC4=s64",
      "userId": "15401984500622025149"
     },
     "user_tz": -60
    },
    "id": "nSd9AmZEaycP",
    "outputId": "c0c60224-d586-49df-fe74-ed603f471c13"
   },
   "outputs": [
    {
     "name": "stdout",
     "output_type": "stream",
     "text": [
      "Collecting faiss-gpu\n",
      "\u001b[?25l  Downloading https://files.pythonhosted.org/packages/7d/32/8b29e3f99224f24716257e78724a02674761e034e6920b4278cc21d19f77/faiss_gpu-1.6.5-cp36-cp36m-manylinux2014_x86_64.whl (67.6MB)\n",
      "\u001b[K     |████████████████████████████████| 67.7MB 88kB/s \n",
      "\u001b[?25hInstalling collected packages: faiss-gpu\n",
      "Successfully installed faiss-gpu-1.6.5\n"
     ]
    }
   ],
   "source": [
    "# Instalujemy wersję CPU albo GPU\n",
    "#!pip install faiss\n",
    "!pip install faiss-gpu"
   ]
  },
  {
   "cell_type": "code",
   "execution_count": null,
   "metadata": {
    "id": "NvNJTXK7XClV"
   },
   "outputs": [],
   "source": [
    "# Budowa indeksu z domyślnymi parametrami\n",
    "import faiss\n",
    "\n",
    "def build_faiss(vecs,dim=1024):\n",
    "  index = faiss.IndexFlatL2(dim) # brute-force L2 distance search\n",
    "  index.add(np.asarray(vecs))\n",
    "  print(\"Total vectors in the index: {}.\".format(index.ntotal))\n",
    "  return index"
   ]
  },
  {
   "cell_type": "code",
   "execution_count": null,
   "metadata": {
    "colab": {
     "base_uri": "https://localhost:8080/"
    },
    "executionInfo": {
     "elapsed": 600,
     "status": "ok",
     "timestamp": 1609623246636,
     "user": {
      "displayName": "Piotr Pęzik",
      "photoUrl": "https://lh3.googleusercontent.com/a-/AOh14GiZ7i0oPBUhmXYrUMEAOBIuQfvFWyKz4sEOLJ2otC4=s64",
      "userId": "15401984500622025149"
     },
     "user_tz": -60
    },
    "id": "Cyq3vffIXlLK",
    "outputId": "942df5df-6b9e-4a85-c0f7-a16e22ec9b7d"
   },
   "outputs": [
    {
     "name": "stdout",
     "output_type": "stream",
     "text": [
      "Total vectors in the index: 34.\n",
      "Total vectors in the index: 34.\n"
     ]
    }
   ],
   "source": [
    "index_pl = build_faiss(vecs=embeddings_pl)\n",
    "index_en = build_faiss(vecs=embeddings_en)\n"
   ]
  },
  {
   "cell_type": "code",
   "execution_count": null,
   "metadata": {
    "id": "T9we8Paka5Ye"
   },
   "outputs": [],
   "source": [
    "# Przeszukiwanie indeksu FAISS\n",
    "def faiss_search(query_vec, faiss_index, max_k = 10):\n",
    "    res = []\n",
    "    scores, ids = faiss_index.search(np.array([query_vec]), max_k)  # Odległości L2\n",
    "    for si, id in enumerate(ids[0]):\n",
    "        res.append((id,scores[0][si]))\n",
    "    return res"
   ]
  },
  {
   "cell_type": "code",
   "execution_count": null,
   "metadata": {
    "colab": {
     "base_uri": "https://localhost:8080/"
    },
    "executionInfo": {
     "elapsed": 634,
     "status": "ok",
     "timestamp": 1609623853691,
     "user": {
      "displayName": "Piotr Pęzik",
      "photoUrl": "https://lh3.googleusercontent.com/a-/AOh14GiZ7i0oPBUhmXYrUMEAOBIuQfvFWyKz4sEOLJ2otC4=s64",
      "userId": "15401984500622025149"
     },
     "user_tz": -60
    },
    "id": "OpjVDYjynIUW",
    "outputId": "953bef03-d4ed-4b05-a37b-339a2f42a7f4"
   },
   "outputs": [
    {
     "name": "stdout",
     "output_type": "stream",
     "text": [
      "Wektor angielskiego zdania o wym. (1024,): [ 0.00083235 -0.00024976 -0.00062988 ... -0.0013023   0.00963623\n",
      "  0.01447   ]\n",
      "\n",
      "Wyniki: [(4, 0.09741208), (15, 0.24053705), (7, 0.26407197)]\n",
      "(\"It's raining cosmic dust\", 'Deszcz kosmicznego pyłu')\n",
      "('Final evaluation of eTEN Programme', 'Końcowa ocena programu eTEN')\n",
      "('European Venture Market, Potsdam', 'European Venture Market, Poczdam')\n"
     ]
    }
   ],
   "source": [
    " #Przykłady odpytywania indeksów\n",
    "\n",
    "# 1. EN-PL\n",
    "query_en = laser.embed_sentences(['cosmic dust'], lang='en')[0]\n",
    "print(\"Wektor angielskiego zdania o wym. {}: {}\".format(query_en.shape, query_en))\n",
    "\n",
    "res = faiss_search(query_vec=query_en, faiss_index=index_pl, max_k = 3)\n",
    "print(\"\\nWyniki: {}\".format(res))\n",
    "for r in res:\n",
    "  print(title_pairs[r[0]])\n"
   ]
  },
  {
   "cell_type": "code",
   "execution_count": null,
   "metadata": {
    "colab": {
     "base_uri": "https://localhost:8080/"
    },
    "executionInfo": {
     "elapsed": 664,
     "status": "ok",
     "timestamp": 1609603359815,
     "user": {
      "displayName": "Piotr Pęzik",
      "photoUrl": "https://lh3.googleusercontent.com/a-/AOh14GiZ7i0oPBUhmXYrUMEAOBIuQfvFWyKz4sEOLJ2otC4=s64",
      "userId": "15401984500622025149"
     },
     "user_tz": -60
    },
    "id": "KT0WRaeq1QxQ",
    "outputId": "75ba37e1-a735-419d-a7bb-d6494bc129ed"
   },
   "outputs": [
    {
     "name": "stdout",
     "output_type": "stream",
     "text": [
      "Wektor angielskiego zdania o wym. (1024,): [ 0.00800916 -0.0014777  -0.00325542 ...  0.00224968  0.02335127\n",
      "  0.01597966]\n",
      "\n",
      "Wyniki: [(15, 0.14528365), (26, 0.29557374), (20, 0.3106899)]\n",
      "('Final evaluation of eTEN Programme', 'Końcowa ocena programu eTEN')\n",
      "('Czech Republic seeks to boost innovation', 'Czechy daza do wprowadzenia innowacji na szersza skale')\n",
      "('Nanotechnologies for drug delivery', 'Notechnologie w dozowaniu leków')\n"
     ]
    }
   ],
   "source": [
    "# 2. PL-EN\n",
    "query_pl = laser.embed_sentences(['końcowa ewaluacja'], lang='pl')[0]\n",
    "print(\"Wektor angielskiego zdania o wym. {}: {}\".format(query_pl.shape, query_pl))\n",
    "\n",
    "res = faiss_search(query_vec=query_pl, faiss_index=index_en, max_k = 3)\n",
    "print(\"\\nWyniki: {}\".format(res))\n",
    "for r in res:\n",
    "  print(title_pairs[r[0]])\n"
   ]
  }
 ],
 "metadata": {
  "accelerator": "GPU",
  "colab": {
   "authorship_tag": "ABX9TyNW8QD6cN0YPIXio4q+8stb",
   "collapsed_sections": [],
   "name": "la-search.ipynb",
   "provenance": []
  },
  "kernelspec": {
   "display_name": "Python 3",
   "language": "python",
   "name": "python3"
  },
  "language_info": {
   "codemirror_mode": {
    "name": "ipython",
    "version": 3
   },
   "file_extension": ".py",
   "mimetype": "text/x-python",
   "name": "python",
   "nbconvert_exporter": "python",
   "pygments_lexer": "ipython3",
   "version": "3.7.2"
  }
 },
 "nbformat": 4,
 "nbformat_minor": 1
}
