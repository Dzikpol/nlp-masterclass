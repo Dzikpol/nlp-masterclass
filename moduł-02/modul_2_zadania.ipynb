{
 "cells": [
  {
   "cell_type": "markdown",
   "metadata": {
    "id": "1DshGgUQCUau"
   },
   "source": [
    "## Moduł 2 - zadania"
   ]
  },
  {
   "cell_type": "code",
   "execution_count": null,
   "metadata": {
    "id": "NDlz6x6RCUav"
   },
   "outputs": [],
   "source": [
    "import pandas as pd\n",
    "import numpy as np"
   ]
  },
  {
   "cell_type": "markdown",
   "metadata": {
    "id": "jCHIiogRCUav"
   },
   "source": [
    "#### 1. Wczytaj dane z pliku `zadanie_modul_2.csv` do DataFrame'u `df` \n",
    "(lokalizacja pliku: https://raw.githubusercontent.com/sagespl/nlp-masterclass/main/modu%C5%82-02/zadanie_modul_2.csv)"
   ]
  },
  {
   "cell_type": "code",
   "execution_count": null,
   "metadata": {
    "id": "s12UcFLrCUav"
   },
   "outputs": [],
   "source": [
    "df = "
   ]
  },
  {
   "cell_type": "markdown",
   "metadata": {
    "id": "es5EMdoxCUav"
   },
   "source": [
    "#### 2. Wyświetl 4 pierwsze wiersze `df`"
   ]
  },
  {
   "cell_type": "code",
   "execution_count": null,
   "metadata": {
    "id": "_ifqZn7nCUav"
   },
   "outputs": [],
   "source": []
  },
  {
   "cell_type": "markdown",
   "metadata": {
    "id": "3XsVkMCJCUax"
   },
   "source": [
    "#### 3. Wyciągnij wartości `df` jako numpy array - wynik przypisz do zmiennej `vals`"
   ]
  },
  {
   "cell_type": "code",
   "execution_count": null,
   "metadata": {
    "id": "AQTFnYxeCUax"
   },
   "outputs": [],
   "source": [
    "vals = "
   ]
  },
  {
   "cell_type": "markdown",
   "metadata": {
    "id": "s9ZP--tvCUax"
   },
   "source": [
    "#### 4. Transponuj `vals` - wynik przypisz do zmiennej `vals_t`"
   ]
  },
  {
   "cell_type": "code",
   "execution_count": null,
   "metadata": {
    "id": "fQuH1soYCUax"
   },
   "outputs": [],
   "source": [
    "vals_t = "
   ]
  },
  {
   "cell_type": "markdown",
   "metadata": {
    "id": "5LuNLIUmCUax"
   },
   "source": [
    "#### 5. Na podstawie `vals_t` utworz DataFrame `df2` z kolumnami nazwanymi `x1,x2,...,xn` (skorzystaj z listy `col_names`)"
   ]
  },
  {
   "cell_type": "code",
   "execution_count": null,
   "metadata": {
    "id": "5lVaaK0HCUax"
   },
   "outputs": [],
   "source": [
    "col_names = [f\"x{x}\"for x in range(1, 10)]"
   ]
  },
  {
   "cell_type": "code",
   "execution_count": null,
   "metadata": {
    "id": "ld9gpYMsCUax"
   },
   "outputs": [],
   "source": [
    "df2 = "
   ]
  },
  {
   "cell_type": "markdown",
   "metadata": {
    "id": "8TXkQVaWCUax"
   },
   "source": [
    "#### 6. Do `df2` dodaj nową kolumnę `new` powstałą z połączenia kolumn od `x1` do `x5` (włącznie)"
   ]
  },
  {
   "cell_type": "code",
   "execution_count": null,
   "metadata": {
    "id": "xDaCnfmKCUax"
   },
   "outputs": [],
   "source": []
  },
  {
   "cell_type": "markdown",
   "metadata": {
    "id": "WKZ2mMISCUax"
   },
   "source": [
    "#### 7. Na podstawie kolumny `new` utworz array `arr` zawierający wartości powstałe w wyniku zsumowania code point'ów poszczególnych znaków"
   ]
  },
  {
   "cell_type": "code",
   "execution_count": null,
   "metadata": {
    "id": "MJ6eTsVhCUay"
   },
   "outputs": [],
   "source": [
    "arr = "
   ]
  },
  {
   "cell_type": "markdown",
   "metadata": {
    "id": "QlIvyAveCUay"
   },
   "source": [
    "#### Wykonaj poniższy kod"
   ]
  },
  {
   "cell_type": "code",
   "execution_count": null,
   "metadata": {
    "id": "Gb3GLwwDCUay"
   },
   "outputs": [],
   "source": [
    "arr2 = np.concatenate([arr, arr, arr, arr])"
   ]
  },
  {
   "cell_type": "markdown",
   "metadata": {
    "id": "ClxFbtZkCUay"
   },
   "source": [
    "#### 8. Utworz array `arr3` typu int64 składający się z 20 wartości od 1 do 20"
   ]
  },
  {
   "cell_type": "code",
   "execution_count": null,
   "metadata": {
    "id": "JL9e9_x7CUay"
   },
   "outputs": [],
   "source": [
    "arr3 = "
   ]
  },
  {
   "cell_type": "markdown",
   "metadata": {
    "id": "g5IfnE0PCUay"
   },
   "source": [
    "#### 9. Dodaj do siebie `arr2` i `arr3`, wynik przypisz do zmiennej `arr4`"
   ]
  },
  {
   "cell_type": "code",
   "execution_count": null,
   "metadata": {
    "id": "jmW96voKCUay"
   },
   "outputs": [],
   "source": [
    "arr4 = "
   ]
  },
  {
   "cell_type": "markdown",
   "metadata": {
    "id": "19xf9L40CUay"
   },
   "source": [
    "#### 10. Przekształć `arr4` do tensora 3d `arr3d` z 2 wierszami, 2 kolumnami i 5 warstwami"
   ]
  },
  {
   "cell_type": "code",
   "execution_count": null,
   "metadata": {
    "id": "yWsImI-GCUay"
   },
   "outputs": [],
   "source": [
    "arr3d = "
   ]
  },
  {
   "cell_type": "markdown",
   "metadata": {
    "id": "1LzX2XjsCUay"
   },
   "source": [
    "#### 11. Wyciągnij 2 kolumnę z 3 warstwy `arr3d`"
   ]
  },
  {
   "cell_type": "code",
   "execution_count": null,
   "metadata": {
    "id": "n2f8AicVCUay"
   },
   "outputs": [],
   "source": []
  },
  {
   "cell_type": "markdown",
   "metadata": {
    "id": "I-iIlOT3CUay"
   },
   "source": [
    "#### 12. Zsumuj wiersze w poszczegolnych warstwach `arr3d`"
   ]
  },
  {
   "cell_type": "code",
   "execution_count": null,
   "metadata": {
    "id": "UA_k7GMmCUay"
   },
   "outputs": [],
   "source": []
  },
  {
   "cell_type": "markdown",
   "metadata": {
    "id": "iaHYCRdlCUay"
   },
   "source": [
    "#### 13. Dodaj do siebie warstwy w `arr3d`"
   ]
  },
  {
   "cell_type": "code",
   "execution_count": null,
   "metadata": {
    "id": "IErW6CY0CUay"
   },
   "outputs": [],
   "source": []
  },
  {
   "cell_type": "markdown",
   "metadata": {
    "id": "YNcFOWA4CUay"
   },
   "source": [
    "#### 14. Wykonaj mnożenie macierzy na logarytmie macierzy z zadania 12 oraz kwadracie macierzy z zadania 13"
   ]
  },
  {
   "cell_type": "code",
   "execution_count": null,
   "metadata": {
    "id": "5dYV5jjVCUay"
   },
   "outputs": [],
   "source": []
  },
  {
   "cell_type": "markdown",
   "metadata": {
    "id": "6B-BbpwBCUaz"
   },
   "source": [
    "#### 15. Wynik zadania 14 wyświetl jako DataFrame"
   ]
  },
  {
   "cell_type": "code",
   "execution_count": null,
   "metadata": {
    "id": "UwCU0DgOCUaz"
   },
   "outputs": [],
   "source": []
  }
 ],
 "metadata": {
  "colab": {
   "name": "modul_2_zadania.ipynb",
   "provenance": []
  },
  "kernelspec": {
   "display_name": "Python 3",
   "language": "python",
   "name": "python3"
  },
  "language_info": {
   "codemirror_mode": {
    "name": "ipython",
    "version": 3
   },
   "file_extension": ".py",
   "mimetype": "text/x-python",
   "name": "python",
   "nbconvert_exporter": "python",
   "pygments_lexer": "ipython3",
   "version": "3.7.9"
  }
 },
 "nbformat": 4,
 "nbformat_minor": 1
}
