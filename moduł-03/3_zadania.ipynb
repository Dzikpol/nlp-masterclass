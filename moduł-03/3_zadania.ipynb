{
  "nbformat": 4,
  "nbformat_minor": 0,
  "metadata": {
    "colab": {
      "name": "3-zadania.ipynb",
      "provenance": [],
      "collapsed_sections": [
        "DTKjpADXI-JU"
      ],
      "toc_visible": true
    },
    "kernelspec": {
      "name": "python3",
      "display_name": "Python 3"
    }
  },
  "cells": [
    {
      "cell_type": "markdown",
      "metadata": {
        "id": "uGz5ifetInVS"
      },
      "source": [
        "# Przygotowanie"
      ]
    },
    {
      "cell_type": "markdown",
      "metadata": {
        "id": "DTKjpADXI-JU"
      },
      "source": [
        "## spaCy"
      ]
    },
    {
      "cell_type": "code",
      "metadata": {
        "colab": {
          "base_uri": "https://localhost:8080/"
        },
        "id": "Syf4vdDII1Rd",
        "outputId": "e417cf3e-6b72-44a8-bbff-19ac679ac6c4"
      },
      "source": [
        "!pip install spacy -U\n",
        "!python -m spacy download pl_core_news_sm\n",
        "!python -m spacy link pl_core_news_sm pl_core_news_sm -f\n",
        "import spacy\n",
        "nlp = spacy.load(\"pl_core_news_sm\")"
      ],
      "execution_count": null,
      "outputs": [
        {
          "output_type": "stream",
          "text": [
            "Requirement already up-to-date: spacy in /usr/local/lib/python3.6/dist-packages (2.3.4)\n",
            "Requirement already satisfied, skipping upgrade: preshed<3.1.0,>=3.0.2 in /usr/local/lib/python3.6/dist-packages (from spacy) (3.0.4)\n",
            "Requirement already satisfied, skipping upgrade: setuptools in /usr/local/lib/python3.6/dist-packages (from spacy) (50.3.2)\n",
            "Requirement already satisfied, skipping upgrade: plac<1.2.0,>=0.9.6 in /usr/local/lib/python3.6/dist-packages (from spacy) (1.1.3)\n",
            "Requirement already satisfied, skipping upgrade: cymem<2.1.0,>=2.0.2 in /usr/local/lib/python3.6/dist-packages (from spacy) (2.0.4)\n",
            "Requirement already satisfied, skipping upgrade: thinc<7.5.0,>=7.4.1 in /usr/local/lib/python3.6/dist-packages (from spacy) (7.4.3)\n",
            "Requirement already satisfied, skipping upgrade: wasabi<1.1.0,>=0.4.0 in /usr/local/lib/python3.6/dist-packages (from spacy) (0.8.0)\n",
            "Requirement already satisfied, skipping upgrade: blis<0.8.0,>=0.4.0; python_version >= \"3.6\" in /usr/local/lib/python3.6/dist-packages (from spacy) (0.4.1)\n",
            "Requirement already satisfied, skipping upgrade: requests<3.0.0,>=2.13.0 in /usr/local/lib/python3.6/dist-packages (from spacy) (2.23.0)\n",
            "Requirement already satisfied, skipping upgrade: murmurhash<1.1.0,>=0.28.0 in /usr/local/lib/python3.6/dist-packages (from spacy) (1.0.4)\n",
            "Requirement already satisfied, skipping upgrade: tqdm<5.0.0,>=4.38.0 in /usr/local/lib/python3.6/dist-packages (from spacy) (4.41.1)\n",
            "Requirement already satisfied, skipping upgrade: catalogue<1.1.0,>=0.0.7 in /usr/local/lib/python3.6/dist-packages (from spacy) (1.0.0)\n",
            "Requirement already satisfied, skipping upgrade: srsly<1.1.0,>=1.0.2 in /usr/local/lib/python3.6/dist-packages (from spacy) (1.0.4)\n",
            "Requirement already satisfied, skipping upgrade: numpy>=1.15.0 in /usr/local/lib/python3.6/dist-packages (from spacy) (1.18.5)\n",
            "Requirement already satisfied, skipping upgrade: certifi>=2017.4.17 in /usr/local/lib/python3.6/dist-packages (from requests<3.0.0,>=2.13.0->spacy) (2020.11.8)\n",
            "Requirement already satisfied, skipping upgrade: urllib3!=1.25.0,!=1.25.1,<1.26,>=1.21.1 in /usr/local/lib/python3.6/dist-packages (from requests<3.0.0,>=2.13.0->spacy) (1.24.3)\n",
            "Requirement already satisfied, skipping upgrade: idna<3,>=2.5 in /usr/local/lib/python3.6/dist-packages (from requests<3.0.0,>=2.13.0->spacy) (2.10)\n",
            "Requirement already satisfied, skipping upgrade: chardet<4,>=3.0.2 in /usr/local/lib/python3.6/dist-packages (from requests<3.0.0,>=2.13.0->spacy) (3.0.4)\n",
            "Requirement already satisfied, skipping upgrade: importlib-metadata>=0.20; python_version < \"3.8\" in /usr/local/lib/python3.6/dist-packages (from catalogue<1.1.0,>=0.0.7->spacy) (2.0.0)\n",
            "Requirement already satisfied, skipping upgrade: zipp>=0.5 in /usr/local/lib/python3.6/dist-packages (from importlib-metadata>=0.20; python_version < \"3.8\"->catalogue<1.1.0,>=0.0.7->spacy) (3.4.0)\n",
            "Requirement already satisfied: pl_core_news_sm==2.3.0 from https://github.com/explosion/spacy-models/releases/download/pl_core_news_sm-2.3.0/pl_core_news_sm-2.3.0.tar.gz#egg=pl_core_news_sm==2.3.0 in /usr/local/lib/python3.6/dist-packages (2.3.0)\n",
            "Requirement already satisfied: spacy<2.4.0,>=2.3.0 in /usr/local/lib/python3.6/dist-packages (from pl_core_news_sm==2.3.0) (2.3.4)\n",
            "Requirement already satisfied: srsly<1.1.0,>=1.0.2 in /usr/local/lib/python3.6/dist-packages (from spacy<2.4.0,>=2.3.0->pl_core_news_sm==2.3.0) (1.0.4)\n",
            "Requirement already satisfied: catalogue<1.1.0,>=0.0.7 in /usr/local/lib/python3.6/dist-packages (from spacy<2.4.0,>=2.3.0->pl_core_news_sm==2.3.0) (1.0.0)\n",
            "Requirement already satisfied: setuptools in /usr/local/lib/python3.6/dist-packages (from spacy<2.4.0,>=2.3.0->pl_core_news_sm==2.3.0) (50.3.2)\n",
            "Requirement already satisfied: murmurhash<1.1.0,>=0.28.0 in /usr/local/lib/python3.6/dist-packages (from spacy<2.4.0,>=2.3.0->pl_core_news_sm==2.3.0) (1.0.4)\n",
            "Requirement already satisfied: plac<1.2.0,>=0.9.6 in /usr/local/lib/python3.6/dist-packages (from spacy<2.4.0,>=2.3.0->pl_core_news_sm==2.3.0) (1.1.3)\n",
            "Requirement already satisfied: thinc<7.5.0,>=7.4.1 in /usr/local/lib/python3.6/dist-packages (from spacy<2.4.0,>=2.3.0->pl_core_news_sm==2.3.0) (7.4.3)\n",
            "Requirement already satisfied: cymem<2.1.0,>=2.0.2 in /usr/local/lib/python3.6/dist-packages (from spacy<2.4.0,>=2.3.0->pl_core_news_sm==2.3.0) (2.0.4)\n",
            "Requirement already satisfied: requests<3.0.0,>=2.13.0 in /usr/local/lib/python3.6/dist-packages (from spacy<2.4.0,>=2.3.0->pl_core_news_sm==2.3.0) (2.23.0)\n",
            "Requirement already satisfied: blis<0.8.0,>=0.4.0; python_version >= \"3.6\" in /usr/local/lib/python3.6/dist-packages (from spacy<2.4.0,>=2.3.0->pl_core_news_sm==2.3.0) (0.4.1)\n",
            "Requirement already satisfied: wasabi<1.1.0,>=0.4.0 in /usr/local/lib/python3.6/dist-packages (from spacy<2.4.0,>=2.3.0->pl_core_news_sm==2.3.0) (0.8.0)\n",
            "Requirement already satisfied: tqdm<5.0.0,>=4.38.0 in /usr/local/lib/python3.6/dist-packages (from spacy<2.4.0,>=2.3.0->pl_core_news_sm==2.3.0) (4.41.1)\n",
            "Requirement already satisfied: preshed<3.1.0,>=3.0.2 in /usr/local/lib/python3.6/dist-packages (from spacy<2.4.0,>=2.3.0->pl_core_news_sm==2.3.0) (3.0.4)\n",
            "Requirement already satisfied: numpy>=1.15.0 in /usr/local/lib/python3.6/dist-packages (from spacy<2.4.0,>=2.3.0->pl_core_news_sm==2.3.0) (1.18.5)\n",
            "Requirement already satisfied: importlib-metadata>=0.20; python_version < \"3.8\" in /usr/local/lib/python3.6/dist-packages (from catalogue<1.1.0,>=0.0.7->spacy<2.4.0,>=2.3.0->pl_core_news_sm==2.3.0) (2.0.0)\n",
            "Requirement already satisfied: chardet<4,>=3.0.2 in /usr/local/lib/python3.6/dist-packages (from requests<3.0.0,>=2.13.0->spacy<2.4.0,>=2.3.0->pl_core_news_sm==2.3.0) (3.0.4)\n",
            "Requirement already satisfied: certifi>=2017.4.17 in /usr/local/lib/python3.6/dist-packages (from requests<3.0.0,>=2.13.0->spacy<2.4.0,>=2.3.0->pl_core_news_sm==2.3.0) (2020.11.8)\n",
            "Requirement already satisfied: urllib3!=1.25.0,!=1.25.1,<1.26,>=1.21.1 in /usr/local/lib/python3.6/dist-packages (from requests<3.0.0,>=2.13.0->spacy<2.4.0,>=2.3.0->pl_core_news_sm==2.3.0) (1.24.3)\n",
            "Requirement already satisfied: idna<3,>=2.5 in /usr/local/lib/python3.6/dist-packages (from requests<3.0.0,>=2.13.0->spacy<2.4.0,>=2.3.0->pl_core_news_sm==2.3.0) (2.10)\n",
            "Requirement already satisfied: zipp>=0.5 in /usr/local/lib/python3.6/dist-packages (from importlib-metadata>=0.20; python_version < \"3.8\"->catalogue<1.1.0,>=0.0.7->spacy<2.4.0,>=2.3.0->pl_core_news_sm==2.3.0) (3.4.0)\n",
            "\u001b[38;5;2m✔ Download and installation successful\u001b[0m\n",
            "You can now load the model via spacy.load('pl_core_news_sm')\n",
            "\u001b[38;5;2m✔ Linking successful\u001b[0m\n",
            "/usr/local/lib/python3.6/dist-packages/pl_core_news_sm -->\n",
            "/usr/local/lib/python3.6/dist-packages/spacy/data/pl_core_news_sm\n",
            "You can now load the model via spacy.load('pl_core_news_sm')\n"
          ],
          "name": "stdout"
        }
      ]
    },
    {
      "cell_type": "markdown",
      "metadata": {
        "id": "lwm-gy8TJBQ6"
      },
      "source": [
        "## Dane"
      ]
    },
    {
      "cell_type": "markdown",
      "metadata": {
        "id": "Qw26aUHyigD1"
      },
      "source": [
        "Poniższy kod pobiera zbiór danych z konkursu BSNLP 2019 Shared Task. Zbiór zawiera teksty w j. polskim, czeskim, rosyjskim oraz bułgarskim. Do zadań zostaną użyte wyłącznie teksty w j. polskim.\n",
        "\n",
        "Dane zostaną wczytane do trzech zmiennych:\n",
        "* `files` — tablica z nazwami plików,\n",
        "* `urls` — tablica z adresami url,\n",
        "* `texts` — tablica z treścią dokumentów."
      ]
    },
    {
      "cell_type": "code",
      "metadata": {
        "colab": {
          "base_uri": "https://localhost:8080/"
        },
        "id": "12RlPiTAGe3R",
        "outputId": "72b4c5f6-d14b-462c-b5f9-4af37bf3f553"
      },
      "source": [
        "!wget http://bsnlp.cs.helsinki.fi/bsnlp-2019/TRAININGDATA_BSNLP_2019_shared_task.zip"
      ],
      "execution_count": null,
      "outputs": [
        {
          "output_type": "stream",
          "text": [
            "--2020-12-07 14:28:17--  http://bsnlp.cs.helsinki.fi/bsnlp-2019/TRAININGDATA_BSNLP_2019_shared_task.zip\n",
            "Resolving bsnlp.cs.helsinki.fi (bsnlp.cs.helsinki.fi)... 128.214.166.78\n",
            "Connecting to bsnlp.cs.helsinki.fi (bsnlp.cs.helsinki.fi)|128.214.166.78|:80... connected.\n",
            "HTTP request sent, awaiting response... 200 OK\n",
            "Length: 2268795 (2.2M) [application/zip]\n",
            "Saving to: ‘TRAININGDATA_BSNLP_2019_shared_task.zip.4’\n",
            "\n",
            "TRAININGDATA_BSNLP_ 100%[===================>]   2.16M  2.47MB/s    in 0.9s    \n",
            "\n",
            "2020-12-07 14:28:18 (2.47 MB/s) - ‘TRAININGDATA_BSNLP_2019_shared_task.zip.4’ saved [2268795/2268795]\n",
            "\n"
          ],
          "name": "stdout"
        }
      ]
    },
    {
      "cell_type": "code",
      "metadata": {
        "id": "N36jp5ZBGvr4"
      },
      "source": [
        "!unzip TRAININGDATA_BSNLP_2019_shared_task.zip"
      ],
      "execution_count": null,
      "outputs": []
    },
    {
      "cell_type": "code",
      "metadata": {
        "id": "TC_nKg93G3Yu",
        "colab": {
          "base_uri": "https://localhost:8080/"
        },
        "outputId": "f46b1518-cb89-4124-d475-e3000f409e5f"
      },
      "source": [
        "import glob\n",
        "import codecs\n",
        "\n",
        "files = []\n",
        "urls = []\n",
        "texts = []\n",
        "\n",
        "for line in glob.glob(\"training_pl_cs_ru_bg_rc1/raw/pl/*\"):\n",
        "  lines = codecs.open(line, \"r\", \"utf-8\").readlines()\n",
        "  urls.append(lines[3].strip())\n",
        "  texts.append(\" \".join(lines[6:]).strip())\n",
        "  files.append(line)\n",
        "\n",
        "print(files[0])\n",
        "print(urls[0])\n",
        "print(texts[0])"
      ],
      "execution_count": null,
      "outputs": [
        {
          "output_type": "stream",
          "text": [
            "training_pl_cs_ru_bg_rc1/raw/pl/brexit_pl.txt_file_1068.txt\n",
            "http://www.rp.pl/Biznes/303149876-Niemiecki-przemysl-chce-zachowac-zwiazki-z-Londynem.html\n",
            "Pomysł stworzenia unii celnej pojawił się w listach otwartych opublikowanych przez stowarzyszenie przemysłowe BDI oraz stowarzyszenie przemysłu budowy maszyn VDMA. Niezależnie od siebie argumentują one, że unia celna byłaby idealnym rozwiązaniem pozwalającym na uniknięcie chaosu związanego z brexitem.\n",
            " \n",
            " – Dla niemieckich spółek handel dobrami przemysłowymi bez ceł i kwot jest warunkiem minimalnym. Idealnie, gdyby się on odbywał wewnątrz unii celnej – uważa Joachim Lang, dyrektor BDI. VDMA argumentuje zaś, że brexit może doprowadzić do wzrostu kosztów niemieckiego importu do Wielkiej Brytanii. Stanie się tak m.in. dlatego, że po brexicie różnice między systemami prawnymi oraz systemami norm technicznych będą się z czasem pogłębiały. Nawet jeśli między UE a Wielką Brytanią zostanie zawarte porozumienie redukujące cła do zera, to niemieccy eksporterzy będą musieli mierzyć się z wieloma barierami. – Samo porozumienie handlowe będzie oznaczało kontrole graniczne i formalności celne, nawet jeśli obie strony zrezygnują z ceł. Unia celna sprawi zaś, że duża część horroru związanego z brexitem zniknie – wskazuje Thilo Brodtmann, dyrektor VDMA.\n",
            " \n",
            " Niemieckich przemysłowców niepokoi to, że niepewność związana z brexitem już negatywnie wpływa na handel. W zeszłym roku Wielka Brytania spadła na piąte miejsce wśród największych partnerów handlowych Niemiec. Jeszcze w 2016 r. była na trzeciej pozycji. Oświadczenia niemieckich organizacji przemysłowych są próbą skłonienia nowego rządu Angeli Merkel do przyjęcia korzystniejszego dla biznesu stanowiska w trwających negocjacjach na temat warunków brexitu. Kolejna tura tych negocjacji ma zacząć się w przyszłym tygodniu. Tymczasem Parlament Europejski przyjął w środę rezolucję zalecającą zawarcie układu stowarzyszeniowego między Wielką Brytanią a UE. Układ taki pozwoliłby m.in. na poszanowanie praw obywali państw UE mieszkających w Wielkiej Brytanii i obywateli brytyjskich mieszkających w UE. „Posłowie podkreślają, że bez względu na ostateczny kształt prawny ustaleń dotyczących przyszłych relacji będą one musiały uwzględniać integralność rynku wewnętrznego, unii celnej i czterech swobód i nie będą mogły stanowić podstawy do derogacji sektorowych. Konieczne jest zagwarantowanie niezależności procesu decyzyjnego i porządku prawnego UE, w tym roli ETS (Trybunału Sprawiedliwości Unii Europejskiej)\" – mówi komunikat Parlamentu Europejskiego. Oficjalnie UE dąży do tego, by pobrexitowe stosunki z Wielką Brytanią były ułożone według tzw. modelu norwerskiego. Norwegia należy do Europejskiego Obszaru Gospodarczego, współpracuje z Unią w dziedzinie spraw wewnętrznych i wymiaru sprawiedliwości, a przy tym przekazuje państwom Unii tzw. fundusze norweskie. Z dokumentów Komisji Europejskiej opublikowanych na początku roku przez „Daily Telegraph\" i „Financial Times\" wynika jednak, Bruksela tak naprawdę chcę porozumienia mniej korzystnego dla Brytyjczyków niż model norweski. Wielka Brytania jest bowiem zbyt dużą gospodarką, by pozwolić jej skorzystać z norweskich przywilejów. Zgodnie z wizją unijnych urzędników ma zostać zachowany wolny handel dobrami pomiędzy Wielką Brytania a UE. Przepływ usług ma zaś zostać ograniczony. Unijni urzędnicy chcą również, by Bruksela mogła w trakcie dwuletniego okresu przejściowego narzucać Londynowi swoją politykę regulacyjną. Dostęp brytyjskich firm do wspólnego rynku ma być jednostronnie blokowany, jeśli unijni decydenci uznają, że np. Brytyjczycy zbytnio poluzowali regulacje lub za bardzo obniżyli podatki.\n"
          ],
          "name": "stdout"
        }
      ]
    },
    {
      "cell_type": "markdown",
      "metadata": {
        "id": "yFiu9aoIIzfY"
      },
      "source": [
        "# Zadania"
      ]
    },
    {
      "cell_type": "markdown",
      "metadata": {
        "id": "8uauW4KFhWDx"
      },
      "source": [
        "## Zadanie nr 1"
      ]
    },
    {
      "cell_type": "markdown",
      "metadata": {
        "id": "ulLOu0FHhh2h"
      },
      "source": [
        "Wiedząc, że spaCy nie radzi sobie z tokenizacją nadmiarowych białych znaków, zaproponuj jak można wstępnie przygotować tekst do przetworzenia."
      ]
    },
    {
      "cell_type": "code",
      "metadata": {
        "colab": {
          "base_uri": "https://localhost:8080/"
        },
        "id": "G51wTy2Rh9XD",
        "outputId": "82e96cec-7c5c-4be6-ed4c-ee5c8cd70ddf"
      },
      "source": [
        "text =\"\"\"Ala  ma kota.\n",
        "Kot   jest   biały.\"\"\"\n",
        "\n",
        "for t in nlp(text):\n",
        "  print(f\"[{t}]\")"
      ],
      "execution_count": null,
      "outputs": [
        {
          "output_type": "stream",
          "text": [
            "[Ala]\n",
            "[ ]\n",
            "[ma]\n",
            "[kota]\n",
            "[.]\n",
            "[\n",
            "]\n",
            "[Kot]\n",
            "[  ]\n",
            "[jest]\n",
            "[  ]\n",
            "[biały]\n",
            "[.]\n"
          ],
          "name": "stdout"
        }
      ]
    },
    {
      "cell_type": "markdown",
      "metadata": {
        "id": "qA1KIchxiAH7"
      },
      "source": [
        "Oczekiwany wynik:\n",
        "\n",
        "```\n",
        "[Ala]\n",
        "[ma]\n",
        "[kota]\n",
        "[.]\n",
        "[Kot]\n",
        "[jest]\n",
        "[biały]\n",
        "[.]\n",
        "```"
      ]
    },
    {
      "cell_type": "markdown",
      "metadata": {
        "id": "SV8jMLhDV0f_"
      },
      "source": [
        "## Zadanie nr 2"
      ]
    },
    {
      "cell_type": "markdown",
      "metadata": {
        "id": "eehXe2LrYB2T"
      },
      "source": [
        "Wypisz 10 najczęstszych bigramów lematów składających się ze słów o długości nie mniejszej niż 4 znaki. Dla najczęstszego bigramu wypisz częstość wszystkich form tekstowych.\n",
        "\n",
        "Np. załóżmy że najczęstszym bigramem lematów będzie \"zielony drzewo\", a jego formy tekstowe to:\n",
        "* zielonego drzewa 10\n",
        "* zielonym drzewem 5"
      ]
    },
    {
      "cell_type": "markdown",
      "metadata": {
        "id": "d8MZb9UsWBme"
      },
      "source": [
        "## Zadanie nr 3"
      ]
    },
    {
      "cell_type": "markdown",
      "metadata": {
        "id": "7jGzZh20YA51"
      },
      "source": [
        "Znajdź w zbiorze parę dokumentów najbardziej podobnych do siebie. Dla pierwszego dokumentu z pary wypisz wszystkie zdania z przypisaniem następującej informacji:\n",
        "* `[=]` — zdanie występuje w drugim dokumencie,\n",
        "* `[~]` — zdanie jest podobne do jednego ze zdań w drugim dokumencie. Należy wypisać jakie to zdanie. Zdania są do siebie podobne, jeżeli odległość edycyjna między jednym i drugim zdaniem wynosi mniej niż 12 zgodnie z miarą Damerau-Levenhstein.\n",
        "* `[+]` — zdanie nie występuje w drugim dokumencie.\n",
        "\n",
        "**Przykład**\n",
        "\n",
        "Załóżmy, że te dwa dokumenty są do siebie najbardziej podobne:\n",
        "\n",
        "```\n",
        "doc1 = \"Ala ma kota. Kot jest czarny. Kot nazywa się mruczek.\"\n",
        "doc2 = \"Ala ma kota. Kot jest prawie czarny.\"\n",
        "```\n",
        "\n",
        "*Wynik:*\n",
        "\n",
        "```\n",
        "[=] Ala ma kota.\n",
        "[~] Kot jest czarny.\n",
        "    Kot jest prawie czarny.\n",
        "[+] Kot nazywa się mruczek.\n",
        "```\n",
        "\n"
      ]
    }
  ]
}