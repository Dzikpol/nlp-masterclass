{
  "nbformat": 4,
  "nbformat_minor": 0,
  "metadata": {
    "colab": {
      "name": "L3.2-stemming-i-lematyzacja.ipynb",
      "provenance": [],
      "collapsed_sections": [],
      "toc_visible": true
    },
    "kernelspec": {
      "name": "python3",
      "display_name": "Python 3"
    }
  },
  "cells": [
    {
      "cell_type": "markdown",
      "metadata": {
        "id": "-qtXB0RL2NYn"
      },
      "source": [
        "# Stemming i lematyzacja"
      ]
    },
    {
      "cell_type": "markdown",
      "metadata": {
        "id": "t9rA7m9-2Siz"
      },
      "source": [
        "## Wprowadzenie"
      ]
    },
    {
      "cell_type": "markdown",
      "metadata": {
        "id": "u87PRc4jfQBF"
      },
      "source": [
        "\n",
        "\n",
        "*   **stemming** — operacja polegająca na wyodrębnieniu rdzenia słowa poprzez odcięcie od formy tekstowej końcówki fleksyjnej, np.\n",
        "  * **brąz**owy, **brąz**owa, **brąz**owe => **brąz**,\n",
        "  * **farba**, **farb**y => **farba**,\n",
        "  * człowiek, ludzie => ?\n",
        "*   **lematyzacja** — operacja polegająca na sprowadzeniu słowa do formy bazowej, np.:\n",
        "  * brązowy, brązowa, brązowe => **brązowy**,\n",
        "  * farba, farby => **farba**,\n",
        "  * człowiek, ludzie => **człowiek**.\n",
        "\n",
        "\n"
      ]
    },
    {
      "cell_type": "markdown",
      "metadata": {
        "id": "qNTVLE_1Od0Z"
      },
      "source": [
        "## Stemming w NLTK (j. angielski)"
      ]
    },
    {
      "cell_type": "markdown",
      "metadata": {
        "id": "fa6UVAGLfw7n"
      },
      "source": [
        "\n",
        "\n",
        "*   **PorterStemmer** — implementacja algorytmu Portera z 1980, opera się na grupy reguł odcinania końcówek.\n",
        "*   **SnowballStemmer** — znana także jako Porter2, ulepszona wersja algorymtu Portera, stosuje bardziej agresywne reguły odcinania końcówek. Dostępny dla 15 języków (m.in. angielski, niemiecki, hiszpański). **Nie obsługuje j. polskiego**.\n",
        "\n"
      ]
    },
    {
      "cell_type": "markdown",
      "metadata": {
        "id": "6c4qf48ZiUQE"
      },
      "source": [
        "Przykład grupy reguł dla liczby mnogiej:\n",
        "  * `sses -> ss`,  np. `classes -> class`,\n",
        "  * `ies -> i`, np. `ponies -> poni`,\n",
        "  * `ss` -> `ss`, np. `caress -> caress`,\n",
        "  * `s -> `, np. `cats -> cat`,\n",
        "\n",
        "\n",
        "\n",
        "\n"
      ]
    },
    {
      "cell_type": "code",
      "metadata": {
        "id": "j81ycIYuvBSY"
      },
      "source": [
        "from nltk.stem import SnowballStemmer\n",
        "\n",
        "stemmer = SnowballStemmer(\"english\")"
      ],
      "execution_count": null,
      "outputs": []
    },
    {
      "cell_type": "code",
      "metadata": {
        "colab": {
          "base_uri": "https://localhost:8080/"
        },
        "id": "DPN7He-mwM-3",
        "outputId": "b7de92ca-d8fc-473f-f57b-994b6fcfa458"
      },
      "source": [
        "words = [\"connecting\", \"connects\", \"connection\", \"connected\"]\n",
        "\n",
        "print([stemmer.stem(word) for word in words])"
      ],
      "execution_count": null,
      "outputs": [
        {
          "output_type": "stream",
          "text": [
            "['connect', 'connect', 'connect', 'connect']\n"
          ],
          "name": "stdout"
        }
      ]
    },
    {
      "cell_type": "markdown",
      "metadata": {
        "id": "b0g5cpgo2Uud"
      },
      "source": [
        "## Lematyzacja w spaCy (j. polski)"
      ]
    },
    {
      "cell_type": "markdown",
      "metadata": {
        "id": "Y1_CW5txZUEl"
      },
      "source": [
        "### Przygotowanie\n",
        "\n",
        "*   Będziemy korzystać z modelu pl_core_news_sm\n",
        "*   Model wymaga spaCy w wersji 2.3"
      ]
    },
    {
      "cell_type": "code",
      "metadata": {
        "colab": {
          "base_uri": "https://localhost:8080/"
        },
        "id": "E8bSOcvg2aCZ",
        "outputId": "0a024e34-1738-471e-996c-8da30cdfed75"
      },
      "source": [
        "!pip install spacy -U"
      ],
      "execution_count": null,
      "outputs": [
        {
          "output_type": "stream",
          "text": [
            "Collecting spacy\n",
            "\u001b[?25l  Downloading https://files.pythonhosted.org/packages/50/b2/12466d3018bb84b039139ef76436ea7a01e98125c2aee6a81e527eb4ebe1/spacy-2.3.4-cp36-cp36m-manylinux2014_x86_64.whl (10.4MB)\n",
            "\u001b[K     |████████████████████████████████| 10.4MB 5.2MB/s \n",
            "\u001b[?25hRequirement already satisfied, skipping upgrade: cymem<2.1.0,>=2.0.2 in /usr/local/lib/python3.6/dist-packages (from spacy) (2.0.4)\n",
            "Requirement already satisfied, skipping upgrade: wasabi<1.1.0,>=0.4.0 in /usr/local/lib/python3.6/dist-packages (from spacy) (0.8.0)\n",
            "Requirement already satisfied, skipping upgrade: catalogue<1.1.0,>=0.0.7 in /usr/local/lib/python3.6/dist-packages (from spacy) (1.0.0)\n",
            "Requirement already satisfied, skipping upgrade: setuptools in /usr/local/lib/python3.6/dist-packages (from spacy) (50.3.2)\n",
            "Requirement already satisfied, skipping upgrade: requests<3.0.0,>=2.13.0 in /usr/local/lib/python3.6/dist-packages (from spacy) (2.23.0)\n",
            "Requirement already satisfied, skipping upgrade: numpy>=1.15.0 in /usr/local/lib/python3.6/dist-packages (from spacy) (1.18.5)\n",
            "Collecting thinc<7.5.0,>=7.4.1\n",
            "\u001b[?25l  Downloading https://files.pythonhosted.org/packages/1b/c9/ce2e03720a5647fd90da575325376ff258653a05f357aa970fd87e6c1a55/thinc-7.4.3-cp36-cp36m-manylinux2014_x86_64.whl (1.1MB)\n",
            "\u001b[K     |████████████████████████████████| 1.1MB 47.0MB/s \n",
            "\u001b[?25hRequirement already satisfied, skipping upgrade: plac<1.2.0,>=0.9.6 in /usr/local/lib/python3.6/dist-packages (from spacy) (1.1.3)\n",
            "Requirement already satisfied, skipping upgrade: srsly<1.1.0,>=1.0.2 in /usr/local/lib/python3.6/dist-packages (from spacy) (1.0.4)\n",
            "Requirement already satisfied, skipping upgrade: blis<0.8.0,>=0.4.0; python_version >= \"3.6\" in /usr/local/lib/python3.6/dist-packages (from spacy) (0.4.1)\n",
            "Requirement already satisfied, skipping upgrade: murmurhash<1.1.0,>=0.28.0 in /usr/local/lib/python3.6/dist-packages (from spacy) (1.0.4)\n",
            "Requirement already satisfied, skipping upgrade: tqdm<5.0.0,>=4.38.0 in /usr/local/lib/python3.6/dist-packages (from spacy) (4.41.1)\n",
            "Requirement already satisfied, skipping upgrade: preshed<3.1.0,>=3.0.2 in /usr/local/lib/python3.6/dist-packages (from spacy) (3.0.4)\n",
            "Requirement already satisfied, skipping upgrade: importlib-metadata>=0.20; python_version < \"3.8\" in /usr/local/lib/python3.6/dist-packages (from catalogue<1.1.0,>=0.0.7->spacy) (2.0.0)\n",
            "Requirement already satisfied, skipping upgrade: certifi>=2017.4.17 in /usr/local/lib/python3.6/dist-packages (from requests<3.0.0,>=2.13.0->spacy) (2020.11.8)\n",
            "Requirement already satisfied, skipping upgrade: urllib3!=1.25.0,!=1.25.1,<1.26,>=1.21.1 in /usr/local/lib/python3.6/dist-packages (from requests<3.0.0,>=2.13.0->spacy) (1.24.3)\n",
            "Requirement already satisfied, skipping upgrade: idna<3,>=2.5 in /usr/local/lib/python3.6/dist-packages (from requests<3.0.0,>=2.13.0->spacy) (2.10)\n",
            "Requirement already satisfied, skipping upgrade: chardet<4,>=3.0.2 in /usr/local/lib/python3.6/dist-packages (from requests<3.0.0,>=2.13.0->spacy) (3.0.4)\n",
            "Requirement already satisfied, skipping upgrade: zipp>=0.5 in /usr/local/lib/python3.6/dist-packages (from importlib-metadata>=0.20; python_version < \"3.8\"->catalogue<1.1.0,>=0.0.7->spacy) (3.4.0)\n",
            "Installing collected packages: thinc, spacy\n",
            "  Found existing installation: thinc 7.4.0\n",
            "    Uninstalling thinc-7.4.0:\n",
            "      Successfully uninstalled thinc-7.4.0\n",
            "  Found existing installation: spacy 2.2.4\n",
            "    Uninstalling spacy-2.2.4:\n",
            "      Successfully uninstalled spacy-2.2.4\n",
            "Successfully installed spacy-2.3.4 thinc-7.4.3\n"
          ],
          "name": "stdout"
        }
      ]
    },
    {
      "cell_type": "code",
      "metadata": {
        "colab": {
          "base_uri": "https://localhost:8080/"
        },
        "id": "6AYFkgj_2cgq",
        "outputId": "6d8c190c-b330-424a-c0e2-2a1c250681d1"
      },
      "source": [
        "!python -m spacy download pl_core_news_sm\n",
        "!python -m spacy link pl_core_news_sm pl_core_news_sm -f"
      ],
      "execution_count": null,
      "outputs": [
        {
          "output_type": "stream",
          "text": [
            "Collecting pl_core_news_sm==2.3.0\n",
            "\u001b[?25l  Downloading https://github.com/explosion/spacy-models/releases/download/pl_core_news_sm-2.3.0/pl_core_news_sm-2.3.0.tar.gz (48.7MB)\n",
            "\u001b[K     |████████████████████████████████| 48.7MB 93.2MB/s \n",
            "\u001b[?25hRequirement already satisfied: spacy<2.4.0,>=2.3.0 in /usr/local/lib/python3.6/dist-packages (from pl_core_news_sm==2.3.0) (2.3.4)\n",
            "Requirement already satisfied: plac<1.2.0,>=0.9.6 in /usr/local/lib/python3.6/dist-packages (from spacy<2.4.0,>=2.3.0->pl_core_news_sm==2.3.0) (1.1.3)\n",
            "Requirement already satisfied: murmurhash<1.1.0,>=0.28.0 in /usr/local/lib/python3.6/dist-packages (from spacy<2.4.0,>=2.3.0->pl_core_news_sm==2.3.0) (1.0.4)\n",
            "Requirement already satisfied: blis<0.8.0,>=0.4.0; python_version >= \"3.6\" in /usr/local/lib/python3.6/dist-packages (from spacy<2.4.0,>=2.3.0->pl_core_news_sm==2.3.0) (0.4.1)\n",
            "Requirement already satisfied: preshed<3.1.0,>=3.0.2 in /usr/local/lib/python3.6/dist-packages (from spacy<2.4.0,>=2.3.0->pl_core_news_sm==2.3.0) (3.0.4)\n",
            "Requirement already satisfied: setuptools in /usr/local/lib/python3.6/dist-packages (from spacy<2.4.0,>=2.3.0->pl_core_news_sm==2.3.0) (50.3.2)\n",
            "Requirement already satisfied: cymem<2.1.0,>=2.0.2 in /usr/local/lib/python3.6/dist-packages (from spacy<2.4.0,>=2.3.0->pl_core_news_sm==2.3.0) (2.0.4)\n",
            "Requirement already satisfied: catalogue<1.1.0,>=0.0.7 in /usr/local/lib/python3.6/dist-packages (from spacy<2.4.0,>=2.3.0->pl_core_news_sm==2.3.0) (1.0.0)\n",
            "Requirement already satisfied: srsly<1.1.0,>=1.0.2 in /usr/local/lib/python3.6/dist-packages (from spacy<2.4.0,>=2.3.0->pl_core_news_sm==2.3.0) (1.0.4)\n",
            "Requirement already satisfied: numpy>=1.15.0 in /usr/local/lib/python3.6/dist-packages (from spacy<2.4.0,>=2.3.0->pl_core_news_sm==2.3.0) (1.18.5)\n",
            "Requirement already satisfied: wasabi<1.1.0,>=0.4.0 in /usr/local/lib/python3.6/dist-packages (from spacy<2.4.0,>=2.3.0->pl_core_news_sm==2.3.0) (0.8.0)\n",
            "Requirement already satisfied: thinc<7.5.0,>=7.4.1 in /usr/local/lib/python3.6/dist-packages (from spacy<2.4.0,>=2.3.0->pl_core_news_sm==2.3.0) (7.4.3)\n",
            "Requirement already satisfied: requests<3.0.0,>=2.13.0 in /usr/local/lib/python3.6/dist-packages (from spacy<2.4.0,>=2.3.0->pl_core_news_sm==2.3.0) (2.23.0)\n",
            "Requirement already satisfied: tqdm<5.0.0,>=4.38.0 in /usr/local/lib/python3.6/dist-packages (from spacy<2.4.0,>=2.3.0->pl_core_news_sm==2.3.0) (4.41.1)\n",
            "Requirement already satisfied: importlib-metadata>=0.20; python_version < \"3.8\" in /usr/local/lib/python3.6/dist-packages (from catalogue<1.1.0,>=0.0.7->spacy<2.4.0,>=2.3.0->pl_core_news_sm==2.3.0) (2.0.0)\n",
            "Requirement already satisfied: idna<3,>=2.5 in /usr/local/lib/python3.6/dist-packages (from requests<3.0.0,>=2.13.0->spacy<2.4.0,>=2.3.0->pl_core_news_sm==2.3.0) (2.10)\n",
            "Requirement already satisfied: urllib3!=1.25.0,!=1.25.1,<1.26,>=1.21.1 in /usr/local/lib/python3.6/dist-packages (from requests<3.0.0,>=2.13.0->spacy<2.4.0,>=2.3.0->pl_core_news_sm==2.3.0) (1.24.3)\n",
            "Requirement already satisfied: chardet<4,>=3.0.2 in /usr/local/lib/python3.6/dist-packages (from requests<3.0.0,>=2.13.0->spacy<2.4.0,>=2.3.0->pl_core_news_sm==2.3.0) (3.0.4)\n",
            "Requirement already satisfied: certifi>=2017.4.17 in /usr/local/lib/python3.6/dist-packages (from requests<3.0.0,>=2.13.0->spacy<2.4.0,>=2.3.0->pl_core_news_sm==2.3.0) (2020.11.8)\n",
            "Requirement already satisfied: zipp>=0.5 in /usr/local/lib/python3.6/dist-packages (from importlib-metadata>=0.20; python_version < \"3.8\"->catalogue<1.1.0,>=0.0.7->spacy<2.4.0,>=2.3.0->pl_core_news_sm==2.3.0) (3.4.0)\n",
            "Building wheels for collected packages: pl-core-news-sm\n",
            "  Building wheel for pl-core-news-sm (setup.py) ... \u001b[?25l\u001b[?25hdone\n",
            "  Created wheel for pl-core-news-sm: filename=pl_core_news_sm-2.3.0-cp36-none-any.whl size=48719489 sha256=0e1a70814f20edec182c53bddc5a53e74123ac05f37eaba173750d72d7a3ff92\n",
            "  Stored in directory: /tmp/pip-ephem-wheel-cache-r418c96b/wheels/ce/7a/53/aab09c53056da9fefa67b44d57202e9bd556825e12ca89fff1\n",
            "Successfully built pl-core-news-sm\n",
            "Installing collected packages: pl-core-news-sm\n",
            "Successfully installed pl-core-news-sm-2.3.0\n",
            "\u001b[38;5;2m✔ Download and installation successful\u001b[0m\n",
            "You can now load the model via spacy.load('pl_core_news_sm')\n",
            "\u001b[38;5;2m✔ Linking successful\u001b[0m\n",
            "/usr/local/lib/python3.6/dist-packages/pl_core_news_sm -->\n",
            "/usr/local/lib/python3.6/dist-packages/spacy/data/pl_core_news_sm\n",
            "You can now load the model via spacy.load('pl_core_news_sm')\n"
          ],
          "name": "stdout"
        }
      ]
    },
    {
      "cell_type": "code",
      "metadata": {
        "id": "3YMQfg3j23xn"
      },
      "source": [
        "import spacy\n",
        "nlp = spacy.load(\"pl_core_news_sm\")"
      ],
      "execution_count": null,
      "outputs": []
    },
    {
      "cell_type": "markdown",
      "metadata": {
        "id": "iVRKiABjZqI8"
      },
      "source": [
        "### Przykłady"
      ]
    },
    {
      "cell_type": "code",
      "metadata": {
        "colab": {
          "base_uri": "https://localhost:8080/"
        },
        "id": "KDbTGLwFy3Xr",
        "outputId": "593f7c93-7ea5-47d6-8bb2-26b9ceb66d47"
      },
      "source": [
        "doc = nlp(\"jadę jedziemy jedziesz jedziecie\")\n",
        "\n",
        "for t in doc:\n",
        "  print(f\"{t.text:<10} => {t.lemma_:<10}\")"
      ],
      "execution_count": null,
      "outputs": [
        {
          "output_type": "stream",
          "text": [
            "jadę       => jechać    \n",
            "jedziemy   => jechać    \n",
            "jedziesz   => jechać    \n",
            "jedziecie  => jedziecie \n"
          ],
          "name": "stdout"
        }
      ]
    },
    {
      "cell_type": "code",
      "metadata": {
        "colab": {
          "base_uri": "https://localhost:8080/"
        },
        "id": "CZK77LS60t9V",
        "outputId": "829a2d7c-e977-4697-e7a4-fa4fdf4b8621"
      },
      "source": [
        "doc = nlp(\"Dokąd jedziecie w najbliższy weekend?\")\n",
        "\n",
        "for t in doc:\n",
        "  print(f\"{t.text:<10} => {t.lemma_:<10}\")"
      ],
      "execution_count": null,
      "outputs": [
        {
          "output_type": "stream",
          "text": [
            "Dokąd      => dokąd     \n",
            "jedziecie  => jechać    \n",
            "w          => w         \n",
            "najbliższy => bliski    \n",
            "weekend    => weekend   \n",
            "?          => ?         \n"
          ],
          "name": "stdout"
        }
      ]
    },
    {
      "cell_type": "code",
      "metadata": {
        "colab": {
          "base_uri": "https://localhost:8080/"
        },
        "id": "0hHOvqhd6NDf",
        "outputId": "07453f2a-335b-4ebd-8b0d-10c6e01e9bc7"
      },
      "source": [
        "doc = nlp(\"Mamy kwiaty dla mamy.\")\n",
        "\n",
        "for t in doc:\n",
        "  print(f\"{t.text:<10} => {t.lemma_:<10}\")"
      ],
      "execution_count": null,
      "outputs": [
        {
          "output_type": "stream",
          "text": [
            "Mamy       => mieć      \n",
            "kwiaty     => kwiat     \n",
            "dla        => dla       \n",
            "mamy       => mama      \n",
            ".          => .         \n"
          ],
          "name": "stdout"
        }
      ]
    },
    {
      "cell_type": "code",
      "metadata": {
        "colab": {
          "base_uri": "https://localhost:8080/"
        },
        "id": "TWgWhSx4Z55W",
        "outputId": "b05dc78f-c817-432c-c145-49051026cfdd"
      },
      "source": [
        "doc = nlp(\"Na przystanku stali ludzie.\")\n",
        "\n",
        "for t in doc:\n",
        "  print(f\"{t.text:<10} => {t.lemma_:<10}\")"
      ],
      "execution_count": null,
      "outputs": [
        {
          "output_type": "stream",
          "text": [
            "Na         => na        \n",
            "przystanku => przystanek\n",
            "stali      => stać      \n",
            "ludzie     => lud       \n",
            ".          => .         \n"
          ],
          "name": "stdout"
        }
      ]
    },
    {
      "cell_type": "code",
      "metadata": {
        "colab": {
          "base_uri": "https://localhost:8080/"
        },
        "id": "iuqqTnPP3pzS",
        "outputId": "0bb5363e-8429-4b06-aaec-32011ab9748b"
      },
      "source": [
        "for t in nlp(\"liśćmi liście liscie\"):\n",
        "  print(f\"{t.orth_:<8} => {t.lemma_:<8}\")"
      ],
      "execution_count": null,
      "outputs": [
        {
          "output_type": "stream",
          "text": [
            "liśćmi   => liść    \n",
            "liście   => liść    \n",
            "liscie   => liscie  \n"
          ],
          "name": "stdout"
        }
      ]
    },
    {
      "cell_type": "markdown",
      "metadata": {
        "id": "CrLV0hpj1SZm"
      },
      "source": [
        "### Lematyzacja, a potok przetwarzania"
      ]
    },
    {
      "cell_type": "markdown",
      "metadata": {
        "id": "M-QL7Sz63DWi"
      },
      "source": [
        "![image.png](data:image/png;base64,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)"
      ]
    },
    {
      "cell_type": "code",
      "metadata": {
        "colab": {
          "base_uri": "https://localhost:8080/"
        },
        "id": "5iZ_Tuh33SgY",
        "outputId": "af984ad9-7d4b-4bd9-e26e-1dc4abc99f06"
      },
      "source": [
        "doc = nlp(\"Mamy kwiaty dla mamy.\", disable=[\"tagger\", \"parser\", \"ner\"])\n",
        "\n",
        "for t in doc:\n",
        "  print(f\"{t.text:<10} => {t.lemma_:<10}\")"
      ],
      "execution_count": null,
      "outputs": [
        {
          "output_type": "stream",
          "text": [
            "Mamy       => mamy      \n",
            "kwiaty     => kwiaty    \n",
            "dla        => dla       \n",
            "mamy       => mamy      \n",
            ".          => .         \n"
          ],
          "name": "stdout"
        }
      ]
    },
    {
      "cell_type": "code",
      "metadata": {
        "colab": {
          "base_uri": "https://localhost:8080/"
        },
        "id": "mCdmZkEO3Wn5",
        "outputId": "ef648505-9502-40d2-9105-64069e171fcb"
      },
      "source": [
        "doc = nlp(\"Mamy kwiaty dla mamy.\", disable=[\"parser\", \"ner\"])\n",
        "\n",
        "for t in doc:\n",
        "  print(f\"{t.text:<10} => {t.lemma_:<10}\")"
      ],
      "execution_count": null,
      "outputs": [
        {
          "output_type": "stream",
          "text": [
            "Mamy       => mieć      \n",
            "kwiaty     => kwiat     \n",
            "dla        => dla       \n",
            "mamy       => mama      \n",
            ".          => .         \n"
          ],
          "name": "stdout"
        }
      ]
    },
    {
      "cell_type": "markdown",
      "metadata": {
        "id": "-RPclccq3sfv"
      },
      "source": [
        "### Procedura lematyzacji"
      ]
    },
    {
      "cell_type": "markdown",
      "metadata": {
        "id": "kw-0VB2z305a"
      },
      "source": [
        "1.   Model wykorzystuje słowniki lematów podzielone na klasy gramatyczne — uproszczona postać słownika morfologicznego Morfeusz SGJP (http://morfeusz.sgjp.pl).\n",
        "2.   Moduł `tagger` określa klasę gramatyczną dla słowa (VERB, NOUN, ADJ, itd)\n",
        "3.   Lematyzator sprawdza, czy w słowniku dla danej klasy gramatycznej istnieje określona forma tekstowa. Jeżeli tak, to zostaje przypisany lemat ze słownika. Jeżeli nie, to zostaje przypisana forma tekstowa przekształcona do małych liter.\n",
        "\n"
      ]
    },
    {
      "cell_type": "code",
      "metadata": {
        "colab": {
          "base_uri": "https://localhost:8080/"
        },
        "id": "C8BJzoWS5uK2",
        "outputId": "205c29c5-73d3-463d-ddd0-d6b752e3ca46"
      },
      "source": [
        "doc = nlp(\"Mamy kwiaty dla mamy.\", disable=[\"parser\", \"ner\"])\n",
        "\n",
        "for t in doc:\n",
        "  print(f\"{t.text:<10} => {t.pos_:<8} => {t.lemma_:<10}\")"
      ],
      "execution_count": null,
      "outputs": [
        {
          "output_type": "stream",
          "text": [
            "Mamy       => VERB     => mieć      \n",
            "kwiaty     => NOUN     => kwiat     \n",
            "dla        => ADP      => dla       \n",
            "mamy       => NOUN     => mama      \n",
            ".          => PUNCT    => .         \n"
          ],
          "name": "stdout"
        }
      ]
    },
    {
      "cell_type": "code",
      "metadata": {
        "colab": {
          "base_uri": "https://localhost:8080/"
        },
        "id": "q8HO09Ku6BNw",
        "outputId": "a82a87dc-ff40-436b-b0c1-aff987975078"
      },
      "source": [
        "doc = nlp(\"Na przystanku stali ludzie.\")\n",
        "\n",
        "for t in doc:\n",
        "  print(f\"{t.text:<10} => {t.pos_:<8} => {t.lemma_:<10}\")"
      ],
      "execution_count": null,
      "outputs": [
        {
          "output_type": "stream",
          "text": [
            "Na         => ADP      => na        \n",
            "przystanku => NOUN     => przystanek\n",
            "stali      => VERB     => stać      \n",
            "ludzie     => NOUN     => lud       \n",
            ".          => PUNCT    => .         \n"
          ],
          "name": "stdout"
        }
      ]
    },
    {
      "cell_type": "markdown",
      "metadata": {
        "id": "6FYcU8iJ65AQ"
      },
      "source": [
        "Interpretacje słowa `ludzie` w słowniku Morfeusz SGJP (http://morfeusz.sgjp.pl/demo/)."
      ]
    },
    {
      "cell_type": "markdown",
      "metadata": {
        "id": "kZG0IoZg6sK1"
      },
      "source": [
        "![image.png](data:image/png;base64,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)"
      ]
    },
    {
      "cell_type": "markdown",
      "metadata": {
        "id": "XHk0hPJ97EBg"
      },
      "source": [
        "Pełne znaczniki morfologiczne zostały wykorzystane w modelu IPI."
      ]
    },
    {
      "cell_type": "markdown",
      "metadata": {
        "id": "52ofm5M1kIS3"
      },
      "source": [
        "## Podsumowanie"
      ]
    },
    {
      "cell_type": "markdown",
      "metadata": {
        "id": "UFH-k-h6kKqG"
      },
      "source": [
        "\n",
        "\n",
        "1.   **Stemming** i **lematyzacja** pozwalają na redukcję różnorodności form tekstowych — różne formy fleksyjne tego samego słowa sprowadzane są do tej samej postaci.\n",
        "2.   **Stemming** polega na wydrębnieniu ze słowa jego rdzenia, a **lematyzacja** polega na sprowadzeniu słowa do formy bazowej.\n",
        "3.   Lematyzacja w spaCy dla j. polskiego:\n",
        "  *   Lematyzator wykorzystuje wynik modułu `tagger` oraz uproszczoną postać słownika morfologicznego Morfeusz SGJP.\n",
        "  *   Dla słów, które nie zostaną odnalezione w słowniku, jako lemat przypisywana jest forma tekstowa sprowadzona do małych liter.\n",
        "  *   Uproszczona reprezentacja słownika morfologicznego powoduje, że modele j. polskiego z oficjalnego repozytorium spaCy nie poradzą sobie z rozsztrzygnięciem między różnymi interpretacjami słowa w obrębie klasy gramatycznej (przykład ze słowem `ludzie`).\n",
        "\n",
        "\n",
        "\n",
        "\n"
      ]
    }
  ]
}