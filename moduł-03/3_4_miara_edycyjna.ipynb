{
  "nbformat": 4,
  "nbformat_minor": 0,
  "metadata": {
    "colab": {
      "name": "L3.4-miara edycyjna.ipynb",
      "provenance": [],
      "collapsed_sections": [],
      "toc_visible": true
    },
    "kernelspec": {
      "name": "python3",
      "display_name": "Python 3"
    }
  },
  "cells": [
    {
      "cell_type": "markdown",
      "metadata": {
        "id": "fPyEtc7AA4Fv"
      },
      "source": [
        "# Miary edycyjne"
      ]
    },
    {
      "cell_type": "markdown",
      "metadata": {
        "id": "331IWdajA7ZY"
      },
      "source": [
        "## Wprowadzenie"
      ]
    },
    {
      "cell_type": "markdown",
      "metadata": {
        "id": "1SwNfqGEyike"
      },
      "source": [
        "**Miary edycyjne** służą do porównywania napisów. Za ich pomocą można wyliczyć, na ile dwa napisy są do siebie podobne (podobieństwo) lub różne od siebie (odległość). Miary edycyjne określają, ile operacji edycyjnych (usunięcie, dodanie, zamiana) należy wykonać na jednym napisie, aby przekształcić go w drugi napis.\n",
        "\n",
        "**Zastosowanie:** rozmyte dopasowanie (wyszukiwanie) tekstu, które dopuszcza określony stopień odstępsta od poszukiwanego wzorca, np. dla frazy *covid-19* możemy znaleźć: *covid19*, *covidu*, *covidem*, a nawet *kowid-19*.\n",
        "\n"
      ]
    },
    {
      "cell_type": "markdown",
      "metadata": {
        "id": "r0xSUbEwGisE"
      },
      "source": [
        "## Przygotowanie"
      ]
    },
    {
      "cell_type": "markdown",
      "metadata": {
        "id": "FYE7INJpGmfx"
      },
      "source": [
        "Biblioteka `jellyfish`"
      ]
    },
    {
      "cell_type": "code",
      "metadata": {
        "colab": {
          "base_uri": "https://localhost:8080/"
        },
        "id": "mXwu5PK0ciN7",
        "outputId": "24c68abb-79be-4d23-d474-0fc010069e30"
      },
      "source": [
        "!pip install jellyfish\n",
        "import jellyfish"
      ],
      "execution_count": 1,
      "outputs": [
        {
          "output_type": "stream",
          "text": [
            "Collecting jellyfish\n",
            "\u001b[?25l  Downloading https://files.pythonhosted.org/packages/6c/09/927ae35fc5a9f70abb6cc2c27ee88fc48549f7bc4786c1d4b177c22e997d/jellyfish-0.8.2-cp36-cp36m-manylinux2014_x86_64.whl (93kB)\n",
            "\r\u001b[K     |███▌                            | 10kB 15.6MB/s eta 0:00:01\r\u001b[K     |███████                         | 20kB 20.5MB/s eta 0:00:01\r\u001b[K     |██████████▌                     | 30kB 16.6MB/s eta 0:00:01\r\u001b[K     |██████████████                  | 40kB 10.7MB/s eta 0:00:01\r\u001b[K     |█████████████████▌              | 51kB 7.4MB/s eta 0:00:01\r\u001b[K     |█████████████████████           | 61kB 8.1MB/s eta 0:00:01\r\u001b[K     |████████████████████████▌       | 71kB 7.7MB/s eta 0:00:01\r\u001b[K     |████████████████████████████    | 81kB 7.9MB/s eta 0:00:01\r\u001b[K     |███████████████████████████████▌| 92kB 8.5MB/s eta 0:00:01\r\u001b[K     |████████████████████████████████| 102kB 5.6MB/s \n",
            "\u001b[?25hInstalling collected packages: jellyfish\n",
            "Successfully installed jellyfish-0.8.2\n"
          ],
          "name": "stdout"
        }
      ]
    },
    {
      "cell_type": "markdown",
      "metadata": {
        "id": "krLQ71mFGryx"
      },
      "source": [
        "## Przegląd miar"
      ]
    },
    {
      "cell_type": "markdown",
      "metadata": {
        "id": "j2CujViFo1Xd"
      },
      "source": [
        "### Hamming"
      ]
    },
    {
      "cell_type": "markdown",
      "metadata": {
        "id": "de7DmsAVo4N-"
      },
      "source": [
        "*   stosuje się do napisów o tej samej długości,\n",
        "*   miara oznacza liczbę pozycji, na których dwa ciągi są różne.\n",
        "\n"
      ]
    },
    {
      "cell_type": "code",
      "metadata": {
        "colab": {
          "base_uri": "https://localhost:8080/"
        },
        "id": "m55gL2J5B-Ww",
        "outputId": "1c8341e4-12b7-4e78-dc49-ccf5eb550f76"
      },
      "source": [
        "jellyfish.hamming_distance('kłódka', 'klodka')"
      ],
      "execution_count": 2,
      "outputs": [
        {
          "output_type": "execute_result",
          "data": {
            "text/plain": [
              "2"
            ]
          },
          "metadata": {
            "tags": []
          },
          "execution_count": 2
        }
      ]
    },
    {
      "cell_type": "markdown",
      "metadata": {
        "id": "TeY3-MaL0wUd"
      },
      "source": [
        "\n",
        "\n",
        "```\n",
        "kłódka\n",
        "klodka\n",
        "-^^---\n",
        " 11   = 2\n",
        "```\n",
        "\n"
      ]
    },
    {
      "cell_type": "code",
      "metadata": {
        "colab": {
          "base_uri": "https://localhost:8080/"
        },
        "id": "mhudlUaez1L0",
        "outputId": "5b638525-cfc9-44e6-c228-7a705b891a36"
      },
      "source": [
        "jellyfish.hamming_distance('kłódka', 'kłódk')"
      ],
      "execution_count": 3,
      "outputs": [
        {
          "output_type": "execute_result",
          "data": {
            "text/plain": [
              "1"
            ]
          },
          "metadata": {
            "tags": []
          },
          "execution_count": 3
        }
      ]
    },
    {
      "cell_type": "markdown",
      "metadata": {
        "id": "8vE3k3EB2N4j"
      },
      "source": [
        "```\n",
        "kłódka\n",
        "kłódk_\n",
        "-----^\n",
        "     1 = 1\n",
        "```"
      ]
    },
    {
      "cell_type": "code",
      "metadata": {
        "colab": {
          "base_uri": "https://localhost:8080/"
        },
        "id": "azZ-SRzv1BYB",
        "outputId": "77d6b0b6-d5b5-4226-8fad-d9879783f7c4"
      },
      "source": [
        "jellyfish.hamming_distance('kłódka', 'łódka')"
      ],
      "execution_count": 4,
      "outputs": [
        {
          "output_type": "execute_result",
          "data": {
            "text/plain": [
              "6"
            ]
          },
          "metadata": {
            "tags": []
          },
          "execution_count": 4
        }
      ]
    },
    {
      "cell_type": "markdown",
      "metadata": {
        "id": "trSv2sCN1Fpr"
      },
      "source": [
        "```\n",
        "kłódka\n",
        "łódka_\n",
        "^^^^^^\n",
        "111111 = 6\n",
        "```"
      ]
    },
    {
      "cell_type": "markdown",
      "metadata": {
        "id": "K2WO4IMxzxqM"
      },
      "source": [
        "### Levenhstein\n",
        "\n"
      ]
    },
    {
      "cell_type": "markdown",
      "metadata": {
        "id": "a5RilDzO1cWT"
      },
      "source": [
        "* wartość określa najmniejszą liczbę operacji, która jest wymagana do przekształcenia pierwszego napisu w drugi,\n",
        "* możliwe operacje:\n",
        "  * wstawienie nowego znaku,\n",
        "  * usunięcie znaku,\n",
        "  * zamianę znaku na inny znak."
      ]
    },
    {
      "cell_type": "code",
      "metadata": {
        "colab": {
          "base_uri": "https://localhost:8080/"
        },
        "id": "v-S38DIU1_Q3",
        "outputId": "ea1c93f1-acdb-435a-ae24-dcf3890bf8a3"
      },
      "source": [
        "jellyfish.levenshtein_distance('kłódka', 'klodka')"
      ],
      "execution_count": 5,
      "outputs": [
        {
          "output_type": "execute_result",
          "data": {
            "text/plain": [
              "2"
            ]
          },
          "metadata": {
            "tags": []
          },
          "execution_count": 5
        }
      ]
    },
    {
      "cell_type": "markdown",
      "metadata": {
        "id": "i5M4ame22DPc"
      },
      "source": [
        "```\n",
        "kłódka\n",
        "klodka\n",
        "-^^---\n",
        " zz   = 2\n",
        "```"
      ]
    },
    {
      "cell_type": "code",
      "metadata": {
        "colab": {
          "base_uri": "https://localhost:8080/"
        },
        "id": "yYSSKK1M2bbW",
        "outputId": "9fc0100d-2e4c-47c1-ef4c-a92034de2626"
      },
      "source": [
        "jellyfish.levenshtein_distance('kłódka', 'łódka')"
      ],
      "execution_count": 6,
      "outputs": [
        {
          "output_type": "execute_result",
          "data": {
            "text/plain": [
              "1"
            ]
          },
          "metadata": {
            "tags": []
          },
          "execution_count": 6
        }
      ]
    },
    {
      "cell_type": "markdown",
      "metadata": {
        "id": "ME2K86Lh2kxI"
      },
      "source": [
        "```\n",
        "kłódka\n",
        " łódka\n",
        "^-----\n",
        "u      = 1\n",
        "```"
      ]
    },
    {
      "cell_type": "markdown",
      "metadata": {
        "id": "pxjKOTJHz2Dh"
      },
      "source": [
        "### Damerau-Levenshtein"
      ]
    },
    {
      "cell_type": "markdown",
      "metadata": {
        "id": "wGAHwjxK1a8K"
      },
      "source": [
        "\n",
        "\n",
        "*   jest rozszerzeniem miary Levenhsteina,\n",
        "*   operacje przestawienia sąsiednich znaków jest operacją atomową, tj. jej koszty jest taki sam, jak koszt wstawienie, usunięcia lub zamiany znaków.\n",
        "\n"
      ]
    },
    {
      "cell_type": "code",
      "metadata": {
        "colab": {
          "base_uri": "https://localhost:8080/"
        },
        "id": "Icc9O8kBKgiT",
        "outputId": "412bbe1c-7ae4-472b-af05-71fd492003d9"
      },
      "source": [
        "jellyfish.damerau_levenshtein_distance(\"kłódka\", \"kółdka\")"
      ],
      "execution_count": 7,
      "outputs": [
        {
          "output_type": "execute_result",
          "data": {
            "text/plain": [
              "1"
            ]
          },
          "metadata": {
            "tags": []
          },
          "execution_count": 7
        }
      ]
    },
    {
      "cell_type": "markdown",
      "metadata": {
        "id": "zk0heR8x3crX"
      },
      "source": [
        "```\n",
        "kłódka\n",
        "kółdka\n",
        "-^^---\n",
        " p     = 1\n",
        "```"
      ]
    },
    {
      "cell_type": "code",
      "metadata": {
        "colab": {
          "base_uri": "https://localhost:8080/"
        },
        "id": "sHzaAq3_kJ7x",
        "outputId": "deb0895e-3783-42c7-c051-e4edd02e6272"
      },
      "source": [
        "jellyfish.levenshtein_distance(\"kłódka\", \"kółdka\")"
      ],
      "execution_count": 8,
      "outputs": [
        {
          "output_type": "execute_result",
          "data": {
            "text/plain": [
              "2"
            ]
          },
          "metadata": {
            "tags": []
          },
          "execution_count": 8
        }
      ]
    },
    {
      "cell_type": "markdown",
      "metadata": {
        "id": "RJ6cT1u73tQh"
      },
      "source": [
        "```\n",
        "kłódka\n",
        "kółdka\n",
        "-^^---\n",
        " zz    = 2\n",
        "```"
      ]
    },
    {
      "cell_type": "markdown",
      "metadata": {
        "id": "5vcMFxm_z7Hp"
      },
      "source": [
        "### Jaro–Winkler"
      ]
    },
    {
      "cell_type": "markdown",
      "metadata": {
        "id": "GfD_ICg74F3J"
      },
      "source": [
        "*   różnice występujące na początku napisu mają wyższą wagę niż różnice na końcu napisu,\n",
        "*   miara odzwierciedla podobieństwo, a nie odległość,\n",
        "*   miara przyjmuje wartość z przedziału od 0 do 1, gdzie 1 oznacza tożsamość napisów.\n",
        "\n"
      ]
    },
    {
      "cell_type": "code",
      "metadata": {
        "colab": {
          "base_uri": "https://localhost:8080/"
        },
        "id": "Dug3mq0HZ18j",
        "outputId": "3c6ed2cc-1605-403c-b0ee-392fde53b342"
      },
      "source": [
        "jellyfish.jaro_winkler_similarity(\"kłódka\", \"kłódka\")"
      ],
      "execution_count": 9,
      "outputs": [
        {
          "output_type": "execute_result",
          "data": {
            "text/plain": [
              "1.0"
            ]
          },
          "metadata": {
            "tags": []
          },
          "execution_count": 9
        }
      ]
    },
    {
      "cell_type": "code",
      "metadata": {
        "colab": {
          "base_uri": "https://localhost:8080/"
        },
        "id": "wZq6OhDpZ8wu",
        "outputId": "156a41b6-ab34-4b48-8d43-5748317a9bf5"
      },
      "source": [
        "jellyfish.jaro_winkler_similarity(\"kłódka\", \"monety\")"
      ],
      "execution_count": 10,
      "outputs": [
        {
          "output_type": "execute_result",
          "data": {
            "text/plain": [
              "0.0"
            ]
          },
          "metadata": {
            "tags": []
          },
          "execution_count": 10
        }
      ]
    },
    {
      "cell_type": "code",
      "metadata": {
        "colab": {
          "base_uri": "https://localhost:8080/"
        },
        "id": "WPIDHOH3LiJx",
        "outputId": "c99dc585-1d25-4433-9f9e-0fd31645c714"
      },
      "source": [
        "jellyfish.jaro_winkler_similarity(\"kłódka\", \"łódka\")"
      ],
      "execution_count": 11,
      "outputs": [
        {
          "output_type": "execute_result",
          "data": {
            "text/plain": [
              "0.9444444444444445"
            ]
          },
          "metadata": {
            "tags": []
          },
          "execution_count": 11
        }
      ]
    },
    {
      "cell_type": "code",
      "metadata": {
        "colab": {
          "base_uri": "https://localhost:8080/"
        },
        "id": "fIL7dP9V3_r3",
        "outputId": "995bdef7-821f-45b9-dacf-fb012eaae400"
      },
      "source": [
        "jellyfish.jaro_winkler_similarity(\"kłódka\", \"kłódk\")"
      ],
      "execution_count": 12,
      "outputs": [
        {
          "output_type": "execute_result",
          "data": {
            "text/plain": [
              "0.9666666666666667"
            ]
          },
          "metadata": {
            "tags": []
          },
          "execution_count": 12
        }
      ]
    },
    {
      "cell_type": "markdown",
      "metadata": {
        "id": "dcrrrPTAzv2r"
      },
      "source": [
        "## Wydajność implementacji"
      ]
    },
    {
      "cell_type": "markdown",
      "metadata": {
        "id": "q07jCxqr3sIC"
      },
      "source": [
        "### jellyfish"
      ]
    },
    {
      "cell_type": "code",
      "metadata": {
        "colab": {
          "base_uri": "https://localhost:8080/"
        },
        "id": "oW369iZtaGhy",
        "outputId": "92fe5c0a-8845-4768-91e1-e704cb14f8b5"
      },
      "source": [
        "%%time\n",
        "for n in range(10**5):\n",
        "  jellyfish.levenshtein_distance(f\"{n}kłódka\", f\"{n}kłódk\")"
      ],
      "execution_count": 13,
      "outputs": [
        {
          "output_type": "stream",
          "text": [
            "CPU times: user 92.8 ms, sys: 0 ns, total: 92.8 ms\n",
            "Wall time: 105 ms\n"
          ],
          "name": "stdout"
        }
      ]
    },
    {
      "cell_type": "markdown",
      "metadata": {
        "id": "-1q8P2jU3zBp"
      },
      "source": [
        "### NTLK"
      ]
    },
    {
      "cell_type": "code",
      "metadata": {
        "id": "rcsWoSiubFvR"
      },
      "source": [
        "from nltk.metrics.distance import edit_distance"
      ],
      "execution_count": 14,
      "outputs": []
    },
    {
      "cell_type": "code",
      "metadata": {
        "colab": {
          "base_uri": "https://localhost:8080/"
        },
        "id": "P3ZumqxUbRKS",
        "outputId": "deb5ced7-0faf-49e2-93cc-901ec46e4005"
      },
      "source": [
        "%%time\n",
        "for n in range(10**5):\n",
        "  edit_distance(f\"{n}kłódka\", f\"{n}kłódk\")"
      ],
      "execution_count": 15,
      "outputs": [
        {
          "output_type": "stream",
          "text": [
            "CPU times: user 8.77 s, sys: 0 ns, total: 8.77 s\n",
            "Wall time: 8.78 s\n"
          ],
          "name": "stdout"
        }
      ]
    },
    {
      "cell_type": "code",
      "metadata": {
        "id": "_mtIafxnIkRP"
      },
      "source": [
        ""
      ],
      "execution_count": null,
      "outputs": []
    },
    {
      "cell_type": "markdown",
      "metadata": {
        "id": "dK9XF1kdGuQn"
      },
      "source": [
        "## Podsumowanie"
      ]
    },
    {
      "cell_type": "markdown",
      "metadata": {
        "id": "oI0KE_sVGv1J"
      },
      "source": [
        "\n",
        "\n",
        "*   **Miary edycyjne** służą do porównywania napisów\n",
        "*   Przedstawione miary:\n",
        "  * Odległość: **Hamming**, **Levenhstein**, **Damerau-Levenshtein**,\n",
        "  * Podobieństwo: **Jaro–Winkler**\n",
        "*   Dostępnych jest wiele implementacji miar edycyjnych, ale nie każda z nich jest równie wydajna.\n",
        "\n",
        "\n",
        "\n"
      ]
    }
  ]
}