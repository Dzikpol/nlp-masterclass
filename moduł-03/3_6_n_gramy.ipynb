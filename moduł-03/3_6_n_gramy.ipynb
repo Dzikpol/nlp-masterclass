{
  "nbformat": 4,
  "nbformat_minor": 0,
  "metadata": {
    "colab": {
      "name": "L3.6-n-gramy",
      "provenance": [],
      "toc_visible": true
    },
    "kernelspec": {
      "display_name": "Python 3",
      "name": "python3"
    }
  },
  "cells": [
    {
      "cell_type": "markdown",
      "metadata": {
        "id": "qiLRk1nUmDfu"
      },
      "source": [
        "# N-gramy"
      ]
    },
    {
      "cell_type": "markdown",
      "metadata": {
        "id": "hhJP6Sl2mHlq"
      },
      "source": [
        "## Wprowadzenie\n",
        "\n",
        "**N-gramy** to **sekwencje następujących po sobie jednostek**, np. *znaków* lub *tokenów* w przetwarzaniu tekstów oraz *fonemów* w rozpoznawaniu mowy. **N** określa ilość elementów występujacych w sekwencji:\n",
        "* 1-gram — unigram,\n",
        "* 2-gram — bigram,\n",
        "* 3-gram — trigram,\n",
        "* 4-gram, 5-gram, itd.\n",
        "\n",
        "\n",
        "**Przykład**\n",
        "\n",
        "* Samochód osobowy przejechał na czerwonym świetle\n",
        "\n",
        "Bigramy:\n",
        "1. **[Samochód osobowy]** przejechał na czerwonym świetle\n",
        "2. Samochód **[osobowy przejechał]** na czerwonym świetle\n",
        "3. Samochód osobowy **[przejechał na]** czerwonym świetle\n",
        "4. Samochód osobowy przejechał **[na czerwonym]** świetle\n",
        "5. Samochód osobowy przejechał na **[czerwonym świetle]**\n",
        "\n",
        "Trigramy:\n",
        "1. **[Samochód osobowy przejechał]** na czerwonym świetle\n",
        "2. Samochód **[osobowy przejechał na]** czerwonym świetle\n",
        "3. Samochód osobowy **[przejechał na czerwonym]** świetle\n",
        "4. Samochód osobowy przejechał **[na czerwonym świetle]**\n",
        "\n",
        "**Zastosowanie:**\n",
        "* podobieństwo dokumentów — jako cechy dokumentu uwzględniające powiązania między słowami,\n",
        "* modelowanie języka — rozkład prawdopodobieństwa wystąpienia słowa po n-gramie słów wykorzystuje się m.in. do:\n",
        "  * generowania/uzupełniania tekstów — np. uzupełnienie zapytania wpisywanego do wyszukiwarki internetowej,\n",
        "  * korygowania błędów językowych — np. poprzez sprawdzenie występowania określonych konstrukcji językowych w danych wzorcowych.\n",
        "\n",
        "N-gramy dla słów mogą być używane zarówno dla **form tekstowych**, jak i dla **lematów** i **znaczników morfologicznych**."
      ]
    },
    {
      "cell_type": "markdown",
      "metadata": {
        "id": "JvIguc_M4FYE"
      },
      "source": [
        "## Generowanie n-gramów"
      ]
    },
    {
      "cell_type": "code",
      "metadata": {
        "id": "ufSIcp6zqnR6"
      },
      "source": [
        "tokens = \"Samochód osobowy przejechał na czerwonym świetle\".split(\" \")\n",
        "\n",
        "n = 3"
      ],
      "execution_count": 1,
      "outputs": []
    },
    {
      "cell_type": "markdown",
      "metadata": {
        "id": "CIiSW3u4n0Vt"
      },
      "source": [
        "```\n",
        "    Samochód osobowy przejechał na czerwonym świetle\n",
        "\n",
        "[0] Samochód osobowy przejechał na\n",
        "[1]          osobowy przejechał na czerwonym\n",
        "[2]                  przejechał na czerwonym świetle\n",
        "```"
      ]
    },
    {
      "cell_type": "code",
      "metadata": {
        "colab": {
          "base_uri": "https://localhost:8080/"
        },
        "id": "ipAKeGdZpUpd",
        "outputId": "68bb3487-68e2-471d-c70b-1e62abdbfb39"
      },
      "source": [
        "sequences = [tokens[i:i+len(tokens)-n+1] for i in range(n)]\n",
        "sequences"
      ],
      "execution_count": 2,
      "outputs": [
        {
          "output_type": "execute_result",
          "data": {
            "text/plain": [
              "[['Samochód', 'osobowy', 'przejechał', 'na'],\n",
              " ['osobowy', 'przejechał', 'na', 'czerwonym'],\n",
              " ['przejechał', 'na', 'czerwonym', 'świetle']]"
            ]
          },
          "metadata": {
            "tags": []
          },
          "execution_count": 2
        }
      ]
    },
    {
      "cell_type": "markdown",
      "metadata": {
        "id": "v4sVhVkGoiHS"
      },
      "source": [
        "```\n",
        "[0] Samochód    osobowy     przejechał  na\n",
        "[1] osobowy     przejechał  na          czerwonym\n",
        "[2] przejechał  na          czerwonym   świetle\n",
        "    |           |\n",
        "    |           V\n",
        "    |           (osobowy, przejechał, na)\n",
        "    V\n",
        "    (Samochód, osobowy, przejechał)\n",
        "                   \n",
        "```"
      ]
    },
    {
      "cell_type": "code",
      "metadata": {
        "colab": {
          "base_uri": "https://localhost:8080/"
        },
        "id": "6mmP2eExrD6l",
        "outputId": "e1f8077a-4b40-4e81-d5fa-a63b37e01512"
      },
      "source": [
        "# zip(*sequences) == zip(sequences[0], sequences[1], sequences[2])\n",
        "[gram for gram in zip(*sequences)]  "
      ],
      "execution_count": 3,
      "outputs": [
        {
          "output_type": "execute_result",
          "data": {
            "text/plain": [
              "[('Samochód', 'osobowy', 'przejechał'),\n",
              " ('osobowy', 'przejechał', 'na'),\n",
              " ('przejechał', 'na', 'czerwonym'),\n",
              " ('na', 'czerwonym', 'świetle')]"
            ]
          },
          "metadata": {
            "tags": []
          },
          "execution_count": 3
        }
      ]
    },
    {
      "cell_type": "markdown",
      "metadata": {
        "id": "dEbgvZYfa39v"
      },
      "source": [
        "**Metody ngrams, bigrams, trigrams i everygrams z NLTK**"
      ]
    },
    {
      "cell_type": "code",
      "metadata": {
        "colab": {
          "base_uri": "https://localhost:8080/"
        },
        "id": "VvXMXJUSscQD",
        "outputId": "f6ca341d-2a27-4e38-8a1e-11511a53c8b3"
      },
      "source": [
        "from nltk.util import ngrams\n",
        "\n",
        "print(*ngrams(tokens, 3), sep=\"\\n\")"
      ],
      "execution_count": 4,
      "outputs": [
        {
          "output_type": "stream",
          "text": [
            "('Samochód', 'osobowy', 'przejechał')\n",
            "('osobowy', 'przejechał', 'na')\n",
            "('przejechał', 'na', 'czerwonym')\n",
            "('na', 'czerwonym', 'świetle')\n"
          ],
          "name": "stdout"
        }
      ]
    },
    {
      "cell_type": "code",
      "metadata": {
        "colab": {
          "base_uri": "https://localhost:8080/"
        },
        "id": "4eU0wRQSyQFl",
        "outputId": "ff5ea235-3538-4c0f-c6c8-9a8f32aa5c94"
      },
      "source": [
        "from nltk.util import trigrams\n",
        "\n",
        "print(*trigrams(tokens), sep=\"\\n\")"
      ],
      "execution_count": 5,
      "outputs": [
        {
          "output_type": "stream",
          "text": [
            "('Samochód', 'osobowy', 'przejechał')\n",
            "('osobowy', 'przejechał', 'na')\n",
            "('przejechał', 'na', 'czerwonym')\n",
            "('na', 'czerwonym', 'świetle')\n"
          ],
          "name": "stdout"
        }
      ]
    },
    {
      "cell_type": "code",
      "metadata": {
        "colab": {
          "base_uri": "https://localhost:8080/"
        },
        "id": "mcTYW4bdyXE1",
        "outputId": "a4ad433d-0ca7-4e9a-9700-b08bcecb700d"
      },
      "source": [
        "from nltk.util import bigrams\n",
        "\n",
        "print(*bigrams(tokens), sep=\"\\n\")"
      ],
      "execution_count": 6,
      "outputs": [
        {
          "output_type": "stream",
          "text": [
            "('Samochód', 'osobowy')\n",
            "('osobowy', 'przejechał')\n",
            "('przejechał', 'na')\n",
            "('na', 'czerwonym')\n",
            "('czerwonym', 'świetle')\n"
          ],
          "name": "stdout"
        }
      ]
    },
    {
      "cell_type": "code",
      "metadata": {
        "colab": {
          "base_uri": "https://localhost:8080/"
        },
        "id": "Q2xCe7rUydPu",
        "outputId": "6fe099b1-2270-4490-ffc0-beb25b9f0eec"
      },
      "source": [
        "from nltk.util import everygrams\n",
        "\n",
        "print(*everygrams(tokens, 1, 3), sep=\"\\n\")"
      ],
      "execution_count": 7,
      "outputs": [
        {
          "output_type": "stream",
          "text": [
            "('Samochód',)\n",
            "('osobowy',)\n",
            "('przejechał',)\n",
            "('na',)\n",
            "('czerwonym',)\n",
            "('świetle',)\n",
            "('Samochód', 'osobowy')\n",
            "('osobowy', 'przejechał')\n",
            "('przejechał', 'na')\n",
            "('na', 'czerwonym')\n",
            "('czerwonym', 'świetle')\n",
            "('Samochód', 'osobowy', 'przejechał')\n",
            "('osobowy', 'przejechał', 'na')\n",
            "('przejechał', 'na', 'czerwonym')\n",
            "('na', 'czerwonym', 'świetle')\n"
          ],
          "name": "stdout"
        }
      ]
    },
    {
      "cell_type": "markdown",
      "metadata": {
        "id": "hSJ3_MeGBVsw"
      },
      "source": [
        "## Podobieństwo dokumentów\n"
      ]
    },
    {
      "cell_type": "code",
      "metadata": {
        "id": "YpQ4pmaYBa-V"
      },
      "source": [
        "texts = [\n",
        "  \"domek na drzewie odwiedza dużo ptaków\",\n",
        "  \"domek na drzewie jest marzeniem każdego dziecka\",\n",
        "  \"jako dziecko chciałem mieć domek na drzewie\",\n",
        "  \"domek dla ptaków jest na drzewie\",\n",
        "  \"na drzewie siedzi chłopiec i montuje domek dla ptaków\"\n",
        "]"
      ],
      "execution_count": 8,
      "outputs": []
    },
    {
      "cell_type": "code",
      "metadata": {
        "id": "EgmcXpM6CEEI"
      },
      "source": [
        "from sklearn.feature_extraction.text import CountVectorizer"
      ],
      "execution_count": 9,
      "outputs": []
    },
    {
      "cell_type": "markdown",
      "metadata": {
        "id": "IRJV-nI6F3O9"
      },
      "source": [
        "### unigramy"
      ]
    },
    {
      "cell_type": "code",
      "metadata": {
        "colab": {
          "base_uri": "https://localhost:8080/"
        },
        "id": "TFQh3PXaDHK-",
        "outputId": "4f1728b5-de2b-4cf8-c0f5-81ad1a560e3d"
      },
      "source": [
        "vectorizer = CountVectorizer()\n",
        "X = vectorizer.fit_transform(texts)\n",
        "print(X.toarray())"
      ],
      "execution_count": 10,
      "outputs": [
        {
          "output_type": "stream",
          "text": [
            "[[0 0 0 1 1 1 0 0 0 0 0 0 0 0 1 1 1 0]\n",
            " [0 0 0 1 1 0 1 0 0 1 1 1 0 0 1 0 0 0]\n",
            " [1 0 0 1 1 0 0 1 1 0 0 0 1 0 1 0 0 0]\n",
            " [0 0 1 1 1 0 0 0 0 1 0 0 0 0 1 0 1 0]\n",
            " [0 1 1 1 1 0 0 0 0 0 0 0 0 1 1 0 1 1]]\n"
          ],
          "name": "stdout"
        }
      ]
    },
    {
      "cell_type": "code",
      "metadata": {
        "colab": {
          "base_uri": "https://localhost:8080/"
        },
        "id": "-enE4gMTDKfO",
        "outputId": "72e7435c-ee1d-4248-9453-0fd28eb131fd"
      },
      "source": [
        "from sklearn.metrics.pairwise import cosine_similarity\n",
        "\n",
        "sim_matrix = cosine_similarity(X, X)\n",
        "sim_matrix"
      ],
      "execution_count": 11,
      "outputs": [
        {
          "output_type": "execute_result",
          "data": {
            "text/plain": [
              "array([[1.        , 0.46291005, 0.46291005, 0.66666667, 0.57735027],\n",
              "       [0.46291005, 1.        , 0.42857143, 0.6172134 , 0.40089186],\n",
              "       [0.46291005, 0.42857143, 1.        , 0.46291005, 0.40089186],\n",
              "       [0.66666667, 0.6172134 , 0.46291005, 1.        , 0.72168784],\n",
              "       [0.57735027, 0.40089186, 0.40089186, 0.72168784, 1.        ]])"
            ]
          },
          "metadata": {
            "tags": []
          },
          "execution_count": 11
        }
      ]
    },
    {
      "cell_type": "code",
      "metadata": {
        "colab": {
          "base_uri": "https://localhost:8080/"
        },
        "id": "ydg_pjyqDN4i",
        "outputId": "47229434-344c-4813-d958-e9f5b18b99f1"
      },
      "source": [
        "sim_text = zip([sim_matrix[0][n] for n in range(0, len(texts))], texts)\n",
        "\n",
        "for sim, text in sorted(sim_text, reverse=True):\n",
        "  print(f\"{sim:<7.04}  {text}\")"
      ],
      "execution_count": 12,
      "outputs": [
        {
          "output_type": "stream",
          "text": [
            "1.0      domek na drzewie odwiedza dużo ptaków\n",
            "0.6667   domek dla ptaków jest na drzewie\n",
            "0.5774   na drzewie siedzi chłopiec i montuje domek dla ptaków\n",
            "0.4629   jako dziecko chciałem mieć domek na drzewie\n",
            "0.4629   domek na drzewie jest marzeniem każdego dziecka\n"
          ],
          "name": "stdout"
        }
      ]
    },
    {
      "cell_type": "markdown",
      "metadata": {
        "id": "NSBpS31gFcIc"
      },
      "source": [
        "### bigramy"
      ]
    },
    {
      "cell_type": "code",
      "metadata": {
        "colab": {
          "base_uri": "https://localhost:8080/"
        },
        "id": "UvRDjidQDtW5",
        "outputId": "0e5dc3ec-583c-4d2b-bddf-82b8342d4790"
      },
      "source": [
        "vectorizer_bigrams = CountVectorizer(ngram_range=(1,2))\n",
        "X_bigrams = vectorizer_bigrams.fit_transform(texts)\n",
        "print(X_bigrams.toarray())"
      ],
      "execution_count": 13,
      "outputs": [
        {
          "output_type": "stream",
          "text": [
            "[[0 0 0 0 0 0 1 0 1 1 0 1 0 1 1 0 0 0 0 0 0 0 0 0 0 0 0 0 0 0 0 1 1 1 1 1\n",
            "  0 0 0]\n",
            " [0 0 0 0 0 0 1 0 1 1 1 0 0 0 0 1 0 0 0 0 1 1 0 1 1 1 1 0 0 0 0 1 1 0 0 0\n",
            "  0 0 0]\n",
            " [1 1 0 0 0 0 1 0 1 1 0 0 0 0 0 0 1 1 1 1 0 0 0 0 0 0 0 1 1 0 0 1 1 0 0 0\n",
            "  0 0 0]\n",
            " [0 0 0 0 1 1 1 1 0 1 0 0 0 0 0 0 0 0 0 0 1 0 1 0 0 0 0 0 0 0 0 1 1 0 0 1\n",
            "  1 0 0]\n",
            " [0 0 1 1 1 1 1 1 0 1 0 0 1 0 0 0 0 0 0 0 0 0 0 0 0 0 0 0 0 1 1 1 1 0 0 1\n",
            "  0 1 1]]\n"
          ],
          "name": "stdout"
        }
      ]
    },
    {
      "cell_type": "code",
      "metadata": {
        "colab": {
          "base_uri": "https://localhost:8080/"
        },
        "id": "aPnGafZvD7T9",
        "outputId": "e52301b7-5eac-4aec-b6a6-4c72e6cb94b1"
      },
      "source": [
        "vectorizer_bigrams.get_feature_names()"
      ],
      "execution_count": 14,
      "outputs": [
        {
          "output_type": "execute_result",
          "data": {
            "text/plain": [
              "['chciałem',\n",
              " 'chciałem mieć',\n",
              " 'chłopiec',\n",
              " 'chłopiec montuje',\n",
              " 'dla',\n",
              " 'dla ptaków',\n",
              " 'domek',\n",
              " 'domek dla',\n",
              " 'domek na',\n",
              " 'drzewie',\n",
              " 'drzewie jest',\n",
              " 'drzewie odwiedza',\n",
              " 'drzewie siedzi',\n",
              " 'dużo',\n",
              " 'dużo ptaków',\n",
              " 'dziecka',\n",
              " 'dziecko',\n",
              " 'dziecko chciałem',\n",
              " 'jako',\n",
              " 'jako dziecko',\n",
              " 'jest',\n",
              " 'jest marzeniem',\n",
              " 'jest na',\n",
              " 'każdego',\n",
              " 'każdego dziecka',\n",
              " 'marzeniem',\n",
              " 'marzeniem każdego',\n",
              " 'mieć',\n",
              " 'mieć domek',\n",
              " 'montuje',\n",
              " 'montuje domek',\n",
              " 'na',\n",
              " 'na drzewie',\n",
              " 'odwiedza',\n",
              " 'odwiedza dużo',\n",
              " 'ptaków',\n",
              " 'ptaków jest',\n",
              " 'siedzi',\n",
              " 'siedzi chłopiec']"
            ]
          },
          "metadata": {
            "tags": []
          },
          "execution_count": 14
        }
      ]
    },
    {
      "cell_type": "code",
      "metadata": {
        "colab": {
          "base_uri": "https://localhost:8080/"
        },
        "id": "0tUE2MhwEW1s",
        "outputId": "3014d002-4319-4fd1-a801-d6ac9bf37bd1"
      },
      "source": [
        "sim_matrix_bigrams = cosine_similarity(X_bigrams, X_bigrams)\n",
        "sim_matrix_bigrams"
      ],
      "execution_count": 15,
      "outputs": [
        {
          "output_type": "execute_result",
          "data": {
            "text/plain": [
              "array([[1.        , 0.41812101, 0.41812101, 0.45454545, 0.38924947],\n",
              "       [0.41812101, 1.        , 0.38461538, 0.41812101, 0.28644595],\n",
              "       [0.41812101, 0.38461538, 1.        , 0.3344968 , 0.28644595],\n",
              "       [0.45454545, 0.41812101, 0.3344968 , 1.        , 0.62279916],\n",
              "       [0.38924947, 0.28644595, 0.28644595, 0.62279916, 1.        ]])"
            ]
          },
          "metadata": {
            "tags": []
          },
          "execution_count": 15
        }
      ]
    },
    {
      "cell_type": "code",
      "metadata": {
        "colab": {
          "base_uri": "https://localhost:8080/"
        },
        "id": "3TfaoQXXEdsV",
        "outputId": "88557e16-af5f-40df-b00e-916b81e5b95b"
      },
      "source": [
        "sim_text_bigrams = zip([sim_matrix_bigrams[0][n] for n in range(0, len(texts))], texts)\n",
        "\n",
        "for sim, text in sorted(sim_text_bigrams, reverse=True):\n",
        "  print(f\"{sim:<7.04}  {text}\")"
      ],
      "execution_count": 16,
      "outputs": [
        {
          "output_type": "stream",
          "text": [
            "1.0      domek na drzewie odwiedza dużo ptaków\n",
            "0.4545   domek dla ptaków jest na drzewie\n",
            "0.4181   jako dziecko chciałem mieć domek na drzewie\n",
            "0.4181   domek na drzewie jest marzeniem każdego dziecka\n",
            "0.3892   na drzewie siedzi chłopiec i montuje domek dla ptaków\n"
          ],
          "name": "stdout"
        }
      ]
    },
    {
      "cell_type": "markdown",
      "metadata": {
        "id": "KpEwvMgCEzZb"
      },
      "source": [
        "### trigramy"
      ]
    },
    {
      "cell_type": "code",
      "metadata": {
        "colab": {
          "base_uri": "https://localhost:8080/"
        },
        "id": "LADcf3DIEvQy",
        "outputId": "4253e467-ff03-452b-98cb-674ae093bdcd"
      },
      "source": [
        "vectorizer_trigrams = CountVectorizer(ngram_range=(1,3))\n",
        "X_trigrams = vectorizer_trigrams.fit_transform(texts)\n",
        "print(X_trigrams.toarray())"
      ],
      "execution_count": 17,
      "outputs": [
        {
          "output_type": "stream",
          "text": [
            "[[0 0 0 0 0 0 0 0 0 1 0 0 1 1 1 0 0 1 1 0 0 1 1 0 0 0 0 0 0 0 0 0 0 0 0 0\n",
            "  0 0 0 0 0 0 0 0 0 0 1 1 0 1 0 1 1 1 1 0 0 0 0 0]\n",
            " [0 0 0 0 0 0 0 0 0 1 0 0 1 1 1 1 1 0 0 0 0 0 0 1 0 0 0 0 0 0 1 1 1 0 0 1\n",
            "  1 1 1 1 0 0 0 0 0 0 1 1 1 0 0 0 0 0 0 0 0 0 0 0]\n",
            " [1 1 1 0 0 0 0 0 0 1 0 0 1 1 1 0 0 0 0 0 0 0 0 0 1 1 1 1 1 1 0 0 0 0 0 0\n",
            "  0 0 0 0 1 1 1 0 0 0 1 1 0 0 0 0 0 0 0 0 0 0 0 0]\n",
            " [0 0 0 0 0 0 1 1 1 1 1 1 0 0 1 0 0 0 0 0 0 0 0 0 0 0 0 0 0 0 1 0 0 1 1 0\n",
            "  0 0 0 0 0 0 0 0 0 0 1 1 0 0 0 0 0 0 1 1 1 0 0 0]\n",
            " [0 0 0 1 1 1 1 1 0 1 1 1 0 0 1 0 0 0 0 1 1 0 0 0 0 0 0 0 0 0 0 0 0 0 0 0\n",
            "  0 0 0 0 0 0 0 1 1 1 1 1 0 0 1 0 0 0 1 0 0 1 1 1]]\n"
          ],
          "name": "stdout"
        }
      ]
    },
    {
      "cell_type": "code",
      "metadata": {
        "colab": {
          "base_uri": "https://localhost:8080/"
        },
        "id": "TzS0xGxwE460",
        "outputId": "7b9d9807-997a-4b5d-a028-7c5c1ef8f7fd"
      },
      "source": [
        "print(vectorizer_trigrams.get_feature_names())"
      ],
      "execution_count": 18,
      "outputs": [
        {
          "output_type": "stream",
          "text": [
            "['chciałem', 'chciałem mieć', 'chciałem mieć domek', 'chłopiec', 'chłopiec montuje', 'chłopiec montuje domek', 'dla', 'dla ptaków', 'dla ptaków jest', 'domek', 'domek dla', 'domek dla ptaków', 'domek na', 'domek na drzewie', 'drzewie', 'drzewie jest', 'drzewie jest marzeniem', 'drzewie odwiedza', 'drzewie odwiedza dużo', 'drzewie siedzi', 'drzewie siedzi chłopiec', 'dużo', 'dużo ptaków', 'dziecka', 'dziecko', 'dziecko chciałem', 'dziecko chciałem mieć', 'jako', 'jako dziecko', 'jako dziecko chciałem', 'jest', 'jest marzeniem', 'jest marzeniem każdego', 'jest na', 'jest na drzewie', 'każdego', 'każdego dziecka', 'marzeniem', 'marzeniem każdego', 'marzeniem każdego dziecka', 'mieć', 'mieć domek', 'mieć domek na', 'montuje', 'montuje domek', 'montuje domek dla', 'na', 'na drzewie', 'na drzewie jest', 'na drzewie odwiedza', 'na drzewie siedzi', 'odwiedza', 'odwiedza dużo', 'odwiedza dużo ptaków', 'ptaków', 'ptaków jest', 'ptaków jest na', 'siedzi', 'siedzi chłopiec', 'siedzi chłopiec montuje']\n"
          ],
          "name": "stdout"
        }
      ]
    },
    {
      "cell_type": "code",
      "metadata": {
        "colab": {
          "base_uri": "https://localhost:8080/"
        },
        "id": "gjrImNM6FGKU",
        "outputId": "25ec6467-b591-4ab9-f8ac-aa44e2f66f03"
      },
      "source": [
        "sim_matrix_trigrams = cosine_similarity(X_trigrams, X_trigrams)\n",
        "sim_matrix_trigrams"
      ],
      "execution_count": 19,
      "outputs": [
        {
          "output_type": "execute_result",
          "data": {
            "text/plain": [
              "array([[1.        , 0.36514837, 0.36514837, 0.33333333, 0.28171808],\n",
              "       [0.36514837, 1.        , 0.33333333, 0.30429031, 0.2057378 ],\n",
              "       [0.36514837, 0.33333333, 1.        , 0.24343225, 0.2057378 ],\n",
              "       [0.33333333, 0.30429031, 0.24343225, 1.        , 0.50709255],\n",
              "       [0.28171808, 0.2057378 , 0.2057378 , 0.50709255, 1.        ]])"
            ]
          },
          "metadata": {
            "tags": []
          },
          "execution_count": 19
        }
      ]
    },
    {
      "cell_type": "code",
      "metadata": {
        "colab": {
          "base_uri": "https://localhost:8080/"
        },
        "id": "8KTvPgJuFNHH",
        "outputId": "d0e0d59c-6ae6-4d72-e374-2b36e2414cad"
      },
      "source": [
        "sim_text_trigrams = zip([sim_matrix_trigrams[0][n] for n in range(0, len(texts))], texts)\n",
        "\n",
        "for sim, text in sorted(sim_text_trigrams, reverse=True):\n",
        "  print(f\"{sim:<7.04}  {text}\")"
      ],
      "execution_count": 20,
      "outputs": [
        {
          "output_type": "stream",
          "text": [
            "1.0      domek na drzewie odwiedza dużo ptaków\n",
            "0.3651   jako dziecko chciałem mieć domek na drzewie\n",
            "0.3651   domek na drzewie jest marzeniem każdego dziecka\n",
            "0.3333   domek dla ptaków jest na drzewie\n",
            "0.2817   na drzewie siedzi chłopiec i montuje domek dla ptaków\n"
          ],
          "name": "stdout"
        }
      ]
    },
    {
      "cell_type": "markdown",
      "metadata": {
        "id": "Q298KQxkBYMA"
      },
      "source": [
        "## Modelowanie języka"
      ]
    },
    {
      "cell_type": "markdown",
      "metadata": {
        "id": "443SM2E67B-k"
      },
      "source": [
        "Chcemy sprawdzić, która konstrukcja językowa jest częstsza, np. **podatek od X** czy **podatek za X**. Do modelowania należy wykorzystać możliwie duży zbiór tekstów reprezentatywnych dla danego języka. "
      ]
    },
    {
      "cell_type": "markdown",
      "metadata": {
        "id": "p_IOaky6wTr-"
      },
      "source": [
        "PolEval 2018 — Task 3: Language Models"
      ]
    },
    {
      "cell_type": "code",
      "metadata": {
        "colab": {
          "base_uri": "https://localhost:8080/"
        },
        "id": "9s8-wBmG8XJV",
        "outputId": "3af1ed1f-d81f-4b1a-e2cd-a40f415197c7"
      },
      "source": [
        "!wget http://2018.poleval.pl/task3/task3_test.txt.gz"
      ],
      "execution_count": 21,
      "outputs": [
        {
          "output_type": "stream",
          "text": [
            "--2020-12-07 10:06:10--  http://2018.poleval.pl/task3/task3_test.txt.gz\n",
            "Resolving 2018.poleval.pl (2018.poleval.pl)... 213.135.36.94\n",
            "Connecting to 2018.poleval.pl (2018.poleval.pl)|213.135.36.94|:80... connected.\n",
            "HTTP request sent, awaiting response... 200 OK\n",
            "Length: 142279320 (136M) [application/x-gzip]\n",
            "Saving to: ‘task3_test.txt.gz’\n",
            "\n",
            "task3_test.txt.gz   100%[===================>] 135.69M  25.0MB/s    in 6.4s    \n",
            "\n",
            "2020-12-07 10:06:17 (21.1 MB/s) - ‘task3_test.txt.gz’ saved [142279320/142279320]\n",
            "\n"
          ],
          "name": "stdout"
        }
      ]
    },
    {
      "cell_type": "code",
      "metadata": {
        "id": "YBzH5qqr8kVu"
      },
      "source": [
        "!gunzip task3_test.txt.gz -f"
      ],
      "execution_count": 22,
      "outputs": []
    },
    {
      "cell_type": "code",
      "metadata": {
        "colab": {
          "base_uri": "https://localhost:8080/"
        },
        "id": "GZhYszhf8pls",
        "outputId": "c2f5da3e-3cfe-42d6-bc0b-e5877e1ecae5"
      },
      "source": [
        "text = open(\"task3_test.txt\", \"r\").read()\n",
        "print(len(text))"
      ],
      "execution_count": 23,
      "outputs": [
        {
          "output_type": "stream",
          "text": [
            "316361968\n"
          ],
          "name": "stdout"
        }
      ]
    },
    {
      "cell_type": "code",
      "metadata": {
        "colab": {
          "base_uri": "https://localhost:8080/"
        },
        "id": "O6IJF4zy806V",
        "outputId": "887b4280-06d4-48dc-dd71-058e834d005d"
      },
      "source": [
        "from nltk.tokenize import WordPunctTokenizer\n",
        "\n",
        "tokens = WordPunctTokenizer().tokenize(text)\n",
        "print(len(tokens))"
      ],
      "execution_count": 24,
      "outputs": [
        {
          "output_type": "stream",
          "text": [
            "51244079\n"
          ],
          "name": "stdout"
        }
      ]
    },
    {
      "cell_type": "code",
      "metadata": {
        "colab": {
          "base_uri": "https://localhost:8080/"
        },
        "id": "MgOHtJLzlwOa",
        "outputId": "a987da11-c240-436e-f9b8-4d5007627455"
      },
      "source": [
        "!pip install nltk -U"
      ],
      "execution_count": 25,
      "outputs": [
        {
          "output_type": "stream",
          "text": [
            "Requirement already up-to-date: nltk in /usr/local/lib/python3.6/dist-packages (3.5)\n",
            "Requirement already satisfied, skipping upgrade: joblib in /usr/local/lib/python3.6/dist-packages (from nltk) (0.17.0)\n",
            "Requirement already satisfied, skipping upgrade: click in /usr/local/lib/python3.6/dist-packages (from nltk) (7.1.2)\n",
            "Requirement already satisfied, skipping upgrade: regex in /usr/local/lib/python3.6/dist-packages (from nltk) (2019.12.20)\n",
            "Requirement already satisfied, skipping upgrade: tqdm in /usr/local/lib/python3.6/dist-packages (from nltk) (4.41.1)\n"
          ],
          "name": "stdout"
        }
      ]
    },
    {
      "cell_type": "code",
      "metadata": {
        "id": "QRvsJnXi-7Zg"
      },
      "source": [
        "from nltk.util import trigrams\n",
        "from nltk.lm.counter import NgramCounter\n",
        "\n",
        "ngram_counts = NgramCounter([trigrams(tokens)])"
      ],
      "execution_count": 26,
      "outputs": []
    },
    {
      "cell_type": "code",
      "metadata": {
        "colab": {
          "base_uri": "https://localhost:8080/"
        },
        "id": "zVavVlsuHzVl",
        "outputId": "cdfb1f21-2486-4925-e3e0-e6b46eca11fe"
      },
      "source": [
        "ngram_counts[('podatek', 'od',)].most_common(20)"
      ],
      "execution_count": 27,
      "outputs": [
        {
          "output_type": "execute_result",
          "data": {
            "text/plain": [
              "[('towarów', 66),\n",
              " ('nieruchomości', 63),\n",
              " ('środków', 19),\n",
              " ('dochodów', 18),\n",
              " ('wartości', 14),\n",
              " ('osób', 13),\n",
              " ('czynności', 8),\n",
              " ('sprzedaży', 8),\n",
              " ('kopalin', 7),\n",
              " ('transakcji', 6),\n",
              " ('wydobycia', 6),\n",
              " ('gier', 5),\n",
              " ('dochodu', 4),\n",
              " ('tej', 3),\n",
              " ('zysków', 3),\n",
              " ('tych', 3),\n",
              " ('spadków', 3),\n",
              " ('spadku', 3),\n",
              " ('wzrostu', 3),\n",
              " ('wynagrodzeń', 3)]"
            ]
          },
          "metadata": {
            "tags": []
          },
          "execution_count": 27
        }
      ]
    },
    {
      "cell_type": "code",
      "metadata": {
        "colab": {
          "base_uri": "https://localhost:8080/"
        },
        "id": "sZxWc07ZPCFG",
        "outputId": "e64aa708-8e62-447b-ac82-2f09ed6c42e9"
      },
      "source": [
        "ngram_counts[('podatek', 'za',)].most_common(10)"
      ],
      "execution_count": 28,
      "outputs": [
        {
          "output_type": "execute_result",
          "data": {
            "text/plain": [
              "[('granicą', 1),\n",
              " ('korzystanie', 1),\n",
              " ('2013', 1),\n",
              " ('połączenia', 1),\n",
              " ('następny', 1),\n",
              " ('media', 1),\n",
              " ('miesiąc', 1),\n",
              " ('sprawiedliwy', 1),\n",
              " ('pracę', 1),\n",
              " ('wygranę', 1)]"
            ]
          },
          "metadata": {
            "tags": []
          },
          "execution_count": 28
        }
      ]
    },
    {
      "cell_type": "markdown",
      "metadata": {
        "id": "T2AYUO18F6fF"
      },
      "source": [
        "## Podsumowanie"
      ]
    },
    {
      "cell_type": "markdown",
      "metadata": {
        "id": "9zV_njuGF9nm"
      },
      "source": [
        "1.   N-gramy — są to n-elementowe sekwencje, np. liter, słów, fonemów.\n",
        "2.   Dla słów n-gramy mogą być używane zarówno dla form tekstowych, lematów i znaczników gramatycznych.\n",
        "3.   Wykorzystuje się je w m.in. w porównywaniu dokumentów oraz modelowaniu języka.\n",
        "\n"
      ]
    }
  ]
}