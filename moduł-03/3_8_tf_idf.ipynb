{
  "nbformat": 4,
  "nbformat_minor": 0,
  "metadata": {
    "colab": {
      "name": "L3.8-tf-idf.ipynb",
      "provenance": [],
      "collapsed_sections": [],
      "toc_visible": true
    },
    "kernelspec": {
      "name": "python3",
      "display_name": "Python 3"
    }
  },
  "cells": [
    {
      "cell_type": "markdown",
      "metadata": {
        "id": "VHE8lX0vIjsc"
      },
      "source": [
        "# Tf-Idf"
      ]
    },
    {
      "cell_type": "markdown",
      "metadata": {
        "id": "VThOyKImImKP"
      },
      "source": [
        "## Wprowadzenie\n",
        "\n",
        "**Tf-idf** — metoda liczenia wagi terminów w oparciu o ich częstość w dokumencie (*tf*, *term frequency*) oraz ich rozkład w całym korpusie (*idf*, *inverse document frequency*).\n",
        "\n",
        "\n",
        "\n",
        "$$tf{\\text -}idf_{ij}=tf_{ij}\\times idf_i $$\n",
        "\n",
        "Gdzie:\n",
        "* $i$ — indeks terminu,\n",
        "* $j$ — indeks dokumentu,\n",
        "* $tf_{ij}$ — liczba wystąpień $i$-tego terminu  w $j$-tym dokumencie.\n",
        "\n",
        "$$idf_i=log\\frac{|D|}{|\\{d:t_i \\in d\\}|}$$\n",
        "\n",
        "Gdzie:\n",
        "\n",
        "* $|D|$ — liczba dokumentów w zbiorze,\n",
        "* $|\\{d:t_i \\in d\\}|$ — liczba dokumentów zawierających przynajmniej jedno wystąpienie terminu $t_i$.\n",
        "\n",
        "\n",
        "Wagi Tf-idf faworyzują słowa występujące w niewielu dokumentach, ponieważ mają większą siłę dyskryminacyjną."
      ]
    },
    {
      "cell_type": "code",
      "metadata": {
        "id": "EGlyash1oVz2",
        "colab": {
          "base_uri": "https://localhost:8080/",
          "height": 342
        },
        "outputId": "1055092a-cc43-48fd-a315-94bfd2f2814b"
      },
      "source": [
        "import pylab\n",
        "import numpy as np\n",
        "\n",
        "params = {'legend.fontsize': 'x-large',\n",
        "          'figure.figsize': (15, 5),\n",
        "         'axes.labelsize': 'x-large',\n",
        "         'axes.titlesize':'x-large',\n",
        "         'xtick.labelsize':'x-large',\n",
        "         'ytick.labelsize':'x-large'}\n",
        "pylab.rcParams.update(params)\n",
        "\n",
        "x = np.linspace(1, 100, 100000)\n",
        "y = np.log(100/x)\n",
        "\n",
        "pylab.plot(x, y)\n",
        "print(\"Wartość idf w zależności od liczby dokumentów, w których dany termin występuje, dla kolekcji 100 dokumentów.\")"
      ],
      "execution_count": 1,
      "outputs": [
        {
          "output_type": "stream",
          "text": [
            "Wartość idf w zależności od liczby dokumentów, w których dany termin występuje, dla kolekcji 100 dokumentów.\n"
          ],
          "name": "stdout"
        },
        {
          "output_type": "display_data",
          "data": {
            "image/png": "[encoded data removed]",
            "text/plain": [
              "<Figure size 1080x360 with 1 Axes>"
            ]
          },
          "metadata": {
            "tags": [],
            "needs_background": "light"
          }
        }
      ]
    },
    {
      "cell_type": "markdown",
      "metadata": {
        "id": "jWzH16udnWrL"
      },
      "source": [
        "**Zastosowania**\n",
        "\n",
        "*   generowanie słów kluczowych dla dokumentu,\n",
        "*   grupowanie dokumentów,\n",
        "*   wyszukiwanie dokumentów.\n",
        "\n"
      ]
    },
    {
      "cell_type": "markdown",
      "metadata": {
        "id": "yAVc2CV2dGKK"
      },
      "source": [
        "## Wektoryzacja Tf-idf"
      ]
    },
    {
      "cell_type": "code",
      "metadata": {
        "id": "lukgluYMdMIa"
      },
      "source": [
        "from sklearn.feature_extraction.text import TfidfVectorizer"
      ],
      "execution_count": 2,
      "outputs": []
    },
    {
      "cell_type": "code",
      "metadata": {
        "id": "tDQ1RtZ1ddkU"
      },
      "source": [
        "texts = [\n",
        "  \"dłuto to narzędzie używane przez stolarza\",\n",
        "  \"piła to narzędzie wykorzystywane przez stolarza\",\n",
        "  \"stetoskop to narzędzie używane przez lekarza\",\n",
        "  \"skalpel to narzędzie wykorzystywane przez lekarza\",\n",
        "  \"łopata to narzędzie używane przez rolnika\"\n",
        "]"
      ],
      "execution_count": 3,
      "outputs": []
    },
    {
      "cell_type": "code",
      "metadata": {
        "colab": {
          "base_uri": "https://localhost:8080/"
        },
        "id": "ZOe9gRuseC-p",
        "outputId": "34a031aa-f660-4821-8fb3-e0914b6f7fd4"
      },
      "source": [
        "vectorizer = TfidfVectorizer()\n",
        "\n",
        "X = vectorizer.fit_transform(texts)\n",
        "\n",
        "for row in X.toarray():\n",
        "  print([\"%.3f\" % col if col > 0 else '0    ' for col in row])"
      ],
      "execution_count": 4,
      "outputs": [
        {
          "output_type": "stream",
          "text": [
            "['0.600', '0    ', '0.286', '0    ', '0.286', '0    ', '0    ', '0    ', '0.484', '0.286', '0.402', '0    ', '0    ']\n",
            "['0    ', '0    ', '0.276', '0.579', '0.276', '0    ', '0    ', '0    ', '0.467', '0.276', '0    ', '0.467', '0    ']\n",
            "['0    ', '0.484', '0.286', '0    ', '0.286', '0    ', '0    ', '0.600', '0    ', '0.286', '0.402', '0    ', '0    ']\n",
            "['0    ', '0.467', '0.276', '0    ', '0.276', '0    ', '0.579', '0    ', '0    ', '0.276', '0    ', '0.467', '0    ']\n",
            "['0    ', '0    ', '0.269', '0    ', '0.269', '0.565', '0    ', '0    ', '0    ', '0.269', '0.379', '0    ', '0.565']\n"
          ],
          "name": "stdout"
        }
      ]
    },
    {
      "cell_type": "code",
      "metadata": {
        "colab": {
          "base_uri": "https://localhost:8080/"
        },
        "id": "5W3OlNmBK6MV",
        "outputId": "09a3ee67-9561-4dbd-ce3a-53f7c5376b46"
      },
      "source": [
        "vectorizer.get_feature_names()"
      ],
      "execution_count": 5,
      "outputs": [
        {
          "output_type": "execute_result",
          "data": {
            "text/plain": [
              "['dłuto',\n",
              " 'lekarza',\n",
              " 'narzędzie',\n",
              " 'piła',\n",
              " 'przez',\n",
              " 'rolnika',\n",
              " 'skalpel',\n",
              " 'stetoskop',\n",
              " 'stolarza',\n",
              " 'to',\n",
              " 'używane',\n",
              " 'wykorzystywane',\n",
              " 'łopata']"
            ]
          },
          "metadata": {
            "tags": []
          },
          "execution_count": 5
        }
      ]
    },
    {
      "cell_type": "code",
      "metadata": {
        "colab": {
          "base_uri": "https://localhost:8080/"
        },
        "id": "o-gbNVjNK89N",
        "outputId": "f215503c-947a-43fe-d4a3-b5704bf9135b"
      },
      "source": [
        "vectorizer.idf_"
      ],
      "execution_count": 6,
      "outputs": [
        {
          "output_type": "execute_result",
          "data": {
            "text/plain": [
              "array([2.09861229, 1.69314718, 1.        , 2.09861229, 1.        ,\n",
              "       2.09861229, 2.09861229, 2.09861229, 1.69314718, 1.        ,\n",
              "       1.40546511, 1.69314718, 2.09861229])"
            ]
          },
          "metadata": {
            "tags": []
          },
          "execution_count": 6
        }
      ]
    },
    {
      "cell_type": "code",
      "metadata": {
        "colab": {
          "base_uri": "https://localhost:8080/"
        },
        "id": "Cgx0_dsDeLc3",
        "outputId": "3b6d81a7-b426-4dec-aec5-c4125e140e29"
      },
      "source": [
        "for idf, word in sorted(zip(vectorizer.idf_, vectorizer.get_feature_names()), reverse=True):\n",
        "  print(\"%0.3f  %s\" % (idf, word))"
      ],
      "execution_count": 7,
      "outputs": [
        {
          "output_type": "stream",
          "text": [
            "2.099  łopata\n",
            "2.099  stetoskop\n",
            "2.099  skalpel\n",
            "2.099  rolnika\n",
            "2.099  piła\n",
            "2.099  dłuto\n",
            "1.693  wykorzystywane\n",
            "1.693  stolarza\n",
            "1.693  lekarza\n",
            "1.405  używane\n",
            "1.000  to\n",
            "1.000  przez\n",
            "1.000  narzędzie\n"
          ],
          "name": "stdout"
        }
      ]
    },
    {
      "cell_type": "markdown",
      "metadata": {
        "id": "1_Wjp0vmjo2m"
      },
      "source": [
        "### Normalizacja wektorów"
      ]
    },
    {
      "cell_type": "code",
      "metadata": {
        "colab": {
          "base_uri": "https://localhost:8080/"
        },
        "id": "GUcqLKorD8Cs",
        "outputId": "3afde1c1-f54b-4aae-b9c2-092f83178d21"
      },
      "source": [
        "print(np.sum(X[0].toarray()**2))"
      ],
      "execution_count": 8,
      "outputs": [
        {
          "output_type": "stream",
          "text": [
            "1.0\n"
          ],
          "name": "stdout"
        }
      ]
    },
    {
      "cell_type": "code",
      "metadata": {
        "colab": {
          "base_uri": "https://localhost:8080/"
        },
        "id": "uTtP8i9IjzuH",
        "outputId": "e26f7ca6-a6ab-421e-ac25-daf474009dd7"
      },
      "source": [
        "vectorizer_wnorm = TfidfVectorizer(norm=None)\n",
        "\n",
        "X_wnorm = vectorizer_wnorm.fit_transform(texts)\n",
        "\n",
        "for row in X_wnorm.toarray():\n",
        "  print([\"%.3f\" % col if col > 0 else '0    ' for col in row])"
      ],
      "execution_count": 9,
      "outputs": [
        {
          "output_type": "stream",
          "text": [
            "['2.099', '0    ', '1.000', '0    ', '1.000', '0    ', '0    ', '0    ', '1.693', '1.000', '1.405', '0    ', '0    ']\n",
            "['0    ', '0    ', '1.000', '2.099', '1.000', '0    ', '0    ', '0    ', '1.693', '1.000', '0    ', '1.693', '0    ']\n",
            "['0    ', '1.693', '1.000', '0    ', '1.000', '0    ', '0    ', '2.099', '0    ', '1.000', '1.405', '0    ', '0    ']\n",
            "['0    ', '1.693', '1.000', '0    ', '1.000', '0    ', '2.099', '0    ', '0    ', '1.000', '0    ', '1.693', '0    ']\n",
            "['0    ', '0    ', '1.000', '0    ', '1.000', '2.099', '0    ', '0    ', '0    ', '1.000', '1.405', '0    ', '2.099']\n"
          ],
          "name": "stdout"
        }
      ]
    },
    {
      "cell_type": "markdown",
      "metadata": {
        "id": "23cUw2EkLHk-"
      },
      "source": [
        "## Podobieństwo dla wektoryzacji TfIdfVectorizer"
      ]
    },
    {
      "cell_type": "code",
      "metadata": {
        "id": "kWxJeOYsLQPv"
      },
      "source": [
        "from sklearn.metrics.pairwise import cosine_similarity"
      ],
      "execution_count": 10,
      "outputs": []
    },
    {
      "cell_type": "code",
      "metadata": {
        "colab": {
          "base_uri": "https://localhost:8080/"
        },
        "id": "ok8SaCzBePyg",
        "outputId": "3f62b24a-aa20-4224-8ddc-8a04acd14adb"
      },
      "source": [
        "sim_matrix = cosine_similarity(X, X)\n",
        "sim_matrix"
      ],
      "execution_count": 11,
      "outputs": [
        {
          "output_type": "execute_result",
          "data": {
            "text/plain": [
              "array([[1.        , 0.46252651, 0.40627383, 0.23651598, 0.38294631],\n",
              "       [0.46252651, 1.        , 0.23651598, 0.44655926, 0.22293565],\n",
              "       [0.40627383, 0.23651598, 1.        , 0.46252651, 0.38294631],\n",
              "       [0.23651598, 0.44655926, 0.46252651, 1.        , 0.22293565],\n",
              "       [0.38294631, 0.22293565, 0.38294631, 0.22293565, 1.        ]])"
            ]
          },
          "metadata": {
            "tags": []
          },
          "execution_count": 11
        }
      ]
    },
    {
      "cell_type": "code",
      "metadata": {
        "colab": {
          "base_uri": "https://localhost:8080/"
        },
        "id": "K6hwz7VmhrQ9",
        "outputId": "219880a3-89f7-4806-ac13-72444ec4ad11"
      },
      "source": [
        "sim_text = zip([sim_matrix[0][n] for n in range(0, len(texts))], texts)\n",
        "\n",
        "for sim, text in sorted(sim_text, reverse=True):\n",
        "  print(f\"{sim:<7.04}  {text[:50]}\")"
      ],
      "execution_count": 12,
      "outputs": [
        {
          "output_type": "stream",
          "text": [
            "1.0      dłuto to narzędzie używane przez stolarza\n",
            "0.4625   piła to narzędzie wykorzystywane przez stolarza\n",
            "0.4063   stetoskop to narzędzie używane przez lekarza\n",
            "0.3829   łopata to narzędzie używane przez rolnika\n",
            "0.2365   skalpel to narzędzie wykorzystywane przez lekarza\n"
          ],
          "name": "stdout"
        }
      ]
    },
    {
      "cell_type": "markdown",
      "metadata": {
        "id": "dxdMBhoZMrw3"
      },
      "source": [
        "## Porównanie z CountVectorizer"
      ]
    },
    {
      "cell_type": "code",
      "metadata": {
        "colab": {
          "base_uri": "https://localhost:8080/"
        },
        "id": "yUDl7Rj5La16",
        "outputId": "f7189579-99e5-498b-d3ec-ab048aab4849"
      },
      "source": [
        "from sklearn.feature_extraction.text import CountVectorizer\n",
        "\n",
        "count_vectorizer = CountVectorizer()\n",
        "\n",
        "count_X = count_vectorizer.fit_transform(texts)\n",
        "\n",
        "count_sim_matrix = cosine_similarity(count_X, count_X)\n",
        "count_sim_matrix"
      ],
      "execution_count": 13,
      "outputs": [
        {
          "output_type": "execute_result",
          "data": {
            "text/plain": [
              "array([[1.        , 0.66666667, 0.66666667, 0.5       , 0.66666667],\n",
              "       [0.66666667, 1.        , 0.5       , 0.66666667, 0.5       ],\n",
              "       [0.66666667, 0.5       , 1.        , 0.66666667, 0.66666667],\n",
              "       [0.5       , 0.66666667, 0.66666667, 1.        , 0.5       ],\n",
              "       [0.66666667, 0.5       , 0.66666667, 0.5       , 1.        ]])"
            ]
          },
          "metadata": {
            "tags": []
          },
          "execution_count": 13
        }
      ]
    },
    {
      "cell_type": "code",
      "metadata": {
        "colab": {
          "base_uri": "https://localhost:8080/"
        },
        "id": "5T6_0DUyjHTz",
        "outputId": "379d8d76-42a7-454f-80b5-3da3b771f6ed"
      },
      "source": [
        "sim_text = zip([count_sim_matrix[0][n] for n in range(0, len(texts))], texts)\n",
        "\n",
        "for sim, text in sorted(sim_text, reverse=True):\n",
        "  print(f\"{sim:<7.04}  {text[:50]}\")"
      ],
      "execution_count": 14,
      "outputs": [
        {
          "output_type": "stream",
          "text": [
            "1.0      dłuto to narzędzie używane przez stolarza\n",
            "0.6667   łopata to narzędzie używane przez rolnika\n",
            "0.6667   stetoskop to narzędzie używane przez lekarza\n",
            "0.6667   piła to narzędzie wykorzystywane przez stolarza\n",
            "0.5      skalpel to narzędzie wykorzystywane przez lekarza\n"
          ],
          "name": "stdout"
        }
      ]
    },
    {
      "cell_type": "markdown",
      "metadata": {
        "id": "_q-Zxcq83u9H"
      },
      "source": [
        "## Podsumowanie"
      ]
    },
    {
      "cell_type": "markdown",
      "metadata": {
        "id": "ThsM-XQa3x6n"
      },
      "source": [
        "\n",
        "1.   **Tf-idf** jest miarą do wyliczania wagi terminów w dokumencie.\n",
        "2.   Wagi terminów są wyliczane w kontekście określonego korpusu — nie jest możliwe wyliczenie wag *tf-idf* dla pojedynczego dokumentu w oderwaniu od korpusu.\n",
        "3.  Miara faworyzuje słowa, które występują w niewielu dokumentach. Słowa rzadkie mają większą siłę dyskryminacyjną niż słowa częste.\n",
        "\n"
      ]
    }
  ]
}