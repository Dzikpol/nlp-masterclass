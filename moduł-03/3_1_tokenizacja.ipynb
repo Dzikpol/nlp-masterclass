{
  "nbformat": 4,
  "nbformat_minor": 0,
  "metadata": {
    "colab": {
      "name": "L3.1-tokenizacja.ipynb",
      "provenance": [],
      "collapsed_sections": [
        "8hB3Dywp6GyC",
        "HvSCUIMk-Sa7",
        "zCBKvtmZ-l30",
        "OsYdyIZP_Qm-",
        "RJsjTQQ8Ddfc",
        "W-eT7YUpJqLI",
        "33uoCT3NNFht"
      ],
      "toc_visible": true
    },
    "kernelspec": {
      "name": "python3",
      "display_name": "Python 3"
    }
  },
  "cells": [
    {
      "cell_type": "markdown",
      "metadata": {
        "id": "YTe6BBj2bON6"
      },
      "source": [
        "# Tokenizacja tekstu\n",
        "\n",
        "Tokenizacja jest jednym z podstawowych etapów wstępnego przetwarzania tekstu.  Celem **tokenizacji** jest podział teksu na sekwencję mniejszych fragmentów zwanych tokenami. **Token** najczęściej odpowiadaja pojedynczym słowom, liczbom i znakom interpunkcyjnym.\n",
        "\n"
      ]
    },
    {
      "cell_type": "markdown",
      "metadata": {
        "id": "sTXVWL_VIKYc"
      },
      "source": [
        "## spaCy"
      ]
    },
    {
      "cell_type": "markdown",
      "metadata": {
        "id": "8hB3Dywp6GyC"
      },
      "source": [
        "### Przygotowanie\n",
        "\n",
        "*   Będziemy korzystać z modelu *pl_core_news_sm*\n",
        "*   Model wymaga spaCy w wersji 2.3\n",
        "\n"
      ]
    },
    {
      "cell_type": "code",
      "metadata": {
        "id": "S1nWuMdlkmDW",
        "colab": {
          "base_uri": "https://localhost:8080/"
        },
        "outputId": "c5395af4-b465-488e-f437-38fe178864bf"
      },
      "source": [
        "!pip install spacy -U"
      ],
      "execution_count": null,
      "outputs": [
        {
          "output_type": "stream",
          "text": [
            "Requirement already up-to-date: spacy in /usr/local/lib/python3.6/dist-packages (2.3.3)\n",
            "Requirement already satisfied, skipping upgrade: numpy>=1.15.0 in /usr/local/lib/python3.6/dist-packages (from spacy) (1.18.5)\n",
            "Requirement already satisfied, skipping upgrade: catalogue<1.1.0,>=0.0.7 in /usr/local/lib/python3.6/dist-packages (from spacy) (1.0.0)\n",
            "Requirement already satisfied, skipping upgrade: cymem<2.1.0,>=2.0.2 in /usr/local/lib/python3.6/dist-packages (from spacy) (2.0.4)\n",
            "Requirement already satisfied, skipping upgrade: blis<0.8.0,>=0.4.0; python_version >= \"3.6\" in /usr/local/lib/python3.6/dist-packages (from spacy) (0.4.1)\n",
            "Requirement already satisfied, skipping upgrade: requests<3.0.0,>=2.13.0 in /usr/local/lib/python3.6/dist-packages (from spacy) (2.23.0)\n",
            "Requirement already satisfied, skipping upgrade: murmurhash<1.1.0,>=0.28.0 in /usr/local/lib/python3.6/dist-packages (from spacy) (1.0.4)\n",
            "Requirement already satisfied, skipping upgrade: srsly<1.1.0,>=1.0.2 in /usr/local/lib/python3.6/dist-packages (from spacy) (1.0.4)\n",
            "Requirement already satisfied, skipping upgrade: plac<1.2.0,>=0.9.6 in /usr/local/lib/python3.6/dist-packages (from spacy) (1.1.3)\n",
            "Requirement already satisfied, skipping upgrade: tqdm<5.0.0,>=4.38.0 in /usr/local/lib/python3.6/dist-packages (from spacy) (4.41.1)\n",
            "Requirement already satisfied, skipping upgrade: wasabi<1.1.0,>=0.4.0 in /usr/local/lib/python3.6/dist-packages (from spacy) (0.8.0)\n",
            "Requirement already satisfied, skipping upgrade: preshed<3.1.0,>=3.0.2 in /usr/local/lib/python3.6/dist-packages (from spacy) (3.0.4)\n",
            "Requirement already satisfied, skipping upgrade: setuptools in /usr/local/lib/python3.6/dist-packages (from spacy) (50.3.2)\n",
            "Requirement already satisfied, skipping upgrade: thinc<7.5.0,>=7.4.1 in /usr/local/lib/python3.6/dist-packages (from spacy) (7.4.3)\n",
            "Requirement already satisfied, skipping upgrade: importlib-metadata>=0.20; python_version < \"3.8\" in /usr/local/lib/python3.6/dist-packages (from catalogue<1.1.0,>=0.0.7->spacy) (2.0.0)\n",
            "Requirement already satisfied, skipping upgrade: certifi>=2017.4.17 in /usr/local/lib/python3.6/dist-packages (from requests<3.0.0,>=2.13.0->spacy) (2020.11.8)\n",
            "Requirement already satisfied, skipping upgrade: chardet<4,>=3.0.2 in /usr/local/lib/python3.6/dist-packages (from requests<3.0.0,>=2.13.0->spacy) (3.0.4)\n",
            "Requirement already satisfied, skipping upgrade: urllib3!=1.25.0,!=1.25.1,<1.26,>=1.21.1 in /usr/local/lib/python3.6/dist-packages (from requests<3.0.0,>=2.13.0->spacy) (1.24.3)\n",
            "Requirement already satisfied, skipping upgrade: idna<3,>=2.5 in /usr/local/lib/python3.6/dist-packages (from requests<3.0.0,>=2.13.0->spacy) (2.10)\n",
            "Requirement already satisfied, skipping upgrade: zipp>=0.5 in /usr/local/lib/python3.6/dist-packages (from importlib-metadata>=0.20; python_version < \"3.8\"->catalogue<1.1.0,>=0.0.7->spacy) (3.4.0)\n"
          ],
          "name": "stdout"
        }
      ]
    },
    {
      "cell_type": "code",
      "metadata": {
        "id": "VxbHi4m85X2x",
        "colab": {
          "base_uri": "https://localhost:8080/"
        },
        "outputId": "74267b77-3e0c-4ece-a2a6-8076426aaed2"
      },
      "source": [
        "!python -m spacy download pl_core_news_sm\n",
        "!python -m spacy link pl_core_news_sm pl_core_news_sm -f"
      ],
      "execution_count": null,
      "outputs": [
        {
          "output_type": "stream",
          "text": [
            "Requirement already satisfied: pl_core_news_sm==2.3.0 from https://github.com/explosion/spacy-models/releases/download/pl_core_news_sm-2.3.0/pl_core_news_sm-2.3.0.tar.gz#egg=pl_core_news_sm==2.3.0 in /usr/local/lib/python3.6/dist-packages (2.3.0)\n",
            "Requirement already satisfied: spacy<2.4.0,>=2.3.0 in /usr/local/lib/python3.6/dist-packages (from pl_core_news_sm==2.3.0) (2.3.3)\n",
            "Requirement already satisfied: cymem<2.1.0,>=2.0.2 in /usr/local/lib/python3.6/dist-packages (from spacy<2.4.0,>=2.3.0->pl_core_news_sm==2.3.0) (2.0.4)\n",
            "Requirement already satisfied: numpy>=1.15.0 in /usr/local/lib/python3.6/dist-packages (from spacy<2.4.0,>=2.3.0->pl_core_news_sm==2.3.0) (1.18.5)\n",
            "Requirement already satisfied: requests<3.0.0,>=2.13.0 in /usr/local/lib/python3.6/dist-packages (from spacy<2.4.0,>=2.3.0->pl_core_news_sm==2.3.0) (2.23.0)\n",
            "Requirement already satisfied: wasabi<1.1.0,>=0.4.0 in /usr/local/lib/python3.6/dist-packages (from spacy<2.4.0,>=2.3.0->pl_core_news_sm==2.3.0) (0.8.0)\n",
            "Requirement already satisfied: setuptools in /usr/local/lib/python3.6/dist-packages (from spacy<2.4.0,>=2.3.0->pl_core_news_sm==2.3.0) (50.3.2)\n",
            "Requirement already satisfied: blis<0.8.0,>=0.4.0; python_version >= \"3.6\" in /usr/local/lib/python3.6/dist-packages (from spacy<2.4.0,>=2.3.0->pl_core_news_sm==2.3.0) (0.4.1)\n",
            "Requirement already satisfied: catalogue<1.1.0,>=0.0.7 in /usr/local/lib/python3.6/dist-packages (from spacy<2.4.0,>=2.3.0->pl_core_news_sm==2.3.0) (1.0.0)\n",
            "Requirement already satisfied: tqdm<5.0.0,>=4.38.0 in /usr/local/lib/python3.6/dist-packages (from spacy<2.4.0,>=2.3.0->pl_core_news_sm==2.3.0) (4.41.1)\n",
            "Requirement already satisfied: murmurhash<1.1.0,>=0.28.0 in /usr/local/lib/python3.6/dist-packages (from spacy<2.4.0,>=2.3.0->pl_core_news_sm==2.3.0) (1.0.4)\n",
            "Requirement already satisfied: thinc<7.5.0,>=7.4.1 in /usr/local/lib/python3.6/dist-packages (from spacy<2.4.0,>=2.3.0->pl_core_news_sm==2.3.0) (7.4.3)\n",
            "Requirement already satisfied: preshed<3.1.0,>=3.0.2 in /usr/local/lib/python3.6/dist-packages (from spacy<2.4.0,>=2.3.0->pl_core_news_sm==2.3.0) (3.0.4)\n",
            "Requirement already satisfied: srsly<1.1.0,>=1.0.2 in /usr/local/lib/python3.6/dist-packages (from spacy<2.4.0,>=2.3.0->pl_core_news_sm==2.3.0) (1.0.4)\n",
            "Requirement already satisfied: plac<1.2.0,>=0.9.6 in /usr/local/lib/python3.6/dist-packages (from spacy<2.4.0,>=2.3.0->pl_core_news_sm==2.3.0) (1.1.3)\n",
            "Requirement already satisfied: idna<3,>=2.5 in /usr/local/lib/python3.6/dist-packages (from requests<3.0.0,>=2.13.0->spacy<2.4.0,>=2.3.0->pl_core_news_sm==2.3.0) (2.10)\n",
            "Requirement already satisfied: urllib3!=1.25.0,!=1.25.1,<1.26,>=1.21.1 in /usr/local/lib/python3.6/dist-packages (from requests<3.0.0,>=2.13.0->spacy<2.4.0,>=2.3.0->pl_core_news_sm==2.3.0) (1.24.3)\n",
            "Requirement already satisfied: certifi>=2017.4.17 in /usr/local/lib/python3.6/dist-packages (from requests<3.0.0,>=2.13.0->spacy<2.4.0,>=2.3.0->pl_core_news_sm==2.3.0) (2020.11.8)\n",
            "Requirement already satisfied: chardet<4,>=3.0.2 in /usr/local/lib/python3.6/dist-packages (from requests<3.0.0,>=2.13.0->spacy<2.4.0,>=2.3.0->pl_core_news_sm==2.3.0) (3.0.4)\n",
            "Requirement already satisfied: importlib-metadata>=0.20; python_version < \"3.8\" in /usr/local/lib/python3.6/dist-packages (from catalogue<1.1.0,>=0.0.7->spacy<2.4.0,>=2.3.0->pl_core_news_sm==2.3.0) (2.0.0)\n",
            "Requirement already satisfied: zipp>=0.5 in /usr/local/lib/python3.6/dist-packages (from importlib-metadata>=0.20; python_version < \"3.8\"->catalogue<1.1.0,>=0.0.7->spacy<2.4.0,>=2.3.0->pl_core_news_sm==2.3.0) (3.4.0)\n",
            "\u001b[38;5;2m✔ Download and installation successful\u001b[0m\n",
            "You can now load the model via spacy.load('pl_core_news_sm')\n",
            "\u001b[38;5;2m✔ Linking successful\u001b[0m\n",
            "/usr/local/lib/python3.6/dist-packages/pl_core_news_sm -->\n",
            "/usr/local/lib/python3.6/dist-packages/spacy/data/pl_core_news_sm\n",
            "You can now load the model via spacy.load('pl_core_news_sm')\n"
          ],
          "name": "stdout"
        }
      ]
    },
    {
      "cell_type": "code",
      "metadata": {
        "id": "G5wXtFeEJGWy"
      },
      "source": [
        "import spacy\n",
        "nlp = spacy.load('pl_core_news_sm')"
      ],
      "execution_count": null,
      "outputs": []
    },
    {
      "cell_type": "markdown",
      "metadata": {
        "id": "HvSCUIMk-Sa7"
      },
      "source": [
        "### Przetwarzanie tekstu"
      ]
    },
    {
      "cell_type": "code",
      "metadata": {
        "id": "Oi-il6R_UL84"
      },
      "source": [
        "text = \"Adam Mickiewicz żył w latach 1798-1855.\"\n",
        "\n",
        "doc = nlp(text)"
      ],
      "execution_count": null,
      "outputs": []
    },
    {
      "cell_type": "code",
      "metadata": {
        "colab": {
          "base_uri": "https://localhost:8080/"
        },
        "id": "pVoIKkIF89SC",
        "outputId": "808b129b-adba-4166-b4a9-2ee49adc4618"
      },
      "source": [
        "print(f\"Liczba tokenów: {len(doc)}\")\n",
        "\n",
        "print(\"---\")\n",
        "print(*doc, sep=\"\\n\")"
      ],
      "execution_count": null,
      "outputs": [
        {
          "output_type": "stream",
          "text": [
            "Liczba tokenów: 9\n",
            "---\n",
            "Adam\n",
            "Mickiewicz\n",
            "żył\n",
            "w\n",
            "latach\n",
            "1798\n",
            "-\n",
            "1855\n",
            ".\n"
          ],
          "name": "stdout"
        }
      ]
    },
    {
      "cell_type": "code",
      "metadata": {
        "id": "jckPZzkLJvtq",
        "colab": {
          "base_uri": "https://localhost:8080/"
        },
        "outputId": "8ff18407-80de-4c9f-ebe6-64e2aeccefee"
      },
      "source": [
        "for token in doc:\n",
        "  print(f\"{token.text:<10}  {len(token.whitespace_)}  {token.text_with_ws:<12}  {token.orth:<22} {token.orth_}\")"
      ],
      "execution_count": null,
      "outputs": [
        {
          "output_type": "stream",
          "text": [
            "Adam        1  Adam          14264057329400597350   Adam\n",
            "Mickiewicz  1  Mickiewicz    4205735127482439197    Mickiewicz\n",
            "żył         1  żył           17463462916583227822   żył\n",
            "w           1  w             260667111241363922     w\n",
            "latach      1  latach        8838775445208903749    latach\n",
            "1798        0  1798          9526162792521487386    1798\n",
            "-           0  -             9153284864653046197    -\n",
            "1855        0  1855          9650684165435343232    1855\n",
            ".           0  .             12646065887601541794   .\n"
          ],
          "name": "stdout"
        }
      ]
    },
    {
      "cell_type": "code",
      "metadata": {
        "colab": {
          "base_uri": "https://localhost:8080/"
        },
        "id": "oHWPg8w1j_Va",
        "outputId": "21fb255d-2a5f-4f92-9155-ea64d63ea7ef"
      },
      "source": [
        "\"\".join([t.text_with_ws for t in doc]) == text"
      ],
      "execution_count": null,
      "outputs": [
        {
          "output_type": "execute_result",
          "data": {
            "text/plain": [
              "True"
            ]
          },
          "metadata": {
            "tags": []
          },
          "execution_count": 7
        }
      ]
    },
    {
      "cell_type": "code",
      "metadata": {
        "colab": {
          "base_uri": "https://localhost:8080/",
          "height": 35
        },
        "id": "jEXKe0SWkwZ6",
        "outputId": "4b9a8f89-328b-4f26-c6ac-45a9223ddd1e"
      },
      "source": [
        "doc.vocab[4205735127482439197].text"
      ],
      "execution_count": null,
      "outputs": [
        {
          "output_type": "execute_result",
          "data": {
            "application/vnd.google.colaboratory.intrinsic+json": {
              "type": "string"
            },
            "text/plain": [
              "'Mickiewicz'"
            ]
          },
          "metadata": {
            "tags": []
          },
          "execution_count": 8
        }
      ]
    },
    {
      "cell_type": "code",
      "metadata": {
        "colab": {
          "base_uri": "https://localhost:8080/"
        },
        "id": "_aV2pH2elsE-",
        "outputId": "ca69efa3-54ad-4b6f-f930-84101fad3529"
      },
      "source": [
        "len(doc.vocab)"
      ],
      "execution_count": null,
      "outputs": [
        {
          "output_type": "execute_result",
          "data": {
            "text/plain": [
              "146"
            ]
          },
          "metadata": {
            "tags": []
          },
          "execution_count": 9
        }
      ]
    },
    {
      "cell_type": "markdown",
      "metadata": {
        "id": "zCBKvtmZ-l30"
      },
      "source": [
        "### Tokenizacja, a potok przetwarzania"
      ]
    },
    {
      "cell_type": "markdown",
      "metadata": {
        "id": "_XPfIE9A7XSr"
      },
      "source": [
        "![image.png](data:image/png;base64,iVBORw0KGgoAAAANSUhEUgAAAt4AAACjCAIAAAAy1Y4+AAAgAElEQVR4Ae2dC1gU9733ec7bNMf0tE2bt03KOe8eOMPRhVbhUEXz1q2J1xMrbwgSSfASpZpgY0NCNDHFmga8JE85saiVkgV0QVxRUEGCywoIKAvqiqDgwrJmAWG5GEDRFTDivs/M4DLCgrOXgdnhy7OPDsP/9vv8/v/5f/d/GxcTfkAABEAABEAABECANwRceFMSFAQEQAAEQAAEQAAETJAmqAQgAAIgAAIgAAI8IgBpwiNnoCggAAIgAAIgAAKQJqgDIAACIAACIAACPCIAacIjZ6AoIAACIAACIAACkCaoAyAAAiAAAiAAAjwiAGnCI2egKCAAAiAAAiAAApAmqAMgAAIgAAIgAAI8IgBpwiNnoCggAAIgAAIgAAKQJqgDIAACIAACIAACPCIAacIjZ6AoIAACIAACIAACkCaoAyAAAiAAAiAAAjwiAGnCI2egKCAAAiAAAiAAApAmqAMgAAIgAAIgAAI8IgBpwiNnoCggAAIgAAIgAAKQJqgDIAACIAACIAACPCIAacIjZ6AoIAACIAACIAACkCaoAyAAAiAAAiAAAjwiAGnCI2egKCAAAiAAAiAAApAmqAMgAAIgAAIgAAI8IgBpwiNnoCggAAIgAAIgAAKQJqgDIAACIAACIAACPCIAacIjZ6AoIAACIAACIAACkCaoAyAAAiAAAiAAAjwiAGnCI2egKCAAAiAAAiAAApAmqAMgAAIgAAIgAAI8IgBpwiNnoCggAAIgAAIgAAKQJqgDIAACIAACIAACPCIAacIjZ6AoIAACIAACIAACkCaoAyAwIQh09fWvK2mefEw7KaWaD5/JGdplhY0VnT0Tgj6MBAEQsIYApIk1tBAWBJyTQEVnz/Nyzc/kmrVFze+XtPLk84qiYVJKdWZjt3NCRalBAAS4IgBpwhVZpAsC/CEw4+R17xN16qb72tYHvPpsvfDt83JN/d37/GGFkoAACIw7AUiTcXcBCgAC3BIoajVOSqnO0hl5JUrMhfmZXBNd2c4tAqQOAiDgVAQgTZzKXSgsCFhPILqyfVJKtVkK8O1i9slv1pY0WW8WYoAACAiWAKSJYF0Lw0CAJsB/abIgVw9ngQAIgICZAKSJGQUuQECYBCBNhOlXWAUCwiUAaSJc38IyEKAIQJqgIoAACDgXAUgT5/IXSgsCVhOANLEaGSKAAAiMKwFIk3HFj8xBgHsCDpUm9TsCCFcR4SryXJbsmC0/s09+g7Um3NcC5AACzkQA0sSZvIWygoANBBwqTR5oG4zlpz+bBWligycQBQRAgB0BSBN2nBAKBJyWgK3SRLHCi/jt+4kbA2ZO9vCc9fsjeebj2oo//y1DmhTvCnTzCHzvi7d/6+U5WfJ2TLF1oykYNXHamoWCgwBXBCBNuCKLdEGAJwRslSYFoV6E28w//qO8M29XoJvot++dfnSS7BBp8vdAN5Hnbz8qKS5LWeZDuC07UmYWMSwuIE14Uk9QDBDgDwFIE/74gquSFLcai1uNzLPAu/r66ZvMLOk7XX395pv1d+9zGrGis6e41WhDjgKIyHytnUV3jGSjDRE/vNhi05FrpDT51fsF5BFtpyN9RZ4rjo8sTTwCd5Q/0LYa/7HS09Vn4xEWisR88htTmtBVjmmjyWQaXldpOMwqPfYRaa/ZUFReRWS2vuFURymqQyIOf8KYHz64mOAEIE2EVgG6+vqLWo1Mq+iXzTLPAqdPLp+UUs0MRr+NlhmX/rbNXcQFufpJKdU25CiAiMyFnxbdMZKNNkRcoCQ5m6UA6wtSmvh+VEJJE3JxyRhIE7rKMW00mUx0zWTWVRoOs2aOfUTaazYUlVcRma1vONVRiuqQiBafMAuV+j2aDqa7cT0BCUCaCMrpRa3GFw5rXjisYVo10hMH0sRkMll8OI7UFzIfx3ZGZHZpTiZNGoxVA8tgO6uo0ZFiakJn8RdXy8ozV9g3oTP2CsPmHEfpttm0PmYFYCm/uMiRWaVHelBYLKpDIg5vRLuvdUxKqZ58TMtkiOsJSADSRFBO7+rrn3xMO/mYdsg4s6CMhDFWEqA7ANaDJY9mbVotjJpUJa92I3cOmz8+occfkNLE43cr3n/T14vAMlgrnYPgjxGov3t/97WOZF3XY3fxy8QjAGkiNJ8zJ+CFZhvssYmArdLErFGecEFJk8AYcq2JLR/mWhOb7EMkIRPIbOyGUhGyg0ewDdJkBDDOczuzsRtjJM7jrnEoKaTJOEBHlo4gUH/3/guHNZNSqjMbux2RHtJwGgKQJk7jKosFrejsoReXYLDEIh/cNK+nsW1IYwxiYdQEtXQUAmtLmvyydcwNQaMExp8EQwDSxLldWdHZ45et88vWObcZKD2XBLgeNbFTvkCacOl8IaQNXSIEL1ppA6SJlcB4GRxNl5du4UuhIE344gmUAwRAgB0BSBN2nBAKBJyWAKSJ07oOBX+MQP3d+/ga9hgR4f4CaSJc38IyEKAIQJqgIgiAwEbqUOPd13AamwCc+WQTIE2ezIifIZJ1XSnXu7D6lZ/e4VWp+C9N1pY08YoYCsNDAvRpbEPOf+NhOVEkhxCANHEIxnFIhD66ETv+xwG9s2VJnyKqbrpv53pVjqL/XK7BV2Fnq1PjUN6uvn6ckjAO3McpS0iTcQJvd7ZrS5oW5OrRVu0GOSESmH5Stzi3gSNtYU+ya4uafy7XYAHBhKiFMBIEWBOANGGNCgFBwGkJVHT2eGRoiaPatUXNEao2nnx8Tuh+LtfgNC2nrVYoOAhwRQDShCuySBcEeEWgq69/48WW+QryLcR8+Mw4qVtb0oTFUryqJCgMCPCEAKQJTxyBYoAACIAACIxGYOPFloVKzGKPhkgwf4M0cVZXFrcai1uNzlp6lBsEQAAErCRAr/0vwnPPSm7OGBzSxBm9RpaZHpN31tKj3CAAAiBgJYFkXVd0ZTsmAa3E5pTBIU2c0m2QJs7qNpQbBEAABEDgSQQgTZ5ECH8HARAAARAAARAYQwKQJmMIG1mBAAiAAAiAAAg8iQCkyZMI4e8gAAIgAAI8IFDR2VPcasQBfTxwBedFgDThHDEyAAEQAAEQsJ8AdujYz9BZUoA0cRZPDS3nQqV+oVI/9C5+BwEQAAGBEth4sQVv5xCob4eaNabSJH5i/8hksqH47fgdm4ftgIeoIAACIDBAIF9euu/DQxP506Bp5lttGGtpkp2dXTohf44fP+5YaVLUasTRQ3xrTigPCICA0xHIl5cm/TnjdIpqAn5yEov3fXio/tqElyaXL182TsifsrIyx0qTJ7b/74zGi1Gfnt8aKdRPV23NEyE8MUBzQUjDyTlC+2TN1sp+Unvg2etHxAIz7ZsjU2oPPKvP8BGYXQ0n52iTn9Om/Fx4dtEW3WnMfmJjHK8A+fLSQ59nN1S3TMBP7YX6fR8ewqhJPKTJWDY/zf5ERVDA2bC1pRHvCexTsHqFalOE/TBvaQ9opC51B3/RkOErpE9d8vMaqct1ubuQjCJtSffWSL9Xk/h9odmV4atLddVIXXSp/0eAph101R12t7+1cpQCpAmkCaQJR43LcrL373SfXvGGOnJzb7laYJ/2k5mKoABDcZFly625e/2oly5VZDKohfTpbyyqPfDDppMvC8ko2pa2vBCN1OXetf0CM+1hk6omaVL90akCs8tkUPfpjmukLp1X/2ZNu7QQlqMdOpAmkCaQJhbam223tlW2b6tsf2JcPdWFt5/MFJg06S1XqyM3n1m7ur+v74kQRg9gNJzRSF26yjYLrEvoLNkoyC7cZFDXJv1AnyYWmL9MBnVnyfsaqcudyzHCM60lN7D2wI/6798evTGO/ldIE4dPOWFCh6xy8fGQJqM3PSv+yn6HTlHYunPvhglPmtwqyFcEBVw/lm4FtRGC3lAsqT3w4/7GIoF1CbqDv9AfniIwo0wGdZfqY43UpfvSTuGZVif7qS7lBeHZ9UCvrEn857bSD0ZoguN5G6MmGDWBNHFYC1yQq1+Qy+pck9ZSlSIooDFFJjx1cvXzbcqQZX23btmJte+2ViN1aS9YLbAuobv8rxqpy231DoHZZTKo62TPCbILv3tlLzn3odooPJfdLA7TSF3ud7N6atnZoq2KDmkCaQJpYlWTcVjgsk8+Kli94t6FMoGpk7uqs6eXB1fHx9lPquXcH2oSn/5Of0pgXUL90al1yc8JzCiTQU134R3n3heeadfl/1F74IfCG8N72KTSyn7adHqp/a3VsSlAmkCaQJo4tk2xTe32dZ0iKKDu77sFJk16y9V1f9+tCAowGuzdl/+gt6Mm6Znmr/9bYF1dj+agRurScS5cYHaZDOpvDv9nbdIzDxoKBGZarzZNI3Vpy1shMLtMBvWt81vJ9U9tKrZPrjEJB2kCaQJpMiZNzVImFbtiTi8Pvqs6KzB1cu9CWcGaFertUZaMtu7etxU7NVKXHs1BgXUJzdkLBdmF39ed1EhdWk8HC8xfJoO64fhMcu5Dd1J4pl2XE/pj/2Vdy3wUeuPFloVKfUVnz6Mbjvkf0gTSBNLEMW3JhlTutbUpggKu7IgSmDTpLVc3JB9QBAV0VF21AQszysMHPXWpvxDe7s1HXfgbwuvnGjNna6QufbrjAjPtQUOBJuF7TSfnC8wuciaucg+5/kl3iNn0WF5jhw526LCsKtYFww4d63iNGpr9Dh1zMrUpMkVQQFeeUnjq5GzYunPhG8yW2nxxW5dKbv0o/6vAuoS2/JWC7ML7G4s0iU/dyJojMH+ZDOpWZZBQ9343HPt1XeovHj6wevAjWdcVXdlef/e+zQ3cYkSMmmDUBKMmFpuGLTdtkCbfGY35by2/uHmT8KRJ64kMRVBAU/5pW1A+Hkd/7L90B10F1tVRJ7D96EaWYE9gM1bFC8xl1PEtk/SHJwvPrt7aIxqpy7cVnz/e8sbtN0gTSBNIk3FrfnTGDTlfK4ICWk9kCE+dXNy8qWDNqge9vXYivtemIteNlnwosC6hUyXgE9gm6Q65CcxfJoO6g3LZbSEe32I45V+T9MyD3g47W6tDokOaQJpAmjikKdmVSPG7YWfD1glPmnTlKcldSGlyu+hQkW8oX6vd/y/C2/oh1BPYOks3a6Quty5ECU+daA88qxXi3u/v9KdqEp9uOfcH+1ur/SlAmkCacCdNciN8CVfRsI/HqrRO1m867ryUdrC0hXVwqwKO/ZuHR2qxbRfOK4IC6g8kCU+dVG7/TPnm670d9n4Vo09ga8sLEVhX9+gEtu0Cs8tkUGtlz2llP33YpBKYaXcrYoW697u94Pfk+qfb2pGeVMPvV3T2FLcau/r6h//JnjtjIk2Ko18yd0+ek6e//LsVmxOytA5f1mptgjionqw5XC6D7Wyp19ZqyU/aOz5uIfFXqOva+hb2ysR4ZvMM/91XrFIcrAPbLE2am+09sWN4oy3708f5q5Ybz5cKTJ3cOVukfCPo6t93DzfZ2jutqvcEuXtTqCewGa/EkcsXiv8gMGliMqjJE9iSJglvDO/hjXO1B358Q7GEfdu0c4fOt99+293dPTy7sZImnnM+zCs/W1VeUH5anvJF6KJfEb9Zta/cWjHh2PCQJmR94FKaDGqEgk0+bmsOmQc/6s/sXrdUMu2XnlNmzVsVlVtvNBo7Cz+Z4xOwr4qOc2VfwJQ5mwuUm2d4kKrW7ZeLv1QPpuaoK5ulSU1NTWpqam1t7ZAWtVCpX6i08chn+gS22t27BCZNesvVtbt3KYIC7jQ2DMFl7a8PejtqD/xIeG/uFfQJbJNrEr7/QK8UmDrp06aTx7coXxeYXeS7kMo+0UhdjIYzLJvnxostC3JtP9ekr69v//79Z86cGSJQxkyaLNhWxhAW9ac/XeTmvTr5fAt583LxvjD/F7093Qhv34Vvf5E+MKCiLUj54LWXf0UQk6cvWrUtp6qaCuy4fyFNyLo3DtJEuz/AV7LuaFWn0dipPRmx0PMVSpF0ntk823dVcr3RWH9ola8k4gypZOoTg934N2piMplSUlLi4+NTUlKYAsWGHTrM9n9l9y7lG0F3zhaNqE7yExI/i9OVq0cMUJ4e9SLh+uKG0tHCjBJd3auIeo0gpqxOGDmLUaNbyvfehbL8VcsvfLqFaaxt1x1XYsjdm1UJVnYJqirZljQlf98U2Pz1otqkZ/oFd4jq/etZGqlLiyLASn+p+R++4fgsQe79NhnUulTR9aNetrVQG2Kp1ep46ocpUMZJmrQ0nE95w9PzDam2oVqbFjpj8sKtx8+2NFyu+vpT/8kDkqU4+iXvBe8dLztfX57+19e8vVeRgR2pTiBNyFo09tLkyt8Wu4XsJ0dKqB+G+Ggp2CSZ8d6h5Pf8Zm/KpYdYGH99FMFx/9s8amIymWpqauLj4//xj38wBUp0ZXt0ZbsNjZOO0tvRoXzz9YqoT0eSBdWfzXXzXJlrqft/FMVuaVKWU5oQl5uR9yhBq4WIxYj1+xMUQQHt6otWwbly5Ypare7r62PG0snd9Gli67oufVyYD7Hky0zrYhnGroMcOIFNuYy3JbS5YDdOkCew9dYesTkFfkYkj2+R/q8bmRJ+Fs+eUt2p2EUuYa5NYrY77q77+voSExPj4+O/+uqr+Ph4WqCMmzSpLv74/3ou+LSs4XLaKk/vVbL6AdlxOW2tt+cqaX1DeoSvZ0gCPaxS3VImT0lz9PIUSBOyso29NDn1ns/QtbG+HxTQgqMld8MswnXWB6cezf1wLU0SEhJowW7bv7Q0oeOmpqbq9TbO5pibvTY1hTxENffU8A6+cJ3vI26+kXJ1b3lObmTw4uliN0I87UX/jbGZt0nJMihNbmdsWexJzHg9hhxlUcRFvT53hqfYbZrkrUhZOxlSHvki4bY44uhnwfOmkfffjqFSGBw1ydw1x7xGjHAVSXZlqXvLi8p3rHztxalTCPGMxaFHs1RkObO2LCaI2euiIudPnfJqDJW4BUFzNmxd8bthZkvZXNCDvYmJiUyB0n2dfJvJbfU2tg/fqzuXUtOCriLCfVnMLYOqTvbOUslUdw+xWOK/VZ5DpaOqk65c4iN295oVErlz6yuEq2RDFSlNck5tWuTnJRbPXLRVGhHiQXivpwZs9JknNvnPnyl29/JdEhpVpSdFTMF6satH4J69wX5es7YqrZY1bfmryG/h2qMs7aKy89++N3TpTLG7h++S8NhGSkv1FO4Mf8VX7EG4+0jWfC5ro24OKVtbdsSaeXSYWUvDY+qo8psuxW1fMdfPS0xHvGUpIsuyMYORXXjC9xqO/Zp508Zr1ZYlHoRkU4xs/VxvD0IsCfxqYCSsqGrvyqWSqWIPsV9A6AkVufD2ljTQXTQ17MstIT5ijlRpi3IpOfchxONb6o9O1ab87OF3Rjbt9NixY7Y9P82xmA9S+uahpCOHPs927GjEsNSKo1/yfHxCp6WhOo+UJtvKGwpiFxAvRyvMwyFlVODyqr+FuE2P+NqhwyRDCgZpQta6cZEmbu+kW14JS871eE7xDUi4OjA2wrU02b9/v9qmH5VKRTchulElJSUxu0827dlimAe9vfmrV5R9GD5cmtxWyKLmE66egYnyzBtl6vLIuW4i8eJ3Y3KTY3e96usq8t2YrBqUJvlxf5xOTJkfUVqm7i3P3DVf7Orpvys5vXRH4AzR1LfjigZCEr6vvRtXKt/59nQy5aNnmRM6Kp08ITchITd2w2uehOv0lVln1e1xK6eJiNmrY8sz4iLniN3mRJSTuoecA3LzlLwVGZOVnEMpJAvSxJCepggKaFDkWDR8pJvmwV6mQNGfmFmX8jzrrR9FddJgbxExf1Nc1aUi06WoJR6EOGBLSWHc1nmEq1fwiVq16VIUKV8kwbKMhLTwuWIPwnVeRJVBfUsWKBYR3su2nMqO3b7M111EeIfLTAaVetMsV5Hvmr3yquyIpV6EX7isx6AuWT/VVUR2jTJZQlWt1dKkv7FIm/ycPt2bZbdNZUf4he5UX0o/sX6Wq2jqGlmeySDfLiFcfYJlSnkaedP342yyn36sbFcTPvYhxAERBcp0tSx0vtfUEGmOyZC55xWxq5f/nux09d5AP9HUMDk5//VYROuNom1pywvRSF3uVu5hadqIwSg3uXvN/VgmJ0vuQbgHRDUa1LfkK71FhGR9bBXpU7E75bseWaC7iBDPDNwqjS1RcTWXV5P4tCCPb6HXP9289JeRGibz/rVr12x6iA5GSk1NpYdMzAMnitSi8ZEmZ+NeI7zXyuqHSRNax5RX7SOlyXFIE2YN4OJ67KXJlX2L3RZuv2iel2lpqB/QKdrkEJ95UYUlUfOmLd1fSwXgWprIZDLbqJ45c4aWJo4SJeZiNCoViqCA5iOHh6mTvMTFhOvAhA455uE6PbSQntzJiJgnIqatTrhNj5pM939rvth1WvDRfEoiUKMaU0LiKNEg2zidmBISOxBy2spcUruoqSEZSVQGU5rQ8iIvK8TXlZi1Mbmot1yVFSJ2JeZSwyfqGzH+bqLBKG6Ld94YbaaJTO38xveV60IvlJYOPpOedHX+/HnmyBYtULqbyBPYvj37xxH7MOob/+Bfs9/xEz2a0NHnNV7KbKR6WfUmX1eRZHuh+pbU311ELN1LjaDo48K8aGmiKggV0wHIpJRkIpQ0kW+dSbjOfEdN5qI6FSp29QktMahLwqdSUsBqUWIu560LURqpy52KXeY7o1xQ2c3aXkhlVxgxX0SI1yf0GIraLmU2XiV74h75SjFpVB6pMJhl0yeE+xDuksDt0ji1uc+mBiTEoXE9pFGyj2cS4tBYUm8xIw6has2vNUmTrsvtPoGNlibk0JfaZEjfM4+gyFMu8Ji7R0WiaCNdSfqUlibzP+d2Fq+zJIKc+7j4l1E85aR/av76lZqkSd8ZDeZHk8ULO3fomEym5uZm8/CJebnJOE3oaI+/97Lb9A3HL7cMTOhIByd0VnlT8zvpEb5E0L6zA6MpZdK/fiFz8I4ejJqQNW3spYlRuz/glz7B+8jTSjrrc//i7zM7qpRc8Xpw1bQ5mwvIxbGFEXN8ghO1RqOx5WCw26wPTlm139gsep50YfNak+7u7vj4+OGiZFtl+zY71prQLb/j6hVKmshHlSZxb3sSbnO2VNNqIH8nOW5BTqZQEzoiwo0gXEWzIuXUhIv8nRkiwpUQT/EkP24iOuLg1E9vubr8/VmuolnDpYkuJnCaSLw4Uk7JmryDr1Ibpqh0ppBZiN+OU7FfOXt1R3TOu2HmxxD7C/q7lHmAqkJ91rpdqUxpUivbEzrXz0fs7kG4k4fukN1Y45dz3UXiMDl9Agc18EB+8y5KW0a4evjLrlLdPzXcQkkTSruIxGIv6uNBhkm7SvXiHnO/umS7NLlXnUhKk8v/w6YzI0WDxyIZnR3dZ6+IuWXIK4gMnD9zKmkdNY1F6y0q8GDZGjM2hEimUuYTYkmwrFBFCy9XjwGj3EWE+7wtdbQ0sc8o2pa61H/VHfp3NnaNFoYyU0zPqRlyvgogpUmBIY90k4hwN7uDciUtTUJkXI2X0OW8dzWelCbnt45WbGs0HH/SuVn0jkbqMgbSJCsry7zExKx+xkyaDGwePltelJ72ReiiycRv/iCromZYtGlh9DLY+obqquMf+k+mJUt13scveb4YmlJ0XlueHksug92HZbBmvznuYhykidFIbh7295viQbj5SoK3pF/pNBrr01f5+m1QDKwxaVG8O8N3VbLWaNQeWjfH083DL+LMk4SG9X+3WZqUlJRYnL6xc4cO7dVz4RtU4RuG6RJ1b/mwUZNpoYXUmEdvxobZ1KjJwDTN9JVZWbFvTyPc5lPaZWDUJEanyKE/N/IfTeg82stjUZrQq1WmvLpzQAA9GjWJkg+ko1PktJcNH2ihh1uG/kufDNtw6murKi/9jYoWJeY5HUPhW3UpP2M9oaM2MaRJVaSEnPuQ5lBDAgOjJtRX7YEBBhNj1IQcEaG0C9lhDB01CS24lNNIf67mDQwweCyyR5roD0+uP/orlp0TNZ7xaFGLcoOEGjUxZYd6iwi/9XFt5KhJMDVqQg4F0TpmSNl6rqaXSN9Z4kW4r4i9NTBqEjNg0aWcNmroxWJEliU0B7utjiYlV+XfzHdsvLAsTQZGTbYrH7njUs4t/cCoyRqOpUldyvOCnNB5oFfWJE66eenTJ7bWis6eIjuOXGtubjaPlDDzGitpMriczs1zxoLgiH3MNa2Xi/eF+r/oSW4efvF3G/ZlDYygaBUpH/zuN5MJws375VWfYvMw02+Oux4baWK9bBiLGDZLkyF7RszeWJCrX5Br10rY5jMFiqCAb3NOWpImRdSghWRjrKz6rLo8UkKvNSlMjotaPNWVoMdIBsdCdDsWTRGJ34jJGVhrMs1/V4K8NC7irflz396RObgqhRp3sSBNyuRRcwhXQvLHmDhyxUlCQqlCRa81mbcupjRDdnDdonmLN+Q+tjxlqBxhWnHxk4+sXQZrMpnob1RmUWIymXpuXqJOQLdmCF25gZyLWbaloDBHRS4TmRqyV16VsWUNOXIwNUyaSXfM7pKVaY+vNWmTkmtN/FZsKciO3R4wdK1J2F6ZWhm7ddncJetj20bo/tn3wV3n/6yRuvRoDrKMQkkTwntZxKnsuD3LfF2p1SE9GeQkjl9oTJUybusyX7GIkITHNeoflyaXdob4iOeHx6oL06uyt4T4EN7r43rotSY+/nsy5Gp5xJpX5obtJadCHCJNavf/kL3kGs18y9JkYK3J/PAYdaEsLXzR/IANBbVjIU26zm+h1tDsHa3MdgyZFIT7in38yYGxS1FLfab6hZNLsAdv2pHyEwtsULzKfhms+QHowIsxkSbmJa78usCEDlmRIE0c2JzsTKq/r+/M2tXln25h9ujM6xuxK2d7Em6esyKTqR067wfOo3fozAmMjKPXnw5Kk94yOXnGybTgLFI9xEW+KplGLlb1Xbw6qvTsY3t5LE/o5O98g5yyGatMIcsAAA4aSURBVPws/iyzt7yodMdKcluQSDztxcCouByyeIObekaUJvRbiNsunLcKUXNzM71OmakF6zNnXZcTT3y2PhZAL99DCgux94qdjZdiqA0sYsmyDQWFseESsbtPYNpVVdXe4PleYncvyZrPo8IlA8tgTYacE+RmELF4pv/Wve8s8aDXmqhN+sy08EUSL7G7x1TJoy0h9vTiD2+c0x54tjl74WPFHrXvobPb+uU75A4dL9+lm8iREpM+XbZC4u0h9pYEfpUtly3zdffwDZerHi+bqkpK7mchZ23IHUZbSgZmrOK2LpN4e1A310epqeU4j0e0Za7q5pnVVkmu0QiMIE1MhiL13pVLZopJF0sCt1O7rugJHU5HTWqSfuCYnUcjOJraVzX3K5XaRI9prY97tBGMujlCrNEAsotCv4W4qybBqtbq2MCQJniHDnfv0BmLkQ978rB51MSxjdCcmi79iCIooLvoDFOOCOP6bNi6sk8+MlvK8qK5uZkpSkwm0536THK75lXyGe3gj76orZZea0JuYHF/hdz6QS4mrc27Re+tpZaaSiLlDs6XyuVm4Tprz+C3XzRwYciQNB/eOFeT8P3mnMVD7gvg17b85YI8r8VkUDccmz6WR65ZfBpAmkCaQJpYbBpjfbPv1i3lm69Xx3whDC3CtKJBtl8RFHD7us5+prrDHo0nXnR8x3Y1Zo0X4S4JPaGUF3wZSO40jkwndUkGuSvVL3RnSaEsLXRwL65jC0DN6z9l7ZGpTiFNmrLn1SQ+9Z3+lGOJjXtqD2+c0yQ+ZTjlP+4lcXgB7lbuIWepbuSybK3Juq5tle31d++zDM8yGKQJpAmkCcvGwm2wqri/5698825pCbNTF8D1vQtlBWtWVsbush9fZ/Ve7r6nNso3hMyjNrb4SEI2xQ6cQmbIK/k8mJ4pEEsWhe9Npw8ic2x/YDj1/2oSn7b2RTP8lybfXf9ak/BP7QWrHYuLD6k1ZkoEKbnIU+oPiRqyX2LfWu3fPGwxL0gTSBNIE4tNw5abNu/QudPYoAgKuP5VnAC0yBATtHtjlW++3tvRYQtQRpz++7drk39iULzKh57JgWWg5/VvFoc5ME2eJPXNEa/a/f/S38jt9t2xN5Z8MVDCP908s3bss+Y6x64ycmFvb2cVo+U94TJZ1xWNUROHnsCGZbBkncMy2Ce0PGv+bLM0ubA1svD3q4d06gL49c7ZIuWbr2tTU6yhaDls2/mPbBha4PpRbn/6Dcd+rT3wrBUboR2+yIabBO9VJ2mkLp2qj+xHxLcUrqf9Z+2BHz+8cY5vBbOzPORabNlPW4rXWm6BY3sXoyYYNcGoydi2uWG53bxcrggKaJIfFIAWGWJC5fbP8t9a/p2R1Zs4hoEZvHG/W6+Rugjve+rdit1Wb4TmRknY2asNj16X8nNdygvD7zv7HWPlPo3Upav0T85uyPDytxf8vibpmQf32gYb3vhdQZpAmkCajF/7o3Ie+Yy1EffiDlEA/Px14Iw1K1+aY9EZzflvaGU/Fd73VF3qv+kOuQ/vJJz9Dn3gR3f5X53dkOHlr0t+ru7gvw6/7+x3vtOfqkl8muVLcyw2UsfehDSBNIE0cWybsi61G6dzRz5jzbmlyYWPN9pwxtpwfPQZa11lkc7+9B9S/q6ySKG+t7Ym6QeOOWONZ0NEXapN7F9yNMTdPP/VkLPEtjPWKjp7iu04DXZ4e6fvQJpAmkCajNQ6OL//oLe3YM2qS1v+xM9hD3tKRZ+x1n7xgv0Q6zNn6VJFPH+yW1s8+oy1xhO/sTYi/8PTB36wP9aW/xaZS1ibNKn+6FTzr4K5oNdi36pJtKG1YocO9cIdR54ni2WwZD3EMlgbWuNIURYq9QuVVhxUr5WnKoICbhXk2yMC+BmXPGPtTx+PBIr9/e5vjjrm9Ss8+/7dXvB7jdSlT3dcMN0bbQh94EdT9gKB2WUyqFuVQQ471pZntdGeM9Y2XmxZkKuv6Oxh36jZhMSoCUZNMGrCpqWwCmPVDp3ejg7lm69f/WIHP7WFPaWqP5DosDPW5P/O6Vng49KDUvP6T7XkBo5L7pxm2pgpsfZYW07L46jE+xuLNIlPNee84qgE+ZPOnYpd5MSi4QyrZ9xYBYI0gTSBNHFYa4uubI+ubGeZ3JU9saeXB99VnbVHBPAwrvF8af6q5Vd2O+CMtY6rX3J3xto49g2GnCWC3AhNH/jRdnr5OLLlKOuG47M0UhfhHWtLn7HWeOq/WT61xiwYpAmkCaTJmDW3wYxuX9cpggJ0cXt5qC3sLFLt7l0OOWPtQW9H7YEfCu/1K/S8/rfFf+CoEx3HZL9Jm1yb9Izwzljr06ZrpC7t+W+NI1uOsu4q22ztGWuDTzEuryBNIE0gTbhsYSOkXfbJRwWrV9gpAngY3YFnrLWWvl+T+LTwvqc2HPt1XfJzwjtjjT7wo6MkgqNOdByTvX7oP2oP/FB4kqu/sahW9uOW4nUjPKXG8zakCaRJfHZ2dumE/Dl+/LhMJhv79td+8YIiKKDxoIyH2sLOIlVE/yX/reUPenvtpEqfsSa816/Q8/q3Ln42jh0tR1nXJf9vQZ6xdqeCnFXsVG3iiNs4JttesNr+M9a426GT9OeM0ymqCfjJSSze9+Gh+mvNdj5FHR7dxeEpjpJgVlZW5gT+yc1l+4LNURia/1TcaixuffLJp8Xvhp17N8xOEcDD6B25p0jJlXvKDMTmi6bTr9Ue+LHwvqfqUv/tuiDPWKMO/Oi+tHMcO1qOstbKfiJIyTVwxlp5lM2NlI7IkTS5lF99bPfpY7uVE/NzfM/p1oZv7XSNw6OPqTRxeOkncoJsdug05HytCApQ/+kjzd/+R2CfcxvWF/9xvf0V4F5riUbqoj/yq5uF64T0acqcrZG63MiUCMko2paaxH8m3yQgLH/dLFzXdPIljdSl4Zif8ExryPCtO/jCwwf2bvqt6Owp4uDINfsfI0jB4QQgTRyOdIwSXJCrX5A72rkm3xmN+atXKoIChPppV1+0n7X++HSN1EWAn6+EaJTUpUaQzqKMuiZc08iXN9Um2d9akcLEIQBpMnF8DUtBAARAAARAwAkIQJo4gZNQRBAAARAAARCYOAQgTSaOr2EpCIAACDgxgWRd17bK9vq7953YBhSdHQFIE3acEAoEQAAEQGBcCXC0Q2dcbULmlglAmljmwv+7bHbo8N8KlBAEQAAEWBJI1nVFY9SEJSwnDwZp4qwOhDRxVs+h3CAAAiAAAqMSgDQZFQ+P/1jUaixiceQajy1A0UAABEAABEDAAgFIEwtQcAsEQAAEQAAEQGC8CECajBd55AsCIAACIGAFgazG7mKcBmsFMCcOCmnixM5D0UEABEBgghCov3sfC+wmiK9NJhOkibP6uqjVuFCp33ixxVkNQLlBAARAgDWB+rv3/bJ1ftk61jEQ0IkJQJo4q/OSdV2TUqqnHNM6qwEoNwiAAAhYSaCrr9/KGAjulAQgTZzSbSaTqauvf21JU0WnvS/zdFb7UW4QAAEQAAGBEoA0EahjYRYIgAAIgAAIOCcBSBPn9BtKDQIgAAITgwD96pyJYSusHCAAaSKEqlDR2ZOs6xKCJbABBEAABBgEzBtzdl/rYNzGpcAJQJo4vYMrOnteOKyZlFKd2djt9MbAABAAARB4nECyrmttSdPj9/CbwAlAmgjBwWtLmvyydVi7LgRfwgYQAAEQmPAEIE0EUgWYuqSrrz8LIygCcSzMAIGJRaCrr3/TxZZlhY0Ty2xY+zgBSJPHeQjiN/rIkwW5erM19Xfvb6ts31bZbr5jMpnoxWX1d++bbxa1GrdVtjOXrYx9RJPJZFtReRWR+ebF4VRHKapDItJeY/qRZY7CiMis0nQlZ1IdxUZmRNprEzPikAcF3R7ZwHFIxK6+fvrUV8xQm5/ME/AC0kSATo+ubH/+sIY5O1vUahx+xvOCXP2klGrmwze6sn1SSjVT04x9RJPJZFtReRUxmqECh1MdpagOiUh7jelHljkKIyKzStOVnEl1FBuZEWmvTcyIk1KqmY9Fuj2ygeOoiNGV7dAlTBdMwGtIE8E6nTnFU3/3fnRlO/M5S4+aRFe2D/kyFD1s1GSMI5pMJtty5FVE5nO8qNU4hOooRXVIRNrdQ0ZNRqLKzFEYEZlVOlnXFV3ZztJGZkTaaxMz4pAHBV1z2MBxVETBPpRhGGsCkCasUSEgCIAACIAACIAA9wQgTbhnjBxAAARAAARAAARYE4A0YY0KAUEABEAABEAABLgnAGnCPWPkAAIgAAIgAAIgwJoApAlrVAgIAiAAAiAAAiDAPQFIE+4ZIwcQAAEQAAEQAAHWBCBNWKNCQBAAARAAARAAAe4JQJpwzxg5gAAIgAAIgAAIsCYAacIaFQKCAAiAAAiAAAhwTwDShHvGyAEEQAAEQAAEQIA1AUgT1qgQEARAAARAAARAgHsCkCbcM0YOIAACIAACIAACrAlAmrBGhYAgAAIgAAIgAALcE4A04Z4xcgABEAABEAABEGBNANKENSoEBAEQAAEQAAEQ4J4ApAn3jJEDCIAACIAACIAAawKQJqxRISAIgAAIgAAIgAD3BCBNuGeMHEAABEAABEAABFgTgDRhjQoBQQAEQAAEQAAEuCcAacI9Y+QAAiAAAiAAAiDAmgCkCWtUCAgCIAACIAACIMA9AUgT7hkjBxAAARAAARAAAdYEIE1Yo0JAEAABEAABEAAB7glAmnDPGDmAAAiAAAiAAAiwJgBpwhoVAoIACIAACIAACHBPANKEe8bIAQRAAARAAARAgDUBSBPWqBAQBEAABEAABECAewL/H7HZqOEWhT+ZAAAAAElFTkSuQmCC)"
      ]
    },
    {
      "cell_type": "code",
      "metadata": {
        "colab": {
          "base_uri": "https://localhost:8080/"
        },
        "id": "rMmfQbXK_kl1",
        "outputId": "7ef61e60-8068-422c-c620-62dae047135d"
      },
      "source": [
        "print(nlp.pipe_names)"
      ],
      "execution_count": null,
      "outputs": [
        {
          "output_type": "stream",
          "text": [
            "['tagger', 'parser', 'ner']\n"
          ],
          "name": "stdout"
        }
      ]
    },
    {
      "cell_type": "code",
      "metadata": {
        "colab": {
          "base_uri": "https://localhost:8080/"
        },
        "id": "rQv-LPjC8d0y",
        "outputId": "22ac08c6-68bc-46ba-e126-45e04fec565a"
      },
      "source": [
        "doc = nlp(text, disable=[\"tagger\", \"parser\", \"ner\"])\n",
        "\n",
        "print(*doc, sep=\"\\n\")"
      ],
      "execution_count": null,
      "outputs": [
        {
          "output_type": "stream",
          "text": [
            "Adam\n",
            "Mickiewicz\n",
            "żył\n",
            "w\n",
            "latach\n",
            "1798\n",
            "-\n",
            "1855\n",
            ".\n"
          ],
          "name": "stdout"
        }
      ]
    },
    {
      "cell_type": "code",
      "metadata": {
        "colab": {
          "base_uri": "https://localhost:8080/"
        },
        "id": "vc_bCyDVVXl_",
        "outputId": "3803b89d-f7f7-4b5a-eb6c-a34b225f549a"
      },
      "source": [
        "text_long = \"\"\"Nagietek polny (Calendula arvensis M.Bieb.) – gatunek rośliny \n",
        "jednorocznej należącej do rodziny astrowatych (Asteraceae). Występuje w basenie \n",
        "Morza Śródziemnego, na wyspach Makaronezji oraz w południowo-zachodniej Azji \n",
        "sięgając tam na wschodzie po Turkmenistan. W Europie sięga na północ po Belgię, \n",
        "Niemcy, Węgry i Ukrainę. W dawnych granicach Polski notowany był jako bardzo \n",
        "rzadki chwast na Podolu i południowym Wołyniu. We współczesnych granicach \n",
        "notowany jest bardzo rzadko, przy czym określany jest różnie – jako zadomowiony \n",
        "składnik flory lub pojawiający się tylko przejściowo (efemerofit). Jako gatunek \n",
        "introdukowany rośnie także w Kalifornii, Południowej Afryce, Australii \n",
        "i Nowej Zelandii, Korei i Ameryce Południowej.\"\"\"\n",
        "print(len(text_long))"
      ],
      "execution_count": null,
      "outputs": [
        {
          "output_type": "stream",
          "text": [
            "727\n"
          ],
          "name": "stdout"
        }
      ]
    },
    {
      "cell_type": "code",
      "metadata": {
        "colab": {
          "base_uri": "https://localhost:8080/"
        },
        "id": "P6s4r3tPVDBq",
        "outputId": "70603c78-0ae2-4f2a-bb96-a8ef4ba2b60c"
      },
      "source": [
        "%%time\n",
        "for n in range(10):\n",
        "  doc = nlp(text_long)\n",
        "print(len(doc))"
      ],
      "execution_count": null,
      "outputs": [
        {
          "output_type": "stream",
          "text": [
            "122\n",
            "CPU times: user 233 ms, sys: 0 ns, total: 233 ms\n",
            "Wall time: 240 ms\n"
          ],
          "name": "stdout"
        }
      ]
    },
    {
      "cell_type": "code",
      "metadata": {
        "colab": {
          "base_uri": "https://localhost:8080/"
        },
        "id": "6IiXY__tVinj",
        "outputId": "dc74d50e-c804-48e5-cd80-12d73e36655b"
      },
      "source": [
        "%%time\n",
        "for n in range(10):\n",
        "  doc = nlp(text_long, disable=[\"tagger\", \"parser\", \"ner\"])\n",
        "print(len(doc))"
      ],
      "execution_count": null,
      "outputs": [
        {
          "output_type": "stream",
          "text": [
            "122\n",
            "CPU times: user 913 µs, sys: 0 ns, total: 913 µs\n",
            "Wall time: 843 µs\n"
          ],
          "name": "stdout"
        }
      ]
    },
    {
      "cell_type": "markdown",
      "metadata": {
        "id": "OsYdyIZP_Qm-"
      },
      "source": [
        "### Zasady tokenizacji"
      ]
    },
    {
      "cell_type": "markdown",
      "metadata": {
        "id": "ZMj5LICrQOpJ"
      },
      "source": [
        "**\"Let\\'s go to N.Y.!\"**"
      ]
    },
    {
      "cell_type": "markdown",
      "metadata": {
        "id": "lu8MEl6MAvD4"
      },
      "source": [
        "![image.png](data:image/png;base64,iVBORw0KGgoAAAANSUhEUgAAAlgAAAF8CAYAAAATs8VhAAAgAElEQVR4AeydB5gUxbbH+3r1Xe99N7zv+j2v+rxKXFayZAQBCSIiWREQMLAzBBXhAhJE3IBkSSJLElQkB2GHBSSziITZJe0iSFAQJEqQLALnfaeWmumZ7Z6ununu6Zk++33N9FRVV9f5V3XVj1PVNZJEf6QAKUAKkAKkAClACpACpAApQAqQAqQAKUAKkAKkAClACpACpAApQAqQAqQAKUAKkAKkAClACpACpAApQAqQAqQAKUAKkAKkAClACpACpAApQAqQAqQAKUAKkAKkAClACpACpAApQAqQAqQAKUAKkAKkAClACpACpAApQAqQAqQAKUAKkAKkAClACpACpAApQArEggI7JamQV5KS6SANFNpAK7U27Ha727nd7uRYPpKSktqq2YfhZGNs128st027lL1jx44PhHpGKI4UIAVCKOCVpDrZkgR0kAYKbWC2WtNxu93L3G43xPLhcrk8avZhONkY2/Uby23TLmV3uVwJoZ4RiiMFSIEQCnDAyi1aFI66XXSQBnDohRc4cGsC1owZM2DRokUxdUyfPp2DYUaIR8MHWGRjbNVvrLVHO5a3b9++7BkhwArVQ1AcKaChAAesQ881hBs7sukgDeDclMnCgLV//364evVqTB1YZvQQiHqwyMbYqt9Ya492LO/w4cP5M0IeLI0xlKJJAVUFCLAIKoPBmgAr/3HhU4QEWARYdoQgM8tEgKU6ZFIEKSCuAAEWARYBlvLzQoBFYGUmxNg5bwIs5T6BQkkBXQoQYBFgEWApPzIEWARYdoYgM8tGgKXcJ1AoKaBLAQIsAiwCLOVHhgCLAMtMiLFz3gRYyn0ChZICuhQgwCLAIsBSfmQIsAiw7AxBZpaNAEu5T6BQUkCXAgRYBFgEWMqPDAEWAZaZEGPnvAmwlPsECiUFdClAgEWARYCl/MgQYBFg2RmCzCybVYCVLUndvJK0U2GTY75VDH2auBG4V5JOeiXpi92S9KByL0ihESlAgEWARYCl/AgRYBFgmQkxds7bCsDyStJ7BFa2+QWRA9mSdJ9yT0ihYStAgEWARYCl/PgQYBFg2RmCzCybFYCVLUnHEbC8JnpoCODEAS5HktzKPSGFhq0AARYBFgGW8uNDgEWAZSbE2DlviwCLpv9sAJc5/jJMVO4JKTRsBQiwCLAIsJQfHwIsAiw7Q5CZZTMbsPZL0t/IuyTuXbJIK9XfnlXuISlUU4FYBqxvZ8+G5s+9wH4/cezA92Fwz97s/Kc1q+GRx4rC8Hf7mvLbil07vAqPFipuSt7BsBON7/RTOfmPDQFW7ADWvPkL2TP/bKMmcPny5QK/jbkxaxOL37pte4E4BJVDhw9DQsly0PF1l2I85vlc42ZQvmI1OHnyVECanB07Wd4TJk5i4QsXfcW+ezKXw/sfpLLzEydOBlxjJhwZkXe8Atbe8uXB93fnDvx25AicGjkScv70J+ZN+/2XX3zRty9dgsvffAP7atRgcUffessXJz852qULi7+8YYM8mJ1jfghHp0aNKhB358YNFnesTx8Wd8TtZt93/P3v8PvZs3A9Lw9y7ruPhRFgaaKMPRPEMmANevsdmD36IwY6TRs2goPLM00BrLpPPwOZkyf7gOqL4SOgRGJp3/doQJCZ9yTAMhawvlqSAQ0aNbF0gHXCD1rLQYID1v89XgzSJ00toLUWYGFeU6ZNZzC0ZKmnwPWTpkxjcUszCsbl5uaxuMlTP2XXeb3Z8NTTz8DKr1fBosVLGLidO3euQJ7y8tvtPN4B68rWrfDzwIFwOSuLwc2J5GQGMghEeBzv1w9OjxkDt69dg1vnzkHOn/8MHLDOzZ4Nx3r39h17y5Vj13LAwmt5/NFu3Vjc/tq1Wdi1PXvy75eSAj/16MHiEKKu79sHN0+ehB1//SucHDqUpcFrLAIrfh/yYBmNabEMWG+/9gbr2BA2nqpaAxCy8NxID9b5b79h3io5YP3w9UqoX7seAZbbDfRDyNpeng9SBxNgXdXWKRLI4IDVs3dfBjQ//PhjANCIANaVK1egaYuXoELlp+DMmTO+6388coTlmeTu5guTl3X//u9ZPzTjsy988fUbNobvvz8A6LmqWqO2L1x+nZ3P4x2wzkyaxKBix1/+Andu3oSr2dnsO8LVjUOHOHDA2U8/ZbCTV7q0D7B+aN/eFy8HIA5YOfffrxiPac8vXMjy2/XQQwFpDjRowMLPTpvGoO7czJkB8fL7mHhOgEWA5V8z9eWoj6BXkpuBztDefWD8+4N0A9a0D4dAg2fqQ7GEUlCyZDno0r4j/Lj6a5bPpi+/ZB0nTjfiUahoIgv3pKcDHtyLtPjjCfBc3WchIbE0FC1ekuU3b8xYXzxPFyufVniwTp06Dd3e6gGJpctD8SfKQid3V9i1ezfT+cvZc3wD0u7de6DDa0nwRJkn4bEiJaB6zWdg2IiP4NKlS740egcqK707L77cLqANjR47npUbp5l6v9sfnqxUHf5dOAHKVqgCb7/zH/jpp2Nh2yXXwUob5feN1jkHrIMHD0G5ilVZe5KXRQSwMD16owoVewL6vzfIVw/YNkuWqQBHjhz1hcnzRpjD/oG32wMHDsKIUWNY2tVr1sG8BYsUr5PnYbdzpwAWwsrtK1fgWm4uAxoErN+OHoXcYsVgf82aDLZuX70KO//xDx9goedpT6FCviP7D39g13LAyi1Rwhe3++GHA0BJDbCwHBcWL2aQdeviRdj1r38FXGciVMnvQ4BFgOUHLDVgEfVgjR7wHusYEc72Zy6DDV98DvVq1WXesItbNsNV7zbY8PnnLM2CcePhTFZWAWjasWgh4LREao//wN6lS+G7jKUw/N1+7JqNM78okF6tzHYKtwKw3ureE4oklIKZs+ZAbt5eGDt+AtSu25DpNmv2XDYg4YBWqmxFaPRCc9iwMQu+27ePTePgANjvvffDHrSshI+zZ89C67YdoN6zzzNvxvnzFwA9JU2at2JQhet19u3fD8syV0DFKjUAPR+RwCMfqK20kd8zmp8csI4fP86ABoFnxcqvfW1EFLDQhlGjxzKv9bbtXli+4mvWJjk8Kdl47NgxliYWQUrJHgyLd8A6N2sW5BYtCsf792dQcyY9nYEGApb87/fTp+FQixYsjk8RyuPxHKf1EIA4YMnjcSpSDkehAAunE/Hv8qZNAdfIrzf5nACLAMsYwPp16xbmtXr1pTYBELRr8WLWWX4+bDgL3z5/HvsunyKUw9DMESNY/IHlywLyyZo5E35evy4gTH6dnc/NBiz0XhUu/gT0HRAISX36DmBacsAaNmIU+44LkOUDAV6HkIXwIg8XPbcaPtp1eC1ginDd+g3Mrjlz5weUf/FXS1n4qtVrA8JF7ZKns9pG+b2jcc4BC2EH7/9Sm/Zsao6vfdIDWL/++ivUbdCIwW7l6k8zQA5lE7ZnBDpcaxcqXSzFxTtgySHoak6Oz2OEgIVroQ6//DLzbF3/7jvIvueeAMDCtVmHmjf3Hdl//GMAYB1+6SVf3P5atQJgSQ2w2ML2U6fg9uXLrGiHWrYMuM5ksOL3IsAiwDIGsLbNm8s6RQSkYNgpU+ZJ39SjFmAhWOHUYvUqNQDfZMR8r2VvL5Bn8D3s/N1swPJm5zDtcQGwfNBBLxUOVByw2rZ/VXH9ytx5C1i6b7dsDbhenleoc6vhIxiwxo7/hJX/0KFAcMS1Pmj/2HETwrJLbrPVNsrvHY3zYMDa+90+BvGpg4cyLfUAFpYfvVf4pnDREqUBp/xC2YReSay3zOUrQ6YLlYfd4uIdsH5duRIONm0KbIH6vfdywGAL3PkarFOjRzPY4WuuuAeLfw+GHu7BCmcNFr7JiH8HGjVibw/i2424sD74HiZ/J8AiwDIGsNbOyH9j6LHCCWxtFa6v4gd2lu1bvsQgSQuwEJTw7cW+nbtBpQpVWEdbtmwFwOnHWAUtswELPTSo8derVgcMSHv25LJwDlg4jYZTZsGDD06n4fXhenqsho9gwEr7cBgrP3o+5LahRw7tGjxkeEC4PI3oudU2ipbLrHTBgIX3wbV6jxdNBFzHpxew8PqatesBrqHTKjNO+ea3xzWaabXyskt8vAMWX+QeDCzyRe67H3kEcCuFGwcPQva99/rWYAW/RXjwhRcYCIUCrFBvEeYmJLCF9heXL2f5HGzcmMHWibQ0Aiyjgcfq/GL5LUI1L5DIGizv/PmsU/x40Ads7RSun5Ifh1euFAYseTlwDRZuH4Ed7pS0tJj0ZJkNWFmbvmH6BL8OzwdBDljowapWo06BQQun1lBftT2NtAYpq+EjGLB8HqygqU++WBrXo2nZoBVvtY1a5TE7Xgmw0LNUo1ZdaN7qZdj0zWbdbUYUsNA2hP2fT5yIuN7M1kk0fwKs/E1Az06ezGDnxzfe8AEWC5D9c37uXE3ACrUP1sXMTIBbtyCvVCkfUF1at47BHa4TC4ZAE7+TB8toAHMqYOEarOIlSkO/rm8WgCAELe594h6sZZMnFUiHYIXx6A2TQxae45Rh99c6FQgPTmfH72YD1tGjP7HBDrcvkHf4ffsPZOEcsIaPHM1eIAheg/Wf3n2hWGIZOHf+fMD18rxCnVsNHwhY9Z97wVdWPhUavAaLQwKCZqjyi8RZbaNImcxMw7Xja7D4vbi3dMDAD0wFLH6/ePmMV8AyEU6sBCGz7kWARYAlPkX4ZsfXGPwgAMkP3McKwWZU//7weJESMOGDZPb2354lX0Fy955s7QUuUsc0uMYKvSX9unQDfGPw4tZvA6Bp3MBBUKTYEzBj6DD4zpPB3kb8dMhQlgffBNWOEBWqTGYDFg5CuAi5RKlybGEw7heEm0MihKDWHLAQxEqVqwSNm7aELVu3sX2FJk6awrZrGDp8ZNgQYjV8dH3rHWbrN5u/ZW8Mov3NWrZm2wlkLMsE3Fogw7OM7RKO3hYjBmmrbTSizJHkoQZYmGfnbm+zNhPs9XypzSvwQUqaqt5qHqzg63AfrC5vdgfckiESG+x0LQGW7X7GxiyokudLgEWAJQ5Y2KEqHROTU3yQhPtg1alZm4EWLlZv8XwTWP3pp754BBH0RBUulsgWsx9Zsyog7nqOF8YNfB+efqoWFCmWyLxiDerUA4SsUBBj5zgrAAu3YOjwaie2VQPuMfTm2z0BF61jfeHWBXywwfUz7Tu+wQAF98GqWac+fJI+mW11wNPo/bQaPtCuilVrsPVA+NMpWF7cB6tXn34MsnAfLNwPCz14p08HrsvSaxtPb7WN/L7R+gwFWNjWcL+1YMBCwMc91tTKrAZYwdfhVDXmPfXTGap5qd3DruFmAxaOY+RNsgfEyX7seYrRfOH4/OJxitDO8BILZbMCsHBBd/DGjejNwYEK3zI0c+BxAnw4wUYz24jT87YCsLyS9D1ClmyAl3tT6FyyFsByJKmH44HIaAEIsLQ9YrEARUaW0QrAesPVhe2Ojd4q3GgU3yhEj8HzTVpE5J0SGRidAB9OsFGkrilNeD9RZAVgZUtSV/JiWQtRIfQ+v1+S/mY0Xzg+PwIsAqxgOLMCsHAqDKfE8Hff8FX6StVqQvcevQp4tcwYIJ0AH06w0Yy2QXnmA5kVgIWDb7YkJXklaWeIgZ88WeZ6ss5kS1JmtiQlOh6GzBCAAIsAKxqAFc2BzAnw4QQbo9mG4v3eVgGWGWMa5UkK2EYBAiwCLAIs5cfR7XYvc7vdgLASawMqAVZ4U2OxVs9mlZcAS7lPoFBSQJcCBFgEWARYyo8MARZBilkAY/d8CbCU+wQKJQV0KUCARYBFgKX8yBBgEWDZHYTMKh8BlnKfQKGkgC4FCLAIsAiwlB8ZAiwCLLMAxu75EmAp9wkUSgroUoAAiwCLAEv5kSHAIsCyOwiZVT4CLOU+gUJJAV0KcMDaV6UynJs6mQ7SAE707sVfjZ6l1pg4fKxZswZ2794dU8fq1asBF6+7XK6lavZhONkYW/Uaa+3QzuVNTk5mz0jnzp2Lh3pGKI4UIAVCKMABi/Yhsc2Gbxxu7PCp+ttUHD4QVGL1cLlcnhCPhg+wYtW+uxAZ9zbGcv3Yvewulysh1DNCcaQAKRBCgZ2SVN4rSRvokDZkS9IFb/6mbttID6bHQLWm43a7h7pcrg0mHrdcLhcept3D7XZ/qGYfhpON5mlvZr1GkPcul8uFns3TEeRhWnuNRpmSkpIeDfWMUBwpQAqQAkIKIFShJ2+XJNH/2oQUMy+R2+2+7HK5Lpl3h+jn7AQbo6+yeAlcLlftux4l1alx8dwoJSlACpACpIBPAQIsnxRRP3ECfDjBxqg3JB0FIMDSIRYlJQVIAVJAjwIEWHrUMjetE+DDCTaa20qMzZ0Ay1g9KTdSgBQgBXwKEGD5pIj6iRPgwwk2Rr0h6SgAAZYOsSgpKUAKkAJ6FCDA0qOWuWmdAB9OsNHcVmJs7gRYxupJuZECpAAp4FOAAMsnRdRPnAAfTrAx6g1JRwEIsHSIRUlJAVKAFNCjAAGWHrXMTesE+HCCjea2EmNzJ8AyVk/KjRQgBUgBnwIEWD4pon7iBPhwgo1Rb0g6CkCApUMsSkoKkAKkgB4FCLD0qGVuWifAhxNsNLeVGJs7AZaxelJupAApEIEC9PM62j+vQ5uWhtfAnAAfTrAxvNqPzlUEWNHRne5KCpACCgoQYBFgKTQLQ4KcAB9OsNGQxmBRJgRYFglNtyEFSAFtBe4C1gntlM5LQdONkdW5E+DDCTZG1gqsvZoAy1q96W6kACkQQgECLHVxCLDUtRGJcQJ8OMFGkbq2SxoCLLvUBJWDFCAFJAIs9UZAgKWujUiME+DDCTaK1LVd0hBg2aUmqBykAClAgBWiDRBghRBHIMoJ8OEEGwWq2jZJCLBsUxVUEFKAFCAPlnobIMBS10Ykxgnw4QQbReraLmkIsOxSE1QOUoAUIA9WiDZAgBVCHIEoJ8CHE2wUqGrbJCHAsk1VUEFIAVKAPFjqbYAAS10bkRgnwIcTbBSpa7ukIcCyS01QOUgBUoA8WCHaAAFWCHEEopwAH06wUaCqbZOEAMs2VUEFIQXiQ4HkFV0KpXjcyeEcs9tVhC9frXIpnGvxmiGLOz6gpuJOSSrklaTkWD2yJelHrySBV5I+jlUbvJLUSq1+3G53O7fbnWzW4XK5fnO73TfMyh/zTUpKaqtmH4aTjebVr5n1Gm7eLpdrhtvtBrfbvSfcPOLtuo4d1fvoUM8OxZECpIAkSWmepDqpHjdE40jOdCWoVYJXkurcnYIE+tTeMd4kjWar1Y/b7V52dzDCASkmD5fL5VGzD8PJxtis11htj3Yst8ul3keHenYojhQgBWSAlb4xFTYeXGnJMW7tAAZ0aZ7OxdUqgQPWviqV4dzUyXRYqMGJ3r041M5Sqx8OH2vWrIHdu3fH1LF69WoGhC6Xa6mafRhONsZWvcZaO7RzeZOTk9kz0rmzeh8d6tmhOFKAFJAB1vTNo2DvqTxLjvQNKQywRDxYh55rCDd2ZNNhoQbnpkzmgKXpwdq/fz9cvXo1pg4sM3oLRD1YZGNs1W+stUc7lnf48OH8GVGdZaABlBQgBTQU4FOEBFgEcRxkCbDyHxruwSLAIsCyIwSZWSYCLI2Bk6JJAREFCLAIrDhY8U8CrPwnhwCLwMpMiLFz3gRYIqMnpSEFNBQgwCLA4mDFPwmw8h8aAiwCLDtDkJllI8DSGDgpmhQQUYAAiwCLgxX/JMDKf3IIsAiwzIQYO+dNgCUyelIaUkBDAQIsAiwOVvyTACv/oSHAIsCyMwSZWTYCLI2Bk6JJAREFCLAIsDhY8U8CrPwnhwCLAMtMiLFz3gRYIqMnpSEFNBQgwCLA4mDFPwmw8h8aAiwCLDtDkJllswqwsiWpm1eSdpq0UTLfboY+JeXNqr2SdNIrSV/slqQHNVCBosNRgACLAIuDFf8kwCLAMnPwprztD65WAFa2JPWXgdXtuz8thj8vRodFGmRL0m2sA68kHf5Rku4PhyHomhAKEGARYHGw4p8EWARYBEH2hyAz68giwDouAyzyMql4mazSKEeS3CFQgaLCUYAAiwCLgxX/JMAiwDJz8Ka87Q9vFgEW81RZBRB0H+Vpwhw/2E0MhyHomhAKEGARYHGw4p8EWARYBEH2hyAz68hswNovSX8j4FEGnijqovrTaCEQgqJCKaAXsBasXggNmzVlv1n4/ogU6DWor+7fL4yV3yKsWb0mtGjUxJTfQfx82HB45LGisOnLL03Jn8NSOJ8EWARYZg7eZuQ9b/5C9jw926gJXL58ucBvY27M2sTit27bXiAOy3Po8GFIKFkOOr7uUozHPJ9r3AzKV6wGJ0+eCkiTs2Mny3vCxEksfOGir9h3T+ZyeP+DVHZ+4sTJgGvM0MDIPGMNsM4vXAhKf3mJiXCsTx8WdcTtZtOQO/7+d/j97Fm4npcHOffdBzv+8hc4O2UK3Dp3Dm5dvAjn5syBnf/8J0t79K23lLKFo126wN7y5f1xd+7Ab0eOwKmRIyHnT3+CPYUK+eOCzk6NGgU7/vrXoND8r8f79WP33fk//wPnZs+G25cvw60LF1j5cu6/n8X91KMHS3x50yb2/btKldj3w23asO8RABoBVihYCidOL2B1798Lxk4fz6CqQZPGsCZnDQGWwA8x9+/2Jgx6+x0fTCFYVapQBbbOneMLCweGzLiGAMtYwPpqSQY0aNTE0gHWCT9oLQcKDlj/93gxSJ80tYDWWoCFeU2ZNp3B0JKlngLXT5oyjcUtzSgYl5ubx+ImT/2UXef1ZsNTTz8DK79eBYsWL2Hgdu7cuQJ5ystvt/NYBawTaWlwrHdv34GghBB1fd8+uHnyJAObk0OHMiDZX7s2A5JfPvuMff911So4M2kSwJ07cOGrr1gcByyEHXm+e8uV8wHWla1b4eeBA+FyVhbL50RyMiDE8fQIcvh3IiWFheF9sUwYj7CFf1e2bGHfv6tShd33wqJFLBzvezEjg52f+eQTFscBC8u5+9FHgQArHPKx6Bq9gPVaVxfrTPaeyoPKNWoCQhae6zmc6MF6vn7DAMC6nuOFGtVqwsmN6wmwrlo7HWM1fHyQOpgAy+Q65oDVs3dfBjQ//PhjANCIANaVK1egaYuXoELlp+DMmTO+6388coTlmeTu5guTA9H+/d+zPnHGZ1/44us3bAzff38A0HNVtUZtX7j8OjufxypgIXAoeXAONGjAIOXstGlw+9o1ODdzJku347//G+7cvAk3Dh+G7D/+kYUhZJ2fNw9y/uu/gAPWD+3bF8iXe7AwPd4TPWGY19Xs7IC0F5YsYffe9dBDAeF4TV7p0vnwdDcPDNv1v/8LcPs2XNm2LT/9PffAbz/8ALevXGFgxgDr1i24fekSHOvViwDLIlYK6zZ6AWv0tPHgeqcbA6o+Kf3hg5GpuuAKQSzeAGvdjM+gVeOmUKpUeShavCS0eL4JbJ49ywdOjxYqzjpgnBLE49vZs2Hv0qUwbuD7vjQ5CxdAuxatoHTpJ6FQ0USoVvkpGNq7D1z1bvOlMcNbpZSnFR6sU6dOQ7e3ekBi6fJQ/Imy0MndFXbt3s30+XL2HN+AtHv3HujwWhI8UeZJeKxICahe8xkYNuIjuHTpki+N3oHKSsB68eV2AXU/eux4Vm6cZur9bn94slJ1+HfhBChboQq8/c5/4KefjoVtl1wHK22U3zda5xywDh48BOUqVmXtSV4WEcDC9OiNKlTsCej/3iBfPWDbLFmmAhw5ctQXJs8bYQ6fa95uDxw4CCNGjWFpV69ZB/MWLFK8Tp6H3c5jFbD2VavGpudwim73ww8HAM2FxYsZzOA04K5//YvF5ZUsycJ+mTEjIC2CDh4csBBqME9+ZP/hDz4PFgcsTI8QdC03NyAvvYD1/TPPsDKdGj3alw96svAvt0QJ4B4szPeq10uAFRb5WHSRXsDS46lSSxtPgJU1cyYgQHVs1Rp2LV4MOxYtBHfbDlCkWCL7jgBzJiuLgVe/Lt3gdNbGAtB0ZftWKFPmSQZY2fPnw4Hly2DemLGQkFgaRvTtH5eA9Vb3nlAkoRTMnDUHcvP2wtjxE6B23YZsoJo1ey4bkHBAK1W2IjR6oTls2JgF3+3bx6ZxcADs9977YQ9aVsLH2bNnoXXbDlDv2eeZN+P8+QuAnpImzVsxqML1Ovv274dlmSugYpUagJ6PSOCRD9RW2sjvGc1PDljHjx9nQIPAs2Ll1742IgpYaMOo0WPZM71tuxeWr/g6AJ6UbDx27BhLE4sgpWQPhsUqYDEKuftPsCfpaLduLIavXUIg2v/00yzs9LhxPpjhcCUHLHm+eI5rqLgH69ysWZBbtCgc79+fJTuTnh6Ql17AOtikCcsHpxp5WdjUJQCDKQ5YR5KSWLrDrVvnf9IaLIuoScdtCLDU3yIUWeT+UpNmUKF8Zbjw7WYfCP26dQuUL1cRunZ41ReGni35Giy55wiBCgeEmSNG+NJjPMLa/sxlAWHy68w6N9uDhd6rwsWfgL4DAiGpT98BAYA1bMQo9h0XIMsHArwOIQvhRR4uem41fLTr8FrAFOG69RuYXXPmzg8o/+KvlrLwVavXBoSL2iVPZ7WN8ntH45wDFsIO3v+lNu3Z1Bxf+6QHsH799Veo26ARg93K1Z9mgBzKJmzP+PziWrtQ6WIpLlYB60inTnCoeXN28DVWCClsYfupU2zRONLIoZYtGbxwDxafMmRAc889PrDhHqzTY8b48sX8cTqRAxajm7v/XM3J8XnHOBzpBSwsN/7hPXke5+fOZWG5CQk+D9aewoXh919+AQQ8/KNF7jrAx6qkBFiRARaC05sdXysAQa627QEBjUNQKMDCacCGzzSAEomlIbl7T1gzfTpc3OIHNp6HVZ9mA5Y3O4cNSLgAWD7ooJcKByruwWrb/lXF9Stz5y1g6b7dsjXgenleoc6tho9gwBo7/hNW/kOHAsER1/qg/WPHTQjLLrnNVtWdSQAAACAASURBVNsov3c0zoMBa+93+xjEpw4eyrTUA1hYfvReoWe6aInSgFN+oWxCryTWW+bylSHThcrDbnGxClhqa7Dw7T78O9CoEXt7EN/4y/nzn9mBa5luHjvG1jch0KA3C7/jdCAHrFBrsH5duRIONm0KuPA9+957fVDE4UgvYO184AG2BsvngfvjH+G3o0fZmivMn3uw0FZ8+/HmiRMEWFYBk977EGCFD1g4tYcdK3bEuG5KfmBYsYRSQoCF4PTLN1kwqn9/qF+7HsuzSLEn4J3XO8GprA2+POIFsNBDg7p9vWp1wIC0Z08uC+eAhdNoOGUWPPjgdBpeH66nx2r4CAastA+HsfKj50NuG3rk0K7BQ4YHhMvTiJ5bbaNoucxKFwxYeB9cq/d40UTAdXx6AQuvr1m7HuAaOq0y45Rvfntco5lWKy+7xMcqYAW/RYjQg14fXHx+cflyBj8HGzdmQIJpEYL4m3yX1q+H02PHwp3ffwc8xzgOWMFvER584QWfB0u+BotDlfxTCbC03iI8P38+KyN6ri56POz89PjxrExywOLrtTABebD00o8F6QmwwgcsBB6EKPRW4aJ1pYNDUSgPFk/DP39evw6mDv4QipcoDW+83DbuACtr0zdsQAp+HZ4Pghyw0INVrUadAoMWTq3hgKa2p5HWIGU1fAQDls+DFTT1yRdL43o0LRu04q22Uas8ZscrARZ6lmrUqgvNW70Mm77ZrLvNiAIW2oaw//OJExHXm9k6ieYfq4DFSET2D+5XdTEzE+DWLcgrVYoBCsLPpXXr4M6NG2ztFO5bhV4r3BsLvVnnFyyAXQ8+GABYsizZKYIPnyIMB7A098H6xz/8+2BdvAhnJ0+G4H2wmLfunnvg5s8/szIRYFkATHpvQYAVGWC1btoC6j79DOC2CxyQ8BPXVcmn+RCw3n+re0Aanv7QyhUwf+y4AnE9OrmgSuXqBcL5dWZ9mj1FePToT2yww+0L5B1+3/4DWTgHrOEjRwPuaxS8Bus/vftCscQycO78+YDr5XmFOrcaPhCw6j/3gq+sfCo0eA0WhwQEzVDlF4mz2kaRMpmZhmvH12Dxe3Fv6YCBH5gKWPx+8fIZa4Al9xjRedg7xNNGo3oBSis9AVZowEJ4WjtjeoFj56JFDHw2zvyCTRG+80YS5CzIfwPws6HDmGdr9ID3fHCEm4o2efZ5tnD9+Lq1vnCEJNxsFD0yuAge8z24PBNWTJnKFsrjNKFZIKWWr9mAhYMQLkIuUaocWxiM+wXh5pAIIagDBywEsVLlKkHjpi1hy9ZtbF+hiZOmsO0ahg4fGTaEWA0fXd96h9n6zeZv2RuDaH+zlq3ZdgIZyzIBtxbI8Cxju4Sjt8WIQdpqG40ocyR5qAEW5tm529uszQR7PV9q8wp8kJKmqreaByv4OtwHq8ub3QG3ZIjEBjtdS4AVNqT4vGQxCHoEWFrApDeeACs0YGGnrHR0fPFlH/is/+xz9pM66KXCKUOEsilpab54BJkZQ4exReyYZuknEwPiMH7ZpHQGYLg1Q+FiiVC9Sg224F3+dqIaEBkdbgVg4RYMHV7txLZqwD2G3ny7J+CiddQaty7ggw2un2nf8Q0GKLgPVs069eGT9MlsqwOeRu+n1fCBdlWsWoOtB8KfTsHy4j5Yvfr0Y5CF+2DhfljowTt9OnBdll7beHqrbeT3jdZnKMDCtob7rQUDFgI+7rGmVmY1wAq+DqeqMe+pn85QzUvtHnYNNxuwcJyKQQCJZXjSLLtXkibp5QdKr6EAAZY6YBkNLrGSnxWAhQu6gzduRG8ODlT4lqGZA48T4MMJNprZRpyetxWA5ZWk7xGycu5u6knAFR2vmfeu/jmS5NLABYrWqwABFgFWMPhZAVhvuLqw3bHRW4UbjeIbhegxeL5Ji4i8UyIDoxPgwwk2itQ1pQnvZ6gsAqzOBFXRgSoF3VfqZQdKL6AAARYBVjQAC6fCcEoMf/cNX6WvVK0mdO/Rq4BXy4wB0gnw4QQbzWgblGc+kFkBWDg8ZUtSN68k7VQY8DWntOgaQ+AsO1uSugigAiUJRwECLAKsaABWNAcyJ8CHE2yMZhuK93tbBVjhjFl0DSkQMwoQYBFgEWApP65ut3uZ2+0GhJVYG1AJsMKbGou1ejarvARYyn0ChZICuhQgwCLAIsBSfmQIsAhSzAIYu+dLgKXcJ1AoKaBLAQIsAiwCLOVHhgCLAMvuIGRW+QiwlPsECiUFdClAgEWARYCl/MgQYBFgmQUwds+XAEu5T6BQUkCXAgRYBFgEWMqPDAEWAZbdQcis8hFgKfcJFEoK6FKAA1b6xlTYeHClJce4tQMg1eOGNE/n4mqF9UpSHXwNd1+VynBu6mQ6LNTgRO9e/BXpWWr1w+FjzZo1sHv37pg6Vq9eDbh43eVyLVWzD8PJxtiq11hrh3Yub3JyMntGOndW76NDPTsURwqQApIkccBC4LH6SM50JahVAgcs2uvEkL1OODDp/VT9bSoOHwgqsXq4XC6PWvvDcLIxdus2Vtuk3crtcqn30aGeHYojBUgBSZKSM13lUzNcG8I8IC3DdSPMazckL096VK0SdkpSea8kbYjVI1uSLtz9CYJdMWzDQLX6cbvdQ10u1wYTj1sulwsP0+7hdrs/VLMPw8lG87Q3s14jyHuXy+VCz+bpCPIwrb1Go0xJSep9dKhnh+JIAVIgQgXQ45WS4fo5wmzi8nKEKvS+oScuLg002Si3233Z5XJdMvk2Uc3eCTZGVWCdN3e5XLXvepBUp8Z1ZknJSQFSgBQITwECLHXdCLDUtRGJcQJ8OMFGkbq2SxoCLLvUBJWDFCAFJAIs9UZAgKWujUiME+DDCTaK1LVd0hBg2aUmqBykAClAgBWiDRBghRBHIMoJ8OEEGwWq2jZJCLBsUxVUEFKAFCAPlnobIMBS10Ykxgnw4QQbReraLmkIsOxSE1QOUoAUIA9WiDZAgBVCHIEoJ8CHE2wUqGrbJCHAsk1VUEFIAVKAPFjqbYAAS10bkRgnwIcTbBSpa7ukIcCyS01QOUgBUoA8WCHaAAFWCHEEopwAH06wUaCqbZOEAMs2VUEFIQVIgVj2YHklKTnedolHqIuXVukE+HCCjbHUHgmwYqm2qKykQJwrQIAV1Z+xKfCzNwRYsfXAEWDZq74IsOxVH1QaUsDRCsQDYKEnK9Yrkf9uIwFWbNUkAZa96osAy171QaUhBRytAAGWPaqfAMse9aC3FARYehUzNz0Blrn6Uu6kACmgQwECLB1imZiUAMtEcU3MmgDLRHHDyJoAKwzR6BJSgBQwRwECLHN01ZsrAZZexeyRngDLHvXAS0GAxZWgT1KAFIi6AgRYUa8CVgACLHvUg95SEGDpVczc9ARY5upLuZMCpIAOBQiwdIhlYlICLBPFNTFrAiwTxQ0jawKsMESjS0gBUkBdgeQVXQqleNzJYR6QmuG6FOa1yUMWd3xArWQRlkvTnin96m+Y3a4i4Ge45Re5Ts3G5KVvPCJyvUiaMWNafIa2fN75qR9F0gulyUhqq1Y3GJ7qcbcTyifMttX7I9dvvUe7b5h5jxSyUcqWpHb4Ji0dUvKKBx6YMbliRfgyMXEP6ZHfJrZJkmofHap/oDhSgBSQJCnNk1QHPVHROJIzXQlqlRDNchmphZqNyZmdKxl5H8PzynB51OoGw1M87mWG39Pqdkg2ImAti7cNd8ke4/bn2yVJqn10qP6B4kgBUkAGWGPX9IMFOdMsOUZ93YsBnRp8YMVwwLKyXEbar2UjB6zRq/pYormobV9sHcfqJsXjzgj1gHDAmrllnK3KL2In2eivWQ5Yh1u2gKNuFx2kAWsDux9+mG1kTIDlf1bojBTQrQAHmembR8HeU3mWHOkbUoQBy8pyGWm/lo0csKZmDbFEc1HbNh1em+/NFPTufHN4ra3KL2In2ejvJjhgXfhyJtzYkU0HacDawL6KFQmw/I8JnZEC4SlAgGUOVBJgmaOrCEBppSHA8vcVBFgElUpgTYDlf0bojBQIWwECLHNAgADLHF214EkkngDL310QYBFgEWD5nwc6IwUMVYAAyxwQIMAyR1cRgNJKQ4Dl70IIsAiwCLD8zwOdkQKGKkCAZQ4IEGCZo6sWPInEE2D5uxACLAIsAiz/80BnpIChChBgmQMCBFjm6CoCUFppCLD8XQgBFgEWAZb/eaAzUsBQBQiwzAEBAixzdNWCJ5F4Aix/F0KARYBFgOV/HuiMFDBUAQIsc0CAAMscXUUASisNAZa/CyHAIsCKJmBlS1I3ryTtpM1hjdscVo+WXkk66ZWkSf4egc4MVYAAyxwQIMAyR1cteBKJJ8DydyEEWARY0QKsHEkaoAcGKK15EOaVpOX+XoHODFOAAMscECDAMkdXEYDSSkOA5e8+CLAIsKIFWNmSdByhySuZBw4EZeLa5khSC3/PQGeGKECAZQ4IEGCZo6sWPInEE2D5uw4CLAKsKAIW2y2eIEgcgszQKucu4HolaYK/Z6AzQxQgwDIHBAiwzNFVBKC00hBg+bsOAiwCrGgA1n5J+psZsEB5RgRrs/09A50ZooBewFqweiE0bNaU/f7c+yNSoNegvrp/i04LPtAwveXig+qmvE3wyGNFoW/ae7rLxfMw4lPLxkh+i3DkpNHMxnkr5xtuI8GH/7HiP2gdz7+3GC+AtWDcOPZMNHymAVzL3l7gNxU3ffkli98+f16BOASMH1athITE0vDqS20U4zHPRvWehSfLVYIzWVkBaXYtXszynpicwsIXfzyBfc+cPBkGvf0OOz+dtTHgGiWosVOY2T+VE03AOti4MVzNyYHb167BzZMn4fT48ZBz333Mm3bnxg24tmuXz7N28/hx+O3IEfb9+zp1QOnv6FtvsfjLGzYUiP79l19Y3KlRowrE4b0QCI/16cPijrjd7PuOv/8dfj97Fq7n5fnKZRE4EmD5u39jzvSCTPf+vWDs9PFsYG/QpDGsyVmje5DXgg87AVbNunVh2sIZhtsYCWAhWJWrUhUWrV2su1xa8EiA5X+ujAKsyXOmQu2GDQ2vq1B1KVqP8QZY//d4MZicOrgAzGgBFsLNtA+HMBjKmJhe4PopaYNZnCe9YNx3GUtZ3NTBH7LrchbMh6eq1oBV06bBVxMmMHC7uGVzgTztBFTBZYlXwNpTpAjcuXkTrmzbBj906AC/fP45g5ufBw1icCMCWJfWrYNjvXv7jr3ly7NrOWAd79fPF3e0WzcWt792bRZ2bc8edr8TKSnwU48eLA7h7vq+fQz2dvz1r3By6FCWBq+xCKz4fQiw/N2/MWd6Aeu1ri7WmWDnXrlGTUDICtXRK8XFCmBl/+iFRwsVtx1g5Z3MhSo1n4Yt32/Rrb1SfcjDRAdmo+BDfm+rzq22scfAPgRYO8ydiuMerP8kdWZAc2TNqgCgEQGs6zleaNawMVR8sgqc27zJd/3RNatZnq627X1hciA5uDyT9YmfDxvui29Qpx4cWrEc0HNVtUp1X7j8OjufxytgHX7xRQYvHG6y770Xjr37Lhxo2JBBhghgnRw2jANJwCcHrJz77w8Il0PS+YUL2f13PfRQQJoDDRqw8LPTpjHP2rmZMwPi5XmYeE6AZQxW+XPRC1ijp40H1zvd2MDeJ6U/fDAyVfcgbxfAGjphJNR69lkoUqIUlChdDl5xvQ4b9mxg9qCXCKca+fF4sURddmrZGIkHa8WWFTBohF/3pRszoHmb1vBE2QqA5axYvQZg3ez5ebeuMiPgWAUf2w9th1e7JEFCqbJQNLE0tHm9Iyz/djnTe8yn+R5SLM/yb1dAq/btIKF0Wfh3kQSo9FRN6Jc2MCzbOMBZZSPer3GrFr42hG3p/eHJrE62HdwGnXu+CWUrVoF/F06AUk9WhNe7uWHzd5t11xm3S/4pamO8ebAOr1wJ5ctVhKS2rwRAjQhgIfCgN6pQ0UQY0O0t3/WYV8mS5eDY2jW+MDkcIcxh3c4e/RGLP7RyBYzsN4Cdr5vxGSwYN17xOnkedjuPV8DKLVYM7vz+O9y+ehXOpKfng9W99/pgRgSw8Lo9hQr5jpw//5ldzwErt0QJX9zuhx/25Y1gpAZYGHdh8WIGWbcuXoRd//pXwHUmQpX8PgRYfjQy5kwvYMk78XDPteADLQu3XKJrsAYO+4B1iggiq7yrYXbmHKhZrx7zyu04ksMG8FmZc1iaCTPTAQdEPfZq2RgJYMnLsfv4LihZrgIDrCXrl8DqnNXw8WefQLEnykC/we/rKjPmKzowR+rBQk9o4eIlAYF95bavGahXr/0M03vc9I9ZubEuE8uUh7qNGsHcFfNgVfZqQChGiOzWp7tu27huVtmI90MvaJPWL8LT9evD1gNbYefRnYAeSPT8IlSlfzmZ1dmnC2dAucpVoVaDBhHBo14b4w2wTm5Yx4AGgefraVN9YCMKWAg6H/UfwDzX3vnzYeXUqaxNzvooH56UQOjE+nUsTSyClJI9GBavgIWgcqBRI7a+idEMAFtjta9qVQYaIoDFr+OfB557jl3LAYuH4+eVrVvlABMSsHA6Ef8ub9oUcI1FcIX3JMAyBqv8uYQLMrwjD+dTCz7MBiwc5NBr9WKHVwIGac83y1hHiYvI0a7F675i3+22BkuuOQIVDiYfTRkTYMvSLA8DR3lakXMr4AO9V4WKJ0LX3u8ElLlLz7eYLRyw+qW9x76v370+IB1eh5CF8CJiU3AaK2yU37NF29YBU4QI81hnCMLydJNm5w/mMzNmBYTL04iei9oYb4CFsIOA0LppCzY1x9c+6QGsK9u3Qr1adQGn+SpXqgYvN23pAzUlIDm7KYvV59JPJoZMp3StXcPiGbA4sOQlJsLJDz8EuHULru/fz6AGPVu4Toqn+f3UKbhx6BD7zhe5X1i0CA41b+47dj34IIvngHX4pZd8cftr1fLlhXmqebDYwvZTp+D25csMsg61bBlwHS+PyZ8EWH40MubMiYC1aG0+OAVDCQ5e6A3iU6CxAFg4DVin4bNQvGQZ6DGgN3yxdCagB050IA5OJzowR+LBwilNBIz0WVMCyoleKgzngIXTnhWrPxWQBsv78ecTWbpwF/lbYaNc12DAGjQijZV//a5AcMzKyx+o5dO/8nz0nIvaGK+AtT9zGRQulgiDe/Zm0KMHsBB60HuF6y+LFi8JOOUXCoR+3bqF1eeKKX6PWaj0sRAXr4D1Y8eOcH7+fNj5wAM+gLmyeTNb94TwcvPYMbbYHM9xwTlOJ17OymJpOWCZsQbr1MiRDKy4dw3fXORTjyZDlU8H8mAZw1QBuTgRsGZm5L+yjWt60BMiP3CAb9nuZTaoxwJg4aDrPbwdBgwZxKahsPw49fbGm27YckD/InjRgTkSwEIPDZbz8yUzA+AJ15bJAQun0XDKLBgscDoN04Xr6bHCRnmZgwGr9wf9WPnRkydPhx45tKtPcv+AcHka0XNRG+MVsBBihr/bDx4vUgLyli4BvYCF19esXhNefKFZSLjCdLg4Hutt7YzpmmljAa6wjPEKWIfbtGEgg9s0/NSzJ5wcMoS9VXhhyRIGGmcmTmTxv8yYAReXL2fn+MYgQk4kgBXqLcLchARWBrwf3ge3kcC/E2lpcvix4pw8WAF0ZMAXJwLWV+uXsA4xeVQa4KAefKzfme9ZiBXAkg+6uEh6yMcj2MLx1q+11z1Qiw7MkQDWvK8XMP2nzJ0WUD7+YkGgB6tGQBq0FafWcEDD+pHbLnpuhY3ysgQDls+DFTT1uTF3I7MrnBdH5PfDc1Eb4xmw0LNUo1pNaNGoCWyenQ/1avtgKYGPKGDhtWtnzIBTWRsIsATHpGjug3UkKYmtwbpz/TrzWJ2dOhV2/vOfDGDQs4WLzW9fugQ4PYj7V/E9siIBrFD7YF3MzGTTlHmlSvkgCreCwPVguUWL+sIs8GQRYAm2X+FkTgQsXIOFb64FrwHCgQlhK/fEHjZwc8CaumC67oFca52ZUYvc1+1Yx6bMggfYTm93gQrVCk6vBacL/i46MEcCWN989w0DCdy+QH7/rr26s3AOWLhIH/c1Cl6DhVO4uIZux9EdAdfL8wp1boWN8vsjYOHbqjyMT4UGr8Ga8EU6s9+IDWRFbYxnwOLggzD+Xre3mbZmAZYSoMVyWLx6sCyAFCuByOh7EWAJk5NgwngFrI5dOgFOBQYffN0LTqk9VrQEpHw0GFZuXQmZ3y5na5hw3QUOgDgY8gXkOPDjonE9A7pVgIXrkHAAwQ1gMzZ52Mav0xd+BqUrVGLThHxQF/0UHZgjASwsS5OXWrF1Y7gJ59oda+HDccMYhKAtHLAQxBLLPgn1GzcGXDeH6QaPG8q2a4hkp36rbOSaY1vENXL4KwjYpjAcfw0B6wjhHT2m0+Z/CmUqVIbnmjfzgRi/PpxPURvjHbAQcrq07wiPFU4oAFgvNWkGKe/0UPU6qXmwgq/DfbC6dngVcEuGWIYqedkJsCL6yRmjwceq/AiwBLlJOFm8AhYO1EpH6pghvgEMX/l/qs4zDLRwH6xGzZsVWBeEexPhG28Yj1M4ooOdVYCF5cHBucELjdnWDFhW3CsKF7zn/JgtXF5ul+jAHClg4RYMrV5py9aLobavdnWxnemxznDrAl4e3AerZbs2DFBwzVzVWrUgbexQttUBT6P30yobebkQgnHnfQR6BGEMx20/3D26McjCfbBwPywEeVxPx6+L5FPURicAFu5flfhEmQKAVSKxNHR88WVVKFIDrODr0CuG7fbTIUNV85LDSyycmw1YOECRN8leEOeVpEnC4EAJxRSIN8CKZFAy8lorAcvIcosOzJECFi7o3rR3UwBMoDcHByp8y9BIm4LzssrG4Pta+V3UxngBrFiAllgqoxWA5ZWk7xGyciR7gYbTwM97V/8cSXKLUQOlElaAACvPlMGcACu0ri+/3oF5BdFbhRuN4huFVZ+uBfWefz4i75QIxIjCR6QQKVIWs9KI2kiAZe5P+MQSVMnLagVgZUtSV6fBjI3tPZgtSfcJgwMlFFOAACs0CIQ7ABJghdYVp8JwSqxcpfyps/JVq7E1Yzh1GK7moteJwgcBFsGHHDqcdG4FYOEIlS1JSV5J2mlj8LBq/VNU7uOVpJPZkjRruyQ9JEYMlEqXAgRYoUFAdNAOTkeAZY6uwTqH850Ay99FkAeLIFIJHK0CLH9LpDNSIA4VIMAyBwQIsMzRNRygCr6GAMvfkRFgEWARYPmfBzojBQxVgADLHBAgwDJH12BYCuc7AZa/CyHAIsAiwPI/D3RGChiqAAGWOSBAgGWOruEAVfA1BFj+LoQAiwCLAMv/PNAZKWCoAgRY5oAAAZY5ugbDUjjfCbD8XQgBFgEWAZb/eaAzUsBQBQiwzAEBAixzdA0HqIKvIcDydyEEWARYBFj+54HOSAFDFeCAlb4xFTYeXGnJMW7tAEj1uCHN07m4mjHRKJeR9mvZyH+LcML6QZZoLmqbJ3cuq5tUj2upWt1gON/CYFnuXFuVX8ROstFfsxywTr4/EM5NnUwHacDaQF5CcbZtwE5JUu2j/a2IzkgBUkBRAQ4yCDxWH8mZrgTFQkmSFM1yGamDmo0csIy8l6F5Zbg8anWD4RywDL2n1W2QbMR9iJbRHkS0k7haG9glSap9dKj+geJIAVJAkqTkFV0KpXjcydE4hizu+IBaJZhdrlSPa32Kxw0pHneGmbar2Zi89I1HjLpv6jL3ZLQl1ePeb1SeKRlJbdXqBsNTPe52ht1Lqf1luH5L9bhvmHsPsjFbktp5JSmZDil5uyR9dvdnQ/aQHvltYpskqfbRofoHiiMFSAEHK5DmcX+A3pcUj8sV6zKkLkuqmG+LOyPWbeHlT8lwX07NcF3i3+Px0wk2xlK9eSWpzl1PzuxYKjeVlRQgBUgBWylAgGWr6ihQGCfAhxNsLFCxNg4gwLJx5VDRSAFSIHYUIMCyd105AT6cYKO9W1lg6QiwAvWgb6QAKUAKhKUAAVZYsll2kRPgwwk2WtZgDLgRAZYBIlIWpAApQAoQYNm7DTgBPpxgo71bWWDpCLAC9aBvpAApQAqEpQABVliyWXaRE+DDCTZa1mAMuBEBlgEiUhakAClAChBg2bsNOAE+nGCjvVtZYOkIsAL1oG+kAClACoSlAAFWWLJZdpET4MMJNlrWYAy4EQGWASJSFqQAKUAKEGDZuw04AT6cYKO9W1lg6QiwAvWgb6QAKUAKhKUAAVZYsll2kRPgwwk2WtZgDLgRAZYBIlIWpAApQAoQYNm7DTgBPpxgo9mtTAZF7MeJ1X5Tz+HhJ8yuB8qfFCAFSAGfAgRYPilseeIE+HCCjWY3LgIsoR+qJsAyuyFS/qQAKeBXgADLr4Udz5wAH06w0ey2JQMs+v1ABbHveu4IsBS0oSBSgBQwSQECLJOENShbJ8CHE2w0qDmoZkOApSoNiyDACq0PxZICpIAJChBgmSCqgVk6AT6cYKOBTUIxKwIsRVl8gQRYPinohBQgBaxSgADLKqXDu48T4MMJNoZX++JXEWCF1ooAK7Q+FEsKkAImKECAZYKoBmbpBPhwgo0GNgnFrAiwFGXxBRJg+aSgE1KAFLBKAQIsq5QO7z5OgA8n2Bhe7YtfRYAVWisCrND6UCwpQAqYoAABlgmiGpilE+DDCTYa2CQUsyLAUpTFF0iA5ZOCTkgBUsAqBQiwrFI6vPs4AT6cYGN4tS9+FQFWaK0IsELrQ7GkgKkKJGe6yqdmuDZE40henvSomnHml8v9Y2qGC1KXur4303Y1G9OWvlHCqPumZLhymC0ZSb8YlWdqhvtDtbrB8FSPe6hx91Jsf7dSM1x4mNg2ycZsSRrqlaQNsXpkS9Iur8Q22zwdqzZguXdLkil94YQhL8D44U1/C/c5Uuu/QvUNFEcKkAJ3FUjzJNVJ9bghGkdypitBrSKiWS4jtVCzMTmzcyUj72N4qWblhAAAIABJREFUXhkuj1rdYHiKx73M8Hta3Q7JRilbkpbd9XLQT83kg1pUdNglSbbsC9X6r1B9A8WRAqTAXQU4yKRvTIWNB1dacoxbO4ABXZqnc3G1iohGuYy0X8tGDlgT1g+yRHNR2zy5c+/CtmupWt1gOAesZblzbVV+ETvJRn/NcsA6+f5AODd1Mh0Wa5CXUJwB3U5JslVfqNV/+VsQnZECpICqAhxkpm8eBXtP5VlypG9IYYN4qP8dRaNcRtqvZSMHrKlZQyzRXNS2TYfX5gOWoHfnm8NrbVV+ETvJRn93wAHrwpcz4caObDos1mBfxYoMsEQ8WHbro/2tiM5IAVJAUYFogIwWfGBBo1EukcFZNI2WjQRY1sC8Un0RYPm7AgKs6EIlAZa/LdIZKRB3CkQDZLTgA0WORrmUBuNww7RsJMAiwAq3bYlcJwqRBFgEWErtSav/iruBkAwiBcxQIBogI/LwRqNcSh1NuGFaNhJgEWCF27ZEriPAii44iU63kgfLjFGN8iQFbKJANEBGCz5QmmiUS2TgEk2jZSMBFgGWaFsKJx0BFgFWOO2GX6PVf9lk+KJikAL2ViAaICPy8EajXLxzMeJTy0YCLAIsI9qZWh4EWARYam1DJFyr/7L3qEalIwVsokA0QEbk4Y1GuUQ6HtE0WjYSYBFgibalcNIRYBFghdNu+DVa/ZdRw1e2JHXzStJO2ouNbZZr+R5sXkk66ZWkL3ZL0oNG1SnlI1MgGiAj8vBGo1y8czHiU8tGAiwCLCPamVoeBFgEWGptQyRcq/+SDSFhn3ol6T0Cq+iAlYLuB7Il6b6wK5MuVFYgGiAj8vBGo1wiHY9oGi0bCbAIsETbUjjpCLAIsMJpN/warf5LeTTRF5otScdxoL/7U0eWe28UIMPRZciRJLe+GqTUmgpEA2REHt5olIt3LkZ8atlIgEWAZUQ7U8uDAIsAS61tiIRr9V+aA4tAAgIce3ivcvw/ETVRoNooiR4FogEyIg9vNMol0vGIptGykQCLAEu0LYWTjgCLACucdsOv0eq/9IwxSmn3S9LfCLDsAViyepitVFcUFoEC0QAZkYc3GuXinYsRn1o2EmARYBnRztTyIMAiwFJrGyLhWv1XBEMOuzSagHWwcWO4mpMDt69dg5snT8Lp8eMh57772PTgnRs34NquXb6pwpvHj8NvR46w79/XqQNKf0ffeovFX96woUD077/8wuJOjRpVIA7vhXBzrE8fFnfE7Wbfd/z97/D72bNwPS/PVy4ZBLE0Jn0nwIq0YQdfrxdkFqxeCA2bNWW/P/f+iBToNaiv7t+iE3l49ZaLdxqb8jbBI48Vhb5p7+kuF8/DiE8tGyMBrJGTRjMb562cb7iNogMz/7Fn+i3C6IFiqHYqWo922sm9V5KbteuBb76t+JuII/sNgKLFSyrG4caeyyals+vTU1IV0xxZswoSEktDuxatCsRPTh3Mrs1ZuKBAnOimoeGkM2Oj0S7/eZvZkv2DF2o3bAg169XT3U9o9V/B44je79ECrD1FisCdmzfhyrZt8EOHDvDL558zuPl50CAGLiKAdWndOjjWu7fv2Fu+PLuWA9bxfv18cUe7dWNx+2vXZmHX9uxh9zuRkgI/9ejB4hDuru/bx2Bvx1//CieHDmVp8BqTQEotXwIsvQ1ZK71ekOnevxeMnT6ePbANmjSGNTlrTHl49ZaLDzZGA1bNunVh2sIZhtsYCWAhWJWrUhUWrV2su1xcJ7VP0YGZAEscrCbPmcoGOjXNzQgXrUe7AdajhYoDHkqgowVYCDiutu2hWEIp+GHVygKg1KlNOyheojT88HXBuOlDhzIoyV36VYHrwgEn0WvMAKwJM9OhcEJJ2Hl0J/T+oB8889xzuvuJeAWswy++yOCFw032vffCsXffhQMNGzLoEAGsk8OGKQIKB6yc++9XjEdYOr9wIbv/roceCkhzoEEDFn522jTmWTs3c2ZAvEWgRYClBUx64/WCzGtdXawjwkGhco2agJCld4AQeXj1louXwUjAyv7Ryzp7uwFW3slcqFLzadjy/Rbd2nOd1D5FB2YCLHHA6jGwDwHWDu0pO/RgNar3LNSvXY99XsveHgA7IoB1fN1aKFmyHHR88eWAa1dMmcr6rWkfDgkI5yA0c8RIFr8/c5liPE9n9KcZgIX9QsXqNVjfMH3hZ9Chcyfd/YRIH613rJGnj5YHK7dYMbjz++9w++pVOJOeng9W997rgxkRwMLr9hQq5Dty/vxndj0HrNwSJXxxux9+2Jd3KMDCuAuLFzPIunXxIuz6178CriPAkreeGDrXCzKjp40H1zvd2APbJ6U/fDAy1ZSHV2+5ODDoAayhE0ZCrWefhSIlSkGJ0uXgFdfrsGHPBmYPeolwqpEfjxdL1GWnVgcViQdrxZYVMGiEX/elGzOgeZvW8ETZCoDlxM4V62bPz7t1lRk1tAqwth/aDq92SYKEUmWhaGJpaPN6R1j+7XKm95hP8z2kWJ7l366AVu3bQULpsvDvIglQ6ama0C9tYFi2+drI4bWQ6nFDaobLE+pRNQIiG7dq4WtD2JbeH57M6mTbwW3QueebULZiFfh34QQo9WRFeL2bGzZ/t1l3nXG75J+i9Wg3D1a9WnVhy5w58H+PF4Opgz8MgB0RwEIA+nLUR0zzjInp7PoL326GypWqQbOGjeF6jjcgTw5M88aMZdcoebd4GjM+zQCsL5bOhE++TGftaNgnI2HphqW625RW/xXquRGJixZgIagcaNSIrW9iNAPA1ljtq1qVAY0IYPHr+OeB554LACwejp9Xtm4NACU1DxaWC6cT8e/ypk0B11gEV3hP8mCJNF49acIFGXlnrvdc5OENt1yigDVw2AesQ0UQWeVdDbMz57C1CuiV23Ekhw3gszLnsDTocscBUY+dWjZGAljycuw+vgtKlqvAAGvJ+iWwOmc1fPzZJ1DsiTLQb/D7usqM+YoOzJHCB3pCCxcvCQjsK7d9zUC9eu1nmN7jpn/Myo11mVimPNRt1AjmrpgHq7JXA0IxQmS3Pt1128Z1s8pGvB96QZu0fhGerl8fth7YyqZt0AOJnl+EqvQvJ7M6+3ThDChXuSrUatAgInjUa6PdAKtOzdoMgHq7OkOJxNJwbO0aHxCJAhaCUOumLaDik1Xg3OZNkNy9JxQulgjfZSz15RUMS4s/nsDanvx+wWnM+G4GYPE2EMmnVv+lZ4xRShtNwOLAkpeYCCc//BDg1i24vn8/gxr0bOE6KZ7m91On4MahQ+w7X+R+YdEiONS8ue/Y9eCDLJ57sA6/9JIvbn+tWr68ME81wGIL20+dgtuXLzPIOtSyZcB1vDwmfxJgKTXWSMLCBRmzH95wyyUCWLg2Ab1WL3Z4JWCQ9nyzjHWyuIgc7Vu87iv23W5ThHLtEajQM/LRlDEBtizN8jBwlKcVObcCPtB7Vah4InTt/U5Ambv0fIvZwgGrX9p77Pv63esD0uF1CFkILyI2Baexwkb5PVu0bR0wRYgwj3WGICxPN2l2/jTWzIxZAeHyNKLnojbaDbBq16jDIOh01kYoU+ZJ6PxKBx8U6QGsQyuWswXxHVu1hn8XLg6jB7zny0cJlPgC+VNZG0KmU7o2kjACLGu3KvixY0c4P38+7HzgAR/AXNm8ma17Qni5eewYW2yO57jgHKcTL2dlsbQcsMxYg3Vq5EgGVty7hm8u8qlHk6HKpwN5sCIhKZVrwwUZ0Y5eKZ3I/47CLZcIYC1amw9OwVCCZUVvEJ8CjQXAwmnAOg2fheIly0CPAb0BpwfQA6eku0iY6MAciQcLpzQRMNJnTQkoJ3qpMJwDFk57Vqz+VEAatOHjzyeydOEu8rfCRrnWwYA1aEQaK//6XYHgmJWXxcLl07/yfPSci9poV8BCaJnzUf7bsmumT2fQowew8PqJySlMT1zTdWX71pDgtGraNJYWpxMjASa91xJgWQtYh9u0YSCD2zT81LMnnBwyhL1VeGHJEgYaZyZOZPG/zJgBF5cvZ+f4xiBCTiSAFeotwtyEBFYGvB/eB7eRwL8TaWly+LHinDxYKpwUdnC4IKOnsw9OG23AmpnxJetMcU0PekLkBw7wLdu9zAb1WAAs1NZ7eDsMGDKITUNh+XHq7Y033bDlgP5F8KIDcySAhR4aLOfnS2YGwBOuLZMDFk6j4ZRZcPvB6TRMF66nxwob5WUOBix8swvLj548eTr0yGF4n+T+AeHyNKLnojbaGbAQVlo1bgrVq9SAi1u/Bb2A9dOafO8uXqcFPus/+5xprwViWvnojSfAshawEGCOJCWxNVh3rl9nHquzU6fCzn/+kwEMerZwsfntS5cApwdx/yq+R1YkgBVqH6yLmZlsmjKvVCkfROFWELgeLLdoUV+YBZ4sAqywSUrlQicC1lfrl7DONHlUGuCgHnys35nvWYgVwJIPurhIesjHI9jC8davtdc9UIsOzJEA1ryvFzD9p8ydFlA+/mJBoAcr/20ouY04tYYggvUjDxc9t8JGeVmCAcvnwQqa+tyYu5HZFc6LI/L74bmojXYHLFw39XiREjCsz7sw5r2BIffBCoYbPYCFU5JrZ+R7yoLzMfM7AZb1gGUBqFgJRUbeiwBLhZPCDnYiYOEaLHxzLXgNEA5MCFu5J/awgZsD1tQF03UP5FpeOqMWua/bsY5NmQUPsJ3e7gIVqhWcXgtOF/xddGCOBLC++e4bBhK4fYH8/l17dWfhHLBwkT6+TRa8BguncHEN3Y6jOwKul+cV6twKG+X3R8DCt1V5GJ8KDV6DNeGL/I0yjdhAVtRGuwMWws2QXn0YZPVxdzENsMyEqFB5E2ARYNkI+AiwwiYplQvjFbA6dukEOBUYfPB1Lzil9ljREpDy0WBYuXUlZH67nK1hwk0OcQDEwZAvIMeBHxeN6xnQrQIsXIeE3hzcADZjk4dt/Ip735SuUIlNE/JBXfRTdGCOBLCwLE1easXWjeEmnGt3rIUPxw1jEIK2cMBCEEss+yTUb9wYcN0cphs8bijbriGSnfqtspFrjm0R18jhryBgm8Jw/DUErCOEd/SYTpv/KZSpUBmea97MB2L8+nA+RW2MBcDC6cFqlZ+CxwonBADWvmUeeL5+Q1gwbrziFKCaB0vpOtwnq2uHV+HomtWKeYWCpEjinApYOBzZCCyM9ALFcl5TVDCBgsNVIF4BCwdqpSN1zBDfAIav/D9V5xkGWrgPVqPmzQqsC8K9ifCNN4zHKRzRwc4qwMLy4ODc4IXGbGsGLCvuFYUL3nN+zBYuL7dLdGCOFLDwZYRWr7Rl68VQ21e7utjO9FhnuHUBLw/ug9WyXRsGKLhmrmqtWpA2dijgVgc8jd5Pq2zk5UIIxp33EegRhDEct/1w9+jGIAv3wcL9sBDkcT0dvy6ST1EbYwGwEGD4InT5T+Xgbu/YXnAxuxLkqAGW0nXj3x/E8tq7VH0rB6V7RBrmZMDyStL3CFk5Enmxogmb3rv650hSj3A5gq5TUSDeACuSQcnIa60ELCPLLTowRwpYuKB7095NATCB3hwcMPEtQyNtCs7LKhuD72vld1Eb7QRYkcJKLF7vZMDKlqSu0QQLuncA2J7HvclUMIGCw1WAAEv8J0/0DJAEWKF1ffn1DswriN4q3GgU3yis+nQtqPf88xF5p0TqSBQ+IoVIkbKYlUbURgIs7Z/wMRPcnAxYOGZlS1KSV5J2EuwEwI6V04xnsiUpM1uSEsNlCLouhAIEWKFBINwBkAArtK44FYZTYuUq5U+dla9aja0Zw6nDcDUXvU4UPgiwogsfZoKNXfJ2OmCFGJooihSIfQUIsEKDgOigHZyOAMscXYN1Duc7AZa/3yIPVnQhkgDL3xbpjBSIOwUIsMwBAQIsc3QNB6iCryHA8ndjBFgEWMHPB37X6r/8LYjOSAFSQFUBAixzQECrgzJqHyylzjGSMIIP/6NCU4TRhQ+7TOOZWQ7yYPmfNzojBeJOAQIsAiw5kBFg+R9xAiwCLDPhCvMmwPI/b3RGCsSdAgRYBFgEWMqPNQEWARYBlitB+emgUFKAFNBUgACLAIsAS/kxIcAiwCLAIsBS7h0olBQQUIAD1tg1/WBBzjRLjlFf94JUjxuSM9Uf3miUy0j7tWzka7BGr+pjieaitn2xdRyrmxSPOyNU8+HwMXPLOFuVX8ROstFfs3yR++GWLeCo20WHxRrsfvhhtufRLklS9RRFoy/U6r/8LYjOSAFSQFUB/vAi8Fh9iACW1WUy+n5qNnLAMvp+huWX4fKoNhpJkjhgGXa/KLS/VLIRN3pcRps8Rm2TR9+GkiKAFY1nTa3/CtU3UBwpQArcVSB5RZdCKR53cpgHpGa4LoV5bfKQxR0fUKuICMulaU+qx7U+xeMG9NSEW36R69RsTF76xiMi14ukSV3mnoy2pHrc+0XSC6XJSGqrVjcYnupxtxPKJ9y2leH6LdXjvmHuPcjGbElq55Wk5Fg9tkvSZ3d/S+3HWLUBy71NkszqC03ro0P1DxRHCpACESqA/6NKyXD9HGE2Ubk8zeP+gJXf43JFpQAG3jR1WVLFfFtCT+sZeEvTs0rJcF9GeDf9RlG8gRNsNFteryTVQQ+cV5I2mH2vWMw/lvvoWNSbykwKGKZALD+8BFiGNQNTMnICfDjBRlMahyxTAiyZGAqnsdxHK5hDQaSAcxSI5YeXAMve7dQJ8OEEG81uZQRYoRWO5T46tGUUSwrEuQKx/PASYNm7cToBPpxgo9mtjAArtMKx3EeHtoxiSYE4VyCWH14CLHs3TifAhxNsNLuVEWCFVjiW++jQllEsKRDnCsTyw0uAZe/G6QT4cIKNZrcyAqzQCsdyHx3aMoolBeJcgVh+eAmw7N04nQAfTrDR7FZGgBVa4Vjuo0NbRrGkQJwrEMsPLwGWvRunE+DDCTaa3coIsEIrHMt9dGjLKJYUiHMFYvnhJcCyd+N0Anw4wUalVsahKN52kFeyNdphsdxHR1s7uj8pEFUFYvnhJcCKatPRvLkT4MMJNipVNAGWkirmhMVyH22OIpQrKRAjCsTyw0uAZe9G5gT4cIKNSq2MA1a87L7OPXFKtkY7LJb76GhrR/cnBaKqQCw/vARYUW06mjd3Anw4wUaliibAUlLFnLBY7qPNUYRyJQViRIFYfngJsOzdyJwAH06wUamVEWApqWJOWCz30eYoQrmSAjGiQCw/vARY9m5kToAPJ9io1MoIsJRUMScslvtocxShXEmBGFEglh9eAix7NzInwIcTbFRqZQRYSqqYExbLfbQ5ilCupECMKBDLDy8Blr0bmRPgwwk2KrUyAiwlVcwJi+U+2hxFKFdSIEYUiOWHlwDL3o3MCfDhBBuVWhkBlpIq5oTFch9tjiKUKykQIwrE8sNLgGXvRuYE+HCCjUqtjABLSRVzwmK5jzZHEcqVFIgRBWL54SXAsncjcwJ8OMFGpVZGgKWkijlhsdxHm6MI5UoKWKhAmiepDj6E0TiSM10JaqZGs1xGaqFmY3Jm50pG3sfwvDJcHrW6wfAUj3uZ4fe0uh2SjdLKF5stW/lic3DKsaZFC8U+J6rP47KkiqGetWj2hWr9V6jyUhwpQArcVcCuD280y2UkOKh1UFHt0EVAhuDDERBJgJXfEUb1eSTAovGYFIhPBTjITN88CvaeyrPkSN+QwjxmavCBSkejXEbar2Uj79CnZg2xRHNR2zYdXpvvzRQErG8Or7VV+UXsJBv9fRkHrLOZHrixIztuj63/eYd56bQ8WFY+j1OyhuQ/a4KAZbc+2t+K6IwUIAUUFYgGyGjBBxY0GuUSGZxF02jZSIBlDcwr1RcBlr8rIMDK1yIazyMBlr8d0hkpEJcKRANktOADhY5GuZQG43DDtGyMRocuYgvBh/8x5+vM4tlLR4CVX9/ReB4JsPzPGp2RAnGpQDRARgs+UOholEsEQETTaNkYjQ5dpOwEWP7HnAArfqYMaYpQn8dYq//yPyV0RgqQAqoKRANkRB7eaJRLBEBE02jZSIClr8MX1V0kHUGkvzsgD1a+FtF4HsmD5W+HdEYKxKUC0QAZLfhAoaNRLpHBWTSNlo3R6NBFyk7w4X/MyYNFHiyRZybcNARY/meNzkiBuFQgGiCjBR8odDTKFW5HqXSdlo0EWOTBUmo3RoWJgjJ5sPK79Wg8jwRYcTmkklGkgF+BaICMFnxg6aJRLqMGN8xHy8ZodOgi9okOzE7w7jjBRgKs/L4wGs8jAZYkZUtSN68k7cyWJKDDeg28knTSK0lf7JakB/1UQGeGKRANkNGCDzQuGuUSARDRNFo2RqNDFyk7AZb/0SLAoilCkWcm3DROB6xsSeovg6rbXkkCOqzVIFuSbmMdeCXp8I+SdL+/96MzQxSIBshowQcaFo1yhdtRKl2nZSMBFk0RKrUbo8JEQZk8WPndaDSeRwIs6bgMsMiDFWUvXo4kuQ2BCsrEr0A0QEYLPrB00SiXUYMb5qNlYzQ6dBH7RAdmJ3h3nGAjAVZ+XxiN55EAy/opMQK6gprn+MFuop8M6MwQBaIBMlrwgYZFo1wiACKaRsvGaHToImUnwPI/VgRYNEUo8syEm8bJgLVfkv5GsFMQdqKsyWx/70dnhigQDZDRgg80LBrlCrejVLpOy0YCLJoiVGo3RoWJgjJ5sPK70Wg8jwRYxgHG+YULQekvLzERjvXpw6KOuN1sGnLH3/8Ov589C9fz8iDnvvtgx1/+AmenTIFb587BrYsX4dycObDzn/9kaY++9ZZStnC0SxfYW768P+7OHfjtyBE4NXIk5PzpT7CnUCF/XNDZqVGjYMdf/xoUmv/1eL9+7L47/+d/4Nzs2XD78mW4deECK1/O/fezuJ969GCJL2/axL5/V6kS+364TRv2PQJII8AyhKpkmegFmQWrF0LDZk3ZD/y+PyIFeg3qq/vHfrXgIxLA2pS3CR55rCj0TXtPd7mMGtwwHy0bI+nQR04azWyct3K+4TaKDsxO8O44wUajAKtXkpu1yYFvvq34g9Ej+w2AosVLKsbhj0wvm5TOrk9PSVVMc2TNKkhILA3tWrRSjNf6oWqzdnJv/eorULxkmbCeQ7MAq8t/3mZaZv/ghdoNG0LNevV0l0+r/5INIWGdGu3B4oB1Ii0NjvXu7TsQlBCiru/bBzdPnmRgc3LoUAYk+2vXZkDyy2efse+/rloFZyZNArhzBy589RWL44CFsCPPd2+5cj7AurJ1K/w8cCBczspi+ZxITgaEOJ4eQQ7/TqSksDC8L5YJ4xG28O/Kli3s+3dVqrD7Xli0iIXjfS9mZLDzM598wuI4YGE5dz/6KBBghdUErblIL2B1798Lxk4fzx7YBk0aw5qcNaY8vHrLxeHIaMCqWbcuTFs4w3AbIwEsBKtyVarCorWLdZeL66T2SYDlf+6MAqzJc6aygU5NczPCRevRSMB6tFBxwCNn4YICEKQFWAhIrrbtoVhCKfhh1coC13dq0w6KlygNP3xdME4LrjDeLMB6pdOr8ETZCmE9h2YB1oSZ6VA4oSTsPLoTen/QD5557jnd5YtVwELgUPLgHGjQgEHK2WnT4Pa1a3Bu5kyWbsd//zfcuXkTbhw+DNl//CMLQ8g6P28e5PzXfwEHrB/aty+QL/dgYXq8J3rCMK+r2dkBaS8sWcLuveuhhwLC8Zq80qXz4eluHhi263//F+D2bbiybVt++nvugd9++AFuX7nCwIwB1q1bcPvSJTjWqxcBlr/Ltt+ZXpB5rauL/e8IB4XKNWoCQpbeAULk4dVbLl4GIwEr+0cvGzDsBlh5J3OhSs2nYcv3W3Rrz3VS+xQdmI2CD7VymBlutY09BvZxBGA1qvcs1K9dD/DzWvb2AEgSAazj69ZCyZLloOOLLwdcu2LKVNbnTPtwSEC4CFjxNGYB1qtdkqBsxSphPYdmARb2CxWr12Blmr7wM+jQuZPu8on00ZGMZmZ5sPZVq8am53CKbvfDDwcAzYXFixnM4DTgrn/9i8XllSzJwn6ZMSMgLYIOHhywEGowT35k/+EPPg8WByxMjxB0LTc3IC+9gPX9M8+wMp0aPdqXD3qy8C+3RAngHizM96rXS4AVSUM0+1q9IDN62nhwvdONPbB9UvrDByNTTXl49ZaLD8h6AGvohJFQ69lnoUiJUlCidDl4xfU6bNizgdmDXiKcauTH48USddmp1UFF4sFasWUFDBrh133pxgxo3qY1+580lhM7V6ybPT/v1lVm1NAq+Nh+aDvg4JRQqiwUTSwNbV7vCMu/Xc70HvNpvocUy7P82xXQqn07SChdFv5dJAEqPVUT+qUNDMs2Xxs5vBZSPW5IzXB5Qj1fRkBk41YtfG0I29L7w5NZnWw7uA0693yTDc7/LpwApZ6sCK93c8Pm7zbrrjNul/xTtB6N9GDVq1UXtsyZA//3eDGYOvjDABgSASyEoS9HfcT0ypiYzq6/8O1mqFypGjRr2Biu53gD8uTwJPJpFmB16t4VKlZ/Kqw6Mwuwvlg6Ez75Mp2VadgnI2HphqW6y6fVf4V6bkTizAIsRiF3/wn2JB3t1o3F8LVLCET7n36ahZ0eN84HMxyu5IAlzxfPcQ0V92CdmzULcosWheP9+7NkZ9LTA/LSC1gHmzRh+eBUIy8Lm7oEYDDFAetIUhJLd7h16/xPWoMl0vSsTRMuyMg7c73nIg9vuOUSBayBwz5gHTmCyCrvapidOYetVUCv3I4jOWwAn5U5h6VBlzsOiHrs1LIxEsCSl2P38V1QslwFBlhL1i+B1Tmr4ePPPoFiT5SBfoPf11VmzFd0YI4UPtATWrh4SUBgX7ntawbq1Ws/w/QeN/1jVm6sy8Qy5aFuo0Ywd8U8WJW9GhCKESK79emu2zaum1U24v3QC9qk9YvwdP36sPXAVjZtgx5I9PwiVKV/OZnV2acLZ0C5ylWhVoMGEcGjXhuNBKxWy9pGAAAgAElEQVQ6NWszAOrt6gwlEkvDsbVrfEAkClgIS62btoCKT1aBc5s3QXL3nlC4WCJ8l7HUl5cIUAWnMQuwcL1T1Vq1wmqLZgEWbwORfGr1X5GOUmYB1pFOneBQ8+bs4GusEFLYwvZTp9iicaSRQy1bMnjhHiw+ZciA5p57fGDDPVinx4zx5Yv543QiByxGN3f/uZqT4/OOcTjSC1hYbvzDe/I8zs+dy8JyExJ8Hqw9hQvD77/8Agh4+EeL3CNtlSZcHy7ImP3whlsuEcDCtQnotXqxwysBHaPnm2VsgMdF5Gjf4nVfse92myKUa49AhZ6Rj6aMCbBlaZaHgaM8rci5FfCB3qtCxROha+93AsrcpedbAYDVL+099n397vUB6fA6hCyEFxGbgtNYYaP8ni3atg6YIkSYxzpDEJanmzQ7fypsZsasgHB5GtFzURuNBKzaNeowCDqdtRHKlHkSOr/SwQdFegDr0IrlbEF8x1at4d+Fi8PoAe/58gkGJ9HvZgHWW317Aq7TFK0XeToCLOPfIlRbg4Vv9+HfgUaN2NuD+MZfzp//zA5cy3Tz2DG2vgmBBr1Z+B2nAzlghVqD9evKlXCwaVPAhe/Z997rgyIOR3oBa+cDD7A1WD4P3B//CL8dPcrWXGH+3IOFtuLbjzdPnCDAMoGNDMkyXJCRdxR6z0X+dxRuuUQAa9HafHAKhhK0A71BfAo0FgALpwHrNHyWvcnUY0BvwOkB9MDprROeXnRgjsSDhVOaCBjps6YElBO9VBjOPVg47ak0/fLx5xNZunAX+VthI9cTP4MBa9CINFb+9bsCwTErL4uFy6d/5fnoORe10QzAQuiZ81H+m65rpk9ncKQHsPD6ickpTAtc03Vl+1bbAlbPge9CnYYNA9qxaD0RYBkPWMFvESL0oNcHF59fXL6cwc/Bxo0ZkGBahCD+Jt+l9evh9NixcOf33wHPMY4DVvBbhAdfeMHnwZKvweJQJf9UAiyttwjPz5/Pyoieq4seDzs/PX48K5McsPh6LUxAHixDkMjYTMIFGdFORCldtAFrZsaXrPPGNT3oCZEfOMC3bPcy6zBjAbBQX+/h7TBgyCA2DYXlx6m3N950w5YD+hfBiw7MkQAWemiwnJ8vmRkwMOHaMjlg4TQaTpkFtyGcTsN04Xp6rLBRXuZgwMI3u7D86MmTp0OPHIb3Se4fEC5PI3ouaqNZgIWQ1KpxU6hepQZc3Pot6AWsn9bke2bxOlEvVah0Znmw3k0dENaLPliPBFjGAxYjEdk/uF/VxcxMgFu3IK9UKQYoCD+X1q2DOzdusLVTuG8Veq1wbyz0Zp1fsAB2PfhgAGDJsmSnCD58ijAcwNLcB+sf//Dvg3XxIpydPBmC98Fi3rp77oGbP//MykSAZSwbGZKbEwHrq/VL2ECWPCoNcFAPPtbvzPcsxApgyQddXCQ95OMRbOF469fa6x6oRQfmSABr3tcLmP5T5k4LKB9/sSDQg5X/NpTcRpxaQxDB+pGHi55bYaO8LMGA5fNgBU19bszdyOwK58UR+f3wXNRGMwEL1009XqQEDOvzLox5b2DIfbCC4ShWAAu3qcH+JFh/ke8EWMYBltxjROdh60objRpCVbJMnAhYuAYL31wLXgOEnSLCVu6JPazD5IA1dcF03R2olpfOqEXu63asA5wyC+7QO73dBSpU0/92k+jAHAlgffPdNwwkcPsCebm79urOwjlg4SJ9fCMteA0WTuHiGrodR3cEXC/PK9S5FTbK74+AhW+r8jA+FRq8BmvCF/mbbRqxgayojWYCFkLTkF59GGT1cXeJS8DidRrOJwFW2CDg80QRTBmqIQGWjI0MOY1XwOrYpRPgVGDwwde94JTaY0VLQMpHg2Hl1pWQ+e1ywDVMuFEiDoDYYfIF5Djw46JxPQO6VYCF65DQm4MbwGZs8rCNX3Hvm9IVKrFpQr0dv+jAHAlgYZmavNSKrRvDTTjX7lgLH44bxiAEbeGAhSCWWPZJqN+4MeC6OUw3eNxQtl1DJDv1W2Uj1x7bIu72jb+CgG0Kw/HXELCOEN7RYzpt/qdQpkJleK55Mx+I8evD+RS10WzAwunBapWfgscKJwQA1r5lHni+fkNYMG684hSgmgdL67pgTxj/btYUIXrB8U3CcOrIyYCFgxfBkaFwZAR0TjEEKigTvwLxClg4UCsdqWOG+DpDfOX/qTrPMNDCfbAaNW9WYF0Q7k2Eb7xhPE7hiHakVgEWlgcH5wYvNGZbM2BZca8ohMWcH7OFy8vtEh2YIwUsfBmh1Stt2Xox1PbVri62Mz3WGW5dwMuD+2C1bNeGAQqumcNX4tPGDgXc6oCn0ftplY28XAjBuPM+Aj2CMIbjth/uHt0YZOE+WLhZJYI8rqfj10XyKWqj2YCFgLNq2jT2LMp/Kgd3e8e6xsXsHILkn2qApXWdPA/5uVmAhd7JkuXttZN7JO2GX6vVf/lHkPDPvJL0PUJWzt1NPQm4ogNc3rv650hSj/Brk65UVCDeAIt3ENH+1OqgjJoiNNpO0YE5UsDCBd2b9m4KgAn05uCgi28ZGm2XPD+rbJTf0+pzURuNAiw5zNjx3CzAiqReyYMldSWoig5UKeh+HvcmU4QECgxfAQKsPFMGcwKs0Lq+/HoH5hVEbxVuNIpvFFZ9uhbUe/75iLxTIgOeKHxECpEiZTErjaiNBFj5fWc0/sPjdMBC5bMlKckrSTsVBnwjprwoD23v4JlsScrMlqTE8CmCrlRVgAArNAiEOwASYIXWFafCcEqsXKX8qbPyVauxNWM4dRiu5qLXicIHAVa24vSdHT1UWmUiD1bo5zH42dHqv1QHFIogBUgBvwIEWPo6nuCOSO27VgcVjf8xq5VVHk7w4X82CLAIsOTPhtHn5MHyP2t0RgrEpQIEWARY8oGDAMv/mBNgEWDJnw2jzwmw/M8anZECcakAARYBlnzgIMDyP+YEWARY8mfD6HMCLP+zRmekQFwqQIBFgCUfOAiw/I85ARYBlvzZMPqcAMv/rNEZKRCXChBgEWDJBw4CLP9jToBFgCV/Now+J8DyP2t0RgrEpQIEWARY8oGDAMv/mBNgEWDJnw2jzwmw/M8anZECcakAB6yxa/rBgpxplhyjvu4FqR43JGe6EtREjUa5jLRfy0b+FuHoVX0s0VzUti+2jmN1k+JxZ6jVDYZz+Ji5ZZytyi9iJ9nor1m+D9buwSmwb+xHcXusf+NVWPlic1jTooVinxON53H06nfz+8EMdwV/jRQ8i0ZfqNV/FSwlhZACpEABBfjDi8Bj9SECWFaXyej7qdnIO3Sj72dYfhkuT4HGIgvggGXY/aLQ/lLJRokDFsKHEw4twIpKe16WVFH2aBU4tWsfXaCgFEAKkAKBCiSv6FIoxeNODvOA1AzXpTCvTR6yuOMDgaXxf4uwXJr2pHpc61M8bkBPTbjlF7lOzcbkpW88InK9SJrUZe7JaEuqx71fJL1Qmoyktv7aKHiW6nG3E8ongrZ1t3406zLsckTbxgzXb6ke942wyy+irYaNK1s2a7fixebJVh5r6tWZsbFkIqyv+OQeK++L91rz/+2dd7AcxZ3H35++qnPV/XVVd+eEAYHJSIAMJicRjEk2JhgTpH0SIhhMFAbxAogsEJIsgpABEQQS4e2+pyyUQAIUCBLcCRBYd2DCgQsObFMc57769ap35u3bfTM9MzvTs/tR1WpmZ7pnfr9Pd//6u9098048sWbMidUeY5bjDfPb/2VgC/OOxIyFDYvRnoXsQQACiROQX3udxcL7iV84hQt2l9qv0/aXCoUUbtfQW3T1jhpW9mXwab2GGpHwxc1IQsKXdepyncX2L+QHilNGpWDM+ra2g7b+aZRHUrhdw2/hcjnmOUY3vOC4AQRcJpDnxovAcrlmtbUhsNwunzjWIbDi0LPLm+cYbecpqSHQZATy3HgRWG5XRgSW2+UTxzoEVhx6dnnzHKPtPCU1BJqMQJ4bLwLL7cqIwHK7fOJYh8CKQ88ub55jtJ2npIZAkxHIc+NFYLldGRFYbpdPHOsQWHHo2eXNc4y285TUEGgyAnluvAgstysjAsvt8oljHQIrDj27vHmO0XaekhoCTUYgz40XgeV2ZURguV0+caxDYMWhZ5c3zzHazlNSQ6DJCOS58SKw3K6MCCy3yyeOdQisOPTs8uY5Rtt5SmoINBmBPDdeBJbblRGB5Xb5xLEOgRWHnl3ePMdoO09JDYEmI5DnxovAcrsyIrDcLp841iGw4tCzy5vnGG3nKakh0GQE8tx4EVhuV0YEltvlE8c6BFYcenZ58xyj7TwlNQSajECeGy8Cy+3KiMByu3ziWIfAikPPLm+eY7Sdp6SGQJMRyHPjRWC5XRkRWG6XTxzrEFhx6NnlzXOMtvOU1BBoMgJ5brwILLcrIwLL7fKJYx0CKw49u7x5jtF2npIaAk1GIM+NF4HldmVEYLldPnGsQ2DFoWeXN88x2s5TUkOgyQjkufEisNyujAgst8snjnUIrDj07PLmOUbbeUpqCDQZgTw3XgSW25URgeV2+cSxDoEVh55d3jzHaDtPSQ2BJiOQ58aLwHK7MiKw3C6fONYhsOLQs8ub5xht5ympIdBkBPLceBFYbldGBJbb5RPHOgRWHHp2efMco+08JTUEHCTQ0VfYo6tYWBbxo7qLha8i5l3WMXfUd+ohiWlXCH/a3+0qFlRXT2FTVPvD5KvnY3fPuTuEyR8mTWexsE77Uhz1SZj04dK031CvbOR4V6n9xnDXiV63yj5Fzh+mDmTt4zddxYJ8QtgaNU3m5TjAt5sePvOVKRN+qiZOPvmjxvo+kFmD2mOscuwujd5+sLYWMxY2LEYPZjPnIACBtra27tKog81oQdrbjr7CkHqFkKVdSXKo52NH3+i9krxP4tcqFkr1ykaOd5baexO/Z6ldpXpNfGyOcrSoN062x95RwwZra1nGwnq8BrOXcxCAwFYCpvFOW96llr81P5XPpCVX6450sF9uWdiVpP9BPhqBNWXp+FSYh/WttGHWVpFT6BmskRiB1bthllP2h/ETH72SzXM5hilrk8bF9jjl2WvLba1n5J5eiQzcyyIWBvEaaCVHIACBAQRM453x/G3q9Q83pvKZtqxTB5bBfh1lYVeS/gf5aATWfSsmpMI8rG8rNy8pB/2QozvPbV7ilP1h/MRHLwwYgZXHcgxT1iaNi+3x3hUTym0t5AiWazHaq0XsQQACNQlkIWSCgp0YmoVdJhgnsQ3yEYGVjpivVZYILC8UILDKLLJojwgsrx6yB4GmJJCFkAkSHwI6C7tqdcZRjwX5mEVAD+ML4sNr5nkWH61QjmHqs0njYntEYHltjT0INCWBLIRMULAT0FnYZYJxEtsgHxFYjGAlUc/qXQOB1b9+udgeEVhN2aXiFAQ8AlkImaBgJ9ZlYVe9zirK8SAfEVj9O8AojKPmaQXx0Qo+2pS/i+0RgeX1Q+xBoCkJZCFkgoKdgM7CLpuAHZQ2yEcEFgIrqA7FOY/A6l+/XGyPCKym7FJxCgIegSyETFCwE+uysCtOh1adN8hHBFb/DrCaXyO/t4L4aAUfbeqIi+0RgdXW1lUsjO0sFV5O9f13Fu9Na367Ch93FgsPdSwY88+eKmAvMQJZCJmgYIfAQnzYdJ62aVtBfLSCjzblHhRzsvjB0+oCq7NUGGcETKf8VQ0+qTPorIjNwh87lp79rcSEBRcqE0BgNUbMuBjQw3RIrdAx46MX/fL8pGSY+mzSuNgeW11gdZXa/2QEFtuU/4pFRVjJfQvl97GVCmO8yMBeIgQQWAgs0wnJFvHhNas8i49WKEd/vQ3aR2DZxbkgXl4rib4nosobQclSYHDvrWUxI3ppkrMmAQSWXeAJCuTmfFCAymJKwtg22LYVOmZ89EJBnkXkYPW4+pyL7bGVR7Bu7jn32+VO3YyeIHKyG8Url0FnsfCoFxnYS4SArcCavWiOGnH8z/SfR7n2lk516fgrrf9USlCwE8ds7TIBdeXGlepfv7eturL7d9Z2mWsksQ3yMY7AuvXuidrHx+c/kbiPiA+vWeVZfKRdjoXfjNV18oIrL6lZJ8fdMF5tM2SnmuekvU1/4n6dv/vOG2umWb5hudruR7uqE049peb5oDbbqPZ4yllnqO132jWSTY0SWGN+e6FmufadNeqgESPU/ocdZm1fEC+vlUTbc1Fg/ccHLyv593f1d/X53/6sXnhnsZow94Kt02ft6u5lneo/P31LffN//6vPL9j4eOWcybvizV59bNHrs/W1bl94mZq34VG9X/1f32sPV/JnJ668KUIEVrS6PGguWyFz0bhL1Z0z7tIN9ojjjlWL1y1uSOO1tcsE2KQF1v6HHqqmz/lD4j7GEVgirHbfZ7h6cslT1nYZTvW2aXfM9exo5PG0fbznsft0R9dIn6qvnbaPIrC+84Pt9adneXFAvQwSWGL/aeecpX64w85q6atLB+T/5Tlnqm133EUtfWXguWrfa30PEgxR2+MZI89SP9pt6AB7a9lQfaxRAmvKzGlazL685WV12XVXqUOOOsraviBeg3YqIU66LLCee2ueeue//13roU0fvqJF0IS+87WoEnG1evMi9eHn/6XPz157jz5vBNanX35UV2BteO9FJcLLfO5Z3oXAClFXcp3EVsicfV5B/zqSYLH3T/ZXIrKqA0fQ9zCN19Yuc88kBdbad9foDsM1gbXxgw1qn/0PUKs3rbZmbzjV26bdMdezo5HH0/bx4msubwmBJR35AYcfrjv0DX96rV/dDCOwnnvjObXDLrurk391er+8M+Y8oGPOjVNu7Xfcpo4ExZyoAuusMaPUbsP2iWRXowSWxIVh+/5E2yTszhw90tq+IF5xOz2XBZaMOsmI0pZP39Qiasqz16gn1kzT+8+/PV+fu2vxOP1988ev6+8isP729V/0sftWXK9FlHzxj2A9vf5+RwRV9XQsU4Rx63Pd/LZCZuL0u5T8WpXgdnnnOHXdrV0Naby2dplgayOwJGAfeOSR+lezBPYzCueoZa8t0/7IKJFMNZrP97fb0crPoAAVNaCLn/NWz1Pjb/G4y4iBTJ3IL2mxU4KrlM1r779qZbNcOy3x8dLbLynpnIbsvJsemTj1nF+ruavmat533F8eIRV75q6apzvcIbvspr77wyFqr/32V1d1XxPJt0od2bykHOiKhVLdhtHW1pbEFOGxJ59YqUNSl669uUOXyYtvvahGX3K+7py/u80QtfOew9Q5Y9vV8288b11mxi//Nq1yNPeUmCBTUXMWP6n+7fvbqQmTb+nnRxiBJdeS+CKc7p01Xedf9+5atefwfdWRPztOyQ8Lcz/bbaPa48iLzlPD9t0vkl2NElgP9cxUUx+epm26aeqtqmdZj7V9QbwGazdhzuVBYC16Y44WTE+tn66Wbyrp/VkvTamIpC+++kzJR8SYCKwPPtuiPvvrp2rV2wtqCiyZUpy0eFzlk+20oF9kIbDC1NlIaaIKGdsA508fpvFGtSuswLrmput0IBchsnDNIvVo32O6g5BRufV/XKc78Ef6HtNpZMhdOkS/D0H7QT7GEVj+e7/63itqp92HaoH1zNJn1KJ1i9TkB6bq9SpXXX+tlc1y3bQ6ZhkJ3Wb7nXSHOv/FBVqo73vQIZr3pBmTtd1Sljvuuoc69Oij1ax5j6uFaxcpEcUiIsdefpG1b4ZbWj7K/WQU9LhTfq5Hdl548wUl0zYiFGTkV0TVtIfv0WV2/5w/qN33Hq4OPOKIWOIxCx/lniKw9jv4EF0m7ReP1euSVr6+slJGYQWWXOu4X5ysdt9ruJI1RBdffZn6wfY7qvkvzK9cy/hos21Ue5T1TsMPPDCSbY0SWDZc6qUN4hWps/FlyoPAKr7ygBZVva/OVKs3L9T7D666rSKwPvniA/X1N19VBNYnX36oxZWIrDBrsG6ce2HlWtmKLQSWr2omuxtVyNRrmGGOh2m8Ue0KI7Ckk5O1Hj8/84x+gbH0XK/u4GURufjx1LNP6++uTRH6GYugkl/8t997Rz9felaUtHD0pw2zn4b4kNEr6TTPu+w3/Wwec8kF/QTWVd2/09+r1+RIPhFZIl7C+FSdJg0f/fc88bRT+k0RipiXMhMh7E9396P36eMzi4/0O+5PE3Y/bR9FYIlAFvtESIroP33U2RU/bATWkvVL9Bqik884TcnonvwYCut3vXRBMSfqDx5Z1C/rNOvdd7DjCCx5TUO5c89WYJRHc8w6KjNFuHjrCNactfeoZZuKW0ewplZE0Zdffd5vBOvPf/lY3bviep1O1lvJP/8UoSyaf3zN7yuf7tLoyrWy9R+Blayq8l0tqpAZLHAEnQsKdmJeVLvCCKwnl5SFU7UoEbulYzBToHkQWDINePCII/WIgfzal+kBGYELKoN659PomGVKUwTGtEfu7WenjFLJcTOCJdOetaZfJj/4e50u6iL/NHz0860WWONv6db2Vy/YXrFxhT7un/71X8dmP20f/QJL7JQylLKU+ijfbQSWpO+6Y4LOL2u6ZJTWxvdaaYNiTlSBdck1V6iDR4yIZB8Cy22BZdZgyXorEUbyb9XmhVoUybos+ff2xxv1dxFnIrBEKMlIlkwdyj+/wGINlk94tMpuVCFTK4iFPRYU7BotsGYWH9bBW9b0yEiI/yOdwkmn/1IHzDwILGG+ZvNL6uoJ4/U0lNgvU2/nnt+uVr9pvwg+jY5ZRmjEzgefKXe+pt7I2jI5bgSWTKPJlJk5b7YynSbpoo70pOGjsVW21QJLnuwS+2Ukz59ORuTk+OUd4/od96cJu5+2j9UCS+w85qQT9Jq59VvWWwss80NJhFlYnwdLFxRzogqsK7qujvSgj9iKwHJTYMmrFt786DUtkEQ4iWi6oW+sXl8lTxHKSNRH//OePi+L3+W8X2CZ9VrVAqv6KcLHXpys82Y7esVrGhqq9VpRYD299BndkXXc1q0XjEvH7v8sfbn8KHheBJa/Y5FF0rLAWB5pP+XsX1l3Tml0zI8vmK35m4XMxn7zYIERWOURrPLTUCaNbGVqTYSIlI//eNj9NHz021ItsCojWFWvI5B3PYlfUR4c8d9P9tP2sZbAknVT39t2ByUiRBb3D/YerAH2b32fnesCS15TI/Gk2v4w3xFYbgosEUZ//fpLtW7LCnWTb53UtGUdaovvPVjzN86qCCS/wJq6dLwWX9UCq3Jw687G99dU8mcrspgibJjIakWBJWuwRIBUrwGSoChCyzxibgTWfbNnWAfQRv1irg7cz65/VsmUWfXxkReOUUN/bP90UxodszyOL0JCXl/gt/u8Sy/Sx43AkkX68kRa9Ros6cxlDZ2MjPjzh91Pw0e/LSKw5GlVc8xMhVavwZry0DTtfxIvkE3bx1oCS/yV0TgRWfLEZDMKLFOmUbYILLcEVrYix/9UX9r7CCwE1ofh/qSNmVr49ZiRSqYCqz9m3YtMqUng77z9ev2EUt+qufqJJXlZonSAEjDNAnLp+GXRuE2HnpbAknVIIlbkBbDFlSX94ld5980uQ/fS04S2gT+tjlmeFJM3YMtLOGVR8w2TbtIiRHwxAkuE2I677akOP/ZYJevmJN31k27Ur2uI86b+tHw07KUuiq/yVxCkTslx+WsIUkYi3mXEVN5kvuvQvdVRJxxfEWImf5Rt2j7WE1jSZuS1ITId7xdYC15aqJ8OlSd0a/ln2nH1CFZQvlrXkmONao8yCi5PEta772DHEVgILDdEHQILgWUpsKSjrvWRxbMm6Mkj//JouQgteQ/W0SccP2BdkLybSJ54k/MyhWPyBm0bFdBr3Vc65yN+eqx+NYPYKu+KkgXv8g6hWukHO5ZWxywdqDwlJuvFhO1Z5xX0m+mlzOTVBcZGeQ/WSaefqgWKdNLySLz8OZU470RKy0fjg4hgefO+1DMRwnJcXvshrzMQkSVPysnLKkXIy3o6ky/ONm0f6wks8eGBpx/SbdEvsMyDDv726Pe3nsAKyue/hn+/Ue1RRid32sOtN7n7/Y66H8QriQ7JDXGR9miRu/frLBbuTqJcuYaPQLNNEUYNKEnnCwpQURfVJm1n9fXS6phlQbf/PUlih4zmiMCSTrTariS/p+VjkjbbXqsVfLRh4mJ7bOURLOmCOkuFTVpk9borOppeBPa2q85imX9nqVDwSQN2kyCAwAo39WgTzCWtiwE9jA9pdczyt+Vk5EpGq+RFo/JE4fADDlSHHXNMrNEpl3wMY0uj0qRVjo2yP+nrutgeW15gFdtHN72AKeVDPHaWCvOT0BNco4oAAguB5e/M0uqYZSpMpsTkjd0ydbbH8B/rNWMyNeS3pxH7afnYCNvDXrMVfAzLQtIhsOziXBCvqm4k8teuYmFsV7GwjE9GDEqFxxi5ilx9gzMisOwCT9igHhSgWn2KMCzHRqRrBfHRCj7a1A0X22Orj2AF906kgEDOCSCwEFj+jqoVOmZ89IJWEn/Q2l9/XN1HYNnFuSBeXg1iDwIQqEsAgWUXeMJ2IEEBihGsxnAPUz4ILC8cILDKLLJoj4xgefWQPQg0JQEEVmM6egRWY7iGEVBBaRBYXihDYJVZILD6t9eg+OXVIPYgAIG6BBBY/QNLUOcc9nxQgMoioIexHfHhNZU8i49WKMcw9dmkcbE9MoLltTX2INCUBBBYCCzTCcm2FTpmfPRCWZ5FpL/eBu0jsOziXBAvrwaxBwEI1CWAwLILPEGB3JwPClCMYDWGu+E/2BaB5YUDBFaZRRbtkREsrx6yB4GmJGAE1p2Lr1Kz101P5XPbgkv1XxHv6CsMqQc1C7uS9D/IRxPQJy68PBXmYX176IVJumw6S+3FemUjx03HPHP1JKfsD+MnPnolm+dyDFPWJo2L7XHioivKcbDYPtQrkYF7WcTCIF4DreQIBCAwgIBpvFm8UTeMwMrCriTvWc9HI7CSvKLuXaoAAALESURBVFei1yoWSgMqi++A6ZgTvWfabz3Gx4pQznU5WtQbJ9tj76hhvqY1YNfVGD3AUA5AAAL9CXQ8ffY/SQPO4jPxiV/8Q39rvG9Z2pUki3o+3txz7reTvE/S1+roHbmLVxoD97r62ndN+p5pXw8f29qaoRxt6o2L7bFj6dh/HNjCvCNZxsJ6vDzr2IMABCAAAQhAAAIQgAAEIAABCEAAAhCAAAQgAAEIQAACEIAABCAAAQhAAAIQgAAEIAABCEAAAhCAAAQgAAEIQAACEIAABCAAAQhAAAIQgAAEIAABCEAAAhCAAAQgAAEIQAACEIAABCAAAQhAAAIQgAAEIAABCEAAAhCAAAQgAAEIQAACEIAABCAAAQhAAAIQgAAEIAABCEAAAhCAAAQgAAEIQAACEIAABCAAAQhAAAIQgAAEIAABCEAAAhCAAAQgAAEIQAACEIAABCAAAQhAAAIQgAAEIAABCEAAAhCAAAQgAAEIQAACEIAABCAAAQhAAAIQgAAEIAABCEAAAhCAAAQgAAEIQAACEIAABCAAAQhAAAIQgAAEIAABCEAAAhCAAAQgAAEIQAACEIAABCAAAQhAAAIQgAAEIAABCEAAAhCAAAQgAAEIQAACEIAABCAAAQhAAAIQgAAEIAABCEAAAhCAAAQgAAEIQAACEIAABCAAAQhAAAIQgAAEIAABCEAAAhCAAAQgAAEIQAACEIAABCAAAQhAAAIQgAAEIAABCEAAAhCAAAQgAAEIQAACEIAABCAAAQhAAAIQgAAEIAABCEAAAhCAAAQgAAEIQAACEIAABCAAAQhAAAIQgAAEIAABCEAAAhCAAAQgAAEIQAACEIAABCAAAQhAAAIQgAAEIAABCEAAAhCAAAQgAAEIQAACEIAABCAAAQhAAAIQgAAEIAABCEAAAhCAAAQgAAEIQAACEIAABPJG4P8B3vOrxfYJIiMAAAAASUVORK5CYII=)\n",
        "\n"
      ]
    },
    {
      "cell_type": "code",
      "metadata": {
        "id": "Tix0L4GK6t_C",
        "colab": {
          "base_uri": "https://localhost:8080/"
        },
        "outputId": "50bbb112-2e42-4e24-cc4f-ae0131ebd8b1"
      },
      "source": [
        "tok_exp = nlp.tokenizer.explain(text)\n",
        "\n",
        "for rule, token in tok_exp:\n",
        "    print(f\"{token:<10} {rule}\")"
      ],
      "execution_count": null,
      "outputs": [
        {
          "output_type": "stream",
          "text": [
            "Adam       TOKEN\n",
            "Mickiewicz TOKEN\n",
            "żył        TOKEN\n",
            "w          TOKEN\n",
            "latach     TOKEN\n",
            "1798       TOKEN\n",
            "-          INFIX\n",
            "1855       TOKEN\n",
            ".          SUFFIX\n"
          ],
          "name": "stdout"
        }
      ]
    },
    {
      "cell_type": "code",
      "metadata": {
        "colab": {
          "base_uri": "https://localhost:8080/"
        },
        "id": "ZiYZ2PyBCmKW",
        "outputId": "8c8fdd00-9979-4416-9823-38acf206f8eb"
      },
      "source": [
        "for r, t in nlp.tokenizer.explain(\"Wyślij maila o 12:00 na adress marek.nowak@mail.pl\"):\n",
        "    print(f\"{t:<10} {r}\")"
      ],
      "execution_count": null,
      "outputs": [
        {
          "output_type": "stream",
          "text": [
            "Wyślij     TOKEN\n",
            "maila      TOKEN\n",
            "o          TOKEN\n",
            "12:00      TOKEN\n",
            "na         TOKEN\n",
            "adress     TOKEN\n",
            "marek.nowak@mail.pl URL_MATCH\n"
          ],
          "name": "stdout"
        }
      ]
    },
    {
      "cell_type": "code",
      "metadata": {
        "colab": {
          "base_uri": "https://localhost:8080/"
        },
        "id": "kFSXDvr8FikI",
        "outputId": "de1ae8eb-89c0-4194-e4e7-a413d5830a37"
      },
      "source": [
        "for r, t in nlp.tokenizer.explain(\"Interesuje Was #DeepLearning i #MachineLearning?\"):\n",
        "    print(f\"{t:<15} {r}\")"
      ],
      "execution_count": null,
      "outputs": [
        {
          "output_type": "stream",
          "text": [
            "Interesuje      TOKEN\n",
            "Was             TOKEN\n",
            "#               PREFIX\n",
            "DeepLearning    TOKEN\n",
            "i               TOKEN\n",
            "#               PREFIX\n",
            "MachineLearning TOKEN\n",
            "?               SUFFIX\n"
          ],
          "name": "stdout"
        }
      ]
    },
    {
      "cell_type": "code",
      "metadata": {
        "colab": {
          "base_uri": "https://localhost:8080/"
        },
        "id": "1ySZmUAJD_j3",
        "outputId": "f01dc24d-67f4-4711-b422-30820531962b"
      },
      "source": [
        "for r, t in nlp.tokenizer.explain(\"Najnowszy odcinek podcastu @StacjaIT na stronie stacja.it :-)\"):\n",
        "    print(f\"{t:<10} {r}\")"
      ],
      "execution_count": null,
      "outputs": [
        {
          "output_type": "stream",
          "text": [
            "Najnowszy  TOKEN\n",
            "odcinek    TOKEN\n",
            "podcastu   TOKEN\n",
            "@StacjaIT  TOKEN\n",
            "na         TOKEN\n",
            "stronie    TOKEN\n",
            "stacja.it  URL_MATCH\n",
            ":-)        SPECIAL-1\n"
          ],
          "name": "stdout"
        }
      ]
    },
    {
      "cell_type": "code",
      "metadata": {
        "colab": {
          "base_uri": "https://localhost:8080/"
        },
        "id": "Z33hahSpG_Gf",
        "outputId": "d3e87768-f732-4cab-f24d-ee728b1b8a63"
      },
      "source": [
        "print(*nlp.tokenizer.rules)"
      ],
      "execution_count": null,
      "outputs": [
        {
          "output_type": "stream",
          "text": [
            "\t \n",
            "   \") ' '' (*_*) (-8 (-: (-; (-_-) (._.) (: (; (= (>_<) (^_^) (o: (¬_¬) (ಠ_ಠ) (╯°□°）╯︵┻━┻ )-: ): -_- -__- 0.0 0.o 0_0 0_o 8) 8-) 8-D 8D :'( :') :'-( :'-) :( :(( :((( :() :) :)) :))) :* :-( :-(( :-((( :-) :-)) :-))) :-* :-/ :-0 :-3 :-> :-D :-O :-P :-X :-] :-o :-p :-x :-| :-} :/ :0 :1 :3 :> :D :O :P :X :] :o :o) :p :x :| :} ;) ;-) ;-D ;D ;_; <.< </3 <3 <33 <333 <space> =( =) =/ =3 =D =| >.< >.> >:( >:o ><(((*> @_@ C++ O.O O.o O_O O_o V.V V_V XD XDD [-: [: \\\") \\n \\t ^_^ ^__^ ^___^ o.0 o.O o.o o_0 o_O o_o v.v v_v xD xDD   ¯\\(ツ)/¯ ಠ_ಠ ಠ︵ಠ —\n"
          ],
          "name": "stdout"
        }
      ]
    },
    {
      "cell_type": "markdown",
      "metadata": {
        "id": "RJsjTQQ8Ddfc"
      },
      "source": [
        "### Ograniczenia"
      ]
    },
    {
      "cell_type": "code",
      "metadata": {
        "colab": {
          "base_uri": "https://localhost:8080/"
        },
        "id": "wrg1UV_u61lp",
        "outputId": "dd2cbceb-c501-47f2-8fe5-3b77062eddff"
      },
      "source": [
        "print(*nlp(\"Adam Mickiewicz żył w latach 1798-1855.\"), sep=\"\\n\")"
      ],
      "execution_count": null,
      "outputs": [
        {
          "output_type": "stream",
          "text": [
            "Adam\n",
            "Mickiewicz\n",
            "żył\n",
            "w\n",
            "latach\n",
            "1798\n",
            "-\n",
            "1855\n",
            ".\n"
          ],
          "name": "stdout"
        }
      ]
    },
    {
      "cell_type": "code",
      "metadata": {
        "colab": {
          "base_uri": "https://localhost:8080/"
        },
        "id": "gRJdfTVGFTWR",
        "outputId": "18d64c68-38b3-410e-a853-5321e61f71ee"
      },
      "source": [
        "print(*nlp(\"Adam  Mickiewicz żył w latach 1798 -1855.\"), sep=\"\\n\")"
      ],
      "execution_count": null,
      "outputs": [
        {
          "output_type": "stream",
          "text": [
            "Adam\n",
            " \n",
            "Mickiewicz\n",
            "żył\n",
            "w\n",
            "latach\n",
            "1798\n",
            "-1855\n",
            ".\n"
          ],
          "name": "stdout"
        }
      ]
    },
    {
      "cell_type": "markdown",
      "metadata": {
        "id": "W-eT7YUpJqLI"
      },
      "source": [
        "## NLTK"
      ]
    },
    {
      "cell_type": "markdown",
      "metadata": {
        "id": "5SVfYxY8HnFL"
      },
      "source": [
        "#### SpaceTokenizer"
      ]
    },
    {
      "cell_type": "code",
      "metadata": {
        "id": "cV6tkKb2Jytw",
        "colab": {
          "base_uri": "https://localhost:8080/"
        },
        "outputId": "44190240-d3c9-4a1c-8c3e-bb2114e76ae3"
      },
      "source": [
        "from nltk.tokenize import SpaceTokenizer\n",
        "\n",
        "space_tokenizer = SpaceTokenizer()\n",
        "space_tokenizer.tokenize(\"Adam Mickiewicz żył w latach 1798-1855.\")"
      ],
      "execution_count": null,
      "outputs": [
        {
          "output_type": "execute_result",
          "data": {
            "text/plain": [
              "['Adam', 'Mickiewicz', 'żył', 'w', 'latach', '1798-1855.']"
            ]
          },
          "metadata": {
            "tags": []
          },
          "execution_count": 22
        }
      ]
    },
    {
      "cell_type": "markdown",
      "metadata": {
        "id": "G4AFfEECHtUg"
      },
      "source": [
        "#### WordPunctTokenizer"
      ]
    },
    {
      "cell_type": "code",
      "metadata": {
        "id": "4q9YLCWLKMkD"
      },
      "source": [
        "from nltk.tokenize import WordPunctTokenizer\n",
        "\n",
        "punct_tokenizer = WordPunctTokenizer()"
      ],
      "execution_count": null,
      "outputs": []
    },
    {
      "cell_type": "code",
      "metadata": {
        "colab": {
          "base_uri": "https://localhost:8080/"
        },
        "id": "lrNUFQB2GQkS",
        "outputId": "9f862c76-353e-4232-ba8e-dd210776a059"
      },
      "source": [
        "punct_tokenizer.tokenize(\"Adam Mickiewicz żył w latach 1798-1855.\")"
      ],
      "execution_count": null,
      "outputs": [
        {
          "output_type": "execute_result",
          "data": {
            "text/plain": [
              "['Adam', 'Mickiewicz', 'żył', 'w', 'latach', '1798', '-', '1855', '.']"
            ]
          },
          "metadata": {
            "tags": []
          },
          "execution_count": 24
        }
      ]
    },
    {
      "cell_type": "code",
      "metadata": {
        "colab": {
          "base_uri": "https://localhost:8080/"
        },
        "id": "8c6bWp_rGM4B",
        "outputId": "b5f77e8c-b433-4620-bfa0-decb3ca757f0"
      },
      "source": [
        "punct_tokenizer.tokenize(\"Adam  Mickiewicz żył w latach 1798 -1855.\")"
      ],
      "execution_count": null,
      "outputs": [
        {
          "output_type": "execute_result",
          "data": {
            "text/plain": [
              "['Adam', 'Mickiewicz', 'żył', 'w', 'latach', '1798', '-', '1855', '.']"
            ]
          },
          "metadata": {
            "tags": []
          },
          "execution_count": 25
        }
      ]
    },
    {
      "cell_type": "markdown",
      "metadata": {
        "id": "SP1TiYd5Hvad"
      },
      "source": [
        "#### TweetTokenizer"
      ]
    },
    {
      "cell_type": "code",
      "metadata": {
        "id": "cA9svOBJEiuX"
      },
      "source": [
        "from nltk.tokenize import TweetTokenizer\n",
        "\n",
        "tweet_tokenizer = TweetTokenizer()"
      ],
      "execution_count": null,
      "outputs": []
    },
    {
      "cell_type": "code",
      "metadata": {
        "id": "_fJ_z0vAFHHq",
        "colab": {
          "base_uri": "https://localhost:8080/"
        },
        "outputId": "1506806c-ca27-4991-f375-7b9743649f1f"
      },
      "source": [
        "tweet_tokenizer.tokenize(\"Interesuje Was #DeepLearning i #MachineLearning?\")"
      ],
      "execution_count": null,
      "outputs": [
        {
          "output_type": "execute_result",
          "data": {
            "text/plain": [
              "['Interesuje', 'Was', '#DeepLearning', 'i', '#MachineLearning', '?']"
            ]
          },
          "metadata": {
            "tags": []
          },
          "execution_count": 27
        }
      ]
    },
    {
      "cell_type": "code",
      "metadata": {
        "colab": {
          "base_uri": "https://localhost:8080/"
        },
        "id": "xgk9_2_tGn2T",
        "outputId": "2205f462-181b-4ee5-c453-15492e9049a4"
      },
      "source": [
        "tweet_tokenizer.tokenize(\"Najnowszy odcinek podcastu @StacjaIT na stronie stacja.it :-)\")"
      ],
      "execution_count": null,
      "outputs": [
        {
          "output_type": "execute_result",
          "data": {
            "text/plain": [
              "['Najnowszy',\n",
              " 'odcinek',\n",
              " 'podcastu',\n",
              " '@StacjaIT',\n",
              " 'na',\n",
              " 'stronie',\n",
              " 'stacja.it',\n",
              " ':-)']"
            ]
          },
          "metadata": {
            "tags": []
          },
          "execution_count": 28
        }
      ]
    },
    {
      "cell_type": "markdown",
      "metadata": {
        "id": "33uoCT3NNFht"
      },
      "source": [
        "## Podsumowanie"
      ]
    },
    {
      "cell_type": "markdown",
      "metadata": {
        "id": "t1ll-oIBIdaV"
      },
      "source": [
        "*   NLTK i spaCy — tokenizacja regułowa,\n",
        "*   NLTK\n",
        "  * tokenizacja jest niezależnym modułem,\n",
        "  * generyczne zasady tokenizacji,\n",
        "  * moduły dedykowane określonym tekstom (np. tweety),\n",
        "  * sekwencja znaków zamieniana jest na tablicę sekwencji,\n",
        "*   spaCy\n",
        "  * tokenizacja jest integralną częścią całego potoku przetwarzania,\n",
        "  * sekwencja znaków zamieniana jest na tablicę obiektów `Token`.\n",
        "\n"
      ]
    }
  ]
}