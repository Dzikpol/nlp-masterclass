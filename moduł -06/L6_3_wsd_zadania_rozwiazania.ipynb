{
  "nbformat": 4,
  "nbformat_minor": 0,
  "metadata": {
    "colab": {
      "name": "L6.3-wsd-zadania-rozwiazania.ipynb",
      "provenance": [],
      "collapsed_sections": [],
      "toc_visible": true
    },
    "kernelspec": {
      "display_name": "Python 3",
      "name": "python3"
    }
  },
  "cells": [
    {
      "cell_type": "markdown",
      "metadata": {
        "id": "2UShbBsFN0Yo"
      },
      "source": [
        "# Ujednoznacznianie sensu słów (WSD) — Rozwiązania zadań"
      ]
    },
    {
      "cell_type": "markdown",
      "metadata": {
        "id": "NvWZC7NRLsBo"
      },
      "source": [
        "Wykorzystując **Słowosieć 3.0**, wykonaj poniższe zadania.\n",
        "\n",
        "Link: https://clarin-pl.eu/dspace/bitstream/handle/11321/273/plwordnet_3_0.7z?sequence=2&isAllowed=y"
      ]
    },
    {
      "cell_type": "markdown",
      "metadata": {
        "id": "jMfuLFFpvWez"
      },
      "source": [
        "## Zadanie 1"
      ]
    },
    {
      "cell_type": "markdown",
      "metadata": {
        "id": "trxhchv3L6tx"
      },
      "source": [
        "Dla każdej części mowy (*part-of-speech*) wskaż lemat, który posiada najwięcej znaczeń (jednostek leksykalnych)."
      ]
    },
    {
      "cell_type": "markdown",
      "metadata": {
        "id": "ZuRSBSovMpR-"
      },
      "source": [
        "**Wskazówka**\n",
        "\n",
        "Część mowy jest atrybutem jednostki leksykalnej i jest zapisania w atrybucie pos.\n",
        "\n",
        "```\n",
        "<lexical-unit id=\"1599\" name=\"ekran\" pos=\"rzeczownik\" tagcount=\"718\"\n",
        "    domain=\"msc\"\n",
        "    desc=\"##K: og. ##D: płaszczyzna, na którą rzuca się obraz, np. w kinie.\"\n",
        "    workstate=\"Sprawdzone\" source=\"systemowy\" variant=\"3\"/>\n",
        "```\n",
        "\n",
        "W Słowosieci występują następujące części mowy:\n",
        "```\n",
        "{'czasownik',\n",
        " 'czasownik pwn',\n",
        " 'przymiotnik',\n",
        " 'przymiotnik pwn',\n",
        " 'przysłówek',\n",
        " 'przysłówek pwn',\n",
        " 'rzeczownik',\n",
        " 'rzeczownik pwn'}\n",
        " ```"
      ]
    },
    {
      "cell_type": "markdown",
      "metadata": {
        "id": "rbMHQPGYWE2T"
      },
      "source": [
        "### Rozwiązanie"
      ]
    },
    {
      "cell_type": "code",
      "metadata": {
        "colab": {
          "base_uri": "https://localhost:8080/"
        },
        "id": "LQ5qUhuyWLFi",
        "outputId": "dac37486-6303-4613-b10b-103678fe86b6"
      },
      "source": [
        "!wget -O plwordnet_3_0.7z https://clarin-pl.eu/dspace/bitstream/handle/11321/273/plwordnet_3_0.7z?sequence=2&isAllowed=y"
      ],
      "execution_count": 1,
      "outputs": [
        {
          "output_type": "stream",
          "text": [
            "--2021-01-05 06:05:37--  https://clarin-pl.eu/dspace/bitstream/handle/11321/273/plwordnet_3_0.7z?sequence=2\n",
            "Resolving clarin-pl.eu (clarin-pl.eu)... 156.17.135.38\n",
            "Connecting to clarin-pl.eu (clarin-pl.eu)|156.17.135.38|:443... connected.\n",
            "HTTP request sent, awaiting response... 200 OK\n",
            "Length: 36119839 (34M) [application/octet-stream]\n",
            "Saving to: ‘plwordnet_3_0.7z’\n",
            "\n",
            "plwordnet_3_0.7z    100%[===================>]  34.45M  15.1MB/s    in 2.3s    \n",
            "\n",
            "2021-01-05 06:05:40 (15.1 MB/s) - ‘plwordnet_3_0.7z’ saved [36119839/36119839]\n",
            "\n"
          ],
          "name": "stdout"
        }
      ]
    },
    {
      "cell_type": "code",
      "metadata": {
        "colab": {
          "base_uri": "https://localhost:8080/"
        },
        "id": "sfXsd1WkIvNy",
        "outputId": "660ae97f-ea38-4d77-8c82-8649ef50b6f9"
      },
      "source": [
        "!7z x plwordnet_3_0.7z"
      ],
      "execution_count": 2,
      "outputs": [
        {
          "output_type": "stream",
          "text": [
            "\n",
            "7-Zip [64] 16.02 : Copyright (c) 1999-2016 Igor Pavlov : 2016-05-21\n",
            "p7zip Version 16.02 (locale=en_US.UTF-8,Utf16=on,HugeFiles=on,64 bits,2 CPUs Intel(R) Xeon(R) CPU @ 2.30GHz (306F0),ASM,AES-NI)\n",
            "\n",
            "Scanning the drive for archives:\n",
            "  0M Scan\b\b\b\b\b\b\b\b\b         \b\b\b\b\b\b\b\b\b1 file, 36119839 bytes (35 MiB)\n",
            "\n",
            "Extracting archive: plwordnet_3_0.7z\n",
            "--\n",
            "Path = plwordnet_3_0.7z\n",
            "Type = 7z\n",
            "Physical Size = 36119839\n",
            "Headers Size = 313\n",
            "Method = LZMA:25\n",
            "Solid = +\n",
            "Blocks = 1\n",
            "\n",
            "  0%\b\b\b\b    \b\b\b\b  5% 1 - plwordnet_3_0/plwordnet-3.0-visdisc.xml\b\b\b\b\b\b\b\b\b\b\b\b\b\b\b\b\b\b\b\b\b\b\b\b\b\b\b\b\b\b\b\b\b\b\b\b\b\b\b\b\b\b\b\b\b\b\b\b                                                \b\b\b\b\b\b\b\b\b\b\b\b\b\b\b\b\b\b\b\b\b\b\b\b\b\b\b\b\b\b\b\b\b\b\b\b\b\b\b\b\b\b\b\b\b\b\b\b 12% 1 - plwordnet_3_0/plwordnet-3.0-visdisc.xml\b\b\b\b\b\b\b\b\b\b\b\b\b\b\b\b\b\b\b\b\b\b\b\b\b\b\b\b\b\b\b\b\b\b\b\b\b\b\b\b\b\b\b\b\b\b\b\b                                                \b\b\b\b\b\b\b\b\b\b\b\b\b\b\b\b\b\b\b\b\b\b\b\b\b\b\b\b\b\b\b\b\b\b\b\b\b\b\b\b\b\b\b\b\b\b\b\b 17% 1 - plwordnet_3_0/plwordnet-3.0-visdisc.xml\b\b\b\b\b\b\b\b\b\b\b\b\b\b\b\b\b\b\b\b\b\b\b\b\b\b\b\b\b\b\b\b\b\b\b\b\b\b\b\b\b\b\b\b\b\b\b\b                                                \b\b\b\b\b\b\b\b\b\b\b\b\b\b\b\b\b\b\b\b\b\b\b\b\b\b\b\b\b\b\b\b\b\b\b\b\b\b\b\b\b\b\b\b\b\b\b\b 22% 1 - plwordnet_3_0/plwordnet-3.0-visdisc.xml\b\b\b\b\b\b\b\b\b\b\b\b\b\b\b\b\b\b\b\b\b\b\b\b\b\b\b\b\b\b\b\b\b\b\b\b\b\b\b\b\b\b\b\b\b\b\b\b                                                \b\b\b\b\b\b\b\b\b\b\b\b\b\b\b\b\b\b\b\b\b\b\b\b\b\b\b\b\b\b\b\b\b\b\b\b\b\b\b\b\b\b\b\b\b\b\b\b 26% 1 - plwordnet_3_0/plwordnet-3.0-visdisc.xml\b\b\b\b\b\b\b\b\b\b\b\b\b\b\b\b\b\b\b\b\b\b\b\b\b\b\b\b\b\b\b\b\b\b\b\b\b\b\b\b\b\b\b\b\b\b\b\b                                                \b\b\b\b\b\b\b\b\b\b\b\b\b\b\b\b\b\b\b\b\b\b\b\b\b\b\b\b\b\b\b\b\b\b\b\b\b\b\b\b\b\b\b\b\b\b\b\b 31% 2 - plwordnet_3_0/plwordnet-3.0.xml\b\b\b\b\b\b\b\b\b\b\b\b\b\b\b\b\b\b\b\b\b\b\b\b\b\b\b\b\b\b\b\b\b\b\b\b\b\b\b\b                                        \b\b\b\b\b\b\b\b\b\b\b\b\b\b\b\b\b\b\b\b\b\b\b\b\b\b\b\b\b\b\b\b\b\b\b\b\b\b\b\b 35% 2 - plwordnet_3_0/plwordnet-3.0.xml\b\b\b\b\b\b\b\b\b\b\b\b\b\b\b\b\b\b\b\b\b\b\b\b\b\b\b\b\b\b\b\b\b\b\b\b\b\b\b\b                                        \b\b\b\b\b\b\b\b\b\b\b\b\b\b\b\b\b\b\b\b\b\b\b\b\b\b\b\b\b\b\b\b\b\b\b\b\b\b\b\b 40% 2 - plwordnet_3_0/plwordnet-3.0.xml\b\b\b\b\b\b\b\b\b\b\b\b\b\b\b\b\b\b\b\b\b\b\b\b\b\b\b\b\b\b\b\b\b\b\b\b\b\b\b\b                                        \b\b\b\b\b\b\b\b\b\b\b\b\b\b\b\b\b\b\b\b\b\b\b\b\b\b\b\b\b\b\b\b\b\b\b\b\b\b\b\b 45% 2 - plwordnet_3_0/plwordnet-3.0.xml\b\b\b\b\b\b\b\b\b\b\b\b\b\b\b\b\b\b\b\b\b\b\b\b\b\b\b\b\b\b\b\b\b\b\b\b\b\b\b\b                                        \b\b\b\b\b\b\b\b\b\b\b\b\b\b\b\b\b\b\b\b\b\b\b\b\b\b\b\b\b\b\b\b\b\b\b\b\b\b\b\b 50% 2 - plwordnet_3_0/plwordnet-3.0.xml\b\b\b\b\b\b\b\b\b\b\b\b\b\b\b\b\b\b\b\b\b\b\b\b\b\b\b\b\b\b\b\b\b\b\b\b\b\b\b\b                                        \b\b\b\b\b\b\b\b\b\b\b\b\b\b\b\b\b\b\b\b\b\b\b\b\b\b\b\b\b\b\b\b\b\b\b\b\b\b\b\b 54% 2 - plwordnet_3_0/plwordnet-3.0.xml\b\b\b\b\b\b\b\b\b\b\b\b\b\b\b\b\b\b\b\b\b\b\b\b\b\b\b\b\b\b\b\b\b\b\b\b\b\b\b\b                                        \b\b\b\b\b\b\b\b\b\b\b\b\b\b\b\b\b\b\b\b\b\b\b\b\b\b\b\b\b\b\b\b\b\b\b\b\b\b\b\b 60% 2 - plwordnet_3_0/plwordnet-3.0.xml\b\b\b\b\b\b\b\b\b\b\b\b\b\b\b\b\b\b\b\b\b\b\b\b\b\b\b\b\b\b\b\b\b\b\b\b\b\b\b\b                                        \b\b\b\b\b\b\b\b\b\b\b\b\b\b\b\b\b\b\b\b\b\b\b\b\b\b\b\b\b\b\b\b\b\b\b\b\b\b\b\b 65% 2 - plwordnet_3_0/plwordnet-3.0.xml\b\b\b\b\b\b\b\b\b\b\b\b\b\b\b\b\b\b\b\b\b\b\b\b\b\b\b\b\b\b\b\b\b\b\b\b\b\b\b\b                                        \b\b\b\b\b\b\b\b\b\b\b\b\b\b\b\b\b\b\b\b\b\b\b\b\b\b\b\b\b\b\b\b\b\b\b\b\b\b\b\b 71% 2 - plwordnet_3_0/plwordnet-3.0.xml\b\b\b\b\b\b\b\b\b\b\b\b\b\b\b\b\b\b\b\b\b\b\b\b\b\b\b\b\b\b\b\b\b\b\b\b\b\b\b\b                                        \b\b\b\b\b\b\b\b\b\b\b\b\b\b\b\b\b\b\b\b\b\b\b\b\b\b\b\b\b\b\b\b\b\b\b\b\b\b\b\b 77% 2 - plwordnet_3_0/plwordnet-3.0.xml\b\b\b\b\b\b\b\b\b\b\b\b\b\b\b\b\b\b\b\b\b\b\b\b\b\b\b\b\b\b\b\b\b\b\b\b\b\b\b\b                                        \b\b\b\b\b\b\b\b\b\b\b\b\b\b\b\b\b\b\b\b\b\b\b\b\b\b\b\b\b\b\b\b\b\b\b\b\b\b\b\b 82% 2 - plwordnet_3_0/plwordnet-3.0.xml\b\b\b\b\b\b\b\b\b\b\b\b\b\b\b\b\b\b\b\b\b\b\b\b\b\b\b\b\b\b\b\b\b\b\b\b\b\b\b\b                                        \b\b\b\b\b\b\b\b\b\b\b\b\b\b\b\b\b\b\b\b\b\b\b\b\b\b\b\b\b\b\b\b\b\b\b\b\b\b\b\b 88% 2 - plwordnet_3_0/plwordnet-3.0.xml\b\b\b\b\b\b\b\b\b\b\b\b\b\b\b\b\b\b\b\b\b\b\b\b\b\b\b\b\b\b\b\b\b\b\b\b\b\b\b\b                                        \b\b\b\b\b\b\b\b\b\b\b\b\b\b\b\b\b\b\b\b\b\b\b\b\b\b\b\b\b\b\b\b\b\b\b\b\b\b\b\b 94% 2 - plwordnet_3_0/plwordnet-3.0.xml\b\b\b\b\b\b\b\b\b\b\b\b\b\b\b\b\b\b\b\b\b\b\b\b\b\b\b\b\b\b\b\b\b\b\b\b\b\b\b\b                                        \b\b\b\b\b\b\b\b\b\b\b\b\b\b\b\b\b\b\b\b\b\b\b\b\b\b\b\b\b\b\b\b\b\b\b\b\b\b\b\bEverything is Ok\n",
            "\n",
            "Folders: 1\n",
            "Files: 5\n",
            "Size:       485785766\n",
            "Compressed: 36119839\n"
          ],
          "name": "stdout"
        }
      ]
    },
    {
      "cell_type": "code",
      "metadata": {
        "id": "UxsX7h83I5r7"
      },
      "source": [
        "import xml.etree.ElementTree as ET\n",
        "\n",
        "tree = ET.fromstring(open(\"plwordnet_3_0/plwordnet-3.0.xml\", \"r\").read())"
      ],
      "execution_count": 3,
      "outputs": []
    },
    {
      "cell_type": "code",
      "metadata": {
        "colab": {
          "base_uri": "https://localhost:8080/"
        },
        "id": "RqDXogNhI-Za",
        "outputId": "b485d9ff-3fe3-4aa0-dd29-da433dff5f4a"
      },
      "source": [
        "import re\n",
        "from collections import namedtuple\n",
        "\n",
        "LexicalUnit = namedtuple('LexicalUnit', 'id name desc pos')\n",
        "definition_regex = re.compile(\"##D:([^#<[{]{3,})\")\n",
        "\n",
        "def parse_description(desc: str) -> str:\n",
        "  definitions = []\n",
        "  for m in definition_regex.finditer(desc):\n",
        "    definitions.append(m.group(1).strip())\n",
        "  return \", \".join(definitions)\n",
        "\n",
        "lexical_units = {}\n",
        "\n",
        "for unit in tree.iter('lexical-unit'):\n",
        "    id = unit.attrib.get('id')\n",
        "    name = unit.attrib.get('name')\n",
        "    desc = unit.attrib.get('desc')\n",
        "    pos = unit.attrib.get('pos')\n",
        "    definitions = parse_description(unit.attrib.get('desc'))\n",
        "    lexical_units[id] = LexicalUnit(id, name, definitions, pos)\n",
        "\n",
        "len(lexical_units)"
      ],
      "execution_count": 15,
      "outputs": [
        {
          "output_type": "execute_result",
          "data": {
            "text/plain": [
              "477881"
            ]
          },
          "metadata": {
            "tags": []
          },
          "execution_count": 15
        }
      ]
    },
    {
      "cell_type": "code",
      "metadata": {
        "colab": {
          "base_uri": "https://localhost:8080/"
        },
        "id": "nEG-Q4tGJv2h",
        "outputId": "2b06fc0a-a6d7-413b-fbbe-8aa0d8de086a"
      },
      "source": [
        "lexems_by_pos = {}\n",
        "\n",
        "for lu in lexical_units.values():\n",
        "  lexems_by_pos.setdefault(lu.pos, {}).setdefault(lu.name, []).append(lu)\n",
        "\n",
        "print(lexems_by_pos.keys())"
      ],
      "execution_count": 6,
      "outputs": [
        {
          "output_type": "stream",
          "text": [
            "dict_keys(['przymiotnik', 'rzeczownik pwn', 'przymiotnik pwn', 'przysłówek pwn', 'rzeczownik', 'przysłówek', 'czasownik pwn', 'czasownik'])\n"
          ],
          "name": "stdout"
        }
      ]
    },
    {
      "cell_type": "code",
      "metadata": {
        "colab": {
          "base_uri": "https://localhost:8080/"
        },
        "id": "hbu1FNppKRJC",
        "outputId": "662e79b7-4cb1-4223-a8e0-deb0c5cc42da"
      },
      "source": [
        "for pos, lexems in sorted(lexems_by_pos.items()):\n",
        "  lexems_sorted = sorted(lexems.items(), key=lambda name_items: len(name_items[1]), reverse=True)\n",
        "  top = lexems_sorted[0]\n",
        "  print(f\"{pos:15}: {len(top[1]):>3}  {top[0]}\")"
      ],
      "execution_count": 12,
      "outputs": [
        {
          "output_type": "stream",
          "text": [
            "czasownik      :  26  brać\n",
            "czasownik pwn  :  59  break\n",
            "przymiotnik    :  29  czysty\n",
            "przymiotnik pwn:  25  heavy\n",
            "przysłówek     :  19  czysto\n",
            "przysłówek pwn :  13  well\n",
            "rzeczownik     :  24  branie\n",
            "rzeczownik pwn :  33  head\n"
          ],
          "name": "stdout"
        }
      ]
    },
    {
      "cell_type": "markdown",
      "metadata": {
        "id": "zLldrlzGLm9Q"
      },
      "source": [
        "## Zadanie 2"
      ]
    },
    {
      "cell_type": "markdown",
      "metadata": {
        "id": "lmgmM2e1NTuB"
      },
      "source": [
        "W części praktycznej została użyta metoda `similarity` z pakietu spaCy do porównania kontekstu słowa z dostępnymi definicjami dla lematu *ekran*. Do reprezentacji zdania były wykorzystane wektory osadzeń, które są uśrednieniem wektorów dla poszczególnych słów. Przy uśrednianiu brane są pod uwagę wszystkie słowa, nawet te, które nie niosą istotnej informacji lub są na tyle częste i występują w wielu definicjach, przez co sztucznie zawyżają podobieństwo. Zaproponuj, w jaki sposób można pominąć słowa nieistotne, aby poprawić wynik ujednoznacznienia dla słow ekran w poniższym zdaniu."
      ]
    },
    {
      "cell_type": "code",
      "metadata": {
        "id": "gfqQ2peCOmY5"
      },
      "source": [
        "text = \"Jak włączyłem komputer to na ekranie wyświetlił się komunikat o błędzie\""
      ],
      "execution_count": 27,
      "outputs": []
    },
    {
      "cell_type": "markdown",
      "metadata": {
        "id": "qc4qQhvbOuRB"
      },
      "source": [
        "Wynik bazowy:\n",
        "\n",
        "```\n",
        " 0.62    4879  płaszczyzna, na którą rzuca się obraz, np. w kinie.\n",
        " 0.61     799  wyświetlacz; powierzchnia, na której jest coś wyświetlane.\n",
        " 0.40  238951  duża naszywka z nazwą zespołu, która pasuje na środkowy klin jeansowej kurtki lub kamizelki.\n",
        " 0.35    8264  osłona pełniąca funkcję zabezpieczenia, izolacji przed czymś szkodliwym.\n",
        " 0.29  248273  rodzaj zasłony (z tkaniny, skóry, żelaza), która bywa ustawiana przed kominkiem.\n",
        " ```"
      ]
    },
    {
      "cell_type": "markdown",
      "metadata": {
        "id": "ir7Cbs_uQOeb"
      },
      "source": [
        "**Wskazówka**\n",
        "\n",
        "Wykorzystaj poznany wcześniej sposób do ważenia terminów w kolekcji dokumentów. Co będzie Twoją kolekcją tekstów w tym zadaniu?"
      ]
    },
    {
      "cell_type": "markdown",
      "metadata": {
        "id": "uKQvvRCQWHZb"
      },
      "source": [
        "### Rozwiązanie"
      ]
    },
    {
      "cell_type": "code",
      "metadata": {
        "colab": {
          "base_uri": "https://localhost:8080/"
        },
        "id": "1n5EWjkMWKHz",
        "outputId": "ec281359-6177-4b8c-de42-11c450f4ded7"
      },
      "source": [
        "definitions = [lu.desc for lu in lexical_units.values() if len(lu.desc) > 1]\n",
        "print(len(definitions))\n",
        "print(*definitions[:10], sep=\"\\n\")"
      ],
      "execution_count": 18,
      "outputs": [
        {
          "output_type": "stream",
          "text": [
            "125454\n",
            "taki, który się powtarza lub cechuje się wielkością zależną od liczby powtórzeń charakterystycznego elementu.\n",
            "oznaczenie stopnia - jednostki miary kąta płaskiego, równej 1/360 kąta pełnego czyli 1/90 kąta prostego.\n",
            "symbol stopni Celsjusza.\n",
            "jedna ze skal pomiaru temperatury, używana do pomiaru w krajach stosujących imperialne jednostki miar do połowy XX wieku, nadal stosowana w USA, Kajmanach, Bahamach oraz Belize; obecnie skalę Fahrenheita definiuje się przez porównanie ze skalą Celsjusza - 32 °F = 0 °C; 212 °F = 100 °C.\n",
            "uncja; jednostka masy równa 31,1034768 grama.\n",
            "grupa funkcyjna w chemii organicznej o ogólnym wzorze: −C=N−R, występująca w iminach i ich pochodnych.\n",
            "symbol dolara.\n",
            "skrót/symbol dolara liberyjskiego.\n",
            "skrót/symbol dolara Kiribati.\n",
            "skrót/symbol dolara Tuvalu.\n"
          ],
          "name": "stdout"
        }
      ]
    },
    {
      "cell_type": "code",
      "metadata": {
        "colab": {
          "base_uri": "https://localhost:8080/"
        },
        "id": "D9Eibd5bMIUt",
        "outputId": "c3133499-dce1-4f44-e757-ad57761f4a79"
      },
      "source": [
        "from sklearn.feature_extraction.text import TfidfVectorizer\n",
        "\n",
        "vectorizer = TfidfVectorizer()     # token_pattern='(?u)\\b\\w\\w+\\b',\n",
        "X = vectorizer.fit_transform(definitions)\n",
        "\n",
        "# vectorizer.idf_ — wartości idf\n",
        "# vectorizer.get_feature_names() — słowa\n",
        "\n",
        "idf_words = [t for t in zip(vectorizer.idf_, vectorizer.get_feature_names())]\n",
        "idf_words[:10]"
      ],
      "execution_count": 21,
      "outputs": [
        {
          "output_type": "execute_result",
          "data": {
            "text/plain": [
              "[(11.64109011884875, '00'),\n",
              " (7.621708595100104, '000'),\n",
              " (12.046555226956913, '00000027'),\n",
              " (12.046555226956913, '000001'),\n",
              " (10.542477830180639, '001'),\n",
              " (12.046555226956913, '005'),\n",
              " (10.341807134718488, '01'),\n",
              " (12.046555226956913, '01163'),\n",
              " (12.046555226956913, '01646'),\n",
              " (12.046555226956913, '02214129')]"
            ]
          },
          "metadata": {
            "tags": []
          },
          "execution_count": 21
        }
      ]
    },
    {
      "cell_type": "code",
      "metadata": {
        "colab": {
          "base_uri": "https://localhost:8080/"
        },
        "id": "5K46uTB5M0yx",
        "outputId": "e615d693-3711-42b2-e346-c32c778fc87a"
      },
      "source": [
        "idf_words = sorted(idf_words)\n",
        "print(*idf_words[:10], sep=\"\\n\")\n",
        "print(\"...\")\n",
        "print(*idf_words[-10:], sep=\"\\n\")"
      ],
      "execution_count": 22,
      "outputs": [
        {
          "output_type": "stream",
          "text": [
            "(2.733252211922906, 'który')\n",
            "(2.753621556676878, 'taki')\n",
            "(2.9432990775904053, 'się')\n",
            "(3.0413343204506895, 'na')\n",
            "(3.057921938508979, 'do')\n",
            "(3.189538278685949, 'lub')\n",
            "(3.1916762498538014, 'jest')\n",
            "(3.581076471227355, 'związany')\n",
            "(3.6601543257906997, 'rodziny')\n",
            "(3.9094518373176124, 'gatunek')\n",
            "...\n",
            "(12.046555226956913, 'żłobkowanej')\n",
            "(12.046555226956913, 'żłobkowaną')\n",
            "(12.046555226956913, 'żłobu')\n",
            "(12.046555226956913, 'żłożony')\n",
            "(12.046555226956913, 'żłób')\n",
            "(12.046555226956913, 'δi')\n",
            "(12.046555226956913, 'μb')\n",
            "(12.046555226956913, 'μg')\n",
            "(12.046555226956913, 'μn')\n",
            "(12.046555226956913, 'μrad')\n"
          ],
          "name": "stdout"
        }
      ]
    },
    {
      "cell_type": "code",
      "metadata": {
        "colab": {
          "base_uri": "https://localhost:8080/"
        },
        "id": "vud-cPQ0NOfS",
        "outputId": "ccc15e78-261b-440c-ea09-c69c8ad7cd9c"
      },
      "source": [
        "stoplist = set([b for _, b in idf_words[:100]])\n",
        "sorted(list(stoplist))[:20]"
      ],
      "execution_count": 39,
      "outputs": [
        {
          "output_type": "execute_result",
          "data": {
            "text/plain": [
              "['ale',\n",
              " 'bardzo',\n",
              " 'bez',\n",
              " 'być',\n",
              " 'będący',\n",
              " 'cecha',\n",
              " 'celu',\n",
              " 'charakterystyczny',\n",
              " 'ciała',\n",
              " 'co',\n",
              " 'coś',\n",
              " 'czegoś',\n",
              " 'czymś',\n",
              " 'często',\n",
              " 'części',\n",
              " 'część',\n",
              " 'człowiek',\n",
              " 'człowieka',\n",
              " 'człowieku',\n",
              " 'dla']"
            ]
          },
          "metadata": {
            "tags": []
          },
          "execution_count": 39
        }
      ]
    },
    {
      "cell_type": "code",
      "metadata": {
        "colab": {
          "base_uri": "https://localhost:8080/"
        },
        "id": "cYlyh86aNj18",
        "outputId": "dc3e007a-b157-47af-e7cf-e51e8949f246"
      },
      "source": [
        "!pip install spacy -U\n",
        "!python -m spacy download pl_core_news_lg\n",
        "!python -m spacy link pl_core_news_lg pl_core_news_lg -f\n",
        "\n",
        "import spacy\n",
        "nlp = spacy.load('pl_core_news_lg')"
      ],
      "execution_count": 26,
      "outputs": [
        {
          "output_type": "stream",
          "text": [
            "Collecting spacy\n",
            "\u001b[?25l  Downloading https://files.pythonhosted.org/packages/e5/bf/ca7bb25edd21f1cf9d498d0023808279672a664a70585e1962617ca2740c/spacy-2.3.5-cp36-cp36m-manylinux2014_x86_64.whl (10.4MB)\n",
            "\u001b[K     |████████████████████████████████| 10.4MB 4.3MB/s \n",
            "\u001b[?25hRequirement already satisfied, skipping upgrade: catalogue<1.1.0,>=0.0.7 in /usr/local/lib/python3.6/dist-packages (from spacy) (1.0.0)\n",
            "Requirement already satisfied, skipping upgrade: plac<1.2.0,>=0.9.6 in /usr/local/lib/python3.6/dist-packages (from spacy) (1.1.3)\n",
            "Requirement already satisfied, skipping upgrade: blis<0.8.0,>=0.4.0 in /usr/local/lib/python3.6/dist-packages (from spacy) (0.4.1)\n",
            "Requirement already satisfied, skipping upgrade: tqdm<5.0.0,>=4.38.0 in /usr/local/lib/python3.6/dist-packages (from spacy) (4.41.1)\n",
            "Requirement already satisfied, skipping upgrade: cymem<2.1.0,>=2.0.2 in /usr/local/lib/python3.6/dist-packages (from spacy) (2.0.5)\n",
            "Requirement already satisfied, skipping upgrade: numpy>=1.15.0 in /usr/local/lib/python3.6/dist-packages (from spacy) (1.19.4)\n",
            "Requirement already satisfied, skipping upgrade: requests<3.0.0,>=2.13.0 in /usr/local/lib/python3.6/dist-packages (from spacy) (2.23.0)\n",
            "Requirement already satisfied, skipping upgrade: preshed<3.1.0,>=3.0.2 in /usr/local/lib/python3.6/dist-packages (from spacy) (3.0.5)\n",
            "Requirement already satisfied, skipping upgrade: murmurhash<1.1.0,>=0.28.0 in /usr/local/lib/python3.6/dist-packages (from spacy) (1.0.5)\n",
            "Requirement already satisfied, skipping upgrade: srsly<1.1.0,>=1.0.2 in /usr/local/lib/python3.6/dist-packages (from spacy) (1.0.5)\n",
            "Requirement already satisfied, skipping upgrade: wasabi<1.1.0,>=0.4.0 in /usr/local/lib/python3.6/dist-packages (from spacy) (0.8.0)\n",
            "Requirement already satisfied, skipping upgrade: setuptools in /usr/local/lib/python3.6/dist-packages (from spacy) (51.0.0)\n",
            "Collecting thinc<7.5.0,>=7.4.1\n",
            "\u001b[?25l  Downloading https://files.pythonhosted.org/packages/c0/1a/c3e4ab982214c63d743fad57c45c5e68ee49e4ea4384d27b28595a26ad26/thinc-7.4.5-cp36-cp36m-manylinux2014_x86_64.whl (1.1MB)\n",
            "\u001b[K     |████████████████████████████████| 1.1MB 47.7MB/s \n",
            "\u001b[?25hRequirement already satisfied, skipping upgrade: importlib-metadata>=0.20; python_version < \"3.8\" in /usr/local/lib/python3.6/dist-packages (from catalogue<1.1.0,>=0.0.7->spacy) (3.3.0)\n",
            "Requirement already satisfied, skipping upgrade: chardet<4,>=3.0.2 in /usr/local/lib/python3.6/dist-packages (from requests<3.0.0,>=2.13.0->spacy) (3.0.4)\n",
            "Requirement already satisfied, skipping upgrade: idna<3,>=2.5 in /usr/local/lib/python3.6/dist-packages (from requests<3.0.0,>=2.13.0->spacy) (2.10)\n",
            "Requirement already satisfied, skipping upgrade: certifi>=2017.4.17 in /usr/local/lib/python3.6/dist-packages (from requests<3.0.0,>=2.13.0->spacy) (2020.12.5)\n",
            "Requirement already satisfied, skipping upgrade: urllib3!=1.25.0,!=1.25.1,<1.26,>=1.21.1 in /usr/local/lib/python3.6/dist-packages (from requests<3.0.0,>=2.13.0->spacy) (1.24.3)\n",
            "Requirement already satisfied, skipping upgrade: zipp>=0.5 in /usr/local/lib/python3.6/dist-packages (from importlib-metadata>=0.20; python_version < \"3.8\"->catalogue<1.1.0,>=0.0.7->spacy) (3.4.0)\n",
            "Requirement already satisfied, skipping upgrade: typing-extensions>=3.6.4; python_version < \"3.8\" in /usr/local/lib/python3.6/dist-packages (from importlib-metadata>=0.20; python_version < \"3.8\"->catalogue<1.1.0,>=0.0.7->spacy) (3.7.4.3)\n",
            "Installing collected packages: thinc, spacy\n",
            "  Found existing installation: thinc 7.4.0\n",
            "    Uninstalling thinc-7.4.0:\n",
            "      Successfully uninstalled thinc-7.4.0\n",
            "  Found existing installation: spacy 2.2.4\n",
            "    Uninstalling spacy-2.2.4:\n",
            "      Successfully uninstalled spacy-2.2.4\n",
            "Successfully installed spacy-2.3.5 thinc-7.4.5\n",
            "Collecting pl_core_news_lg==2.3.0\n",
            "\u001b[?25l  Downloading https://github.com/explosion/spacy-models/releases/download/pl_core_news_lg-2.3.0/pl_core_news_lg-2.3.0.tar.gz (604.2MB)\n",
            "\u001b[K     |████████████████████████████████| 604.2MB 1.2MB/s \n",
            "\u001b[?25hRequirement already satisfied: spacy<2.4.0,>=2.3.0 in /usr/local/lib/python3.6/dist-packages (from pl_core_news_lg==2.3.0) (2.3.5)\n",
            "Requirement already satisfied: thinc<7.5.0,>=7.4.1 in /usr/local/lib/python3.6/dist-packages (from spacy<2.4.0,>=2.3.0->pl_core_news_lg==2.3.0) (7.4.5)\n",
            "Requirement already satisfied: tqdm<5.0.0,>=4.38.0 in /usr/local/lib/python3.6/dist-packages (from spacy<2.4.0,>=2.3.0->pl_core_news_lg==2.3.0) (4.41.1)\n",
            "Requirement already satisfied: srsly<1.1.0,>=1.0.2 in /usr/local/lib/python3.6/dist-packages (from spacy<2.4.0,>=2.3.0->pl_core_news_lg==2.3.0) (1.0.5)\n",
            "Requirement already satisfied: plac<1.2.0,>=0.9.6 in /usr/local/lib/python3.6/dist-packages (from spacy<2.4.0,>=2.3.0->pl_core_news_lg==2.3.0) (1.1.3)\n",
            "Requirement already satisfied: setuptools in /usr/local/lib/python3.6/dist-packages (from spacy<2.4.0,>=2.3.0->pl_core_news_lg==2.3.0) (51.0.0)\n",
            "Requirement already satisfied: murmurhash<1.1.0,>=0.28.0 in /usr/local/lib/python3.6/dist-packages (from spacy<2.4.0,>=2.3.0->pl_core_news_lg==2.3.0) (1.0.5)\n",
            "Requirement already satisfied: cymem<2.1.0,>=2.0.2 in /usr/local/lib/python3.6/dist-packages (from spacy<2.4.0,>=2.3.0->pl_core_news_lg==2.3.0) (2.0.5)\n",
            "Requirement already satisfied: numpy>=1.15.0 in /usr/local/lib/python3.6/dist-packages (from spacy<2.4.0,>=2.3.0->pl_core_news_lg==2.3.0) (1.19.4)\n",
            "Requirement already satisfied: preshed<3.1.0,>=3.0.2 in /usr/local/lib/python3.6/dist-packages (from spacy<2.4.0,>=2.3.0->pl_core_news_lg==2.3.0) (3.0.5)\n",
            "Requirement already satisfied: catalogue<1.1.0,>=0.0.7 in /usr/local/lib/python3.6/dist-packages (from spacy<2.4.0,>=2.3.0->pl_core_news_lg==2.3.0) (1.0.0)\n",
            "Requirement already satisfied: requests<3.0.0,>=2.13.0 in /usr/local/lib/python3.6/dist-packages (from spacy<2.4.0,>=2.3.0->pl_core_news_lg==2.3.0) (2.23.0)\n",
            "Requirement already satisfied: wasabi<1.1.0,>=0.4.0 in /usr/local/lib/python3.6/dist-packages (from spacy<2.4.0,>=2.3.0->pl_core_news_lg==2.3.0) (0.8.0)\n",
            "Requirement already satisfied: blis<0.8.0,>=0.4.0 in /usr/local/lib/python3.6/dist-packages (from spacy<2.4.0,>=2.3.0->pl_core_news_lg==2.3.0) (0.4.1)\n",
            "Requirement already satisfied: importlib-metadata>=0.20; python_version < \"3.8\" in /usr/local/lib/python3.6/dist-packages (from catalogue<1.1.0,>=0.0.7->spacy<2.4.0,>=2.3.0->pl_core_news_lg==2.3.0) (3.3.0)\n",
            "Requirement already satisfied: certifi>=2017.4.17 in /usr/local/lib/python3.6/dist-packages (from requests<3.0.0,>=2.13.0->spacy<2.4.0,>=2.3.0->pl_core_news_lg==2.3.0) (2020.12.5)\n",
            "Requirement already satisfied: chardet<4,>=3.0.2 in /usr/local/lib/python3.6/dist-packages (from requests<3.0.0,>=2.13.0->spacy<2.4.0,>=2.3.0->pl_core_news_lg==2.3.0) (3.0.4)\n",
            "Requirement already satisfied: idna<3,>=2.5 in /usr/local/lib/python3.6/dist-packages (from requests<3.0.0,>=2.13.0->spacy<2.4.0,>=2.3.0->pl_core_news_lg==2.3.0) (2.10)\n",
            "Requirement already satisfied: urllib3!=1.25.0,!=1.25.1,<1.26,>=1.21.1 in /usr/local/lib/python3.6/dist-packages (from requests<3.0.0,>=2.13.0->spacy<2.4.0,>=2.3.0->pl_core_news_lg==2.3.0) (1.24.3)\n",
            "Requirement already satisfied: typing-extensions>=3.6.4; python_version < \"3.8\" in /usr/local/lib/python3.6/dist-packages (from importlib-metadata>=0.20; python_version < \"3.8\"->catalogue<1.1.0,>=0.0.7->spacy<2.4.0,>=2.3.0->pl_core_news_lg==2.3.0) (3.7.4.3)\n",
            "Requirement already satisfied: zipp>=0.5 in /usr/local/lib/python3.6/dist-packages (from importlib-metadata>=0.20; python_version < \"3.8\"->catalogue<1.1.0,>=0.0.7->spacy<2.4.0,>=2.3.0->pl_core_news_lg==2.3.0) (3.4.0)\n",
            "Building wheels for collected packages: pl-core-news-lg\n",
            "  Building wheel for pl-core-news-lg (setup.py) ... \u001b[?25l\u001b[?25hdone\n",
            "  Created wheel for pl-core-news-lg: filename=pl_core_news_lg-2.3.0-cp36-none-any.whl size=604232614 sha256=965e4d10fa3a177efbba3b8e3ce3d798a2c084e1ccf43642ff9a6bdd08895a4e\n",
            "  Stored in directory: /tmp/pip-ephem-wheel-cache-kt5n511m/wheels/fb/60/e5/4e03ebc777d2bd26ac5394f00db1695bede7a92bc9e7ce1789\n",
            "Successfully built pl-core-news-lg\n",
            "Installing collected packages: pl-core-news-lg\n",
            "Successfully installed pl-core-news-lg-2.3.0\n",
            "\u001b[38;5;2m✔ Download and installation successful\u001b[0m\n",
            "You can now load the model via spacy.load('pl_core_news_lg')\n",
            "\u001b[38;5;2m✔ Linking successful\u001b[0m\n",
            "/usr/local/lib/python3.6/dist-packages/pl_core_news_lg -->\n",
            "/usr/local/lib/python3.6/dist-packages/spacy/data/pl_core_news_lg\n",
            "You can now load the model via spacy.load('pl_core_news_lg')\n"
          ],
          "name": "stdout"
        }
      ]
    },
    {
      "cell_type": "code",
      "metadata": {
        "colab": {
          "base_uri": "https://localhost:8080/"
        },
        "id": "vcaU9G__NuxM",
        "outputId": "6132a01c-41fe-444a-9653-0a79a4e1a0be"
      },
      "source": [
        "senses = [item for item in lexical_units.values() if item.name == \"ekran\"]\n",
        "senses"
      ],
      "execution_count": 28,
      "outputs": [
        {
          "output_type": "execute_result",
          "data": {
            "text/plain": [
              "[LexicalUnit(id='1599', name='ekran', desc='płaszczyzna, na którą rzuca się obraz, np. w kinie.', pos='rzeczownik'),\n",
              " LexicalUnit(id='1600', name='ekran', desc='osłona pełniąca funkcję zabezpieczenia, izolacji przed czymś szkodliwym.', pos='rzeczownik'),\n",
              " LexicalUnit(id='380963', name='ekran', desc='rodzaj zasłony (z tkaniny, skóry, żelaza), która bywa ustawiana przed kominkiem.', pos='rzeczownik'),\n",
              " LexicalUnit(id='19744', name='ekran', desc='wyświetlacz; powierzchnia, na której jest coś wyświetlane.', pos='rzeczownik'),\n",
              " LexicalUnit(id='371009', name='ekran', desc='duża naszywka z nazwą zespołu, która pasuje na środkowy klin jeansowej kurtki lub kamizelki.', pos='rzeczownik')]"
            ]
          },
          "metadata": {
            "tags": []
          },
          "execution_count": 28
        }
      ]
    },
    {
      "cell_type": "code",
      "metadata": {
        "colab": {
          "base_uri": "https://localhost:8080/"
        },
        "id": "0Xc28yd5OPmH",
        "outputId": "51e952aa-e879-4cfe-d925-647a034d0635"
      },
      "source": [
        "def nlp_with_stoplist(text, nlp, stoplist):\n",
        "  doc = nlp(text)\n",
        "  words = [t.text for t in doc if t.text.lower() not in stoplist]\n",
        "  text_without_stoplist = \" \".join(words)\n",
        "  return nlp(text_without_stoplist)\n",
        "\n",
        "print(text)\n",
        "doc = nlp_with_stoplist(text.replace(\"ekranie\", \"_\"), nlp, stoplist)\n",
        "print(doc)"
      ],
      "execution_count": 41,
      "outputs": [
        {
          "output_type": "stream",
          "text": [
            "Jak włączyłem komputer to na ekranie wyświetlił się komunikat o błędzie\n",
            "włączyłem komputer _ wyświetlił komunikat o błędzie\n"
          ],
          "name": "stdout"
        }
      ]
    },
    {
      "cell_type": "code",
      "metadata": {
        "colab": {
          "base_uri": "https://localhost:8080/"
        },
        "id": "XdQul1ZEPEFc",
        "outputId": "19747d61-673e-4f8a-f763-1908808ac11e"
      },
      "source": [
        "sims = [(doc.similarity(nlp_with_stoplist(sense.desc.lower(), nlp, stoplist)), sense) for sense in senses]\n",
        "sims"
      ],
      "execution_count": 42,
      "outputs": [
        {
          "output_type": "execute_result",
          "data": {
            "text/plain": [
              "[(0.290360020906725,\n",
              "  LexicalUnit(id='1599', name='ekran', desc='płaszczyzna, na którą rzuca się obraz, np. w kinie.', pos='rzeczownik')),\n",
              " (0.2560558785663949,\n",
              "  LexicalUnit(id='1600', name='ekran', desc='osłona pełniąca funkcję zabezpieczenia, izolacji przed czymś szkodliwym.', pos='rzeczownik')),\n",
              " (0.197439274616272,\n",
              "  LexicalUnit(id='380963', name='ekran', desc='rodzaj zasłony (z tkaniny, skóry, żelaza), która bywa ustawiana przed kominkiem.', pos='rzeczownik')),\n",
              " (0.3041911323176419,\n",
              "  LexicalUnit(id='19744', name='ekran', desc='wyświetlacz; powierzchnia, na której jest coś wyświetlane.', pos='rzeczownik')),\n",
              " (0.11335399783008535,\n",
              "  LexicalUnit(id='371009', name='ekran', desc='duża naszywka z nazwą zespołu, która pasuje na środkowy klin jeansowej kurtki lub kamizelki.', pos='rzeczownik'))]"
            ]
          },
          "metadata": {
            "tags": []
          },
          "execution_count": 42
        }
      ]
    },
    {
      "cell_type": "code",
      "metadata": {
        "colab": {
          "base_uri": "https://localhost:8080/"
        },
        "id": "T0J8z02xQfFz",
        "outputId": "1ca7c971-f7cc-4ec8-8184-0464d85e49b0"
      },
      "source": [
        "for sim, sense in sorted(sims, reverse=True):\n",
        "  print(\"%.3f  %s\" % (sim, sense.desc))"
      ],
      "execution_count": 46,
      "outputs": [
        {
          "output_type": "stream",
          "text": [
            "0.304  wyświetlacz; powierzchnia, na której jest coś wyświetlane.\n",
            "0.290  płaszczyzna, na którą rzuca się obraz, np. w kinie.\n",
            "0.256  osłona pełniąca funkcję zabezpieczenia, izolacji przed czymś szkodliwym.\n",
            "0.197  rodzaj zasłony (z tkaniny, skóry, żelaza), która bywa ustawiana przed kominkiem.\n",
            "0.113  duża naszywka z nazwą zespołu, która pasuje na środkowy klin jeansowej kurtki lub kamizelki.\n"
          ],
          "name": "stdout"
        }
      ]
    }
  ]
}