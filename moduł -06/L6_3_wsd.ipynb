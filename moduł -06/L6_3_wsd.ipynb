{
  "nbformat": 4,
  "nbformat_minor": 0,
  "metadata": {
    "colab": {
      "name": "L6.3-wsd.ipynb",
      "provenance": [],
      "collapsed_sections": [
        "jMfuLFFpvWez"
      ],
      "toc_visible": true
    },
    "kernelspec": {
      "display_name": "Python 3",
      "name": "python3"
    }
  },
  "cells": [
    {
      "cell_type": "markdown",
      "metadata": {
        "id": "2UShbBsFN0Yo"
      },
      "source": [
        "# Ujednoznacznianie sensu słów (WSD)"
      ]
    },
    {
      "cell_type": "markdown",
      "metadata": {
        "id": "jMfuLFFpvWez"
      },
      "source": [
        "## Ujednoznacznianie poprzez podobieństwo do definicji ze Słowosieci"
      ]
    },
    {
      "cell_type": "markdown",
      "metadata": {
        "id": "7CjscmXu6FH0"
      },
      "source": [
        "### Wczytanie jednostek i synsetów"
      ]
    },
    {
      "cell_type": "markdown",
      "metadata": {
        "id": "fBVSZ68zREJn"
      },
      "source": [
        "**Uwaga:** Poniżej wykorzystana jest Słowosieć w wersji 3.0, która dostępna jest bezpośrednio z użytego linku. Pobranie nowszej wersji, tj. 4.2 jest możliwe, ale wymaga wypełnienia formularza dostępnego pod linkiem: http://plwordnet.pwr.edu.pl/wordnet/download"
      ]
    },
    {
      "cell_type": "code",
      "metadata": {
        "colab": {
          "base_uri": "https://localhost:8080/"
        },
        "id": "Ndlttvg2Q9s2",
        "outputId": "519be65c-aab6-4b63-c3dd-18b17375259a"
      },
      "source": [
        "!wget -O plwordnet_3_0.7z https://clarin-pl.eu/dspace/bitstream/handle/11321/273/plwordnet_3_0.7z?sequence=2&isAllowed=y"
      ],
      "execution_count": 1,
      "outputs": [
        {
          "output_type": "stream",
          "text": [
            "--2021-01-03 16:53:11--  https://clarin-pl.eu/dspace/bitstream/handle/11321/273/plwordnet_3_0.7z?sequence=2\n",
            "Resolving clarin-pl.eu (clarin-pl.eu)... 156.17.135.38\n",
            "Connecting to clarin-pl.eu (clarin-pl.eu)|156.17.135.38|:443... connected.\n",
            "HTTP request sent, awaiting response... 200 OK\n",
            "Length: 36119839 (34M) [application/octet-stream]\n",
            "Saving to: ‘plwordnet_3_0.7z’\n",
            "\n",
            "plwordnet_3_0.7z    100%[===================>]  34.45M  15.4MB/s    in 2.2s    \n",
            "\n",
            "2021-01-03 16:53:14 (15.4 MB/s) - ‘plwordnet_3_0.7z’ saved [36119839/36119839]\n",
            "\n"
          ],
          "name": "stdout"
        }
      ]
    },
    {
      "cell_type": "code",
      "metadata": {
        "colab": {
          "base_uri": "https://localhost:8080/"
        },
        "id": "YDUB2SCXR230",
        "outputId": "f1141247-09bc-4e05-9275-195bdbc344ac"
      },
      "source": [
        "!7z x plwordnet_3_0.7z"
      ],
      "execution_count": 2,
      "outputs": [
        {
          "output_type": "stream",
          "text": [
            "\n",
            "7-Zip [64] 16.02 : Copyright (c) 1999-2016 Igor Pavlov : 2016-05-21\n",
            "p7zip Version 16.02 (locale=en_US.UTF-8,Utf16=on,HugeFiles=on,64 bits,2 CPUs Intel(R) Xeon(R) CPU @ 2.30GHz (306F0),ASM,AES-NI)\n",
            "\n",
            "Scanning the drive for archives:\n",
            "  0M Scan\b\b\b\b\b\b\b\b\b         \b\b\b\b\b\b\b\b\b1 file, 36119839 bytes (35 MiB)\n",
            "\n",
            "Extracting archive: plwordnet_3_0.7z\n",
            "--\n",
            "Path = plwordnet_3_0.7z\n",
            "Type = 7z\n",
            "Physical Size = 36119839\n",
            "Headers Size = 313\n",
            "Method = LZMA:25\n",
            "Solid = +\n",
            "Blocks = 1\n",
            "\n",
            "  0%\b\b\b\b    \b\b\b\b  5% 1 - plwordnet_3_0/plwordnet-3.0-visdisc.xml\b\b\b\b\b\b\b\b\b\b\b\b\b\b\b\b\b\b\b\b\b\b\b\b\b\b\b\b\b\b\b\b\b\b\b\b\b\b\b\b\b\b\b\b\b\b\b\b                                                \b\b\b\b\b\b\b\b\b\b\b\b\b\b\b\b\b\b\b\b\b\b\b\b\b\b\b\b\b\b\b\b\b\b\b\b\b\b\b\b\b\b\b\b\b\b\b\b 11% 1 - plwordnet_3_0/plwordnet-3.0-visdisc.xml\b\b\b\b\b\b\b\b\b\b\b\b\b\b\b\b\b\b\b\b\b\b\b\b\b\b\b\b\b\b\b\b\b\b\b\b\b\b\b\b\b\b\b\b\b\b\b\b                                                \b\b\b\b\b\b\b\b\b\b\b\b\b\b\b\b\b\b\b\b\b\b\b\b\b\b\b\b\b\b\b\b\b\b\b\b\b\b\b\b\b\b\b\b\b\b\b\b 15% 1 - plwordnet_3_0/plwordnet-3.0-visdisc.xml\b\b\b\b\b\b\b\b\b\b\b\b\b\b\b\b\b\b\b\b\b\b\b\b\b\b\b\b\b\b\b\b\b\b\b\b\b\b\b\b\b\b\b\b\b\b\b\b                                                \b\b\b\b\b\b\b\b\b\b\b\b\b\b\b\b\b\b\b\b\b\b\b\b\b\b\b\b\b\b\b\b\b\b\b\b\b\b\b\b\b\b\b\b\b\b\b\b 20% 1 - plwordnet_3_0/plwordnet-3.0-visdisc.xml\b\b\b\b\b\b\b\b\b\b\b\b\b\b\b\b\b\b\b\b\b\b\b\b\b\b\b\b\b\b\b\b\b\b\b\b\b\b\b\b\b\b\b\b\b\b\b\b                                                \b\b\b\b\b\b\b\b\b\b\b\b\b\b\b\b\b\b\b\b\b\b\b\b\b\b\b\b\b\b\b\b\b\b\b\b\b\b\b\b\b\b\b\b\b\b\b\b 25% 1 - plwordnet_3_0/plwordnet-3.0-visdisc.xml\b\b\b\b\b\b\b\b\b\b\b\b\b\b\b\b\b\b\b\b\b\b\b\b\b\b\b\b\b\b\b\b\b\b\b\b\b\b\b\b\b\b\b\b\b\b\b\b                                                \b\b\b\b\b\b\b\b\b\b\b\b\b\b\b\b\b\b\b\b\b\b\b\b\b\b\b\b\b\b\b\b\b\b\b\b\b\b\b\b\b\b\b\b\b\b\b\b 29% 2 - plwordnet_3_0/plwordnet-3.0.xml\b\b\b\b\b\b\b\b\b\b\b\b\b\b\b\b\b\b\b\b\b\b\b\b\b\b\b\b\b\b\b\b\b\b\b\b\b\b\b\b                                        \b\b\b\b\b\b\b\b\b\b\b\b\b\b\b\b\b\b\b\b\b\b\b\b\b\b\b\b\b\b\b\b\b\b\b\b\b\b\b\b 34% 2 - plwordnet_3_0/plwordnet-3.0.xml\b\b\b\b\b\b\b\b\b\b\b\b\b\b\b\b\b\b\b\b\b\b\b\b\b\b\b\b\b\b\b\b\b\b\b\b\b\b\b\b                                        \b\b\b\b\b\b\b\b\b\b\b\b\b\b\b\b\b\b\b\b\b\b\b\b\b\b\b\b\b\b\b\b\b\b\b\b\b\b\b\b 39% 2 - plwordnet_3_0/plwordnet-3.0.xml\b\b\b\b\b\b\b\b\b\b\b\b\b\b\b\b\b\b\b\b\b\b\b\b\b\b\b\b\b\b\b\b\b\b\b\b\b\b\b\b                                        \b\b\b\b\b\b\b\b\b\b\b\b\b\b\b\b\b\b\b\b\b\b\b\b\b\b\b\b\b\b\b\b\b\b\b\b\b\b\b\b 44% 2 - plwordnet_3_0/plwordnet-3.0.xml\b\b\b\b\b\b\b\b\b\b\b\b\b\b\b\b\b\b\b\b\b\b\b\b\b\b\b\b\b\b\b\b\b\b\b\b\b\b\b\b                                        \b\b\b\b\b\b\b\b\b\b\b\b\b\b\b\b\b\b\b\b\b\b\b\b\b\b\b\b\b\b\b\b\b\b\b\b\b\b\b\b 49% 2 - plwordnet_3_0/plwordnet-3.0.xml\b\b\b\b\b\b\b\b\b\b\b\b\b\b\b\b\b\b\b\b\b\b\b\b\b\b\b\b\b\b\b\b\b\b\b\b\b\b\b\b                                        \b\b\b\b\b\b\b\b\b\b\b\b\b\b\b\b\b\b\b\b\b\b\b\b\b\b\b\b\b\b\b\b\b\b\b\b\b\b\b\b 54% 2 - plwordnet_3_0/plwordnet-3.0.xml\b\b\b\b\b\b\b\b\b\b\b\b\b\b\b\b\b\b\b\b\b\b\b\b\b\b\b\b\b\b\b\b\b\b\b\b\b\b\b\b                                        \b\b\b\b\b\b\b\b\b\b\b\b\b\b\b\b\b\b\b\b\b\b\b\b\b\b\b\b\b\b\b\b\b\b\b\b\b\b\b\b 60% 2 - plwordnet_3_0/plwordnet-3.0.xml\b\b\b\b\b\b\b\b\b\b\b\b\b\b\b\b\b\b\b\b\b\b\b\b\b\b\b\b\b\b\b\b\b\b\b\b\b\b\b\b                                        \b\b\b\b\b\b\b\b\b\b\b\b\b\b\b\b\b\b\b\b\b\b\b\b\b\b\b\b\b\b\b\b\b\b\b\b\b\b\b\b 65% 2 - plwordnet_3_0/plwordnet-3.0.xml\b\b\b\b\b\b\b\b\b\b\b\b\b\b\b\b\b\b\b\b\b\b\b\b\b\b\b\b\b\b\b\b\b\b\b\b\b\b\b\b                                        \b\b\b\b\b\b\b\b\b\b\b\b\b\b\b\b\b\b\b\b\b\b\b\b\b\b\b\b\b\b\b\b\b\b\b\b\b\b\b\b 70% 2 - plwordnet_3_0/plwordnet-3.0.xml\b\b\b\b\b\b\b\b\b\b\b\b\b\b\b\b\b\b\b\b\b\b\b\b\b\b\b\b\b\b\b\b\b\b\b\b\b\b\b\b                                        \b\b\b\b\b\b\b\b\b\b\b\b\b\b\b\b\b\b\b\b\b\b\b\b\b\b\b\b\b\b\b\b\b\b\b\b\b\b\b\b 77% 2 - plwordnet_3_0/plwordnet-3.0.xml\b\b\b\b\b\b\b\b\b\b\b\b\b\b\b\b\b\b\b\b\b\b\b\b\b\b\b\b\b\b\b\b\b\b\b\b\b\b\b\b                                        \b\b\b\b\b\b\b\b\b\b\b\b\b\b\b\b\b\b\b\b\b\b\b\b\b\b\b\b\b\b\b\b\b\b\b\b\b\b\b\b 82% 2 - plwordnet_3_0/plwordnet-3.0.xml\b\b\b\b\b\b\b\b\b\b\b\b\b\b\b\b\b\b\b\b\b\b\b\b\b\b\b\b\b\b\b\b\b\b\b\b\b\b\b\b                                        \b\b\b\b\b\b\b\b\b\b\b\b\b\b\b\b\b\b\b\b\b\b\b\b\b\b\b\b\b\b\b\b\b\b\b\b\b\b\b\b 88% 2 - plwordnet_3_0/plwordnet-3.0.xml\b\b\b\b\b\b\b\b\b\b\b\b\b\b\b\b\b\b\b\b\b\b\b\b\b\b\b\b\b\b\b\b\b\b\b\b\b\b\b\b                                        \b\b\b\b\b\b\b\b\b\b\b\b\b\b\b\b\b\b\b\b\b\b\b\b\b\b\b\b\b\b\b\b\b\b\b\b\b\b\b\b 94% 2 - plwordnet_3_0/plwordnet-3.0.xml\b\b\b\b\b\b\b\b\b\b\b\b\b\b\b\b\b\b\b\b\b\b\b\b\b\b\b\b\b\b\b\b\b\b\b\b\b\b\b\b                                        \b\b\b\b\b\b\b\b\b\b\b\b\b\b\b\b\b\b\b\b\b\b\b\b\b\b\b\b\b\b\b\b\b\b\b\b\b\b\b\bEverything is Ok\n",
            "\n",
            "Folders: 1\n",
            "Files: 5\n",
            "Size:       485785766\n",
            "Compressed: 36119839\n"
          ],
          "name": "stdout"
        }
      ]
    },
    {
      "cell_type": "code",
      "metadata": {
        "id": "inDPEQA8S545"
      },
      "source": [
        "import xml.etree.ElementTree as ET\n",
        "\n",
        "tree = ET.fromstring(open(\"plwordnet_3_0/plwordnet-3.0.xml\", \"r\").read())"
      ],
      "execution_count": 3,
      "outputs": []
    },
    {
      "cell_type": "markdown",
      "metadata": {
        "id": "WsX8ZIy88Ep2"
      },
      "source": [
        "**Opis synsetów**\n",
        "\n",
        "    <synset id=\"238955\" workstate=\"Nie przetworzone\" split=\"1\" owner=\"\"\n",
        "        definition=\"\" desc=\"\" abstract=\"false\">\n",
        "        <unit-id>371013</unit-id>\n",
        "        <unit-id>371014</unit-id>\n",
        "    </synset>"
      ]
    },
    {
      "cell_type": "code",
      "metadata": {
        "colab": {
          "base_uri": "https://localhost:8080/"
        },
        "id": "U_enMaKO8MU-",
        "outputId": "398c0fc1-7df0-4b52-9307-cecaf1558791"
      },
      "source": [
        "luid_to_synsetid = {}\n",
        "\n",
        "for s in tree.iter('synset'):\n",
        "  id = s.attrib.get('id')\n",
        "  for lu in s.iter(\"unit-id\"):\n",
        "    luid_to_synsetid[lu.text] = id\n",
        "\n",
        "len(luid_to_synsetid)"
      ],
      "execution_count": 4,
      "outputs": [
        {
          "output_type": "execute_result",
          "data": {
            "text/plain": [
              "477881"
            ]
          },
          "metadata": {
            "tags": []
          },
          "execution_count": 4
        }
      ]
    },
    {
      "cell_type": "markdown",
      "metadata": {
        "id": "Sjd8YVYK39TG"
      },
      "source": [
        "**Opis jednostki leksykalnej**\n",
        "\n",
        "    <lexical-unit id=\"1599\" name=\"ekran\" pos=\"rzeczownik\" tagcount=\"718\"\n",
        "        domain=\"msc\"\n",
        "        desc=\"##K: og. ##D: płaszczyzna, na którą rzuca się obraz, np. w kinie.\"\n",
        "        workstate=\"Sprawdzone\" source=\"systemowy\" variant=\"3\"/>\n"
      ]
    },
    {
      "cell_type": "code",
      "metadata": {
        "id": "uPgzfct_TzOm",
        "colab": {
          "base_uri": "https://localhost:8080/"
        },
        "outputId": "403530bd-c5da-462a-d92b-7374e8b63c66"
      },
      "source": [
        "import re\n",
        "from collections import namedtuple\n",
        "\n",
        "LexicalUnit = namedtuple('LexicalUnit', 'id name desc variant synset_id')\n",
        "\n",
        "lexical_units = {}\n",
        "\n",
        "definition_regex = re.compile(\"##D:([^#]+)\")\n",
        "\n",
        "for unit in tree.iter('lexical-unit'):\n",
        "    id = unit.attrib.get('id')\n",
        "    name = unit.attrib.get('name')\n",
        "    desc = unit.attrib.get('desc')    \n",
        "    definitions = []\n",
        "    for m in definition_regex.finditer(desc):\n",
        "      definition = m.group(1).strip()\n",
        "      if len(definition) > 3:\n",
        "        definitions.append(definition)\n",
        "    variant = unit.attrib.get('variant')\n",
        "    lexical_units[id] = LexicalUnit(id, name, definitions, variant, luid_to_synsetid[id])\n",
        "\n",
        "len(lexical_units)"
      ],
      "execution_count": 5,
      "outputs": [
        {
          "output_type": "execute_result",
          "data": {
            "text/plain": [
              "477881"
            ]
          },
          "metadata": {
            "tags": []
          },
          "execution_count": 5
        }
      ]
    },
    {
      "cell_type": "markdown",
      "metadata": {
        "id": "huGlw6b_Nnp2"
      },
      "source": [
        "### Pobranie znaczeń z opisu jednostek leksykalnych"
      ]
    },
    {
      "cell_type": "code",
      "metadata": {
        "colab": {
          "base_uri": "https://localhost:8080/"
        },
        "id": "n91r86y5VVF-",
        "outputId": "f9ad57a6-f490-481c-da91-8ea9c68b42a4"
      },
      "source": [
        "units = [item for item in lexical_units.values() if item.name == \"ekran\"]\n",
        "units"
      ],
      "execution_count": 6,
      "outputs": [
        {
          "output_type": "execute_result",
          "data": {
            "text/plain": [
              "[LexicalUnit(id='1599', name='ekran', desc=['płaszczyzna, na którą rzuca się obraz, np. w kinie.'], variant='3', synset_id='4879'),\n",
              " LexicalUnit(id='1600', name='ekran', desc=['osłona pełniąca funkcję zabezpieczenia, izolacji przed czymś szkodliwym.'], variant='4', synset_id='8264'),\n",
              " LexicalUnit(id='380963', name='ekran', desc=['rodzaj zasłony (z tkaniny, skóry, żelaza), która bywa ustawiana przed kominkiem.'], variant='6', synset_id='248273'),\n",
              " LexicalUnit(id='19744', name='ekran', desc=['wyświetlacz; powierzchnia, na której jest coś wyświetlane.'], variant='1', synset_id='799'),\n",
              " LexicalUnit(id='371009', name='ekran', desc=['duża naszywka z nazwą zespołu, która pasuje na środkowy klin jeansowej kurtki lub kamizelki.'], variant='5', synset_id='238951')]"
            ]
          },
          "metadata": {
            "tags": []
          },
          "execution_count": 6
        }
      ]
    },
    {
      "cell_type": "markdown",
      "metadata": {
        "id": "HVg2ZA6Z6Nld"
      },
      "source": [
        "### Porównanie zdania z definicją\n"
      ]
    },
    {
      "cell_type": "code",
      "metadata": {
        "colab": {
          "base_uri": "https://localhost:8080/"
        },
        "id": "zoq67IQ8YQjm",
        "outputId": "b1bb0c16-a7e6-4250-ef14-d94980a79757"
      },
      "source": [
        "!pip install spacy -U\n",
        "!python -m spacy download pl_core_news_lg\n",
        "!python -m spacy link pl_core_news_lg pl_core_news_lg -f\n",
        "\n",
        "import spacy\n",
        "nlp = spacy.load('pl_core_news_lg')"
      ],
      "execution_count": 7,
      "outputs": [
        {
          "output_type": "stream",
          "text": [
            "Requirement already up-to-date: spacy in /usr/local/lib/python3.6/dist-packages (2.3.5)\n",
            "Requirement already satisfied, skipping upgrade: thinc<7.5.0,>=7.4.1 in /usr/local/lib/python3.6/dist-packages (from spacy) (7.4.5)\n",
            "Requirement already satisfied, skipping upgrade: preshed<3.1.0,>=3.0.2 in /usr/local/lib/python3.6/dist-packages (from spacy) (3.0.5)\n",
            "Requirement already satisfied, skipping upgrade: catalogue<1.1.0,>=0.0.7 in /usr/local/lib/python3.6/dist-packages (from spacy) (1.0.0)\n",
            "Requirement already satisfied, skipping upgrade: tqdm<5.0.0,>=4.38.0 in /usr/local/lib/python3.6/dist-packages (from spacy) (4.41.1)\n",
            "Requirement already satisfied, skipping upgrade: murmurhash<1.1.0,>=0.28.0 in /usr/local/lib/python3.6/dist-packages (from spacy) (1.0.5)\n",
            "Requirement already satisfied, skipping upgrade: blis<0.8.0,>=0.4.0 in /usr/local/lib/python3.6/dist-packages (from spacy) (0.4.1)\n",
            "Requirement already satisfied, skipping upgrade: wasabi<1.1.0,>=0.4.0 in /usr/local/lib/python3.6/dist-packages (from spacy) (0.8.0)\n",
            "Requirement already satisfied, skipping upgrade: requests<3.0.0,>=2.13.0 in /usr/local/lib/python3.6/dist-packages (from spacy) (2.23.0)\n",
            "Requirement already satisfied, skipping upgrade: plac<1.2.0,>=0.9.6 in /usr/local/lib/python3.6/dist-packages (from spacy) (1.1.3)\n",
            "Requirement already satisfied, skipping upgrade: setuptools in /usr/local/lib/python3.6/dist-packages (from spacy) (51.0.0)\n",
            "Requirement already satisfied, skipping upgrade: srsly<1.1.0,>=1.0.2 in /usr/local/lib/python3.6/dist-packages (from spacy) (1.0.5)\n",
            "Requirement already satisfied, skipping upgrade: numpy>=1.15.0 in /usr/local/lib/python3.6/dist-packages (from spacy) (1.19.4)\n",
            "Requirement already satisfied, skipping upgrade: cymem<2.1.0,>=2.0.2 in /usr/local/lib/python3.6/dist-packages (from spacy) (2.0.5)\n",
            "Requirement already satisfied, skipping upgrade: importlib-metadata>=0.20; python_version < \"3.8\" in /usr/local/lib/python3.6/dist-packages (from catalogue<1.1.0,>=0.0.7->spacy) (3.3.0)\n",
            "Requirement already satisfied, skipping upgrade: certifi>=2017.4.17 in /usr/local/lib/python3.6/dist-packages (from requests<3.0.0,>=2.13.0->spacy) (2020.12.5)\n",
            "Requirement already satisfied, skipping upgrade: chardet<4,>=3.0.2 in /usr/local/lib/python3.6/dist-packages (from requests<3.0.0,>=2.13.0->spacy) (3.0.4)\n",
            "Requirement already satisfied, skipping upgrade: idna<3,>=2.5 in /usr/local/lib/python3.6/dist-packages (from requests<3.0.0,>=2.13.0->spacy) (2.10)\n",
            "Requirement already satisfied, skipping upgrade: urllib3!=1.25.0,!=1.25.1,<1.26,>=1.21.1 in /usr/local/lib/python3.6/dist-packages (from requests<3.0.0,>=2.13.0->spacy) (1.24.3)\n",
            "Requirement already satisfied, skipping upgrade: zipp>=0.5 in /usr/local/lib/python3.6/dist-packages (from importlib-metadata>=0.20; python_version < \"3.8\"->catalogue<1.1.0,>=0.0.7->spacy) (3.4.0)\n",
            "Requirement already satisfied, skipping upgrade: typing-extensions>=3.6.4; python_version < \"3.8\" in /usr/local/lib/python3.6/dist-packages (from importlib-metadata>=0.20; python_version < \"3.8\"->catalogue<1.1.0,>=0.0.7->spacy) (3.7.4.3)\n",
            "Requirement already satisfied: pl_core_news_lg==2.3.0 from https://github.com/explosion/spacy-models/releases/download/pl_core_news_lg-2.3.0/pl_core_news_lg-2.3.0.tar.gz#egg=pl_core_news_lg==2.3.0 in /usr/local/lib/python3.6/dist-packages (2.3.0)\n",
            "Requirement already satisfied: spacy<2.4.0,>=2.3.0 in /usr/local/lib/python3.6/dist-packages (from pl_core_news_lg==2.3.0) (2.3.5)\n",
            "Requirement already satisfied: blis<0.8.0,>=0.4.0 in /usr/local/lib/python3.6/dist-packages (from spacy<2.4.0,>=2.3.0->pl_core_news_lg==2.3.0) (0.4.1)\n",
            "Requirement already satisfied: preshed<3.1.0,>=3.0.2 in /usr/local/lib/python3.6/dist-packages (from spacy<2.4.0,>=2.3.0->pl_core_news_lg==2.3.0) (3.0.5)\n",
            "Requirement already satisfied: tqdm<5.0.0,>=4.38.0 in /usr/local/lib/python3.6/dist-packages (from spacy<2.4.0,>=2.3.0->pl_core_news_lg==2.3.0) (4.41.1)\n",
            "Requirement already satisfied: setuptools in /usr/local/lib/python3.6/dist-packages (from spacy<2.4.0,>=2.3.0->pl_core_news_lg==2.3.0) (51.0.0)\n",
            "Requirement already satisfied: plac<1.2.0,>=0.9.6 in /usr/local/lib/python3.6/dist-packages (from spacy<2.4.0,>=2.3.0->pl_core_news_lg==2.3.0) (1.1.3)\n",
            "Requirement already satisfied: wasabi<1.1.0,>=0.4.0 in /usr/local/lib/python3.6/dist-packages (from spacy<2.4.0,>=2.3.0->pl_core_news_lg==2.3.0) (0.8.0)\n",
            "Requirement already satisfied: numpy>=1.15.0 in /usr/local/lib/python3.6/dist-packages (from spacy<2.4.0,>=2.3.0->pl_core_news_lg==2.3.0) (1.19.4)\n",
            "Requirement already satisfied: cymem<2.1.0,>=2.0.2 in /usr/local/lib/python3.6/dist-packages (from spacy<2.4.0,>=2.3.0->pl_core_news_lg==2.3.0) (2.0.5)\n",
            "Requirement already satisfied: thinc<7.5.0,>=7.4.1 in /usr/local/lib/python3.6/dist-packages (from spacy<2.4.0,>=2.3.0->pl_core_news_lg==2.3.0) (7.4.5)\n",
            "Requirement already satisfied: srsly<1.1.0,>=1.0.2 in /usr/local/lib/python3.6/dist-packages (from spacy<2.4.0,>=2.3.0->pl_core_news_lg==2.3.0) (1.0.5)\n",
            "Requirement already satisfied: catalogue<1.1.0,>=0.0.7 in /usr/local/lib/python3.6/dist-packages (from spacy<2.4.0,>=2.3.0->pl_core_news_lg==2.3.0) (1.0.0)\n",
            "Requirement already satisfied: murmurhash<1.1.0,>=0.28.0 in /usr/local/lib/python3.6/dist-packages (from spacy<2.4.0,>=2.3.0->pl_core_news_lg==2.3.0) (1.0.5)\n",
            "Requirement already satisfied: requests<3.0.0,>=2.13.0 in /usr/local/lib/python3.6/dist-packages (from spacy<2.4.0,>=2.3.0->pl_core_news_lg==2.3.0) (2.23.0)\n",
            "Requirement already satisfied: importlib-metadata>=0.20; python_version < \"3.8\" in /usr/local/lib/python3.6/dist-packages (from catalogue<1.1.0,>=0.0.7->spacy<2.4.0,>=2.3.0->pl_core_news_lg==2.3.0) (3.3.0)\n",
            "Requirement already satisfied: chardet<4,>=3.0.2 in /usr/local/lib/python3.6/dist-packages (from requests<3.0.0,>=2.13.0->spacy<2.4.0,>=2.3.0->pl_core_news_lg==2.3.0) (3.0.4)\n",
            "Requirement already satisfied: urllib3!=1.25.0,!=1.25.1,<1.26,>=1.21.1 in /usr/local/lib/python3.6/dist-packages (from requests<3.0.0,>=2.13.0->spacy<2.4.0,>=2.3.0->pl_core_news_lg==2.3.0) (1.24.3)\n",
            "Requirement already satisfied: idna<3,>=2.5 in /usr/local/lib/python3.6/dist-packages (from requests<3.0.0,>=2.13.0->spacy<2.4.0,>=2.3.0->pl_core_news_lg==2.3.0) (2.10)\n",
            "Requirement already satisfied: certifi>=2017.4.17 in /usr/local/lib/python3.6/dist-packages (from requests<3.0.0,>=2.13.0->spacy<2.4.0,>=2.3.0->pl_core_news_lg==2.3.0) (2020.12.5)\n",
            "Requirement already satisfied: typing-extensions>=3.6.4; python_version < \"3.8\" in /usr/local/lib/python3.6/dist-packages (from importlib-metadata>=0.20; python_version < \"3.8\"->catalogue<1.1.0,>=0.0.7->spacy<2.4.0,>=2.3.0->pl_core_news_lg==2.3.0) (3.7.4.3)\n",
            "Requirement already satisfied: zipp>=0.5 in /usr/local/lib/python3.6/dist-packages (from importlib-metadata>=0.20; python_version < \"3.8\"->catalogue<1.1.0,>=0.0.7->spacy<2.4.0,>=2.3.0->pl_core_news_lg==2.3.0) (3.4.0)\n",
            "\u001b[38;5;2m✔ Download and installation successful\u001b[0m\n",
            "You can now load the model via spacy.load('pl_core_news_lg')\n",
            "\u001b[38;5;2m✔ Linking successful\u001b[0m\n",
            "/usr/local/lib/python3.6/dist-packages/pl_core_news_lg -->\n",
            "/usr/local/lib/python3.6/dist-packages/spacy/data/pl_core_news_lg\n",
            "You can now load the model via spacy.load('pl_core_news_lg')\n"
          ],
          "name": "stdout"
        }
      ]
    },
    {
      "cell_type": "code",
      "metadata": {
        "id": "nxSYPJzo6iIY"
      },
      "source": [
        "text = \"Jak włączyłem komputer to na ekranie wyświetlił się komunikat o błędzie\""
      ],
      "execution_count": 8,
      "outputs": []
    },
    {
      "cell_type": "code",
      "metadata": {
        "colab": {
          "base_uri": "https://localhost:8080/"
        },
        "id": "a0RclJep61-T",
        "outputId": "d920fa2d-99c9-4825-ebd2-1ce925bbc7a0"
      },
      "source": [
        "doc = nlp(text.replace(\"ekranie\", \"_\"))\n",
        "doc"
      ],
      "execution_count": 9,
      "outputs": [
        {
          "output_type": "execute_result",
          "data": {
            "text/plain": [
              "Jak włączyłem komputer to na _ wyświetlił się komunikat o błędzie"
            ]
          },
          "metadata": {
            "tags": []
          },
          "execution_count": 9
        }
      ]
    },
    {
      "cell_type": "code",
      "metadata": {
        "colab": {
          "base_uri": "https://localhost:8080/"
        },
        "id": "hkR9b6Sx7PyG",
        "outputId": "ff71d9ea-d64d-4498-b7d1-c6c37be37733"
      },
      "source": [
        "sims = [(doc.similarity(nlp(\", \".join(sense.desc))), sense) for sense in units]\n",
        "sims = sorted(sims, reverse=True)\n",
        "for sim, lu in sims:\n",
        "  print(\"%5.2f  %s\" % (sim, str(lu)))"
      ],
      "execution_count": 10,
      "outputs": [
        {
          "output_type": "stream",
          "text": [
            " 0.62  LexicalUnit(id='1599', name='ekran', desc=['płaszczyzna, na którą rzuca się obraz, np. w kinie.'], variant='3', synset_id='4879')\n",
            " 0.61  LexicalUnit(id='19744', name='ekran', desc=['wyświetlacz; powierzchnia, na której jest coś wyświetlane.'], variant='1', synset_id='799')\n",
            " 0.40  LexicalUnit(id='371009', name='ekran', desc=['duża naszywka z nazwą zespołu, która pasuje na środkowy klin jeansowej kurtki lub kamizelki.'], variant='5', synset_id='238951')\n",
            " 0.35  LexicalUnit(id='1600', name='ekran', desc=['osłona pełniąca funkcję zabezpieczenia, izolacji przed czymś szkodliwym.'], variant='4', synset_id='8264')\n",
            " 0.29  LexicalUnit(id='380963', name='ekran', desc=['rodzaj zasłony (z tkaniny, skóry, żelaza), która bywa ustawiana przed kominkiem.'], variant='6', synset_id='248273')\n"
          ],
          "name": "stdout"
        }
      ]
    },
    {
      "cell_type": "markdown",
      "metadata": {
        "id": "Tkkj5wROv3VB"
      },
      "source": [
        "## Usługa sieciowa CLARIN-PL do WSD"
      ]
    },
    {
      "cell_type": "markdown",
      "metadata": {
        "id": "ad672aJ4B0As"
      },
      "source": [
        "![image.png](data:image/png;base64,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)"
      ]
    },
    {
      "cell_type": "markdown",
      "metadata": {
        "id": "SEYtEa0zFdcL"
      },
      "source": [
        "http://ws.clarin-pl.eu/wsd.shtml"
      ]
    },
    {
      "cell_type": "code",
      "metadata": {
        "id": "PTOFYv4bHDFN"
      },
      "source": [
        "import requests\n",
        "import json\n",
        "import time"
      ],
      "execution_count": 11,
      "outputs": []
    },
    {
      "cell_type": "code",
      "metadata": {
        "id": "bozBsYBJHDx8"
      },
      "source": [
        "clarin_url = \"http://ws.clarin-pl.eu/nlprest2/base\""
      ],
      "execution_count": 12,
      "outputs": []
    },
    {
      "cell_type": "markdown",
      "metadata": {
        "id": "8z1CAX64NmUW"
      },
      "source": [
        "### Notacja LPMN"
      ]
    },
    {
      "cell_type": "markdown",
      "metadata": {
        "id": "kUAjYVidNpcH"
      },
      "source": [
        "Służy do opisu potoku przetwarzania do wykonania przez infrastrukturę CLARIN-PL."
      ]
    },
    {
      "cell_type": "code",
      "metadata": {
        "id": "EcB5fZhHNipf"
      },
      "source": [
        "lpmn = \"wcrft2|wsd\""
      ],
      "execution_count": 13,
      "outputs": []
    },
    {
      "cell_type": "markdown",
      "metadata": {
        "id": "cHXVaPlYNPw0"
      },
      "source": [
        "### Rozpoczęcie zadania"
      ]
    },
    {
      "cell_type": "code",
      "metadata": {
        "colab": {
          "base_uri": "https://localhost:8080/",
          "height": 35
        },
        "id": "0QPmi696HbzH",
        "outputId": "9b3f4ccf-5aae-4ad7-d283-47772060556c"
      },
      "source": [
        "url = f\"{clarin_url}/startTask\"\n",
        "payload = {'lpmn': lpmn, 'user': \"user@mail.com\", \"text\": text}\n",
        "headers = {'content-type': 'application/json'}\n",
        "task_id = requests.post(url, data=json.dumps(payload), headers=headers).text\n",
        "task_id\n"
      ],
      "execution_count": 14,
      "outputs": [
        {
          "output_type": "execute_result",
          "data": {
            "application/vnd.google.colaboratory.intrinsic+json": {
              "type": "string"
            },
            "text/plain": [
              "'7d942718-a0b1-4e0d-8dc5-fd2b5bf512fa'"
            ]
          },
          "metadata": {
            "tags": []
          },
          "execution_count": 14
        }
      ]
    },
    {
      "cell_type": "markdown",
      "metadata": {
        "id": "-s6BnaQaNSw1"
      },
      "source": [
        "### Sprawdzanie statusu"
      ]
    },
    {
      "cell_type": "code",
      "metadata": {
        "colab": {
          "base_uri": "https://localhost:8080/"
        },
        "id": "gZC4v0ByIbR1",
        "outputId": "b7fe8a48-0201-4fb4-c32e-4c2d6796bac2"
      },
      "source": [
        "data = json.loads(requests.get(f\"{clarin_url}/getStatus/{task_id}\").text)\n",
        "while data[\"status\"] == \"QUEUE\" or data[\"status\"] == \"PROCESSING\" :\n",
        "    time.sleep(0.5);\n",
        "    data = json.loads(requests.get(f\"{clarin_url}/getStatus/{task_id}\").text)\n",
        "if data[\"status\"]==\"ERROR\":\n",
        "    print(\"Error \"+data[\"value\"]);\n",
        "data"
      ],
      "execution_count": 16,
      "outputs": [
        {
          "output_type": "execute_result",
          "data": {
            "text/plain": [
              "{'status': 'DONE',\n",
              " 'value': [{'fileID': '/requests/wsd/510107e1-7b38-4f36-ab9c-45a11eae237b',\n",
              "   'name': 'file'}]}"
            ]
          },
          "metadata": {
            "tags": []
          },
          "execution_count": 16
        }
      ]
    },
    {
      "cell_type": "code",
      "metadata": {
        "colab": {
          "base_uri": "https://localhost:8080/",
          "height": 35
        },
        "id": "FsBjVyXzOUBs",
        "outputId": "3d7f8311-55fe-43a9-87f4-4c78dfc5c065"
      },
      "source": [
        "file_id = data[\"value\"][0][\"fileID\"]\n",
        "file_id"
      ],
      "execution_count": 17,
      "outputs": [
        {
          "output_type": "execute_result",
          "data": {
            "application/vnd.google.colaboratory.intrinsic+json": {
              "type": "string"
            },
            "text/plain": [
              "'/requests/wsd/510107e1-7b38-4f36-ab9c-45a11eae237b'"
            ]
          },
          "metadata": {
            "tags": []
          },
          "execution_count": 17
        }
      ]
    },
    {
      "cell_type": "markdown",
      "metadata": {
        "id": "2qe2oNIcNVBt"
      },
      "source": [
        "### Pobranie wyniku"
      ]
    },
    {
      "cell_type": "code",
      "metadata": {
        "colab": {
          "base_uri": "https://localhost:8080/",
          "height": 103
        },
        "id": "gooud5y9JSzq",
        "outputId": "2f139896-99d4-45c4-b749-cf8b280ed3f0"
      },
      "source": [
        "content = requests.get(f\"{clarin_url}/download{file_id}\").text;\n",
        "content"
      ],
      "execution_count": 18,
      "outputs": [
        {
          "output_type": "execute_result",
          "data": {
            "application/vnd.google.colaboratory.intrinsic+json": {
              "type": "string"
            },
            "text/plain": [
              "'<?xml version=\"1.0\" encoding=\"UTF-8\"?>\\n<!DOCTYPE chunkList SYSTEM \"ccl.dtd\">\\n<chunkList>\\n <chunk id=\"ch1\" type=\"p\">\\n  <sentence id=\"s1\">\\n   <tok>\\n    <orth>Jak</orth>\\n    <lex disamb=\"1\"><base>jak</base><ctag>conj</ctag></lex>\\n   </tok>\\n   <tok>\\n    <orth>włączył</orth>\\n    <lex disamb=\"1\"><base>włączyć</base><ctag>praet:sg:m1:perf</ctag></lex>\\n    <prop key=\"sense:ukb:syns_id\">48966</prop>\\n    <prop key=\"sense:ukb:syns_rank\">48966/577.5525341494 58418/514.4603593961 49335/509.2135768364 58417/498.2802642697 58419/486.9991529866 58421/454.0202309927</prop>\\n    <prop key=\"sense:ukb:unitsstr\">włączyć.4(33:dtk)</prop>\\n   </tok>\\n   <ns/>\\n   <tok>\\n    <orth>em</orth>\\n    <lex disamb=\"1\"><base>być</base><ctag>aglt:sg:pri:imperf:wok</ctag></lex>\\n   </tok>\\n   <tok>\\n    <orth>komputer</orth>\\n    <lex disamb=\"1\"><base>komputer</base><ctag>subst:sg:nom:m3</ctag></lex>\\n    <prop key=\"sense:ukb:syns_id\">1316</prop>\\n    <prop key=\"sense:ukb:syns_rank\">1316/3102.6248820179</prop>\\n    <prop key=\"sense:ukb:unitsstr\">komp.1(3:wytw) komputer.1(3:wytw) mózg_elektronowy.1(3:wytw)</prop>\\n   </tok>\\n   <tok>\\n    <orth>to</orth>\\n    <lex disamb=\"1\"><base>to</base><ctag>conj</ctag></lex>\\n   </tok>\\n   <tok>\\n    <orth>na</orth>\\n    <lex disamb=\"1\"><base>na</base><ctag>prep:acc</ctag></lex>\\n   </tok>\\n   <tok>\\n    <orth>ekranie</orth>\\n    <lex disamb=\"1\"><base>ekran</base><ctag>subst:sg:loc:m3</ctag></lex>\\n    <prop key=\"sense:ukb:syns_id\">799</prop>\\n    <prop key=\"sense:ukb:syns_rank\">799/716.8401395396 4879/613.7120669728 8264/607.2423543292 248273/535.6587927327 238951/521.3461699812</prop>\\n    <prop key=\"sense:ukb:unitsstr\">ekran.1(3:wytw) ekran_wizyjny.1(3:wytw)</prop>\\n   </tok>\\n   <tok>\\n    <orth>wyświetlił</orth>\\n    <lex disamb=\"1\"><base>wyświetlić</base><ctag>praet:sg:m1:perf</ctag></lex>\\n    <prop key=\"sense:ukb:syns_id\">388748</prop>\\n    <prop key=\"sense:ukb:syns_rank\">388748/3639.8708291903</prop>\\n    <prop key=\"sense:ukb:unitsstr\">wyświetlić.1(37:pst)</prop>\\n   </tok>\\n   <tok>\\n    <orth>się</orth>\\n    <lex disamb=\"1\"><base>się</base><ctag>qub</ctag></lex>\\n   </tok>\\n   <tok>\\n    <orth>komunikat</orth>\\n    <lex disamb=\"1\"><base>komunikat</base><ctag>subst:sg:nom:m3</ctag></lex>\\n    <prop key=\"sense:ukb:syns_id\">7000</prop>\\n    <prop key=\"sense:ukb:syns_rank\">7000/2762.8208554518</prop>\\n    <prop key=\"sense:ukb:unitsstr\">komunikat.1(7:por)</prop>\\n   </tok>\\n   <tok>\\n    <orth>o</orth>\\n    <lex disamb=\"1\"><base>o</base><ctag>prep:acc</ctag></lex>\\n   </tok>\\n   <tok>\\n    <orth>błędzie</orth>\\n    <lex disamb=\"1\"><base>błąd</base><ctag>subst:sg:loc:m3</ctag></lex>\\n    <prop key=\"sense:ukb:syns_id\">1881</prop>\\n    <prop key=\"sense:ukb:syns_rank\">1881/688.8169423408 405128/664.8816354156 6482/636.7259321243 405107/613.1525073350 385427/530.6552180804</prop>\\n    <prop key=\"sense:ukb:unitsstr\">kiks.1(7:por) omyłka.1(7:por) pomyłka.1(6:umy) błąd.1(7:por)</prop>\\n   </tok>\\n  </sentence>\\n </chunk>\\n</chunkList>\\n'"
            ]
          },
          "metadata": {
            "tags": []
          },
          "execution_count": 18
        }
      ]
    },
    {
      "cell_type": "markdown",
      "metadata": {
        "id": "k3eNUfDpNYnm"
      },
      "source": [
        "### Parsowanie wyniku"
      ]
    },
    {
      "cell_type": "markdown",
      "metadata": {
        "id": "Y2I9F7pUO5cv"
      },
      "source": [
        "**Struktura dokumentu CCL**\n",
        "```\n",
        "chunkList > chunk > sentence > tok\n",
        "```"
      ]
    },
    {
      "cell_type": "markdown",
      "metadata": {
        "id": "eg03YaJGMVaX"
      },
      "source": [
        "**Opis tokenu**\n",
        "\n",
        "```\n",
        "<tok>\n",
        "  <orth>ekranie</orth>\n",
        "  <lex disamb=\"1\"><base>ekran</base><ctag>subst:sg:loc:m3</ctag></lex>\n",
        "  <prop key=\"sense:ukb:syns_id\">799</prop>\n",
        "  <prop key=\"sense:ukb:syns_rank\">799/716.8401395396 4879/613.7120669728 8264/607.2423543292 248273/535.6587927327 238951/521.3461699812</prop>\n",
        "  <prop key=\"sense:ukb:unitsstr\">ekran.1(3:wytw) ekran_wizyjny.1(3:wytw)</prop>   \n",
        "</tok>\n",
        "```\n",
        "\n"
      ]
    },
    {
      "cell_type": "code",
      "metadata": {
        "id": "DL2Cu1FVKjsc"
      },
      "source": [
        "import xml.etree.ElementTree as ET\n",
        "\n",
        "ccl = ET.fromstring(content)"
      ],
      "execution_count": 19,
      "outputs": []
    },
    {
      "cell_type": "code",
      "metadata": {
        "colab": {
          "base_uri": "https://localhost:8080/"
        },
        "id": "HlaqEiY8Y1IA",
        "outputId": "d0743945-b56e-430e-dea8-05a2c1b34d34"
      },
      "source": [
        "for token in ccl.iter(\"tok\"):\n",
        "  orth = token.find(\"orth\").text\n",
        "  if orth == \"ekranie\": \n",
        "    for prop in token.iter(\"prop\"):\n",
        "        print(prop.text)"
      ],
      "execution_count": 20,
      "outputs": [
        {
          "output_type": "stream",
          "text": [
            "799\n",
            "799/716.8401395396 4879/613.7120669728 8264/607.2423543292 248273/535.6587927327 238951/521.3461699812\n",
            "ekran.1(3:wytw) ekran_wizyjny.1(3:wytw)\n"
          ],
          "name": "stdout"
        }
      ]
    }
  ]
}