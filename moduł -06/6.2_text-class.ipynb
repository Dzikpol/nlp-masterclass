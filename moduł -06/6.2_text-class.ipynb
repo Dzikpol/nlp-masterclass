{
 "cells": [
  {
   "cell_type": "markdown",
   "metadata": {
    "id": "jwu6OC4BB-9N"
   },
   "source": [
    "# Klasyfikacja tekstów"
   ]
  },
  {
   "cell_type": "code",
   "execution_count": 2,
   "metadata": {
    "colab": {
     "base_uri": "https://localhost:8080/"
    },
    "executionInfo": {
     "elapsed": 2458,
     "status": "ok",
     "timestamp": 1609690802785,
     "user": {
      "displayName": "Piotr Pęzik",
      "photoUrl": "https://lh3.googleusercontent.com/a-/AOh14GiZ7i0oPBUhmXYrUMEAOBIuQfvFWyKz4sEOLJ2otC4=s64",
      "userId": "15401984500622025149"
     },
     "user_tz": -60
    },
    "id": "CryltczfB-9V",
    "outputId": "a9c552f1-d578-45d5-8221-c31ac2d5901d"
   },
   "outputs": [
    {
     "name": "stdout",
     "output_type": "stream",
     "text": [
      "{'27': 0, '750': 1, 'ambasador': 2, 'brazylia': 3, 'brazylii': 4, 'brazylię': 5, 'koronawirusa': 6, 'koronawirusem': 7, 'ma': 8, 'minister': 9, 'mocnych': 10, 'na': 11, 'nie': 12, 'nowych': 13, 'odwołana': 14, 'przypadków': 15, 'przyrostu': 16, 'spadek': 17, 'zakażeń': 18, 'zakażony': 19, 'zdrowia': 20, 'znaczny': 21}\n",
      "--------------------------------------------------\n",
      "[[0 0 1 0 1 0 0 0 0 0 0 0 0 0 1 0 0 0 0 0 0 0]\n",
      " [0 0 0 1 0 0 0 0 0 0 0 0 0 0 0 0 1 1 1 0 0 1]\n",
      " [0 0 0 1 1 0 0 1 0 1 0 0 0 0 0 0 0 0 0 1 1 0]\n",
      " [0 0 0 0 0 1 0 0 1 0 1 1 1 0 0 0 0 0 0 0 0 0]\n",
      " [1 1 0 1 0 0 1 0 0 0 0 0 0 1 0 1 0 0 0 0 0 0]]\n"
     ]
    }
   ],
   "source": [
    "# Reprezentacja dokumentów w postaci wektorów słów\n",
    "# Zob. moduł 3.3\n",
    "\n",
    "from sklearn.feature_extraction.text import CountVectorizer\n",
    "\n",
    "texts = ['Ambasador odwołana z Brazylii.', \n",
    "         'Brazylia: Znaczny spadek przyrostu zakażeń.',\n",
    "         'Brazylia: minister zdrowia Brazylii zakażony koronawirusem.',\n",
    "         'Nie ma mocnych na Brazylię.',\n",
    "        'Brazylia: 27 750 nowych przypadków koronawirusa.']\n",
    "\n",
    "count_v = CountVectorizer()\n",
    "counts = count_v.fit_transform(texts).toarray()\n",
    "\n",
    "#print(count_v.vocabulary_) Lepiej posortować po indeksach:\n",
    "print({k: v for k, v in sorted(count_v.vocabulary_.items(), key=lambda item: item[1])})\n",
    "\n",
    "print(\"-\"*50)\n",
    "print(counts)"
   ]
  },
  {
   "cell_type": "code",
   "execution_count": 3,
   "metadata": {
    "colab": {
     "base_uri": "https://localhost:8080/"
    },
    "executionInfo": {
     "elapsed": 10290,
     "status": "ok",
     "timestamp": 1609690815068,
     "user": {
      "displayName": "Piotr Pęzik",
      "photoUrl": "https://lh3.googleusercontent.com/a-/AOh14GiZ7i0oPBUhmXYrUMEAOBIuQfvFWyKz4sEOLJ2otC4=s64",
      "userId": "15401984500622025149"
     },
     "user_tz": -60
    },
    "id": "EhItE1l3CcG6",
    "outputId": "43d7628d-c671-4805-a71f-2f93a226499c"
   },
   "outputs": [
    {
     "name": "stdout",
     "output_type": "stream",
     "text": [
      "Requirement already satisfied: spacy-nightly in /usr/local/lib/python3.6/dist-packages (3.0.0rc2)\n",
      "Requirement already satisfied: tqdm<5.0.0,>=4.38.0 in /usr/local/lib/python3.6/dist-packages (from spacy-nightly) (4.41.1)\n",
      "Requirement already satisfied: requests<3.0.0,>=2.13.0 in /usr/local/lib/python3.6/dist-packages (from spacy-nightly) (2.23.0)\n",
      "Requirement already satisfied: murmurhash<1.1.0,>=0.28.0 in /usr/local/lib/python3.6/dist-packages (from spacy-nightly) (1.0.5)\n",
      "Requirement already satisfied: cymem<2.1.0,>=2.0.2 in /usr/local/lib/python3.6/dist-packages (from spacy-nightly) (2.0.5)\n",
      "Requirement already satisfied: blis<0.8.0,>=0.4.0 in /usr/local/lib/python3.6/dist-packages (from spacy-nightly) (0.4.1)\n",
      "Requirement already satisfied: pathy in /usr/local/lib/python3.6/dist-packages (from spacy-nightly) (0.3.4)\n",
      "Requirement already satisfied: pydantic<1.7.0,>=1.5.0 in /usr/local/lib/python3.6/dist-packages (from spacy-nightly) (1.6.1)\n",
      "Requirement already satisfied: pytokenizations in /usr/local/lib/python3.6/dist-packages (from spacy-nightly) (0.7.2)\n",
      "Requirement already satisfied: jinja2 in /usr/local/lib/python3.6/dist-packages (from spacy-nightly) (2.11.2)\n",
      "Requirement already satisfied: setuptools in /usr/local/lib/python3.6/dist-packages (from spacy-nightly) (51.0.0)\n",
      "Requirement already satisfied: numpy>=1.15.0 in /usr/local/lib/python3.6/dist-packages (from spacy-nightly) (1.19.4)\n",
      "Requirement already satisfied: packaging>=20.0 in /usr/local/lib/python3.6/dist-packages (from spacy-nightly) (20.8)\n",
      "Requirement already satisfied: importlib-metadata>=0.20; python_version < \"3.8\" in /usr/local/lib/python3.6/dist-packages (from spacy-nightly) (3.3.0)\n",
      "Requirement already satisfied: typing-extensions>=3.7.4; python_version < \"3.8\" in /usr/local/lib/python3.6/dist-packages (from spacy-nightly) (3.7.4.3)\n",
      "Requirement already satisfied: thinc<8.1.0,>=8.0.0rc0 in /usr/local/lib/python3.6/dist-packages (from spacy-nightly) (8.0.0rc3)\n",
      "Requirement already satisfied: typer<0.4.0,>=0.3.0 in /usr/local/lib/python3.6/dist-packages (from spacy-nightly) (0.3.2)\n",
      "Requirement already satisfied: catalogue<2.1.0,>=2.0.1 in /usr/local/lib/python3.6/dist-packages (from spacy-nightly) (2.0.1)\n",
      "Requirement already satisfied: preshed<3.1.0,>=3.0.2 in /usr/local/lib/python3.6/dist-packages (from spacy-nightly) (3.0.5)\n",
      "Requirement already satisfied: srsly<3.0.0,>=2.3.0 in /usr/local/lib/python3.6/dist-packages (from spacy-nightly) (2.3.2)\n",
      "Requirement already satisfied: wasabi<1.1.0,>=0.8.0 in /usr/local/lib/python3.6/dist-packages (from spacy-nightly) (0.8.0)\n",
      "Requirement already satisfied: chardet<4,>=3.0.2 in /usr/local/lib/python3.6/dist-packages (from requests<3.0.0,>=2.13.0->spacy-nightly) (3.0.4)\n",
      "Requirement already satisfied: urllib3!=1.25.0,!=1.25.1,<1.26,>=1.21.1 in /usr/local/lib/python3.6/dist-packages (from requests<3.0.0,>=2.13.0->spacy-nightly) (1.24.3)\n",
      "Requirement already satisfied: idna<3,>=2.5 in /usr/local/lib/python3.6/dist-packages (from requests<3.0.0,>=2.13.0->spacy-nightly) (2.10)\n",
      "Requirement already satisfied: certifi>=2017.4.17 in /usr/local/lib/python3.6/dist-packages (from requests<3.0.0,>=2.13.0->spacy-nightly) (2020.12.5)\n",
      "Requirement already satisfied: dataclasses<1.0,>=0.6; python_version < \"3.7\" in /usr/local/lib/python3.6/dist-packages (from pathy->spacy-nightly) (0.8)\n",
      "Requirement already satisfied: smart-open<4.0.0,>=2.2.0 in /usr/local/lib/python3.6/dist-packages (from pathy->spacy-nightly) (3.0.0)\n",
      "Requirement already satisfied: MarkupSafe>=0.23 in /usr/local/lib/python3.6/dist-packages (from jinja2->spacy-nightly) (1.1.1)\n",
      "Requirement already satisfied: pyparsing>=2.0.2 in /usr/local/lib/python3.6/dist-packages (from packaging>=20.0->spacy-nightly) (2.4.7)\n",
      "Requirement already satisfied: zipp>=0.5 in /usr/local/lib/python3.6/dist-packages (from importlib-metadata>=0.20; python_version < \"3.8\"->spacy-nightly) (3.4.0)\n",
      "Requirement already satisfied: contextvars<3,>=2.4; python_version < \"3.7\" in /usr/local/lib/python3.6/dist-packages (from thinc<8.1.0,>=8.0.0rc0->spacy-nightly) (2.4)\n",
      "Requirement already satisfied: click<7.2.0,>=7.1.1 in /usr/local/lib/python3.6/dist-packages (from typer<0.4.0,>=0.3.0->spacy-nightly) (7.1.2)\n",
      "Requirement already satisfied: immutables>=0.9 in /usr/local/lib/python3.6/dist-packages (from contextvars<3,>=2.4; python_version < \"3.7\"->thinc<8.1.0,>=8.0.0rc0->spacy-nightly) (0.14)\n",
      "2021-01-03 16:20:09.276112: I tensorflow/stream_executor/platform/default/dso_loader.cc:49] Successfully opened dynamic library libcudart.so.10.1\n",
      "Requirement already satisfied: pl_core_news_sm==3.0.0a0 from https://github.com/explosion/spacy-models/releases/download/pl_core_news_sm-3.0.0a0/pl_core_news_sm-3.0.0a0.tar.gz#egg=pl_core_news_sm==3.0.0a0 in /usr/local/lib/python3.6/dist-packages (3.0.0a0)\n",
      "Requirement already satisfied: spacy-nightly<3.1.0,>=3.0.0a41 in /usr/local/lib/python3.6/dist-packages (from pl_core_news_sm==3.0.0a0) (3.0.0rc2)\n",
      "Requirement already satisfied: tqdm<5.0.0,>=4.38.0 in /usr/local/lib/python3.6/dist-packages (from spacy-nightly<3.1.0,>=3.0.0a41->pl_core_news_sm==3.0.0a0) (4.41.1)\n",
      "Requirement already satisfied: packaging>=20.0 in /usr/local/lib/python3.6/dist-packages (from spacy-nightly<3.1.0,>=3.0.0a41->pl_core_news_sm==3.0.0a0) (20.8)\n",
      "Requirement already satisfied: srsly<3.0.0,>=2.3.0 in /usr/local/lib/python3.6/dist-packages (from spacy-nightly<3.1.0,>=3.0.0a41->pl_core_news_sm==3.0.0a0) (2.3.2)\n",
      "Requirement already satisfied: pathy in /usr/local/lib/python3.6/dist-packages (from spacy-nightly<3.1.0,>=3.0.0a41->pl_core_news_sm==3.0.0a0) (0.3.4)\n",
      "Requirement already satisfied: setuptools in /usr/local/lib/python3.6/dist-packages (from spacy-nightly<3.1.0,>=3.0.0a41->pl_core_news_sm==3.0.0a0) (51.0.0)\n",
      "Requirement already satisfied: catalogue<2.1.0,>=2.0.1 in /usr/local/lib/python3.6/dist-packages (from spacy-nightly<3.1.0,>=3.0.0a41->pl_core_news_sm==3.0.0a0) (2.0.1)\n",
      "Requirement already satisfied: cymem<2.1.0,>=2.0.2 in /usr/local/lib/python3.6/dist-packages (from spacy-nightly<3.1.0,>=3.0.0a41->pl_core_news_sm==3.0.0a0) (2.0.5)\n",
      "Requirement already satisfied: requests<3.0.0,>=2.13.0 in /usr/local/lib/python3.6/dist-packages (from spacy-nightly<3.1.0,>=3.0.0a41->pl_core_news_sm==3.0.0a0) (2.23.0)\n",
      "Requirement already satisfied: pytokenizations in /usr/local/lib/python3.6/dist-packages (from spacy-nightly<3.1.0,>=3.0.0a41->pl_core_news_sm==3.0.0a0) (0.7.2)\n",
      "Requirement already satisfied: jinja2 in /usr/local/lib/python3.6/dist-packages (from spacy-nightly<3.1.0,>=3.0.0a41->pl_core_news_sm==3.0.0a0) (2.11.2)\n",
      "Requirement already satisfied: murmurhash<1.1.0,>=0.28.0 in /usr/local/lib/python3.6/dist-packages (from spacy-nightly<3.1.0,>=3.0.0a41->pl_core_news_sm==3.0.0a0) (1.0.5)\n",
      "Requirement already satisfied: preshed<3.1.0,>=3.0.2 in /usr/local/lib/python3.6/dist-packages (from spacy-nightly<3.1.0,>=3.0.0a41->pl_core_news_sm==3.0.0a0) (3.0.5)\n",
      "Requirement already satisfied: numpy>=1.15.0 in /usr/local/lib/python3.6/dist-packages (from spacy-nightly<3.1.0,>=3.0.0a41->pl_core_news_sm==3.0.0a0) (1.19.4)\n",
      "Requirement already satisfied: typing-extensions>=3.7.4; python_version < \"3.8\" in /usr/local/lib/python3.6/dist-packages (from spacy-nightly<3.1.0,>=3.0.0a41->pl_core_news_sm==3.0.0a0) (3.7.4.3)\n",
      "Requirement already satisfied: importlib-metadata>=0.20; python_version < \"3.8\" in /usr/local/lib/python3.6/dist-packages (from spacy-nightly<3.1.0,>=3.0.0a41->pl_core_news_sm==3.0.0a0) (3.3.0)\n",
      "Requirement already satisfied: blis<0.8.0,>=0.4.0 in /usr/local/lib/python3.6/dist-packages (from spacy-nightly<3.1.0,>=3.0.0a41->pl_core_news_sm==3.0.0a0) (0.4.1)\n",
      "Requirement already satisfied: wasabi<1.1.0,>=0.8.0 in /usr/local/lib/python3.6/dist-packages (from spacy-nightly<3.1.0,>=3.0.0a41->pl_core_news_sm==3.0.0a0) (0.8.0)\n",
      "Requirement already satisfied: typer<0.4.0,>=0.3.0 in /usr/local/lib/python3.6/dist-packages (from spacy-nightly<3.1.0,>=3.0.0a41->pl_core_news_sm==3.0.0a0) (0.3.2)\n",
      "Requirement already satisfied: thinc<8.1.0,>=8.0.0rc0 in /usr/local/lib/python3.6/dist-packages (from spacy-nightly<3.1.0,>=3.0.0a41->pl_core_news_sm==3.0.0a0) (8.0.0rc3)\n",
      "Requirement already satisfied: pydantic<1.7.0,>=1.5.0 in /usr/local/lib/python3.6/dist-packages (from spacy-nightly<3.1.0,>=3.0.0a41->pl_core_news_sm==3.0.0a0) (1.6.1)\n",
      "Requirement already satisfied: pyparsing>=2.0.2 in /usr/local/lib/python3.6/dist-packages (from packaging>=20.0->spacy-nightly<3.1.0,>=3.0.0a41->pl_core_news_sm==3.0.0a0) (2.4.7)\n",
      "Requirement already satisfied: dataclasses<1.0,>=0.6; python_version < \"3.7\" in /usr/local/lib/python3.6/dist-packages (from pathy->spacy-nightly<3.1.0,>=3.0.0a41->pl_core_news_sm==3.0.0a0) (0.8)\n",
      "Requirement already satisfied: smart-open<4.0.0,>=2.2.0 in /usr/local/lib/python3.6/dist-packages (from pathy->spacy-nightly<3.1.0,>=3.0.0a41->pl_core_news_sm==3.0.0a0) (3.0.0)\n",
      "Requirement already satisfied: urllib3!=1.25.0,!=1.25.1,<1.26,>=1.21.1 in /usr/local/lib/python3.6/dist-packages (from requests<3.0.0,>=2.13.0->spacy-nightly<3.1.0,>=3.0.0a41->pl_core_news_sm==3.0.0a0) (1.24.3)\n",
      "Requirement already satisfied: certifi>=2017.4.17 in /usr/local/lib/python3.6/dist-packages (from requests<3.0.0,>=2.13.0->spacy-nightly<3.1.0,>=3.0.0a41->pl_core_news_sm==3.0.0a0) (2020.12.5)\n",
      "Requirement already satisfied: chardet<4,>=3.0.2 in /usr/local/lib/python3.6/dist-packages (from requests<3.0.0,>=2.13.0->spacy-nightly<3.1.0,>=3.0.0a41->pl_core_news_sm==3.0.0a0) (3.0.4)\n",
      "Requirement already satisfied: idna<3,>=2.5 in /usr/local/lib/python3.6/dist-packages (from requests<3.0.0,>=2.13.0->spacy-nightly<3.1.0,>=3.0.0a41->pl_core_news_sm==3.0.0a0) (2.10)\n",
      "Requirement already satisfied: MarkupSafe>=0.23 in /usr/local/lib/python3.6/dist-packages (from jinja2->spacy-nightly<3.1.0,>=3.0.0a41->pl_core_news_sm==3.0.0a0) (1.1.1)\n",
      "Requirement already satisfied: zipp>=0.5 in /usr/local/lib/python3.6/dist-packages (from importlib-metadata>=0.20; python_version < \"3.8\"->spacy-nightly<3.1.0,>=3.0.0a41->pl_core_news_sm==3.0.0a0) (3.4.0)\n",
      "Requirement already satisfied: click<7.2.0,>=7.1.1 in /usr/local/lib/python3.6/dist-packages (from typer<0.4.0,>=0.3.0->spacy-nightly<3.1.0,>=3.0.0a41->pl_core_news_sm==3.0.0a0) (7.1.2)\n",
      "Requirement already satisfied: contextvars<3,>=2.4; python_version < \"3.7\" in /usr/local/lib/python3.6/dist-packages (from thinc<8.1.0,>=8.0.0rc0->spacy-nightly<3.1.0,>=3.0.0a41->pl_core_news_sm==3.0.0a0) (2.4)\n",
      "Requirement already satisfied: immutables>=0.9 in /usr/local/lib/python3.6/dist-packages (from contextvars<3,>=2.4; python_version < \"3.7\"->thinc<8.1.0,>=8.0.0rc0->spacy-nightly<3.1.0,>=3.0.0a41->pl_core_news_sm==3.0.0a0) (0.14)\n",
      "\u001b[38;5;2m✔ Download and installation successful\u001b[0m\n",
      "You can now load the package via spacy.load('pl_core_news_sm')\n"
     ]
    }
   ],
   "source": [
    "!pip install spacy-nightly --pre\n",
    "!python -m spacy download pl_core_news_sm"
   ]
  },
  {
   "cell_type": "code",
   "execution_count": 4,
   "metadata": {
    "colab": {
     "base_uri": "https://localhost:8080/"
    },
    "executionInfo": {
     "elapsed": 15822,
     "status": "ok",
     "timestamp": 1609690834835,
     "user": {
      "displayName": "Piotr Pęzik",
      "photoUrl": "https://lh3.googleusercontent.com/a-/AOh14GiZ7i0oPBUhmXYrUMEAOBIuQfvFWyKz4sEOLJ2otC4=s64",
      "userId": "15401984500622025149"
     },
     "user_tz": -60
    },
    "id": "Fd28k-r7B-9W",
    "outputId": "c05d9db1-a3af-4281-9b95-15ceec2229b5"
   },
   "outputs": [
    {
     "name": "stdout",
     "output_type": "stream",
     "text": [
      "0.\tambasador odwołana z brazylia .\n",
      "1.\tbrazylia : znaczny spadek przyrost zakażenie .\n",
      "2.\tbrazylia : minister zdrowie brazylia zakazić koronawirusem .\n",
      "3.\tnie mieć mocny na brazylia .\n",
      "4.\tbrazylia : 27 750 nowy przypadek koronawirusa .\n"
     ]
    }
   ],
   "source": [
    "# W tradycyjnych wektorowych reprezentacjach tekstów lematyzacja pozwala uchwycić zależności między słowoformami\n",
    "\n",
    "import spacy\n",
    "\n",
    "nlp_pl = spacy.load(\"pl_core_news_sm\")\n",
    "\n",
    "lemmatized_texts = []\n",
    "for tx in texts:\n",
    "    doc = nlp_pl(tx)\n",
    "    lemmatized_texts.append(\" \".join([w.lemma_.lower() for w in doc]))\n",
    "\n",
    "for lti, lt in enumerate(lemmatized_texts):\n",
    "    print(\"{}.\\t{}\".format(lti,lt))\n",
    "\n",
    "\n"
   ]
  },
  {
   "cell_type": "code",
   "execution_count": 5,
   "metadata": {
    "colab": {
     "base_uri": "https://localhost:8080/"
    },
    "executionInfo": {
     "elapsed": 674,
     "status": "ok",
     "timestamp": 1609690870347,
     "user": {
      "displayName": "Piotr Pęzik",
      "photoUrl": "https://lh3.googleusercontent.com/a-/AOh14GiZ7i0oPBUhmXYrUMEAOBIuQfvFWyKz4sEOLJ2otC4=s64",
      "userId": "15401984500622025149"
     },
     "user_tz": -60
    },
    "id": "oF1x0HfvB-9X",
    "outputId": "c7af1d2e-3065-4047-ce46-3a0b5c27530f"
   },
   "outputs": [
    {
     "name": "stdout",
     "output_type": "stream",
     "text": [
      "{'27': 0, '750': 1, 'ambasador': 2, 'brazylia': 3, 'koronawirusa': 4, 'koronawirusem': 5, 'mieć': 6, 'minister': 7, 'mocny': 8, 'na': 9, 'nie': 10, 'nowy': 11, 'odwołana': 12, 'przypadek': 13, 'przyrost': 14, 'spadek': 15, 'zakazić': 16, 'zakażenie': 17, 'zdrowie': 18, 'znaczny': 19}\n",
      "--------\n",
      "[[0 0 1 1 0 0 0 0 0 0 0 0 1 0 0 0 0 0 0 0]\n",
      " [0 0 0 1 0 0 0 0 0 0 0 0 0 0 1 1 0 1 0 1]\n",
      " [0 0 0 2 0 1 0 1 0 0 0 0 0 0 0 0 1 0 1 0]\n",
      " [0 0 0 1 0 0 1 0 1 1 1 0 0 0 0 0 0 0 0 0]\n",
      " [1 1 0 1 1 0 0 0 0 0 0 1 0 1 0 0 0 0 0 0]]\n"
     ]
    }
   ],
   "source": [
    "# Lematyzacja\n",
    "\n",
    "count_v = CountVectorizer()\n",
    "counts = count_v.fit_transform(lemmatized_texts).toarray()\n",
    "\n",
    "#Sortujemy słownik po indeksach:\n",
    "print({k: v for k, v in sorted(count_v.vocabulary_.items(), key=lambda item: item[1])})\n",
    "\n",
    "print(\"--------\")\n",
    "print(counts)"
   ]
  },
  {
   "cell_type": "code",
   "execution_count": 6,
   "metadata": {
    "colab": {
     "base_uri": "https://localhost:8080/"
    },
    "executionInfo": {
     "elapsed": 2915,
     "status": "ok",
     "timestamp": 1609690875303,
     "user": {
      "displayName": "Piotr Pęzik",
      "photoUrl": "https://lh3.googleusercontent.com/a-/AOh14GiZ7i0oPBUhmXYrUMEAOBIuQfvFWyKz4sEOLJ2otC4=s64",
      "userId": "15401984500622025149"
     },
     "user_tz": -60
    },
    "id": "xVa8r8lVB-9X",
    "outputId": "8f5a5c39-a110-40c3-87d0-6e7112fbcd0d"
   },
   "outputs": [
    {
     "name": "stdout",
     "output_type": "stream",
     "text": [
      "{'27': 0, '750': 1, 'ambasador': 2, 'brazylia': 3, 'koronawirusa': 4, 'koronawirusem': 5, 'mieć': 6, 'minister': 7, 'mocny': 8, 'na': 9, 'nie': 10, 'nowy': 11, 'odwołana': 12, 'przypadek': 13, 'przyrost': 14, 'spadek': 15, 'zakazić': 16, 'zakażenie': 17, 'zdrowie': 18, 'znaczny': 19}\n",
      "\n",
      "IDF\n",
      "\n",
      "[2.09861229 2.09861229 2.09861229 1.         2.09861229 2.09861229\n",
      " 2.09861229 2.09861229 2.09861229 2.09861229 2.09861229 2.09861229\n",
      " 2.09861229 2.09861229 2.09861229 2.09861229 2.09861229 2.09861229\n",
      " 2.09861229 2.09861229]\n",
      "\n",
      "TF-IDF\n",
      "\n",
      "(5, 20)\n",
      "[[0.         0.         0.67009179 0.31930233 0.         0.\n",
      "  0.         0.         0.         0.         0.         0.\n",
      "  0.67009179 0.         0.         0.         0.         0.\n",
      "  0.         0.        ]\n",
      " [0.         0.         0.         0.23176546 0.         0.\n",
      "  0.         0.         0.         0.         0.         0.\n",
      "  0.         0.         0.48638585 0.48638585 0.         0.48638585\n",
      "  0.         0.48638585]\n",
      " [0.         0.         0.         0.37410477 0.         0.46369322\n",
      "  0.         0.46369322 0.         0.         0.         0.\n",
      "  0.         0.         0.         0.         0.46369322 0.\n",
      "  0.46369322 0.        ]\n",
      " [0.         0.         0.         0.23176546 0.         0.\n",
      "  0.48638585 0.         0.48638585 0.48638585 0.48638585 0.\n",
      "  0.         0.         0.         0.         0.         0.\n",
      "  0.         0.        ]\n",
      " [0.43739254 0.43739254 0.         0.20841989 0.43739254 0.\n",
      "  0.         0.         0.         0.         0.         0.43739254\n",
      "  0.         0.43739254 0.         0.         0.         0.\n",
      "  0.         0.        ]]\n"
     ]
    }
   ],
   "source": [
    "# TF -- TERM Frequency\n",
    "# IDF -- Inverted document frequency\n",
    "# Zob. moduł 3.8 \n",
    "\n",
    "from sklearn.feature_extraction.text import TfidfVectorizer\n",
    "\n",
    "tfidf = TfidfVectorizer(sublinear_tf=True, min_df=1, norm='l2', encoding='utf-8', ngram_range=(1, 1))\n",
    "tfidf_weights = tfidf.fit_transform(lemmatized_texts)\n",
    "\n",
    "# print(tfidf.vocabulary_) #Możemy posortować po indeksach:\n",
    "print({k: v for k, v in sorted(tfidf.vocabulary_.items(), key=lambda item: item[1])})\n",
    "print(\"\\nIDF\\n\")\n",
    "print(tfidf.idf_)\n",
    "print(\"\\nTF-IDF\\n\")\n",
    "print(tfidf_weights.shape)\n",
    "print(tfidf_weights.toarray())\n"
   ]
  },
  {
   "cell_type": "code",
   "execution_count": 1,
   "metadata": {},
   "outputs": [
    {
     "name": "stdout",
     "output_type": "stream",
     "text": [
      "Requirement already satisfied: gdown in /Users/ppez/anaconda3/lib/python3.7/site-packages (3.12.2)\n",
      "Requirement already satisfied: tqdm in /Users/ppez/anaconda3/lib/python3.7/site-packages (from gdown) (4.54.0)\n",
      "Requirement already satisfied: requests[socks] in /Users/ppez/anaconda3/lib/python3.7/site-packages (from gdown) (2.22.0)\n",
      "Requirement already satisfied: filelock in /Users/ppez/anaconda3/lib/python3.7/site-packages (from gdown) (3.0.8)\n",
      "Requirement already satisfied: six in /Users/ppez/anaconda3/lib/python3.7/site-packages (from gdown) (1.12.0)\n",
      "Requirement already satisfied: idna<2.9,>=2.5 in /Users/ppez/anaconda3/lib/python3.7/site-packages (from requests[socks]->gdown) (2.8)\n",
      "Requirement already satisfied: certifi>=2017.4.17 in /Users/ppez/anaconda3/lib/python3.7/site-packages (from requests[socks]->gdown) (2019.6.16)\n",
      "Requirement already satisfied: urllib3!=1.25.0,!=1.25.1,<1.26,>=1.21.1 in /Users/ppez/anaconda3/lib/python3.7/site-packages (from requests[socks]->gdown) (1.25.3)\n",
      "Requirement already satisfied: chardet<3.1.0,>=3.0.2 in /Users/ppez/anaconda3/lib/python3.7/site-packages (from requests[socks]->gdown) (3.0.4)\n",
      "Requirement already satisfied: PySocks!=1.5.7,>=1.5.6; extra == \"socks\" in /Users/ppez/anaconda3/lib/python3.7/site-packages (from requests[socks]->gdown) (1.6.8)\n",
      "\u001b[33mWARNING: You are using pip version 20.2.4; however, version 20.3.3 is available.\n",
      "You should consider upgrading via the '/Users/ppez/anaconda3/bin/python -m pip install --upgrade pip' command.\u001b[0m\n",
      "rm: news_pl.jsonl: No such file or directory\n",
      "Downloading...\n",
      "From: https://drive.google.com/uc?id=1w8sx3Rs2W1fZgSnJmsKKph0oHueH0yww\n",
      "To: /Users/ppez/Google Drive/PRACA/SAG/course/6_2/code_data/news_pl.jsonl\n",
      "42.7MB [00:02, 18.6MB/s]\n"
     ]
    }
   ],
   "source": [
    "# Pobieramy kolekcję tekstów\n",
    "\n",
    "\n",
    "!pip install gdown\n",
    "\n",
    "# Kolekcja ponad 100 tys. nagłówków z polskich portali informacyjnych z października-listopada 2020 r.\n",
    "!rm news_pl.jsonl\n",
    "!gdown https://drive.google.com/uc?id=1w8sx3Rs2W1fZgSnJmsKKph0oHueH0yww"
   ]
  },
  {
   "cell_type": "code",
   "execution_count": 2,
   "metadata": {
    "colab": {
     "base_uri": "https://localhost:8080/"
    },
    "executionInfo": {
     "elapsed": 2557,
     "status": "ok",
     "timestamp": 1609691799879,
     "user": {
      "displayName": "Piotr Pęzik",
      "photoUrl": "https://lh3.googleusercontent.com/a-/AOh14GiZ7i0oPBUhmXYrUMEAOBIuQfvFWyKz4sEOLJ2otC4=s64",
      "userId": "15401984500622025149"
     },
     "user_tz": -60
    },
    "id": "Qf9jHKKAB-9Y",
    "outputId": "b02b7877-5fb5-4af2-9a81-7334ade7bdee"
   },
   "outputs": [
    {
     "name": "stdout",
     "output_type": "stream",
     "text": [
      "116056\n",
      "{'id': '81d72ff3d226249c001dd3515a413a60', 'language': 'pl', 'source': 'wirtualnemedia.pl', 'published': '2020-10-01T00:00:00Z', 'title': 'Aleksandra Budka po 8 latach rozstaje się z radiową Trójką', 'url': 'https://www.wirtualnemedia.pl/artykul/aleksandra-budka-po-8-latach-rozstaje-sie-z-radiowa-trojka', 'category': ['news']}\n"
     ]
    }
   ],
   "source": [
    "# Wczytujemy korpus nagłówków prasowych wraz z metadanymi\n",
    "import json \n",
    "\n",
    "\n",
    "def read_json_documents(jsonl):\n",
    "    docs = []\n",
    "    with open(jsonl,'r') as file:\n",
    "        for line in file:\n",
    "            if(len(line.strip())>0):\n",
    "                docs.append(json.loads(line))\n",
    "    return docs\n",
    "\n",
    "headlines_pl = read_json_documents('news_pl.jsonl')\n",
    "\n",
    "# Jedną z metadanych jest pole 'category', w którym określona jest kategoria informacji \n",
    "# m.in. 'news', 'sport', 'business'\n",
    "\n",
    "print(len(headlines_pl))\n",
    "print(headlines_pl[0])"
   ]
  },
  {
   "cell_type": "code",
   "execution_count": 3,
   "metadata": {
    "colab": {
     "base_uri": "https://localhost:8080/"
    },
    "executionInfo": {
     "elapsed": 6493,
     "status": "ok",
     "timestamp": 1609691811734,
     "user": {
      "displayName": "Piotr Pęzik",
      "photoUrl": "https://lh3.googleusercontent.com/a-/AOh14GiZ7i0oPBUhmXYrUMEAOBIuQfvFWyKz4sEOLJ2otC4=s64",
      "userId": "15401984500622025149"
     },
     "user_tz": -60
    },
    "id": "xrYpVBu4B-9Y",
    "outputId": "ce5c213f-8644-4b4e-f7fa-b5fbafd84c22",
    "scrolled": true
   },
   "outputs": [
    {
     "name": "stdout",
     "output_type": "stream",
     "text": [
      "Counter({'news': 84212, 'business': 19763, 'sport': 3692})\n"
     ]
    }
   ],
   "source": [
    "# Budujemy wektorowe reprezentacje TF-IDF dokumentów\n",
    "\n",
    "from sklearn.feature_extraction.text import TfidfVectorizer\n",
    "\n",
    "docs = [h['title'] for h in headlines_pl if  h['category'][0] in ['news','sport','business']]\n",
    "categories = [h['category'][0] for h in headlines_pl if  h['category'][0] in ['news','sport','business']]\n",
    "\n",
    "tfidf = TfidfVectorizer(sublinear_tf=True, min_df=5, norm='l1', encoding='utf-8', ngram_range=(1,1))\n",
    "weights = tfidf.fit_transform(docs)\n",
    "labels = categories\n",
    "\n",
    "#print({k: v for k, v in sorted(tfidf_vect.vocabulary_.items(), key=lambda item: item[1])})\n",
    "#print(docs[0:10])\n",
    "#print(labels[0:10])\n",
    "\n",
    "from collections import Counter\n",
    "labels_count = Counter(labels)\n",
    "print(labels_count)\n",
    "\n",
    "# 107 tys. dokumentów, 83 tys. (niezlematyzowanych) słowoform\n",
    "#print(weights.toarray().shape)\n",
    "#print(weights.toarray())"
   ]
  },
  {
   "cell_type": "code",
   "execution_count": 4,
   "metadata": {
    "executionInfo": {
     "elapsed": 19646,
     "status": "ok",
     "timestamp": 1609691838511,
     "user": {
      "displayName": "Piotr Pęzik",
      "photoUrl": "https://lh3.googleusercontent.com/a-/AOh14GiZ7i0oPBUhmXYrUMEAOBIuQfvFWyKz4sEOLJ2otC4=s64",
      "userId": "15401984500622025149"
     },
     "user_tz": -60
    },
    "id": "iar8T-TCB-9Z"
   },
   "outputs": [],
   "source": [
    "# Wieloklasowy klasyfikator bayesowski\n",
    "# https://scikit-learn.org/stable/modules/naive_bayes.html (Pedregosa et al. 2011)\n",
    "\n",
    "from sklearn.feature_extraction.text import TfidfTransformer\n",
    "from sklearn.naive_bayes import MultinomialNB\n",
    "from sklearn.model_selection import cross_val_score\n",
    "from sklearn.model_selection import train_test_split\n",
    "from sklearn.feature_extraction.text import CountVectorizer\n",
    "\n",
    "# Podział na trening/ test: test_size = 0.25\n",
    "# Podanie wartości random_state pozwala zachować ten podział\n",
    "# X_train to dokumenty ze zb. treningowego, X_test -- dokumenty ze zbioru testowego, Y_* -- etykiety/ kategorie\n",
    "X_train, X_test, y_train, y_test = train_test_split(docs,labels, random_state = 0,test_size = 0.25) \n",
    "count_vectorizer = CountVectorizer()\n",
    "# Tworzymy wektory tf-idf tylko ze zbioru treningowego. Utworzony model będzie zawierał segmentator/ tokenizer.\n",
    "X_train_cnt = count_vectorizer.fit_transform(X_train)\n",
    "tfidf_transformer = TfidfTransformer()\n",
    "X_train_tfidf = tfidf_transformer.fit_transform(X_train_cnt)\n",
    "# Trening\n",
    "model = MultinomialNB().fit(X_train_tfidf, y_train)"
   ]
  },
  {
   "cell_type": "code",
   "execution_count": 5,
   "metadata": {
    "colab": {
     "base_uri": "https://localhost:8080/"
    },
    "executionInfo": {
     "elapsed": 11005,
     "status": "ok",
     "timestamp": 1609691854049,
     "user": {
      "displayName": "Piotr Pęzik",
      "photoUrl": "https://lh3.googleusercontent.com/a-/AOh14GiZ7i0oPBUhmXYrUMEAOBIuQfvFWyKz4sEOLJ2otC4=s64",
      "userId": "15401984500622025149"
     },
     "user_tz": -60
    },
    "id": "2fMlDncgB-9Z",
    "outputId": "7445eb63-e5f1-48f6-90f6-2a32176b7cf0"
   },
   "outputs": [
    {
     "name": "stdout",
     "output_type": "stream",
     "text": [
      "['business']\n",
      "['business' 'news' 'sport']\n",
      "[[9.60294645e-01 3.96923534e-02 1.30012767e-05]]\n"
     ]
    }
   ],
   "source": [
    "# Użycie klasyfikatora\n",
    "print(model.predict(count_vectorizer.transform([\"UOKiK: banki nie mogą jednostronnie zmieniać ważnych warunków umów o kredyt hipoteczny\"])))\n",
    "print(model.classes_)\n",
    "print(model.predict_proba(count_vectorizer.transform([\"UOKiK: banki nie mogą jednostronnie zmieniać ważnych warunków umów o kredyt hipoteczny\"])))"
   ]
  },
  {
   "cell_type": "markdown",
   "metadata": {
    "id": "WuNJT6dQB-9Z"
   },
   "source": [
    "## Walidacja klasyfikatorów"
   ]
  },
  {
   "cell_type": "code",
   "execution_count": 6,
   "metadata": {
    "colab": {
     "base_uri": "https://localhost:8080/"
    },
    "executionInfo": {
     "elapsed": 101788,
     "status": "ok",
     "timestamp": 1609691957638,
     "user": {
      "displayName": "Piotr Pęzik",
      "photoUrl": "https://lh3.googleusercontent.com/a-/AOh14GiZ7i0oPBUhmXYrUMEAOBIuQfvFWyKz4sEOLJ2otC4=s64",
      "userId": "15401984500622025149"
     },
     "user_tz": -60
    },
    "id": "v80x1qDXB-9a",
    "outputId": "b7f7a730-28d4-483d-fc64-e66724d4df45"
   },
   "outputs": [
    {
     "name": "stdout",
     "output_type": "stream",
     "text": [
      "Evaluating model: LinearSVC (1 of 3).\n",
      "Evaluating model: MultinomialNB (2 of 3).\n",
      "Evaluating model: LogisticRegression (3 of 3).\n"
     ]
    }
   ],
   "source": [
    "# Walidacja krzyżowa na accuracy, zob. https://towardsdatascience.com/multi-class-text-classification-with-scikit-learn-12f1e60e0a9f\n",
    "\n",
    "import pandas as pd\n",
    "from sklearn.linear_model import LogisticRegression\n",
    "from sklearn.svm import LinearSVC\n",
    "from sklearn.model_selection import cross_val_score\n",
    "\n",
    "cv_folds = 5 # Liczba partycji. Wybieramy za każdym razem 20% innych danych do testowania.  \n",
    "models = [\n",
    "    LinearSVC(),\n",
    "    MultinomialNB(),\n",
    "    LogisticRegression(max_iter=300, random_state=0)\n",
    "]\n",
    "\n",
    "# Wyniki walidacji przechowujemy w obiekcie DataFrame\n",
    "cv_df = pd.DataFrame(index=range(cv_folds * len(models)))\n",
    "results = []\n",
    "for mi, model in enumerate(models):\n",
    "    model_name = model.__class__.__name__\n",
    "    print(\"Evaluating model: {} ({} of {}).\".format(model_name, mi+1, len(models)))\n",
    "    accuracies = cross_val_score(model, weights, labels, scoring='accuracy', cv=cv_folds)\n",
    "    for fold, accuracy in enumerate(accuracies):\n",
    "        results.append((model_name, fold, accuracy))"
   ]
  },
  {
   "cell_type": "code",
   "execution_count": 9,
   "metadata": {
    "colab": {
     "base_uri": "https://localhost:8080/"
    },
    "executionInfo": {
     "elapsed": 6436,
     "status": "ok",
     "timestamp": 1609692020732,
     "user": {
      "displayName": "Piotr Pęzik",
      "photoUrl": "https://lh3.googleusercontent.com/a-/AOh14GiZ7i0oPBUhmXYrUMEAOBIuQfvFWyKz4sEOLJ2otC4=s64",
      "userId": "15401984500622025149"
     },
     "user_tz": -60
    },
    "id": "UFH9nKkqB-9a",
    "outputId": "06608675-560e-4178-94ef-4bf65aa663ee"
   },
   "outputs": [
    {
     "name": "stdout",
     "output_type": "stream",
     "text": [
      "\n",
      "Wyniki walidacji krzyżowej\n",
      "\n",
      "                 model  fold_num  accuracy\n",
      "0            LinearSVC         0  0.828132\n",
      "1            LinearSVC         1  0.830501\n",
      "2            LinearSVC         2  0.832072\n",
      "3            LinearSVC         3  0.829657\n",
      "4            LinearSVC         4  0.828960\n",
      "5        MultinomialNB         0  0.784434\n",
      "6        MultinomialNB         1  0.784805\n",
      "7        MultinomialNB         2  0.784424\n",
      "8        MultinomialNB         3  0.784703\n",
      "9        MultinomialNB         4  0.784610\n",
      "10  LogisticRegression         0  0.805795\n",
      "11  LogisticRegression         1  0.807049\n",
      "12  LogisticRegression         2  0.805926\n",
      "13  LogisticRegression         3  0.806204\n",
      "14  LogisticRegression         4  0.807923\n"
     ]
    },
    {
     "data": {
      "text/plain": [
       "model\n",
       "LinearSVC             0.829864\n",
       "LogisticRegression    0.806580\n",
       "MultinomialNB         0.784595\n",
       "Name: accuracy, dtype: float64"
      ]
     },
     "execution_count": 9,
     "metadata": {
      "tags": []
     },
     "output_type": "execute_result"
    }
   ],
   "source": [
    "# Wyniki walidacji krzyżowej \n",
    "\n",
    "import pandas as pd\n",
    "\n",
    "# Analiza wyników walidacji\n",
    "cv_df = pd.DataFrame(results, columns=['model', 'fold_num', 'accuracy'])\n",
    "\n",
    "print(\"\\nWyniki walidacji krzyżowej\\n\")\n",
    "print(cv_df)\n",
    "\n",
    "# Średnie \n",
    "cv_df.groupby('model').accuracy.mean()"
   ]
  },
  {
   "cell_type": "code",
   "execution_count": 10,
   "metadata": {
    "colab": {
     "base_uri": "https://localhost:8080/",
     "height": 279
    },
    "executionInfo": {
     "elapsed": 8618,
     "status": "ok",
     "timestamp": 1609692031685,
     "user": {
      "displayName": "Piotr Pęzik",
      "photoUrl": "https://lh3.googleusercontent.com/a-/AOh14GiZ7i0oPBUhmXYrUMEAOBIuQfvFWyKz4sEOLJ2otC4=s64",
      "userId": "15401984500622025149"
     },
     "user_tz": -60
    },
    "id": "twV82Vr3B-9b",
    "outputId": "a3910e5a-21b5-4784-95e9-d0b32ad2bc3c"
   },
   "outputs": [
    {
     "data": {
      "image/png": "[encoded data removed]",
      "text/plain": [
       "<Figure size 432x288 with 1 Axes>"
      ]
     },
     "metadata": {
      "tags": []
     },
     "output_type": "display_data"
    }
   ],
   "source": [
    "# Wariancja dla 3 klasyfikatorów na różnych podziałach danych na treningowe/ testowe\n",
    "\n",
    "import seaborn as sns\n",
    "import matplotlib.pyplot as plt\n",
    "\n",
    "sns.stripplot(x='model', y='accuracy', data=cv_df, size=5, jitter=True, edgecolor=\"black\", linewidth=1)\n",
    "plt.show()"
   ]
  },
  {
   "cell_type": "code",
   "execution_count": 11,
   "metadata": {
    "colab": {
     "base_uri": "https://localhost:8080/",
     "height": 279
    },
    "executionInfo": {
     "elapsed": 1603,
     "status": "ok",
     "timestamp": 1609692046547,
     "user": {
      "displayName": "Piotr Pęzik",
      "photoUrl": "https://lh3.googleusercontent.com/a-/AOh14GiZ7i0oPBUhmXYrUMEAOBIuQfvFWyKz4sEOLJ2otC4=s64",
      "userId": "15401984500622025149"
     },
     "user_tz": -60
    },
    "id": "4_1m9aa3B-9b",
    "outputId": "88a4ab2c-7c00-4071-e2d6-6968898b6eeb"
   },
   "outputs": [
    {
     "data": {
      "image/png": "[encoded data removed]",
      "text/plain": [
       "<Figure size 432x288 with 1 Axes>"
      ]
     },
     "metadata": {
      "tags": []
     },
     "output_type": "display_data"
    }
   ],
   "source": [
    "# Można dodatkowo ocenić wariancję na podstawie wykresu pudełkowego\n",
    "\n",
    "sns.boxplot(x='model', y='accuracy', data=cv_df)\n",
    "sns.stripplot(x='model', y='accuracy', data=cv_df, size=5, jitter=True, edgecolor=\"black\", linewidth=1)\n",
    "plt.show()"
   ]
  },
  {
   "cell_type": "code",
   "execution_count": 12,
   "metadata": {
    "colab": {
     "base_uri": "https://localhost:8080/"
    },
    "executionInfo": {
     "elapsed": 1635,
     "status": "ok",
     "timestamp": 1609692050713,
     "user": {
      "displayName": "Piotr Pęzik",
      "photoUrl": "https://lh3.googleusercontent.com/a-/AOh14GiZ7i0oPBUhmXYrUMEAOBIuQfvFWyKz4sEOLJ2otC4=s64",
      "userId": "15401984500622025149"
     },
     "user_tz": -60
    },
    "id": "8V1GLD7IB-9b",
    "outputId": "99552268-c529-4f81-d912-c6c8fe2edac3"
   },
   "outputs": [
    {
     "name": "stdout",
     "output_type": "stream",
     "text": [
      "0.5\n",
      "2\n"
     ]
    }
   ],
   "source": [
    "# https://scikit-learn.org/stable/modules/generated/sklearn.metrics.accuracy_score.html\n",
    "# W przypadku kategoryzacji wieloklasowej accuracy jest równa wskaźnikowi Jaccarda (część wspólna/ sumę) (Zob. moduł 3)\n",
    "\n",
    "from sklearn.metrics import accuracy_score\n",
    "y_pred = [0, 2, 1, 3]\n",
    "y_true = [0, 1, 2, 3]\n",
    "print(accuracy_score(y_true, y_pred))\n",
    "print(accuracy_score(y_true, y_pred, normalize=False))\n"
   ]
  },
  {
   "cell_type": "code",
   "execution_count": 13,
   "metadata": {
    "colab": {
     "base_uri": "https://localhost:8080/"
    },
    "executionInfo": {
     "elapsed": 3750,
     "status": "ok",
     "timestamp": 1609692057006,
     "user": {
      "displayName": "Piotr Pęzik",
      "photoUrl": "https://lh3.googleusercontent.com/a-/AOh14GiZ7i0oPBUhmXYrUMEAOBIuQfvFWyKz4sEOLJ2otC4=s64",
      "userId": "15401984500622025149"
     },
     "user_tz": -60
    },
    "id": "xHrHkPJEB-9c",
    "outputId": "dd369454-711d-4810-caf6-9fc331c24e5f"
   },
   "outputs": [
    {
     "name": "stdout",
     "output_type": "stream",
     "text": [
      "['news', 'business', 'sport']\n",
      "[[16823     1     0]\n",
      " [ 3918    56     0]\n",
      " [  736     0     0]]\n"
     ]
    }
   ],
   "source": [
    "# Macierz pomyłek\n",
    "\n",
    "from sklearn.metrics import confusion_matrix\n",
    "from collections import *\n",
    "\n",
    "class OrderedCounter(Counter, OrderedDict):\n",
    "    pass\n",
    "\n",
    "model = MultinomialNB()\n",
    "\n",
    "\n",
    "X_train, X_test, y_train, y_test = train_test_split(weights, labels, test_size=0.20, random_state=0) \n",
    "model.fit(X_train, y_train)\n",
    "y_pred = model.predict(X_test)\n",
    "\n",
    "labels_txt = [l for l in OrderedCounter(labels)]\n",
    "print(labels_txt)\n",
    "\n",
    "conf_mat = confusion_matrix(y_test, y_pred, labels = labels_txt)\n",
    "\n",
    "print(conf_mat)"
   ]
  },
  {
   "cell_type": "code",
   "execution_count": 14,
   "metadata": {
    "colab": {
     "base_uri": "https://localhost:8080/"
    },
    "executionInfo": {
     "elapsed": 5046,
     "status": "ok",
     "timestamp": 1609692064121,
     "user": {
      "displayName": "Piotr Pęzik",
      "photoUrl": "https://lh3.googleusercontent.com/a-/AOh14GiZ7i0oPBUhmXYrUMEAOBIuQfvFWyKz4sEOLJ2otC4=s64",
      "userId": "15401984500622025149"
     },
     "user_tz": -60
    },
    "id": "U0qEFQrZB-9c",
    "outputId": "5554140c-2f79-4653-eb08-c1fc9d4cdf0c"
   },
   "outputs": [
    {
     "name": "stdout",
     "output_type": "stream",
     "text": [
      "Dobre predykcje: 16879\n",
      "Złe predykcje: 4655\n",
      "Micro average precision: 0.7838302219745519 \n",
      "0.7838302219745519\n",
      "0.7838302219745519\n",
      "0.7838302219745519\n",
      "Precyzja z kategorii news: 0.781229683291539 \n"
     ]
    }
   ],
   "source": [
    "# Precyzja liczona po instancjach: P = TP / (TP+FP)\n",
    "from sklearn import metrics\n",
    "\n",
    "dobre_predykcje = (conf_mat[0][0]+conf_mat[1][1]+conf_mat[2][2])\n",
    "print(\"Dobre predykcje: {}\".format(dobre_predykcje))\n",
    "zle_predykcje = (conf_mat[0][1]+conf_mat[0][2]+conf_mat[1][0]+conf_mat[1][2]+conf_mat[2][0]+conf_mat[2][1])\n",
    "\n",
    "print(\"Złe predykcje: {}\".format(zle_predykcje))\n",
    "print(\"Micro average precision: {} \".format(dobre_predykcje/(dobre_predykcje+zle_predykcje)))\n",
    "\n",
    "print(metrics.precision_score(y_test, y_pred, average='micro')) # Liczona per instancja\n",
    "print(metrics.recall_score(y_test, y_pred, average='micro')) # Liczony per instancja\n",
    "print(accuracy_score(y_test,y_pred))\n",
    "\n",
    "dobre_predykcje_news = conf_mat[0][0]\n",
    "\n",
    "print(\"Precyzja z kategorii news: {} \".format((dobre_predykcje_news/(dobre_predykcje+zle_predykcje))))"
   ]
  },
  {
   "cell_type": "code",
   "execution_count": 15,
   "metadata": {
    "colab": {
     "base_uri": "https://localhost:8080/"
    },
    "executionInfo": {
     "elapsed": 6097,
     "status": "ok",
     "timestamp": 1609692073960,
     "user": {
      "displayName": "Piotr Pęzik",
      "photoUrl": "https://lh3.googleusercontent.com/a-/AOh14GiZ7i0oPBUhmXYrUMEAOBIuQfvFWyKz4sEOLJ2otC4=s64",
      "userId": "15401984500622025149"
     },
     "user_tz": -60
    },
    "id": "Ofoqe_P_B-9d",
    "outputId": "3c9dfa87-75ff-4ae1-edc9-0ac228c97768"
   },
   "outputs": [
    {
     "name": "stdout",
     "output_type": "stream",
     "text": [
      "[0.7833030683987522, 0.9824561403508771, 0.0]\n",
      "Macro average precision: 0.5885864029165431\n",
      "0.5885864029165431\n",
      "Macro average recall: 0.33801071882436345\n"
     ]
    },
    {
     "name": "stderr",
     "output_type": "stream",
     "text": [
      "/usr/local/lib/python3.6/dist-packages/sklearn/metrics/_classification.py:1272: UndefinedMetricWarning: Precision is ill-defined and being set to 0.0 in labels with no predicted samples. Use `zero_division` parameter to control this behavior.\n",
      "  _warn_prf(average, modifier, msg_start, len(result))\n"
     ]
    }
   ],
   "source": [
    "# P = TP / (TP+FP)\n",
    "\n",
    "# Uwaga na /0\n",
    "P_news = conf_mat[0][0]/ (conf_mat[0][0]+(conf_mat[1][0]+conf_mat[2][0]))\n",
    "P_business = conf_mat[1][1]/(conf_mat[1][1]+(conf_mat[0][1]+conf_mat[2][1])) \n",
    "P_sport = conf_mat[2][2]/(conf_mat[2][2]+(conf_mat[0][2]+conf_mat[1][2])+0.001)#/0\n",
    "\n",
    "class_precision = [P_news,P_business, P_sport]\n",
    "macro_avg_precision = sum(class_precision)/len(class_precision)\n",
    "\n",
    "print(class_precision)\n",
    "print(\"Macro average precision: {}\".format(macro_avg_precision))\n",
    "print(metrics.precision_score(y_test, y_pred, average='macro',zero_division='warn')) # Liczona jako średnia z klas\n",
    "print(\"Macro average recall: {}\".format(metrics.recall_score(y_test, y_pred, average='macro')))"
   ]
  },
  {
   "cell_type": "code",
   "execution_count": 16,
   "metadata": {
    "colab": {
     "base_uri": "https://localhost:8080/"
    },
    "executionInfo": {
     "elapsed": 5888,
     "status": "ok",
     "timestamp": 1609692081928,
     "user": {
      "displayName": "Piotr Pęzik",
      "photoUrl": "https://lh3.googleusercontent.com/a-/AOh14GiZ7i0oPBUhmXYrUMEAOBIuQfvFWyKz4sEOLJ2otC4=s64",
      "userId": "15401984500622025149"
     },
     "user_tz": -60
    },
    "id": "CTc661X9B-9d",
    "outputId": "33bd4585-9be5-4018-b3b2-e2a9e8cc05fe"
   },
   "outputs": [
    {
     "name": "stdout",
     "output_type": "stream",
     "text": [
      "0.7838302219745519\n",
      "0.3020824573801146\n"
     ]
    }
   ],
   "source": [
    "from sklearn import metrics\n",
    "\n",
    "# F1 -- średnia harmoniczna z precyzji/ pokrycia\n",
    "# Pokrycie dla klas news i business mocno zaniża średnią ważoną\n",
    "\n",
    "print(metrics.f1_score(y_test, y_pred, average='micro')) # Liczona per instancja\n",
    "print(metrics.f1_score(y_test, y_pred, average='macro')) # Liczona per klasa\n"
   ]
  },
  {
   "cell_type": "code",
   "execution_count": 17,
   "metadata": {
    "colab": {
     "base_uri": "https://localhost:8080/"
    },
    "executionInfo": {
     "elapsed": 5792,
     "status": "ok",
     "timestamp": 1609692090066,
     "user": {
      "displayName": "Piotr Pęzik",
      "photoUrl": "https://lh3.googleusercontent.com/a-/AOh14GiZ7i0oPBUhmXYrUMEAOBIuQfvFWyKz4sEOLJ2otC4=s64",
      "userId": "15401984500622025149"
     },
     "user_tz": -60
    },
    "id": "594iIsMeB-9e",
    "outputId": "85e9e050-912d-418d-fb9c-10bf0a309e13"
   },
   "outputs": [
    {
     "name": "stdout",
     "output_type": "stream",
     "text": [
      "['news', 'business', 'sport']\n",
      "[[13815  2018   991]\n",
      " [ 1367  2489   118]\n",
      " [  259    26   451]]\n"
     ]
    }
   ],
   "source": [
    "# ComplementNB -- lepszy recall mniej licznych klas\n",
    "from sklearn.naive_bayes import ComplementNB\n",
    "model = ComplementNB()\n",
    "model.fit(X_train, y_train)\n",
    "y_pred = model.predict(X_test)\n",
    "\n",
    "labels_txt = [l for l in OrderedCounter(labels)]\n",
    "print(labels_txt)\n",
    "\n",
    "conf_mat = confusion_matrix(y_test, y_pred, labels = labels_txt)\n",
    "\n",
    "print(conf_mat)"
   ]
  },
  {
   "cell_type": "code",
   "execution_count": 18,
   "metadata": {
    "colab": {
     "base_uri": "https://localhost:8080/"
    },
    "executionInfo": {
     "elapsed": 12038,
     "status": "ok",
     "timestamp": 1609692104073,
     "user": {
      "displayName": "Piotr Pęzik",
      "photoUrl": "https://lh3.googleusercontent.com/a-/AOh14GiZ7i0oPBUhmXYrUMEAOBIuQfvFWyKz4sEOLJ2otC4=s64",
      "userId": "15401984500622025149"
     },
     "user_tz": -60
    },
    "id": "wgIfcnbvB-9e",
    "outputId": "a671f6a0-2034-4952-a3f8-f9a4a89da560"
   },
   "outputs": [
    {
     "name": "stdout",
     "output_type": "stream",
     "text": [
      "['news', 'business', 'sport']\n",
      "[[16300   465    59]\n",
      " [ 2492  1471    11]\n",
      " [  624     4   108]]\n"
     ]
    }
   ],
   "source": [
    "# To samo dla SVM\n",
    "\n",
    "model = LinearSVC()\n",
    "\n",
    "X_train, X_test, y_train, y_test = train_test_split(weights, labels, test_size=0.2, random_state=0) \n",
    "model.fit(X_train, y_train)\n",
    "y_pred = model.predict(X_test)\n",
    "\n",
    "labels_txt = [l for l in OrderedCounter(labels)]\n",
    "print(labels_txt)\n",
    "\n",
    "conf_mat = confusion_matrix(y_test, y_pred, labels = labels_txt)\n",
    "\n",
    "print(conf_mat)"
   ]
  },
  {
   "cell_type": "code",
   "execution_count": 19,
   "metadata": {
    "colab": {
     "base_uri": "https://localhost:8080/"
    },
    "executionInfo": {
     "elapsed": 3586,
     "status": "ok",
     "timestamp": 1609692117976,
     "user": {
      "displayName": "Piotr Pęzik",
      "photoUrl": "https://lh3.googleusercontent.com/a-/AOh14GiZ7i0oPBUhmXYrUMEAOBIuQfvFWyKz4sEOLJ2otC4=s64",
      "userId": "15401984500622025149"
     },
     "user_tz": -60
    },
    "id": "Dvo-BoU3B-9e",
    "outputId": "55d7981b-5c18-48d5-b6a2-0777a53b7e0d"
   },
   "outputs": [
    {
     "name": "stdout",
     "output_type": "stream",
     "text": [
      "Dobre predykcje: 17879\n",
      "Złe predykcje: 3655\n",
      "Micro average precision: 0.8302684127426395 \n",
      "0.8302684127426395\n",
      "0.8302684127426395\n",
      "Precyzja z kategorii news: 0.7569425095198291 \n"
     ]
    }
   ],
   "source": [
    "dobre_predykcje = (conf_mat[0][0]+conf_mat[1][1]+conf_mat[2][2])\n",
    "print(\"Dobre predykcje: {}\".format(dobre_predykcje))\n",
    "zle_predykcje = (conf_mat[0][1]+conf_mat[0][2]+conf_mat[1][0]+conf_mat[1][2]+conf_mat[2][0]+conf_mat[2][1])\n",
    "\n",
    "print(\"Złe predykcje: {}\".format(zle_predykcje))\n",
    "print(\"Micro average precision: {} \".format(dobre_predykcje/(dobre_predykcje+zle_predykcje)))\n",
    "\n",
    "# Ponieważ zgadujemy zawsze tylko 1 klasę, pokrycie = precyzji\n",
    "\n",
    "print(metrics.precision_score(y_test, y_pred, average='micro')) # Liczona per instancja\n",
    "print(metrics.recall_score(y_test, y_pred, average='micro')) # Liczony per instancja\n",
    "\n",
    "dobre_predykcje_news = conf_mat[0][0]\n",
    "\n",
    "print(\"Precyzja z kategorii news: {} \".format((dobre_predykcje_news/(dobre_predykcje+zle_predykcje))))"
   ]
  },
  {
   "cell_type": "code",
   "execution_count": 20,
   "metadata": {
    "colab": {
     "base_uri": "https://localhost:8080/"
    },
    "executionInfo": {
     "elapsed": 5744,
     "status": "ok",
     "timestamp": 1609692125787,
     "user": {
      "displayName": "Piotr Pęzik",
      "photoUrl": "https://lh3.googleusercontent.com/a-/AOh14GiZ7i0oPBUhmXYrUMEAOBIuQfvFWyKz4sEOLJ2otC4=s64",
      "userId": "15401984500622025149"
     },
     "user_tz": -60
    },
    "id": "ylNR8X9iB-9f",
    "outputId": "12c0d8a7-47e6-489a-f915-52cb4f71f04a"
   },
   "outputs": [
    {
     "name": "stdout",
     "output_type": "stream",
     "text": [
      "[0.8395138030490318, 0.7582474226804123, 0.6067415730337079]\n",
      "Macro average precision: 0.7348342662543841\n",
      "0.7348342662543841\n"
     ]
    }
   ],
   "source": [
    "#P = TP / (TP+FP)\n",
    "\n",
    "# Uwaga na /0\n",
    "P_news = conf_mat[0][0]/ (conf_mat[0][0]+(conf_mat[1][0]+conf_mat[2][0]))\n",
    "P_business = conf_mat[1][1]/(conf_mat[1][1]+(conf_mat[0][1]+conf_mat[2][1])) \n",
    "P_sport = conf_mat[2][2]/(conf_mat[2][2]+(conf_mat[0][2]+conf_mat[1][2]))\n",
    "\n",
    "class_precision = [P_news,P_business, P_sport]\n",
    "macro_avg_precision = sum(class_precision)/len(class_precision)\n",
    "\n",
    "print(class_precision)\n",
    "\n",
    "print(\"Macro average precision: {}\".format(macro_avg_precision))\n",
    "print(metrics.precision_score(y_test, y_pred, average='macro')) # Liczona per instancja"
   ]
  },
  {
   "cell_type": "code",
   "execution_count": 21,
   "metadata": {
    "colab": {
     "base_uri": "https://localhost:8080/"
    },
    "executionInfo": {
     "elapsed": 5659,
     "status": "ok",
     "timestamp": 1609692132817,
     "user": {
      "displayName": "Piotr Pęzik",
      "photoUrl": "https://lh3.googleusercontent.com/a-/AOh14GiZ7i0oPBUhmXYrUMEAOBIuQfvFWyKz4sEOLJ2otC4=s64",
      "userId": "15401984500622025149"
     },
     "user_tz": -60
    },
    "id": "BUITBbYDB-9f",
    "outputId": "401833ae-4133-4800-e37f-6f98d15812b9"
   },
   "outputs": [
    {
     "name": "stdout",
     "output_type": "stream",
     "text": [
      "0.8302684127426395\n",
      "0.5444486652288306\n"
     ]
    }
   ],
   "source": [
    "from sklearn import metrics\n",
    "\n",
    "# F1 -- średnia harmoniczna z precyzji/ pokrycia\n",
    "# Pokrycie dla klas news i business jest lepsze niż w przypadku NB\n",
    "\n",
    "print(metrics.f1_score(y_test, y_pred, average='micro')) # Liczona per instancja\n",
    "print(metrics.f1_score(y_test, y_pred, average='macro')) # Liczona per klasa"
   ]
  },
  {
   "cell_type": "markdown",
   "metadata": {
    "id": "sdysz90YB-9f"
   },
   "source": [
    "## FastText"
   ]
  },
  {
   "cell_type": "code",
   "execution_count": 22,
   "metadata": {
    "colab": {
     "base_uri": "https://localhost:8080/"
    },
    "executionInfo": {
     "elapsed": 41924,
     "status": "ok",
     "timestamp": 1609692181702,
     "user": {
      "displayName": "Piotr Pęzik",
      "photoUrl": "https://lh3.googleusercontent.com/a-/AOh14GiZ7i0oPBUhmXYrUMEAOBIuQfvFWyKz4sEOLJ2otC4=s64",
      "userId": "15401984500622025149"
     },
     "user_tz": -60
    },
    "id": "DY3vaZ08B-9g",
    "outputId": "f192e24d-f0e5-4686-a4cf-1318309a2be6"
   },
   "outputs": [
    {
     "name": "stdout",
     "output_type": "stream",
     "text": [
      "--2021-01-03 16:42:21--  https://github.com/facebookresearch/fastText/archive/master.zip\n",
      "Resolving github.com (github.com)... 140.82.112.3\n",
      "Connecting to github.com (github.com)|140.82.112.3|:443... connected.\n",
      "HTTP request sent, awaiting response... 302 Found\n",
      "Location: https://codeload.github.com/facebookresearch/fastText/zip/master [following]\n",
      "--2021-01-03 16:42:21--  https://codeload.github.com/facebookresearch/fastText/zip/master\n",
      "Resolving codeload.github.com (codeload.github.com)... 140.82.113.9\n",
      "Connecting to codeload.github.com (codeload.github.com)|140.82.113.9|:443... connected.\n",
      "HTTP request sent, awaiting response... 200 OK\n",
      "Length: unspecified [application/zip]\n",
      "Saving to: ‘master.zip’\n",
      "\n",
      "master.zip              [  <=>               ]   4.17M  17.1MB/s    in 0.2s    \n",
      "\n",
      "2021-01-03 16:42:22 (17.1 MB/s) - ‘master.zip’ saved [4370899]\n",
      "\n",
      "Archive:  master.zip\n",
      "a20c0d27cd0ee88a25ea0433b7f03038cd728459\n",
      "   creating: fastText-master/\n",
      "   creating: fastText-master/.circleci/\n",
      "  inflating: fastText-master/.circleci/cmake_test.sh  \n",
      "  inflating: fastText-master/.circleci/config.yml  \n",
      "  inflating: fastText-master/.circleci/gcc_test.sh  \n",
      "  inflating: fastText-master/.circleci/pip_test.sh  \n",
      "  inflating: fastText-master/.circleci/pull_data.sh  \n",
      "  inflating: fastText-master/.circleci/python_test.sh  \n",
      "  inflating: fastText-master/.circleci/run_locally.sh  \n",
      "  inflating: fastText-master/.circleci/setup_circleimg.sh  \n",
      "  inflating: fastText-master/.circleci/setup_debian.sh  \n",
      "  inflating: fastText-master/.gitignore  \n",
      "  inflating: fastText-master/CMakeLists.txt  \n",
      "  inflating: fastText-master/CODE_OF_CONDUCT.md  \n",
      "  inflating: fastText-master/CONTRIBUTING.md  \n",
      "  inflating: fastText-master/LICENSE  \n",
      "  inflating: fastText-master/MANIFEST.in  \n",
      "  inflating: fastText-master/Makefile  \n",
      "  inflating: fastText-master/README.md  \n",
      "   creating: fastText-master/alignment/\n",
      "  inflating: fastText-master/alignment/README.md  \n",
      "  inflating: fastText-master/alignment/align.py  \n",
      "  inflating: fastText-master/alignment/eval.py  \n",
      "  inflating: fastText-master/alignment/example.sh  \n",
      "  inflating: fastText-master/alignment/unsup_align.py  \n",
      "  inflating: fastText-master/alignment/unsup_multialign.py  \n",
      "  inflating: fastText-master/alignment/utils.py  \n",
      "  inflating: fastText-master/classification-example.sh  \n",
      "  inflating: fastText-master/classification-results.sh  \n",
      "   creating: fastText-master/crawl/\n",
      "  inflating: fastText-master/crawl/README.md  \n",
      "  inflating: fastText-master/crawl/dedup.cc  \n",
      "  inflating: fastText-master/crawl/download_crawl.sh  \n",
      "  inflating: fastText-master/crawl/filter_dedup.sh  \n",
      "  inflating: fastText-master/crawl/filter_utf8.cc  \n",
      "  inflating: fastText-master/crawl/process_wet_file.sh  \n",
      "   creating: fastText-master/docs/\n",
      "  inflating: fastText-master/docs/aligned-vectors.md  \n",
      "  inflating: fastText-master/docs/api.md  \n",
      "  inflating: fastText-master/docs/autotune.md  \n",
      "  inflating: fastText-master/docs/cheatsheet.md  \n",
      "  inflating: fastText-master/docs/crawl-vectors.md  \n",
      "  inflating: fastText-master/docs/dataset.md  \n",
      "  inflating: fastText-master/docs/english-vectors.md  \n",
      "  inflating: fastText-master/docs/faqs.md  \n",
      "  inflating: fastText-master/docs/language-identification.md  \n",
      "  inflating: fastText-master/docs/options.md  \n",
      "  inflating: fastText-master/docs/pretrained-vectors.md  \n",
      "  inflating: fastText-master/docs/python-module.md  \n",
      "  inflating: fastText-master/docs/references.md  \n",
      "  inflating: fastText-master/docs/supervised-models.md  \n",
      "  inflating: fastText-master/docs/supervised-tutorial.md  \n",
      "  inflating: fastText-master/docs/support.md  \n",
      "  inflating: fastText-master/docs/unsupervised-tutorials.md  \n",
      "  inflating: fastText-master/docs/webassembly-module.md  \n",
      "  inflating: fastText-master/download_model.py  \n",
      "  inflating: fastText-master/eval.py  \n",
      "  inflating: fastText-master/fasttext.pc.in  \n",
      "  inflating: fastText-master/get-wikimedia.sh  \n",
      "   creating: fastText-master/python/\n",
      "  inflating: fastText-master/python/README.md  \n",
      "  inflating: fastText-master/python/README.rst  \n",
      "   creating: fastText-master/python/benchmarks/\n",
      "  inflating: fastText-master/python/benchmarks/README.rst  \n",
      "  inflating: fastText-master/python/benchmarks/get_word_vector.py  \n",
      "   creating: fastText-master/python/doc/\n",
      "   creating: fastText-master/python/doc/examples/\n",
      "  inflating: fastText-master/python/doc/examples/FastTextEmbeddingBag.py  \n",
      "  inflating: fastText-master/python/doc/examples/bin_to_vec.py  \n",
      "  inflating: fastText-master/python/doc/examples/compute_accuracy.py  \n",
      "  inflating: fastText-master/python/doc/examples/get_vocab.py  \n",
      "  inflating: fastText-master/python/doc/examples/train_supervised.py  \n",
      "  inflating: fastText-master/python/doc/examples/train_unsupervised.py  \n",
      "   creating: fastText-master/python/fasttext_module/\n",
      "   creating: fastText-master/python/fasttext_module/fasttext/\n",
      "  inflating: fastText-master/python/fasttext_module/fasttext/FastText.py  \n",
      "  inflating: fastText-master/python/fasttext_module/fasttext/__init__.py  \n",
      "   creating: fastText-master/python/fasttext_module/fasttext/pybind/\n",
      "  inflating: fastText-master/python/fasttext_module/fasttext/pybind/fasttext_pybind.cc  \n",
      "   creating: fastText-master/python/fasttext_module/fasttext/tests/\n",
      "  inflating: fastText-master/python/fasttext_module/fasttext/tests/__init__.py  \n",
      "  inflating: fastText-master/python/fasttext_module/fasttext/tests/test_configurations.py  \n",
      "  inflating: fastText-master/python/fasttext_module/fasttext/tests/test_script.py  \n",
      "   creating: fastText-master/python/fasttext_module/fasttext/util/\n",
      "  inflating: fastText-master/python/fasttext_module/fasttext/util/__init__.py  \n",
      "  inflating: fastText-master/python/fasttext_module/fasttext/util/util.py  \n",
      "  inflating: fastText-master/quantization-example.sh  \n",
      "  inflating: fastText-master/reduce_model.py  \n",
      "  inflating: fastText-master/runtests.py  \n",
      "   creating: fastText-master/scripts/\n",
      "   creating: fastText-master/scripts/kbcompletion/\n",
      "  inflating: fastText-master/scripts/kbcompletion/README.md  \n",
      "  inflating: fastText-master/scripts/kbcompletion/data.sh  \n",
      "  inflating: fastText-master/scripts/kbcompletion/eval.cpp  \n",
      "  inflating: fastText-master/scripts/kbcompletion/fb15k.sh  \n",
      "  inflating: fastText-master/scripts/kbcompletion/fb15k237.sh  \n",
      "  inflating: fastText-master/scripts/kbcompletion/svo.sh  \n",
      "  inflating: fastText-master/scripts/kbcompletion/wn18.sh  \n",
      "   creating: fastText-master/scripts/quantization/\n",
      "  inflating: fastText-master/scripts/quantization/quantization-results.sh  \n",
      " extracting: fastText-master/setup.cfg  \n",
      "  inflating: fastText-master/setup.py  \n",
      "   creating: fastText-master/src/\n",
      "  inflating: fastText-master/src/args.cc  \n",
      "  inflating: fastText-master/src/args.h  \n",
      "  inflating: fastText-master/src/autotune.cc  \n",
      "  inflating: fastText-master/src/autotune.h  \n",
      "  inflating: fastText-master/src/densematrix.cc  \n",
      "  inflating: fastText-master/src/densematrix.h  \n",
      "  inflating: fastText-master/src/dictionary.cc  \n",
      "  inflating: fastText-master/src/dictionary.h  \n",
      "  inflating: fastText-master/src/fasttext.cc  \n",
      "  inflating: fastText-master/src/fasttext.h  \n",
      "  inflating: fastText-master/src/loss.cc  \n",
      "  inflating: fastText-master/src/loss.h  \n",
      "  inflating: fastText-master/src/main.cc  \n",
      "  inflating: fastText-master/src/matrix.cc  \n",
      "  inflating: fastText-master/src/matrix.h  \n",
      "  inflating: fastText-master/src/meter.cc  \n",
      "  inflating: fastText-master/src/meter.h  \n",
      "  inflating: fastText-master/src/model.cc  \n",
      "  inflating: fastText-master/src/model.h  \n",
      "  inflating: fastText-master/src/productquantizer.cc  \n",
      "  inflating: fastText-master/src/productquantizer.h  \n",
      "  inflating: fastText-master/src/quantmatrix.cc  \n",
      "  inflating: fastText-master/src/quantmatrix.h  \n",
      "  inflating: fastText-master/src/real.h  \n",
      "  inflating: fastText-master/src/utils.cc  \n",
      "  inflating: fastText-master/src/utils.h  \n",
      "  inflating: fastText-master/src/vector.cc  \n",
      "  inflating: fastText-master/src/vector.h  \n",
      "   creating: fastText-master/tests/\n",
      "  inflating: fastText-master/tests/fetch_test_data.sh  \n",
      "   creating: fastText-master/webassembly/\n",
      "  inflating: fastText-master/webassembly/README.md  \n",
      "   creating: fastText-master/webassembly/doc/\n",
      "   creating: fastText-master/webassembly/doc/examples/\n",
      "  inflating: fastText-master/webassembly/doc/examples/misc.html  \n",
      "  inflating: fastText-master/webassembly/doc/examples/predict.html  \n",
      "  inflating: fastText-master/webassembly/doc/examples/train_supervised.html  \n",
      "  inflating: fastText-master/webassembly/doc/examples/train_unsupervised.html  \n",
      "  inflating: fastText-master/webassembly/fasttext.js  \n",
      "  inflating: fastText-master/webassembly/fasttext_wasm.cc  \n",
      "   creating: fastText-master/website/\n",
      "  inflating: fastText-master/website/README.md  \n",
      "   creating: fastText-master/website/blog/\n",
      "  inflating: fastText-master/website/blog/2016-08-18-blog-post.md  \n",
      "  inflating: fastText-master/website/blog/2017-05-02-blog-post.md  \n",
      "  inflating: fastText-master/website/blog/2017-10-02-blog-post.md  \n",
      "  inflating: fastText-master/website/blog/2019-06-25-blog-post.md  \n",
      "   creating: fastText-master/website/core/\n",
      "  inflating: fastText-master/website/core/Footer.js  \n",
      "  inflating: fastText-master/website/package.json  \n",
      "   creating: fastText-master/website/pages/\n",
      "   creating: fastText-master/website/pages/en/\n",
      "  inflating: fastText-master/website/pages/en/index.js  \n",
      "  inflating: fastText-master/website/sidebars.json  \n",
      "  inflating: fastText-master/website/siteConfig.js  \n",
      "   creating: fastText-master/website/static/\n",
      "   creating: fastText-master/website/static/docs/\n",
      "   creating: fastText-master/website/static/docs/en/\n",
      "   creating: fastText-master/website/static/docs/en/html/\n",
      " extracting: fastText-master/website/static/docs/en/html/.classfasttext_1_1QMatrix-members.html.i4eKqy  \n",
      "  inflating: fastText-master/website/static/docs/en/html/annotated.html  \n",
      "  inflating: fastText-master/website/static/docs/en/html/annotated_dup.js  \n",
      "  inflating: fastText-master/website/static/docs/en/html/args_8cc.html  \n",
      "  inflating: fastText-master/website/static/docs/en/html/args_8h.html  \n",
      "  inflating: fastText-master/website/static/docs/en/html/args_8h.js  \n",
      "  inflating: fastText-master/website/static/docs/en/html/args_8h_source.html  \n",
      " extracting: fastText-master/website/static/docs/en/html/bc_s.png  \n",
      "  inflating: fastText-master/website/static/docs/en/html/bdwn.png  \n",
      "  inflating: fastText-master/website/static/docs/en/html/classes.html  \n",
      "  inflating: fastText-master/website/static/docs/en/html/classfasttext_1_1Args-members.html  \n",
      "  inflating: fastText-master/website/static/docs/en/html/classfasttext_1_1Args.html  \n",
      "  inflating: fastText-master/website/static/docs/en/html/classfasttext_1_1Args.js  \n",
      "  inflating: fastText-master/website/static/docs/en/html/classfasttext_1_1Dictionary-members.html  \n",
      "  inflating: fastText-master/website/static/docs/en/html/classfasttext_1_1Dictionary.html  \n",
      "  inflating: fastText-master/website/static/docs/en/html/classfasttext_1_1Dictionary.js  \n",
      "  inflating: fastText-master/website/static/docs/en/html/classfasttext_1_1FastText-members.html  \n",
      "  inflating: fastText-master/website/static/docs/en/html/classfasttext_1_1FastText.html  \n",
      "  inflating: fastText-master/website/static/docs/en/html/classfasttext_1_1FastText.js  \n",
      "  inflating: fastText-master/website/static/docs/en/html/classfasttext_1_1Matrix-members.html  \n",
      "  inflating: fastText-master/website/static/docs/en/html/classfasttext_1_1Matrix.html  \n",
      "  inflating: fastText-master/website/static/docs/en/html/classfasttext_1_1Matrix.js  \n",
      "  inflating: fastText-master/website/static/docs/en/html/classfasttext_1_1Model-members.html  \n",
      "  inflating: fastText-master/website/static/docs/en/html/classfasttext_1_1Model.html  \n",
      "  inflating: fastText-master/website/static/docs/en/html/classfasttext_1_1Model.js  \n",
      "  inflating: fastText-master/website/static/docs/en/html/classfasttext_1_1ProductQuantizer-members.html  \n",
      "  inflating: fastText-master/website/static/docs/en/html/classfasttext_1_1ProductQuantizer.html  \n",
      "  inflating: fastText-master/website/static/docs/en/html/classfasttext_1_1ProductQuantizer.js  \n",
      "  inflating: fastText-master/website/static/docs/en/html/classfasttext_1_1QMatrix-members.html  \n",
      "  inflating: fastText-master/website/static/docs/en/html/classfasttext_1_1QMatrix.html  \n",
      "  inflating: fastText-master/website/static/docs/en/html/classfasttext_1_1QMatrix.js  \n",
      "  inflating: fastText-master/website/static/docs/en/html/classfasttext_1_1Vector-members.html  \n",
      "  inflating: fastText-master/website/static/docs/en/html/classfasttext_1_1Vector.html  \n",
      "  inflating: fastText-master/website/static/docs/en/html/classfasttext_1_1Vector.js  \n",
      "  inflating: fastText-master/website/static/docs/en/html/closed.png  \n",
      "  inflating: fastText-master/website/static/docs/en/html/dictionary_8cc.html  \n",
      "  inflating: fastText-master/website/static/docs/en/html/dictionary_8h.html  \n",
      "  inflating: fastText-master/website/static/docs/en/html/dictionary_8h.js  \n",
      "  inflating: fastText-master/website/static/docs/en/html/dictionary_8h_source.html  \n",
      "  inflating: fastText-master/website/static/docs/en/html/dir_68267d1309a1af8e8297ef4c3efbcdba.html  \n",
      "  inflating: fastText-master/website/static/docs/en/html/dir_68267d1309a1af8e8297ef4c3efbcdba.js  \n",
      " extracting: fastText-master/website/static/docs/en/html/doc.png  \n",
      "  inflating: fastText-master/website/static/docs/en/html/doxygen.css  \n",
      " extracting: fastText-master/website/static/docs/en/html/doxygen.png  \n",
      "  inflating: fastText-master/website/static/docs/en/html/dynsections.js  \n",
      "  inflating: fastText-master/website/static/docs/en/html/fasttext_8cc.html  \n",
      "  inflating: fastText-master/website/static/docs/en/html/fasttext_8h.html  \n",
      "  inflating: fastText-master/website/static/docs/en/html/fasttext_8h.js  \n",
      "  inflating: fastText-master/website/static/docs/en/html/fasttext_8h_source.html  \n",
      "  inflating: fastText-master/website/static/docs/en/html/favicon.png  \n",
      "  inflating: fastText-master/website/static/docs/en/html/files.html  \n",
      "  inflating: fastText-master/website/static/docs/en/html/files.js  \n",
      " extracting: fastText-master/website/static/docs/en/html/folderclosed.png  \n",
      " extracting: fastText-master/website/static/docs/en/html/folderopen.png  \n",
      "  inflating: fastText-master/website/static/docs/en/html/functions.html  \n",
      "  inflating: fastText-master/website/static/docs/en/html/functions_0x7e.html  \n",
      "  inflating: fastText-master/website/static/docs/en/html/functions_b.html  \n",
      "  inflating: fastText-master/website/static/docs/en/html/functions_c.html  \n",
      "  inflating: fastText-master/website/static/docs/en/html/functions_d.html  \n",
      "  inflating: fastText-master/website/static/docs/en/html/functions_dup.js  \n",
      "  inflating: fastText-master/website/static/docs/en/html/functions_e.html  \n",
      "  inflating: fastText-master/website/static/docs/en/html/functions_f.html  \n",
      "  inflating: fastText-master/website/static/docs/en/html/functions_func.html  \n",
      "  inflating: fastText-master/website/static/docs/en/html/functions_g.html  \n",
      "  inflating: fastText-master/website/static/docs/en/html/functions_h.html  \n",
      "  inflating: fastText-master/website/static/docs/en/html/functions_i.html  \n",
      "  inflating: fastText-master/website/static/docs/en/html/functions_k.html  \n",
      "  inflating: fastText-master/website/static/docs/en/html/functions_l.html  \n",
      "  inflating: fastText-master/website/static/docs/en/html/functions_m.html  \n",
      "  inflating: fastText-master/website/static/docs/en/html/functions_n.html  \n",
      "  inflating: fastText-master/website/static/docs/en/html/functions_o.html  \n",
      "  inflating: fastText-master/website/static/docs/en/html/functions_p.html  \n",
      "  inflating: fastText-master/website/static/docs/en/html/functions_q.html  \n",
      "  inflating: fastText-master/website/static/docs/en/html/functions_r.html  \n",
      "  inflating: fastText-master/website/static/docs/en/html/functions_s.html  \n",
      "  inflating: fastText-master/website/static/docs/en/html/functions_t.html  \n",
      "  inflating: fastText-master/website/static/docs/en/html/functions_u.html  \n",
      "  inflating: fastText-master/website/static/docs/en/html/functions_v.html  \n",
      "  inflating: fastText-master/website/static/docs/en/html/functions_vars.html  \n",
      "  inflating: fastText-master/website/static/docs/en/html/functions_w.html  \n",
      "  inflating: fastText-master/website/static/docs/en/html/functions_z.html  \n",
      "  inflating: fastText-master/website/static/docs/en/html/globals.html  \n",
      "  inflating: fastText-master/website/static/docs/en/html/globals_defs.html  \n",
      "  inflating: fastText-master/website/static/docs/en/html/globals_func.html  \n",
      "  inflating: fastText-master/website/static/docs/en/html/index.html  \n",
      "  inflating: fastText-master/website/static/docs/en/html/jquery.js  \n",
      "  inflating: fastText-master/website/static/docs/en/html/main_8cc.html  \n",
      "  inflating: fastText-master/website/static/docs/en/html/main_8cc.js  \n",
      "  inflating: fastText-master/website/static/docs/en/html/matrix_8cc.html  \n",
      "  inflating: fastText-master/website/static/docs/en/html/matrix_8h.html  \n",
      "  inflating: fastText-master/website/static/docs/en/html/matrix_8h_source.html  \n",
      "  inflating: fastText-master/website/static/docs/en/html/menu.js  \n",
      "  inflating: fastText-master/website/static/docs/en/html/menudata.js  \n",
      "  inflating: fastText-master/website/static/docs/en/html/model_8cc.html  \n",
      "  inflating: fastText-master/website/static/docs/en/html/model_8h.html  \n",
      "  inflating: fastText-master/website/static/docs/en/html/model_8h.js  \n",
      "  inflating: fastText-master/website/static/docs/en/html/model_8h_source.html  \n",
      "  inflating: fastText-master/website/static/docs/en/html/namespacefasttext.html  \n",
      "  inflating: fastText-master/website/static/docs/en/html/namespacefasttext.js  \n",
      "  inflating: fastText-master/website/static/docs/en/html/namespacefasttext_1_1utils.html  \n",
      "  inflating: fastText-master/website/static/docs/en/html/namespacemembers.html  \n",
      "  inflating: fastText-master/website/static/docs/en/html/namespacemembers_enum.html  \n",
      "  inflating: fastText-master/website/static/docs/en/html/namespacemembers_func.html  \n",
      "  inflating: fastText-master/website/static/docs/en/html/namespacemembers_type.html  \n",
      "  inflating: fastText-master/website/static/docs/en/html/namespaces.html  \n",
      "  inflating: fastText-master/website/static/docs/en/html/namespaces.js  \n",
      " extracting: fastText-master/website/static/docs/en/html/nav_f.png  \n",
      "  inflating: fastText-master/website/static/docs/en/html/nav_g.png  \n",
      "  inflating: fastText-master/website/static/docs/en/html/nav_h.png  \n",
      "  inflating: fastText-master/website/static/docs/en/html/navtree.css  \n",
      "  inflating: fastText-master/website/static/docs/en/html/navtree.js  \n",
      "  inflating: fastText-master/website/static/docs/en/html/navtreedata.js  \n",
      "  inflating: fastText-master/website/static/docs/en/html/navtreeindex0.js  \n",
      "  inflating: fastText-master/website/static/docs/en/html/navtreeindex1.js  \n",
      "  inflating: fastText-master/website/static/docs/en/html/open.png  \n",
      "  inflating: fastText-master/website/static/docs/en/html/productquantizer_8cc.html  \n",
      "  inflating: fastText-master/website/static/docs/en/html/productquantizer_8cc.js  \n",
      "  inflating: fastText-master/website/static/docs/en/html/productquantizer_8h.html  \n",
      "  inflating: fastText-master/website/static/docs/en/html/productquantizer_8h_source.html  \n",
      "  inflating: fastText-master/website/static/docs/en/html/qmatrix_8cc.html  \n",
      "  inflating: fastText-master/website/static/docs/en/html/qmatrix_8h.html  \n",
      "  inflating: fastText-master/website/static/docs/en/html/qmatrix_8h_source.html  \n",
      "  inflating: fastText-master/website/static/docs/en/html/real_8h.html  \n",
      "  inflating: fastText-master/website/static/docs/en/html/real_8h.js  \n",
      "  inflating: fastText-master/website/static/docs/en/html/real_8h_source.html  \n",
      "  inflating: fastText-master/website/static/docs/en/html/resize.js  \n",
      "   creating: fastText-master/website/static/docs/en/html/search/\n",
      " extracting: fastText-master/website/static/docs/en/html/search/.files_7.html.StRRNc  \n",
      " extracting: fastText-master/website/static/docs/en/html/search/.variables_a.html.1MGQ27  \n",
      "  inflating: fastText-master/website/static/docs/en/html/search/all_0.html  \n",
      "  inflating: fastText-master/website/static/docs/en/html/search/all_0.js  \n",
      "  inflating: fastText-master/website/static/docs/en/html/search/all_1.html  \n",
      "  inflating: fastText-master/website/static/docs/en/html/search/all_1.js  \n",
      "  inflating: fastText-master/website/static/docs/en/html/search/all_10.html  \n",
      "  inflating: fastText-master/website/static/docs/en/html/search/all_10.js  \n",
      "  inflating: fastText-master/website/static/docs/en/html/search/all_11.html  \n",
      "  inflating: fastText-master/website/static/docs/en/html/search/all_11.js  \n",
      "  inflating: fastText-master/website/static/docs/en/html/search/all_12.html  \n",
      "  inflating: fastText-master/website/static/docs/en/html/search/all_12.js  \n",
      "  inflating: fastText-master/website/static/docs/en/html/search/all_13.html  \n",
      "  inflating: fastText-master/website/static/docs/en/html/search/all_13.js  \n",
      "  inflating: fastText-master/website/static/docs/en/html/search/all_14.html  \n",
      "  inflating: fastText-master/website/static/docs/en/html/search/all_14.js  \n",
      "  inflating: fastText-master/website/static/docs/en/html/search/all_15.html  \n",
      "  inflating: fastText-master/website/static/docs/en/html/search/all_15.js  \n",
      "  inflating: fastText-master/website/static/docs/en/html/search/all_16.html  \n",
      "  inflating: fastText-master/website/static/docs/en/html/search/all_16.js  \n",
      "  inflating: fastText-master/website/static/docs/en/html/search/all_17.html  \n",
      "  inflating: fastText-master/website/static/docs/en/html/search/all_17.js  \n",
      "  inflating: fastText-master/website/static/docs/en/html/search/all_2.html  \n",
      "  inflating: fastText-master/website/static/docs/en/html/search/all_2.js  \n",
      "  inflating: fastText-master/website/static/docs/en/html/search/all_3.html  \n",
      "  inflating: fastText-master/website/static/docs/en/html/search/all_3.js  \n",
      "  inflating: fastText-master/website/static/docs/en/html/search/all_4.html  \n",
      "  inflating: fastText-master/website/static/docs/en/html/search/all_4.js  \n",
      "  inflating: fastText-master/website/static/docs/en/html/search/all_5.html  \n",
      "  inflating: fastText-master/website/static/docs/en/html/search/all_5.js  \n",
      "  inflating: fastText-master/website/static/docs/en/html/search/all_6.html  \n",
      "  inflating: fastText-master/website/static/docs/en/html/search/all_6.js  \n",
      "  inflating: fastText-master/website/static/docs/en/html/search/all_7.html  \n",
      "  inflating: fastText-master/website/static/docs/en/html/search/all_7.js  \n",
      "  inflating: fastText-master/website/static/docs/en/html/search/all_8.html  \n",
      "  inflating: fastText-master/website/static/docs/en/html/search/all_8.js  \n",
      "  inflating: fastText-master/website/static/docs/en/html/search/all_9.html  \n",
      "  inflating: fastText-master/website/static/docs/en/html/search/all_9.js  \n",
      "  inflating: fastText-master/website/static/docs/en/html/search/all_a.html  \n",
      "  inflating: fastText-master/website/static/docs/en/html/search/all_a.js  \n",
      "  inflating: fastText-master/website/static/docs/en/html/search/all_b.html  \n",
      "  inflating: fastText-master/website/static/docs/en/html/search/all_b.js  \n",
      "  inflating: fastText-master/website/static/docs/en/html/search/all_c.html  \n",
      "  inflating: fastText-master/website/static/docs/en/html/search/all_c.js  \n",
      "  inflating: fastText-master/website/static/docs/en/html/search/all_d.html  \n",
      "  inflating: fastText-master/website/static/docs/en/html/search/all_d.js  \n",
      "  inflating: fastText-master/website/static/docs/en/html/search/all_e.html  \n",
      "  inflating: fastText-master/website/static/docs/en/html/search/all_e.js  \n",
      "  inflating: fastText-master/website/static/docs/en/html/search/all_f.html  \n",
      "  inflating: fastText-master/website/static/docs/en/html/search/all_f.js  \n",
      "  inflating: fastText-master/website/static/docs/en/html/search/classes_0.html  \n",
      "  inflating: fastText-master/website/static/docs/en/html/search/classes_0.js  \n",
      "  inflating: fastText-master/website/static/docs/en/html/search/classes_1.html  \n",
      "  inflating: fastText-master/website/static/docs/en/html/search/classes_1.js  \n",
      "  inflating: fastText-master/website/static/docs/en/html/search/classes_2.html  \n",
      "  inflating: fastText-master/website/static/docs/en/html/search/classes_2.js  \n",
      "  inflating: fastText-master/website/static/docs/en/html/search/classes_3.html  \n",
      "  inflating: fastText-master/website/static/docs/en/html/search/classes_3.js  \n",
      "  inflating: fastText-master/website/static/docs/en/html/search/classes_4.html  \n",
      "  inflating: fastText-master/website/static/docs/en/html/search/classes_4.js  \n",
      "  inflating: fastText-master/website/static/docs/en/html/search/classes_5.html  \n",
      "  inflating: fastText-master/website/static/docs/en/html/search/classes_5.js  \n",
      "  inflating: fastText-master/website/static/docs/en/html/search/classes_6.html  \n",
      "  inflating: fastText-master/website/static/docs/en/html/search/classes_6.js  \n",
      "  inflating: fastText-master/website/static/docs/en/html/search/classes_7.html  \n",
      "  inflating: fastText-master/website/static/docs/en/html/search/classes_7.js  \n",
      "  inflating: fastText-master/website/static/docs/en/html/search/classes_8.html  \n",
      "  inflating: fastText-master/website/static/docs/en/html/search/classes_8.js  \n",
      " extracting: fastText-master/website/static/docs/en/html/search/close.png  \n",
      "  inflating: fastText-master/website/static/docs/en/html/search/defines_0.html  \n",
      "  inflating: fastText-master/website/static/docs/en/html/search/defines_0.js  \n",
      "  inflating: fastText-master/website/static/docs/en/html/search/defines_1.html  \n",
      "  inflating: fastText-master/website/static/docs/en/html/search/defines_1.js  \n",
      "  inflating: fastText-master/website/static/docs/en/html/search/defines_2.html  \n",
      "  inflating: fastText-master/website/static/docs/en/html/search/defines_2.js  \n",
      "  inflating: fastText-master/website/static/docs/en/html/search/defines_3.html  \n",
      "  inflating: fastText-master/website/static/docs/en/html/search/defines_3.js  \n",
      "  inflating: fastText-master/website/static/docs/en/html/search/enums_0.html  \n",
      "  inflating: fastText-master/website/static/docs/en/html/search/enums_0.js  \n",
      "  inflating: fastText-master/website/static/docs/en/html/search/enums_1.html  \n",
      "  inflating: fastText-master/website/static/docs/en/html/search/enums_1.js  \n",
      "  inflating: fastText-master/website/static/docs/en/html/search/enums_2.html  \n",
      "  inflating: fastText-master/website/static/docs/en/html/search/enums_2.js  \n",
      "  inflating: fastText-master/website/static/docs/en/html/search/enumvalues_0.html  \n",
      "  inflating: fastText-master/website/static/docs/en/html/search/enumvalues_0.js  \n",
      "  inflating: fastText-master/website/static/docs/en/html/search/enumvalues_1.html  \n",
      "  inflating: fastText-master/website/static/docs/en/html/search/enumvalues_1.js  \n",
      "  inflating: fastText-master/website/static/docs/en/html/search/enumvalues_2.html  \n",
      "  inflating: fastText-master/website/static/docs/en/html/search/enumvalues_2.js  \n",
      "  inflating: fastText-master/website/static/docs/en/html/search/enumvalues_3.html  \n",
      "  inflating: fastText-master/website/static/docs/en/html/search/enumvalues_3.js  \n",
      "  inflating: fastText-master/website/static/docs/en/html/search/enumvalues_4.html  \n",
      "  inflating: fastText-master/website/static/docs/en/html/search/enumvalues_4.js  \n",
      "  inflating: fastText-master/website/static/docs/en/html/search/enumvalues_5.html  \n",
      "  inflating: fastText-master/website/static/docs/en/html/search/enumvalues_5.js  \n",
      "  inflating: fastText-master/website/static/docs/en/html/search/files_0.html  \n",
      "  inflating: fastText-master/website/static/docs/en/html/search/files_0.js  \n",
      "  inflating: fastText-master/website/static/docs/en/html/search/files_1.html  \n",
      "  inflating: fastText-master/website/static/docs/en/html/search/files_1.js  \n",
      "  inflating: fastText-master/website/static/docs/en/html/search/files_2.html  \n",
      "  inflating: fastText-master/website/static/docs/en/html/search/files_2.js  \n",
      "  inflating: fastText-master/website/static/docs/en/html/search/files_3.html  \n",
      "  inflating: fastText-master/website/static/docs/en/html/search/files_3.js  \n",
      "  inflating: fastText-master/website/static/docs/en/html/search/files_4.html  \n",
      "  inflating: fastText-master/website/static/docs/en/html/search/files_4.js  \n",
      "  inflating: fastText-master/website/static/docs/en/html/search/files_5.html  \n",
      "  inflating: fastText-master/website/static/docs/en/html/search/files_5.js  \n",
      "  inflating: fastText-master/website/static/docs/en/html/search/files_6.html  \n",
      "  inflating: fastText-master/website/static/docs/en/html/search/files_6.js  \n",
      "  inflating: fastText-master/website/static/docs/en/html/search/files_7.html  \n",
      "  inflating: fastText-master/website/static/docs/en/html/search/files_7.js  \n",
      "  inflating: fastText-master/website/static/docs/en/html/search/files_8.html  \n",
      "  inflating: fastText-master/website/static/docs/en/html/search/files_8.js  \n",
      "  inflating: fastText-master/website/static/docs/en/html/search/functions_0.html  \n",
      "  inflating: fastText-master/website/static/docs/en/html/search/functions_0.js  \n",
      "  inflating: fastText-master/website/static/docs/en/html/search/functions_1.html  \n",
      "  inflating: fastText-master/website/static/docs/en/html/search/functions_1.js  \n",
      "  inflating: fastText-master/website/static/docs/en/html/search/functions_10.html  \n",
      "  inflating: fastText-master/website/static/docs/en/html/search/functions_10.js  \n",
      "  inflating: fastText-master/website/static/docs/en/html/search/functions_11.html  \n",
      "  inflating: fastText-master/website/static/docs/en/html/search/functions_11.js  \n",
      "  inflating: fastText-master/website/static/docs/en/html/search/functions_12.html  \n",
      "  inflating: fastText-master/website/static/docs/en/html/search/functions_12.js  \n",
      "  inflating: fastText-master/website/static/docs/en/html/search/functions_13.html  \n",
      "  inflating: fastText-master/website/static/docs/en/html/search/functions_13.js  \n",
      "  inflating: fastText-master/website/static/docs/en/html/search/functions_14.html  \n",
      "  inflating: fastText-master/website/static/docs/en/html/search/functions_14.js  \n",
      "  inflating: fastText-master/website/static/docs/en/html/search/functions_15.html  \n",
      "  inflating: fastText-master/website/static/docs/en/html/search/functions_15.js  \n",
      "  inflating: fastText-master/website/static/docs/en/html/search/functions_16.html  \n",
      "  inflating: fastText-master/website/static/docs/en/html/search/functions_16.js  \n",
      "  inflating: fastText-master/website/static/docs/en/html/search/functions_17.html  \n",
      "  inflating: fastText-master/website/static/docs/en/html/search/functions_17.js  \n",
      "  inflating: fastText-master/website/static/docs/en/html/search/functions_2.html  \n",
      "  inflating: fastText-master/website/static/docs/en/html/search/functions_2.js  \n",
      "  inflating: fastText-master/website/static/docs/en/html/search/functions_3.html  \n",
      "  inflating: fastText-master/website/static/docs/en/html/search/functions_3.js  \n",
      "  inflating: fastText-master/website/static/docs/en/html/search/functions_4.html  \n",
      "  inflating: fastText-master/website/static/docs/en/html/search/functions_4.js  \n",
      "  inflating: fastText-master/website/static/docs/en/html/search/functions_5.html  \n",
      "  inflating: fastText-master/website/static/docs/en/html/search/functions_5.js  \n",
      "  inflating: fastText-master/website/static/docs/en/html/search/functions_6.html  \n",
      "  inflating: fastText-master/website/static/docs/en/html/search/functions_6.js  \n",
      "  inflating: fastText-master/website/static/docs/en/html/search/functions_7.html  \n",
      "  inflating: fastText-master/website/static/docs/en/html/search/functions_7.js  \n",
      "  inflating: fastText-master/website/static/docs/en/html/search/functions_8.html  \n",
      "  inflating: fastText-master/website/static/docs/en/html/search/functions_8.js  \n",
      "  inflating: fastText-master/website/static/docs/en/html/search/functions_9.html  \n",
      "  inflating: fastText-master/website/static/docs/en/html/search/functions_9.js  \n",
      "  inflating: fastText-master/website/static/docs/en/html/search/functions_a.html  \n",
      "  inflating: fastText-master/website/static/docs/en/html/search/functions_a.js  \n",
      "  inflating: fastText-master/website/static/docs/en/html/search/functions_b.html  \n",
      "  inflating: fastText-master/website/static/docs/en/html/search/functions_b.js  \n",
      "  inflating: fastText-master/website/static/docs/en/html/search/functions_c.html  \n",
      "  inflating: fastText-master/website/static/docs/en/html/search/functions_c.js  \n",
      "  inflating: fastText-master/website/static/docs/en/html/search/functions_d.html  \n",
      "  inflating: fastText-master/website/static/docs/en/html/search/functions_d.js  \n",
      "  inflating: fastText-master/website/static/docs/en/html/search/functions_e.html  \n",
      "  inflating: fastText-master/website/static/docs/en/html/search/functions_e.js  \n",
      "  inflating: fastText-master/website/static/docs/en/html/search/functions_f.html  \n",
      "  inflating: fastText-master/website/static/docs/en/html/search/functions_f.js  \n",
      " extracting: fastText-master/website/static/docs/en/html/search/mag_sel.png  \n",
      "  inflating: fastText-master/website/static/docs/en/html/search/namespaces_0.html  \n",
      "  inflating: fastText-master/website/static/docs/en/html/search/namespaces_0.js  \n",
      "  inflating: fastText-master/website/static/docs/en/html/search/nomatches.html  \n",
      "  inflating: fastText-master/website/static/docs/en/html/search/search.css  \n",
      "  inflating: fastText-master/website/static/docs/en/html/search/search.js  \n",
      " extracting: fastText-master/website/static/docs/en/html/search/search_l.png  \n",
      "  inflating: fastText-master/website/static/docs/en/html/search/search_m.png  \n",
      " extracting: fastText-master/website/static/docs/en/html/search/search_r.png  \n",
      "  inflating: fastText-master/website/static/docs/en/html/search/searchdata.js  \n",
      "  inflating: fastText-master/website/static/docs/en/html/search/typedefs_0.html  \n",
      "  inflating: fastText-master/website/static/docs/en/html/search/typedefs_0.js  \n",
      "  inflating: fastText-master/website/static/docs/en/html/search/typedefs_1.html  \n",
      "  inflating: fastText-master/website/static/docs/en/html/search/typedefs_1.js  \n",
      "  inflating: fastText-master/website/static/docs/en/html/search/variables_0.html  \n",
      "  inflating: fastText-master/website/static/docs/en/html/search/variables_0.js  \n",
      "  inflating: fastText-master/website/static/docs/en/html/search/variables_1.html  \n",
      "  inflating: fastText-master/website/static/docs/en/html/search/variables_1.js  \n",
      "  inflating: fastText-master/website/static/docs/en/html/search/variables_10.html  \n",
      "  inflating: fastText-master/website/static/docs/en/html/search/variables_10.js  \n",
      "  inflating: fastText-master/website/static/docs/en/html/search/variables_11.html  \n",
      "  inflating: fastText-master/website/static/docs/en/html/search/variables_11.js  \n",
      "  inflating: fastText-master/website/static/docs/en/html/search/variables_12.html  \n",
      "  inflating: fastText-master/website/static/docs/en/html/search/variables_12.js  \n",
      "  inflating: fastText-master/website/static/docs/en/html/search/variables_13.html  \n",
      "  inflating: fastText-master/website/static/docs/en/html/search/variables_13.js  \n",
      "  inflating: fastText-master/website/static/docs/en/html/search/variables_2.html  \n",
      "  inflating: fastText-master/website/static/docs/en/html/search/variables_2.js  \n",
      "  inflating: fastText-master/website/static/docs/en/html/search/variables_3.html  \n",
      "  inflating: fastText-master/website/static/docs/en/html/search/variables_3.js  \n",
      "  inflating: fastText-master/website/static/docs/en/html/search/variables_4.html  \n",
      "  inflating: fastText-master/website/static/docs/en/html/search/variables_4.js  \n",
      "  inflating: fastText-master/website/static/docs/en/html/search/variables_5.html  \n",
      "  inflating: fastText-master/website/static/docs/en/html/search/variables_5.js  \n",
      "  inflating: fastText-master/website/static/docs/en/html/search/variables_6.html  \n",
      "  inflating: fastText-master/website/static/docs/en/html/search/variables_6.js  \n",
      "  inflating: fastText-master/website/static/docs/en/html/search/variables_7.html  \n",
      "  inflating: fastText-master/website/static/docs/en/html/search/variables_7.js  \n",
      "  inflating: fastText-master/website/static/docs/en/html/search/variables_8.html  \n",
      "  inflating: fastText-master/website/static/docs/en/html/search/variables_8.js  \n",
      "  inflating: fastText-master/website/static/docs/en/html/search/variables_9.html  \n",
      "  inflating: fastText-master/website/static/docs/en/html/search/variables_9.js  \n",
      "  inflating: fastText-master/website/static/docs/en/html/search/variables_a.html  \n",
      "  inflating: fastText-master/website/static/docs/en/html/search/variables_a.js  \n",
      "  inflating: fastText-master/website/static/docs/en/html/search/variables_b.html  \n",
      "  inflating: fastText-master/website/static/docs/en/html/search/variables_b.js  \n",
      "  inflating: fastText-master/website/static/docs/en/html/search/variables_c.html  \n",
      "  inflating: fastText-master/website/static/docs/en/html/search/variables_c.js  \n",
      "  inflating: fastText-master/website/static/docs/en/html/search/variables_d.html  \n",
      "  inflating: fastText-master/website/static/docs/en/html/search/variables_d.js  \n",
      "  inflating: fastText-master/website/static/docs/en/html/search/variables_e.html  \n",
      "  inflating: fastText-master/website/static/docs/en/html/search/variables_e.js  \n",
      "  inflating: fastText-master/website/static/docs/en/html/search/variables_f.html  \n",
      "  inflating: fastText-master/website/static/docs/en/html/search/variables_f.js  \n",
      "  inflating: fastText-master/website/static/docs/en/html/splitbar.png  \n",
      "  inflating: fastText-master/website/static/docs/en/html/structfasttext_1_1Node-members.html  \n",
      "  inflating: fastText-master/website/static/docs/en/html/structfasttext_1_1Node.html  \n",
      "  inflating: fastText-master/website/static/docs/en/html/structfasttext_1_1Node.js  \n",
      "  inflating: fastText-master/website/static/docs/en/html/structfasttext_1_1entry-members.html  \n",
      "  inflating: fastText-master/website/static/docs/en/html/structfasttext_1_1entry.html  \n",
      "  inflating: fastText-master/website/static/docs/en/html/structfasttext_1_1entry.js  \n",
      " extracting: fastText-master/website/static/docs/en/html/sync_off.png  \n",
      " extracting: fastText-master/website/static/docs/en/html/sync_on.png  \n",
      " extracting: fastText-master/website/static/docs/en/html/tab_a.png  \n",
      " extracting: fastText-master/website/static/docs/en/html/tab_b.png  \n",
      " extracting: fastText-master/website/static/docs/en/html/tab_h.png  \n",
      " extracting: fastText-master/website/static/docs/en/html/tab_s.png  \n",
      "  inflating: fastText-master/website/static/docs/en/html/tabs.css  \n",
      "  inflating: fastText-master/website/static/docs/en/html/utils_8cc.html  \n",
      "  inflating: fastText-master/website/static/docs/en/html/utils_8cc.js  \n",
      "  inflating: fastText-master/website/static/docs/en/html/utils_8h.html  \n",
      "  inflating: fastText-master/website/static/docs/en/html/utils_8h.js  \n",
      "  inflating: fastText-master/website/static/docs/en/html/utils_8h_source.html  \n",
      "  inflating: fastText-master/website/static/docs/en/html/vector_8cc.html  \n",
      "  inflating: fastText-master/website/static/docs/en/html/vector_8cc.js  \n",
      "  inflating: fastText-master/website/static/docs/en/html/vector_8h.html  \n",
      "  inflating: fastText-master/website/static/docs/en/html/vector_8h.js  \n",
      "  inflating: fastText-master/website/static/docs/en/html/vector_8h_source.html  \n",
      "  inflating: fastText-master/website/static/fasttext.css  \n",
      "   creating: fastText-master/website/static/img/\n",
      "   creating: fastText-master/website/static/img/authors/\n",
      "  inflating: fastText-master/website/static/img/authors/armand_joulin.jpg  \n",
      "  inflating: fastText-master/website/static/img/authors/christian_puhrsch.png  \n",
      "  inflating: fastText-master/website/static/img/authors/edouard_grave.jpeg  \n",
      "  inflating: fastText-master/website/static/img/authors/piotr_bojanowski.jpg  \n",
      "  inflating: fastText-master/website/static/img/authors/tomas_mikolov.jpg  \n",
      "   creating: fastText-master/website/static/img/blog/\n",
      "  inflating: fastText-master/website/static/img/blog/2016-08-18-blog-post-img1.png  \n",
      "  inflating: fastText-master/website/static/img/blog/2016-08-18-blog-post-img2.png  \n",
      "  inflating: fastText-master/website/static/img/blog/2017-05-02-blog-post-img1.jpg  \n",
      "  inflating: fastText-master/website/static/img/blog/2017-05-02-blog-post-img2.jpg  \n",
      "  inflating: fastText-master/website/static/img/blog/2017-10-02-blog-post-img1.png  \n",
      "  inflating: fastText-master/website/static/img/cbo_vs_skipgram.png  \n",
      "  inflating: fastText-master/website/static/img/fasttext-icon-api.png  \n",
      "  inflating: fastText-master/website/static/img/fasttext-icon-bg-web.png  \n",
      "  inflating: fastText-master/website/static/img/fasttext-icon-color-square.png  \n",
      "  inflating: fastText-master/website/static/img/fasttext-icon-color-web.png  \n",
      "  inflating: fastText-master/website/static/img/fasttext-icon-faq.png  \n",
      "  inflating: fastText-master/website/static/img/fasttext-icon-tutorial.png  \n",
      "  inflating: fastText-master/website/static/img/fasttext-icon-white-web.png  \n",
      "  inflating: fastText-master/website/static/img/fasttext-logo-color-web.png  \n",
      "  inflating: fastText-master/website/static/img/fasttext-logo-white-web.png  \n",
      "  inflating: fastText-master/website/static/img/logo-color.png  \n",
      "  inflating: fastText-master/website/static/img/model-black.png  \n",
      "  inflating: fastText-master/website/static/img/model-blue.png  \n",
      "  inflating: fastText-master/website/static/img/model-red.png  \n",
      "  inflating: fastText-master/website/static/img/ogimage.png  \n",
      "  inflating: fastText-master/website/static/img/oss_logo.png  \n",
      "  inflating: fastText-master/website/static/tabber.js  \n",
      "  inflating: fastText-master/wikifil.pl  \n",
      "  inflating: fastText-master/word-vector-example.sh  \n",
      "/content/fastText-master\n",
      "c++ -pthread -std=c++11 -march=native -O3 -funroll-loops -DNDEBUG -c src/args.cc\n",
      "c++ -pthread -std=c++11 -march=native -O3 -funroll-loops -DNDEBUG -c src/autotune.cc\n",
      "c++ -pthread -std=c++11 -march=native -O3 -funroll-loops -DNDEBUG -c src/matrix.cc\n",
      "c++ -pthread -std=c++11 -march=native -O3 -funroll-loops -DNDEBUG -c src/dictionary.cc\n",
      "c++ -pthread -std=c++11 -march=native -O3 -funroll-loops -DNDEBUG -c src/loss.cc\n",
      "c++ -pthread -std=c++11 -march=native -O3 -funroll-loops -DNDEBUG -c src/productquantizer.cc\n",
      "c++ -pthread -std=c++11 -march=native -O3 -funroll-loops -DNDEBUG -c src/densematrix.cc\n",
      "c++ -pthread -std=c++11 -march=native -O3 -funroll-loops -DNDEBUG -c src/quantmatrix.cc\n",
      "c++ -pthread -std=c++11 -march=native -O3 -funroll-loops -DNDEBUG -c src/vector.cc\n",
      "c++ -pthread -std=c++11 -march=native -O3 -funroll-loops -DNDEBUG -c src/model.cc\n",
      "c++ -pthread -std=c++11 -march=native -O3 -funroll-loops -DNDEBUG -c src/utils.cc\n",
      "c++ -pthread -std=c++11 -march=native -O3 -funroll-loops -DNDEBUG -c src/meter.cc\n",
      "c++ -pthread -std=c++11 -march=native -O3 -funroll-loops -DNDEBUG -c src/fasttext.cc\n",
      "c++ -pthread -std=c++11 -march=native -O3 -funroll-loops -DNDEBUG args.o autotune.o matrix.o dictionary.o loss.o productquantizer.o densematrix.o quantmatrix.o vector.o model.o utils.o meter.o fasttext.o src/main.cc -o fasttext\n",
      "/content\n"
     ]
    }
   ],
   "source": [
    "!wget https://github.com/facebookresearch/fastText/archive/master.zip\n",
    "!unzip master.zip\n",
    "%cd fastText-master\n",
    "!make\n",
    "%cd -"
   ]
  },
  {
   "cell_type": "code",
   "execution_count": 23,
   "metadata": {
    "colab": {
     "base_uri": "https://localhost:8080/"
    },
    "executionInfo": {
     "elapsed": 20853,
     "status": "ok",
     "timestamp": 1609692233949,
     "user": {
      "displayName": "Piotr Pęzik",
      "photoUrl": "https://lh3.googleusercontent.com/a-/AOh14GiZ7i0oPBUhmXYrUMEAOBIuQfvFWyKz4sEOLJ2otC4=s64",
      "userId": "15401984500622025149"
     },
     "user_tz": -60
    },
    "id": "nE3o06urB-9g",
    "outputId": "7d7870a9-1335-4da8-a592-5f86fa6ae843"
   },
   "outputs": [
    {
     "name": "stdout",
     "output_type": "stream",
     "text": [
      "Dataset size:  107667 86133 21534\n",
      "__label__news Aleksandra Budka po 8 latach rozstaje się z radiową Trójką\n",
      "__label__news Senat odrzucił sprawozdanie KRRiT za 2019 r. i informację o działalności Rady Mediów Narodowych\n",
      "__label__news Nowy serial „Król” od 6 listopada w Canal+ (oficjalny zwiastun)\n",
      "__label__news Technologia 5G dostępna także dla abonentów Plusa na Kartę\n",
      "__label__news Redaktorzy mediów niezależnych na Białorusi: trwa czystka przestrzeni medialnej\n",
      "__label__news Gabriela Łazarczyk odchodzi z \"Gazety Wyborczej\"\n",
      "__label__news Tomasz Jankowski rzecznikiem prasowym Zarządu Zasobu Komunalnego we Wrocławiu\n",
      "__label__news Xiaomi przedstawia smartfony Mi10T. Ekrany 6,67 cala i wydajne procesory w cenie od 249 do 649 euro\n",
      "__label__news Trzy nowe kanały w Play Now i Play Now TV, w październiku otwarte okno\n",
      "__label__news Rynek ekologicznych kosmetyków w Polsce wart niemal 200 milionów złotych\n",
      "\\n\n",
      "__label__business Wyborcy Trumpa wyjdą na ulice. Sądzą, że sfałszowano wybory\n",
      "__label__business Izrael zastrzelił jednego z liderów Al-Kaidy\n",
      "__label__business 37,1 proc. ankietowanych: Wygrana Bidena korzystna dla Polski\n",
      "__label__business Trump po raz pierwszy nie wykluczył porażki w wyborach\n",
      "__label__business Nieudany polski konserwatyzm w pułapce Kaczyńskiego\n",
      "__label__business UEFA chce zmiany przepisu o ręce w polu karnym\n",
      "__label__business \"Urodzeni artyści\". Jak lepiej żyć\n",
      "__label__business W Niemczech od trzech dni ponad 20 tys. zakażeń na dobę\n",
      "__label__business Niemcy: 22461 zakażenia koronawirusem w ciągu doby\n",
      "__label__news Trzy organizacje branży PR w Polsce. „Brak jednego sztandaru”\n"
     ]
    }
   ],
   "source": [
    "headlines_pl = read_json_documents('news_pl.jsonl')\n",
    "\n",
    "# Format plików treningowych/ testowych w FastText: ___\n",
    "\n",
    "dataset = []\n",
    "for hl in headlines_pl:\n",
    "    if hl['category'][0] in ['news','sport','business']:\n",
    "        dataset.append((\"__label__{} {}\".format(hl['category'][0],hl['title'])))\n",
    "\n",
    "# Prosty podział na trening/ test\n",
    "\n",
    "train = dataset[0:int(len(dataset)*0.8)]\n",
    "test = dataset[int(len(dataset)*0.8):]\n",
    "\n",
    "print(\"Dataset size: \",len(dataset),len(train),len(test))\n",
    "\n",
    "with open('news_pl_ft_train','w') as train_f:\n",
    "    for inst in train:\n",
    "        train_f.write(\"{}\\n\".format(inst))\n",
    "\n",
    "with open('news_pl_ft_test','w') as test_f:\n",
    "    for inst in test:\n",
    "        test_f.write(\"{}\\n\".format(inst))\n",
    "\n",
    "!head 'news_pl_ft_train'\n",
    "!echo '\\n'\n",
    "!head 'news_pl_ft_test'"
   ]
  },
  {
   "cell_type": "code",
   "execution_count": 25,
   "metadata": {
    "colab": {
     "base_uri": "https://localhost:8080/"
    },
    "executionInfo": {
     "elapsed": 93889,
     "status": "ok",
     "timestamp": 1609692347257,
     "user": {
      "displayName": "Piotr Pęzik",
      "photoUrl": "https://lh3.googleusercontent.com/a-/AOh14GiZ7i0oPBUhmXYrUMEAOBIuQfvFWyKz4sEOLJ2otC4=s64",
      "userId": "15401984500622025149"
     },
     "user_tz": -60
    },
    "id": "I_JNseIjB-9g",
    "outputId": "24df33d7-2dc7-4299-91c0-2a0460557949"
   },
   "outputs": [
    {
     "name": "stdout",
     "output_type": "stream",
     "text": [
      "\r",
      "Read 1M words\r",
      "Read 1M words\n",
      "Number of words:  35806\n",
      "Number of labels: 3\n",
      "Progress: 100.0% words/sec/thread:    8827 lr:  0.000000 avg.loss:  1.907964 ETA:   0h 0m 0s\n"
     ]
    }
   ],
   "source": [
    "# Tworzenie wektorów słów\n",
    "\n",
    "#!/opt/fastText-master/fasttext skipgram -minCount 3 -minn 3 -maxn 6 -dim 100 -epoch 7 -input news_pl_ft_train -output news_pl_vectors\n",
    "!./fastText-master/fasttext skipgram -minCount 3 -minn 3 -maxn 6 -dim 100 -epoch 7 -input news_pl_ft_train -output news_pl_vectors"
   ]
  },
  {
   "cell_type": "code",
   "execution_count": 27,
   "metadata": {
    "colab": {
     "base_uri": "https://localhost:8080/"
    },
    "executionInfo": {
     "elapsed": 10120,
     "status": "ok",
     "timestamp": 1609692841494,
     "user": {
      "displayName": "Piotr Pęzik",
      "photoUrl": "https://lh3.googleusercontent.com/a-/AOh14GiZ7i0oPBUhmXYrUMEAOBIuQfvFWyKz4sEOLJ2otC4=s64",
      "userId": "15401984500622025149"
     },
     "user_tz": -60
    },
    "id": "66nmiFiXB-9h",
    "outputId": "6d1fef4c-8cd4-45aa-a26a-6376692d22a6"
   },
   "outputs": [
    {
     "name": "stdout",
     "output_type": "stream",
     "text": [
      "Query word? ^C\n"
     ]
    }
   ],
   "source": [
    "# Test wektorów\n",
    "\n",
    "!./fastText-master/fasttext nn news_pl_vectors.bin"
   ]
  },
  {
   "cell_type": "code",
   "execution_count": 28,
   "metadata": {
    "colab": {
     "base_uri": "https://localhost:8080/"
    },
    "executionInfo": {
     "elapsed": 9326,
     "status": "ok",
     "timestamp": 1609692851548,
     "user": {
      "displayName": "Piotr Pęzik",
      "photoUrl": "https://lh3.googleusercontent.com/a-/AOh14GiZ7i0oPBUhmXYrUMEAOBIuQfvFWyKz4sEOLJ2otC4=s64",
      "userId": "15401984500622025149"
     },
     "user_tz": -60
    },
    "id": "y-4qcTT-B-9h",
    "outputId": "b0b35fb6-29d5-4ec2-8d8e-0e84507a7aea",
    "scrolled": true
   },
   "outputs": [
    {
     "name": "stdout",
     "output_type": "stream",
     "text": [
      "\r",
      "Read 1M words\r",
      "Read 1M words\n",
      "Number of words:  126244\n",
      "Number of labels: 3\n",
      "Progress: 100.0% words/sec/thread:  286701 lr:  0.000000 avg.loss:  0.290803 ETA:   0h 0m 0s\n"
     ]
    }
   ],
   "source": [
    "# Klasyfikator tekstu\n",
    "\n",
    "#!/opt/fastText-master/fasttext supervised -input news_pl_ft_train -output news_pl_model_simple\n",
    "!./fastText-master/fasttext supervised -input /content/news_pl_ft_train -output /content/news_pl_model_simple"
   ]
  },
  {
   "cell_type": "code",
   "execution_count": 29,
   "metadata": {
    "colab": {
     "base_uri": "https://localhost:8080/"
    },
    "executionInfo": {
     "elapsed": 1007,
     "status": "ok",
     "timestamp": 1609692855909,
     "user": {
      "displayName": "Piotr Pęzik",
      "photoUrl": "https://lh3.googleusercontent.com/a-/AOh14GiZ7i0oPBUhmXYrUMEAOBIuQfvFWyKz4sEOLJ2otC4=s64",
      "userId": "15401984500622025149"
     },
     "user_tz": -60
    },
    "id": "Zty5LOoAB-9h",
    "outputId": "aeb75023-beef-43e3-964b-01f3a6260e58"
   },
   "outputs": [
    {
     "name": "stdout",
     "output_type": "stream",
     "text": [
      "N\t21534\n",
      "P@1\t0.825\n",
      "R@1\t0.825\n"
     ]
    }
   ],
   "source": [
    "!./fastText-master/fasttext test news_pl_model_simple.bin news_pl_ft_test\n",
    "# Zauważmy, że komenda test w fastText liczy micro-average precision/ recall "
   ]
  },
  {
   "cell_type": "code",
   "execution_count": 30,
   "metadata": {
    "colab": {
     "base_uri": "https://localhost:8080/"
    },
    "executionInfo": {
     "elapsed": 29891,
     "status": "ok",
     "timestamp": 1609692887611,
     "user": {
      "displayName": "Piotr Pęzik",
      "photoUrl": "https://lh3.googleusercontent.com/a-/AOh14GiZ7i0oPBUhmXYrUMEAOBIuQfvFWyKz4sEOLJ2otC4=s64",
      "userId": "15401984500622025149"
     },
     "user_tz": -60
    },
    "id": "BT950B-lB-9h",
    "outputId": "b5924213-e4e3-4942-c244-0995ac113c5b"
   },
   "outputs": [
    {
     "name": "stdout",
     "output_type": "stream",
     "text": [
      "\r",
      "Read 1M words\r",
      "Read 1M words\n",
      "Number of words:  54460\n",
      "Number of labels: 3\n",
      "Progress: 100.0% words/sec/thread:   61710 lr:  0.000000 avg.loss:  0.319172 ETA:   0h 0m 0s\n"
     ]
    }
   ],
   "source": [
    "# Dokładniejszy model\n",
    "\n",
    "!./fastText-master/fasttext supervised -input news_pl_ft_train -output news_pl_model_better -minCount 2 -wordNgrams 2 -minn 2 -maxn 5 -bucket 2000000 -lr 0.05 -dim 10 -epoch 20\n"
   ]
  },
  {
   "cell_type": "code",
   "execution_count": 31,
   "metadata": {
    "colab": {
     "base_uri": "https://localhost:8080/"
    },
    "executionInfo": {
     "elapsed": 1202,
     "status": "ok",
     "timestamp": 1609692902642,
     "user": {
      "displayName": "Piotr Pęzik",
      "photoUrl": "https://lh3.googleusercontent.com/a-/AOh14GiZ7i0oPBUhmXYrUMEAOBIuQfvFWyKz4sEOLJ2otC4=s64",
      "userId": "15401984500622025149"
     },
     "user_tz": -60
    },
    "id": "O_CfnurrB-9i",
    "outputId": "93b3b4ac-9bc0-47e1-f92a-8848924677bb"
   },
   "outputs": [
    {
     "name": "stdout",
     "output_type": "stream",
     "text": [
      "N\t21534\n",
      "P@1\t0.848\n",
      "R@1\t0.848\n"
     ]
    }
   ],
   "source": [
    "# Test modelu\n",
    "!./fastText-master/fasttext test news_pl_model_better.bin news_pl_ft_test"
   ]
  },
  {
   "cell_type": "code",
   "execution_count": 33,
   "metadata": {
    "colab": {
     "base_uri": "https://localhost:8080/"
    },
    "executionInfo": {
     "elapsed": 5731,
     "status": "ok",
     "timestamp": 1609692917235,
     "user": {
      "displayName": "Piotr Pęzik",
      "photoUrl": "https://lh3.googleusercontent.com/a-/AOh14GiZ7i0oPBUhmXYrUMEAOBIuQfvFWyKz4sEOLJ2otC4=s64",
      "userId": "15401984500622025149"
     },
     "user_tz": -60
    },
    "id": "K3DsGVW1B-9i",
    "outputId": "de8c21e1-8368-49ab-9a92-ad929dfb567c"
   },
   "outputs": [
    {
     "name": "stdout",
     "output_type": "stream",
     "text": [
      "\r",
      "Read 0M words\n",
      "Number of words:  10492\n",
      "Number of labels: 3\n",
      "Progress: 100.0% words/sec/thread:   57025 lr:  0.000000 avg.loss:  0.537641 ETA:   0h 0m 0s\n",
      "N\t21534\n",
      "P@1\t0.789\n",
      "R@1\t0.789\n"
     ]
    }
   ],
   "source": [
    "# Przycinamy dane uczące do 10 tys. nagłówków\n",
    "\n",
    "!shuf news_pl_ft_train | head -10000 > news_pl_ft_train_10K\n",
    "\n",
    "!./fastText-master/fasttext supervised -input news_pl_ft_train_10K -output news_pl_model_10K -minCount 2  -wordNgrams 2 -minn 2 -maxn 5 -bucket 2000000 -lr 0.05 -dim 10 -epoch 20\n",
    "\n",
    "# Ewaluacja na całym testowym\n",
    "!./fastText-master/fasttext test news_pl_model_10K.bin news_pl_ft_test\n"
   ]
  },
  {
   "cell_type": "code",
   "execution_count": null,
   "metadata": {
    "colab": {
     "background_save": true
    },
    "id": "i4R85X73B-9j",
    "scrolled": true
   },
   "outputs": [
    {
     "name": "stdout",
     "output_type": "stream",
     "text": [
      "Read 0M words\n",
      "Number of words:  10492\n",
      "Number of labels: 3\n",
      "Progress: 100.0% words/sec/thread:   28468 lr:  0.000000 avg.loss:  0.431909 ETA:   0h 0m 0s\n",
      "N\t21534\n",
      "P@1\t0.817\n",
      "R@1\t0.817\n"
     ]
    }
   ],
   "source": [
    "# Trenujemy model\n",
    "!./fastText-master/fasttext supervised -input news_pl_ft_train_10K -output news_pl_model_10K \n",
    "-pretrainedVectors news_pl_vectors.vec  -minCount 2 -wordNgrams 2 -minn 2 -maxn 5 -bucket 2000000 \n",
    "-lr 0.05 -dim 100 -epoch 20\n",
    "\n",
    "# Ewaluacja na całym zbiorze testowym\n",
    "!./fastText-master/fasttext test news_pl_model_10K.bin news_pl_ft_test"
   ]
  },
  {
   "cell_type": "code",
   "execution_count": null,
   "metadata": {
    "id": "RKwY5Cm6B-9k"
   },
   "outputs": [],
   "source": [
    "# Dostępne są pretrenowane na danych internetowych wektory słów dla języka polskiego\n",
    "!wget https://dl.fbaipublicfiles.com/fasttext/vectors-crawl/cc.pl.300.vec.gz"
   ]
  }
 ],
 "metadata": {
  "colab": {
   "collapsed_sections": [],
   "name": "6.2_text-class.ipynb",
   "toc_visible": true,
   "version": ""
  },
  "kernelspec": {
   "display_name": "Python 3",
   "language": "python",
   "name": "python3"
  },
  "language_info": {
   "codemirror_mode": {
    "name": "ipython",
    "version": 3
   },
   "file_extension": ".py",
   "mimetype": "text/x-python",
   "name": "python",
   "nbconvert_exporter": "python",
   "pygments_lexer": "ipython3",
   "version": "3.7.2"
  }
 },
 "nbformat": 4,
 "nbformat_minor": 1
}
