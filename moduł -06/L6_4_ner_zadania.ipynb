{
  "nbformat": 4,
  "nbformat_minor": 0,
  "metadata": {
    "colab": {
      "name": "L6.4-ner-zadania.ipynb",
      "provenance": [],
      "collapsed_sections": [],
      "toc_visible": true
    },
    "kernelspec": {
      "display_name": "Python 3",
      "name": "python3"
    },
    "accelerator": "GPU"
  },
  "cells": [
    {
      "cell_type": "markdown",
      "metadata": {
        "id": "2UShbBsFN0Yo"
      },
      "source": [
        "# Rozpoznawanie jednostek nazewniczych (NER) — Zadania"
      ]
    },
    {
      "cell_type": "markdown",
      "metadata": {
        "id": "jMfuLFFpvWez"
      },
      "source": [
        "## Zadanie"
      ]
    },
    {
      "cell_type": "markdown",
      "metadata": {
        "id": "trxhchv3L6tx"
      },
      "source": [
        "Dla wybranej strony z Wikipedii porównaj rozpoznane jednostki nazewnicze przy użyciu spaCy (gruboziarnisty model NKJP) i PolDeepNer2 (drobnoziarnisty model KPWr).\n",
        "\n",
        "Porównanie powinno uwzględniać:\n",
        "1. Dla 20 najczęstszych form tekstowych rozpoznanych jako jednostki nazewnicze przez spaCy wypisz kategorie oraz liczność ich rozpoznania przez spaCy oraz PolDeepNer2, np. :\n",
        "```\n",
        "Gdańsk  [spaCy] (61) placeName   [PDN2] (58) nam_loc_gpe_city, ( 1) nam_org_institution, ( 1) nam_org_group_team, ( 2) nam_fac_goe_stop\n",
        "```\n",
        "2. Dla jednostki, dla której PolDeepNer2 wskazał więcej niż jedną kategorię, wypisz kontekst wystąpienia jednostki zinterpretowanej jako dana kategoria. Np. dla powyższego przykładu wypisz konteksty, w których `Gdańsk` został uznany za `nam_fac_goe_stop`, tj.\n",
        "```\n",
        "sanitarne lądowisko [Gdańsk]-Zaspa, a rok później\n",
        "i otwarto lądowisko [Gdańsk]-Szpital UCK.\n",
        "```\n",
        "3. Dla jednostki, która nie została znaleziona w wynikach PolDeepNer2 wypisz te jednostki, których częścią może być dana jednostka. Na przykład dla:\n",
        "```\n",
        "Europy               [spaCy] ( 4) geogName                   [PDN2] brak\n",
        "```\n",
        "Można uzyskać:\n",
        "```\n",
        "Mistrzostw Europy w Koszykówce Mężczyzn 2009 [('nam_eve_human_sport', 1)]\n",
        "Mistrzostw Europy w Piłce Nożnej 2012 [('nam_eve_human_sport', 1)]\n",
        "Mistrzostw Europy w Piłce Siatkowej Mężczyzn 2013 [('nam_eve_human_sport', 1)]\n",
        "Mistrzostw Europy w Piłce Ręcznej Mężczyzn 2016 [('nam_eve_human_sport', 1)]\n",
        "```"
      ]
    },
    {
      "cell_type": "markdown",
      "metadata": {
        "id": "ZuRSBSovMpR-"
      },
      "source": [
        "**Wskazówka**\n",
        "\n",
        "Przykładowa storna z Wikipedii:"
      ]
    },
    {
      "cell_type": "code",
      "metadata": {
        "id": "OMGHx-IsEvu2"
      },
      "source": [
        "url = 'https://pl.wikipedia.org/wiki/Gda%C5%84sk'"
      ],
      "execution_count": 1,
      "outputs": []
    },
    {
      "cell_type": "markdown",
      "metadata": {
        "id": "0y2O8IN9E1j-"
      },
      "source": [
        "**Pobranie treści strony**"
      ]
    },
    {
      "cell_type": "code",
      "metadata": {
        "colab": {
          "base_uri": "https://localhost:8080/"
        },
        "id": "LK-9SmAbGdJX",
        "outputId": "902ab70e-b5a8-41f6-e7ed-967969eec834"
      },
      "source": [
        "! pip install beautifulsoup4"
      ],
      "execution_count": 2,
      "outputs": [
        {
          "output_type": "stream",
          "text": [
            "Requirement already satisfied: beautifulsoup4 in /usr/local/lib/python3.6/dist-packages (4.6.3)\n"
          ],
          "name": "stdout"
        }
      ]
    },
    {
      "cell_type": "code",
      "metadata": {
        "colab": {
          "base_uri": "https://localhost:8080/"
        },
        "id": "RXMpLk8CE0oN",
        "outputId": "d120671c-6a05-477c-8787-d9bc280f613b"
      },
      "source": [
        "import requests\n",
        "from bs4 import BeautifulSoup\n",
        "import re\n",
        "\n",
        "page = requests.get('https://pl.wikipedia.org/wiki/Gda%C5%84sk')\n",
        "soup = BeautifulSoup(page.content)\n",
        "\n",
        "texts = []\n",
        "clean_regex = re.compile(r\"\\[\\d+\\]\") # Do usunięcia przypisów w postaci [1].\n",
        "\n",
        "for p in soup.select(\"div#mw-content-text p\"): \n",
        "  text = p.get_text().strip()\n",
        "  text = clean_regex.sub(\"\", text)\n",
        "  if len(text) > 100:\n",
        "    texts.append(text)\n",
        "\n",
        "print(len(texts))\n",
        "print(*texts[:10], sep=\"\\n\")"
      ],
      "execution_count": 70,
      "outputs": [
        {
          "output_type": "stream",
          "text": [
            "90\n",
            "Gdańsk (kaszub. Gduńsk, niem. Danzig, łac. Gedanum, Dantiscum, nid. Danswijk) – miasto na prawach powiatu w północnej Polsce w województwie pomorskim, położone nad Morzem Bałtyckim u ujścia Motławy do Wisły nad Zatoką Gdańską. Centrum kulturalne, naukowe i gospodarcze oraz węzeł komunikacyjny północnej Polski, stolica województwa pomorskiego. Ośrodek gospodarki morskiej z dużym portem handlowym.\n",
            "Gdańsk z 471 525 mieszkańcami zajmuje szóste miejsce w Polsce pod względem liczby ludności, a siódme miejsce pod względem powierzchni – 263,44 km². Ośrodek aglomeracji trójmiejskiej, nazywaną też gdańską, wraz z Gdynią i Sopotem tworzą Trójmiasto.\n",
            "Jest to miasto o ponadtysiącletniej historii, którego tożsamość na przestrzeni wieków kształtowała się pod wpływem różnych kultur. Gdańsk był również największym miastem Rzeczypospolitej Obojga Narodów, miastem królewskim i hanzeatyckim, posiadał prawo do czynnego uczestnictwa w akcie wyboru króla, w XVI w. był najbogatszym w Rzeczypospolitej. Miasto było też ważnym ośrodkiem kulturalnym. Gdańsk uznawany jest za symboliczne miejsce wybuchu II wojny światowej oraz początku upadku komunizmu w Europie Środkowej. Na terenie miasta znajdują się liczne zabytki architektury, działa w nim wiele instytucji i placówek kulturalnych.\n",
            "W Gdańsku odbywają się największe na świecie międzynarodowe targi bursztynu i wyrobów bursztynowych Amberif.\n",
            "Miasto jest położone nad Zatoką Gdańską, u ujścia Motławy do Wisły. Gdańsk leży na Żuławach Wiślanych, nadbrzeżna jego cześć na Mierzei Wiślanej, a zachodnie jego krańce na Pobrzeżu Kaszubskim i Pojezierzu Kaszubskim. Położenie Gdańska w obrębie czterech odmiennych jednostek fizycznogeograficznych powoduje duże zróżnicowanie przestrzenne warunków środowiska przyrodniczego na jego terenie. Na ukształtowanie terenu, układ hydrograficzny i parametry klimatyczne wpływa ponadto położenie miasta w strefie nadmorskiej, charakteryzującej się specyficznym oddziaływaniem morza na środowisko przyrodnicze lądu.\n",
            "Klimat w rejonie Gdańska uzależniony jest od morza, które działa jak pompa cieplna – latem odbiera ciepło, a zimą je oddaje. Skutkiem tego wiosna zaczyna się stosunkowo późno (w maju), temperatury powietrza latem są niższe od średniej krajowej (odczuwaną temperaturę dodatkowo obniża bryza morska) choć słońce mocno nagrzewa wodę w Zatoce Gdańskiej (do 24 °C). Jesień ciepła i pełna słońca trwa do października, zimy natomiast są raczej łagodne (w niektóre zimowe miesiące nie ma ani dnia mrozu a znaczniejszy opad śniegu nie utrzymuje się zwykle na gruncie dużo dłużej niż przez dwa tygodnie w roku). Wiatry wieją z różnych stron zależnie od pory roku. W lecie najczęściej z zachodu i północnego zachodu, zimą od lądu. Charakterystyczne dla wybrzeża są też wiatry sztormowe, które zasadniczo wieją zimą i osiągają zawrotne prędkości.\n",
            "Do zasobów przyrodniczych miasta należy duża powierzchnia zieleni. Tereny lasów i zieleni[e] zajmują w Gdańsku łącznie 24% powierzchni całkowitej miasta. Do terenów zieleni zalicza się tereny leśne (4589 ha), zieleń miejską (592 ha) i ogrody działkowe (957 ha). Z terenów zieleni urządzonej największe znaczenie mają duże obszary parkowe. Na obszarze miasta znajduje się 21 miejskich, ogólnie dostępnych parków, zajmujących łącznie powierzchnię ponad 180 ha. Największymi są Park im. Ronalda Reagana (62 ha), Park im. Jana Pawła II (25 ha), Park Oruński (19 ha), Park Steffensa (13,6 ha), Park Oliwski (11,3 ha), Park Ferberów (11 ha), Park nad Opływem Motławy (11 ha), Park Brzeźnieński (ok. 10 ha) oraz m.in. Park Jelitkowski, Park im. Jana Pawła II i tereny o charakterze parkowym wzdłuż al. Grunwaldzkiej we Wrzeszczu.\n",
            "W Gdańsku znajdują się duże połacie lasu, rosnącego na obszarach o urozmaiconej rzeźbie terenu, obfitujących w liczne wzniesienia (wyniosłości morenowe) i doliny. Taka rzeźba terenu sprzyja występowaniu unikatowych dla tego regionu, podgórskich gatunków flory. W północno-zachodniej części miasta lasy te sąsiadują bezpośrednio z terenami mieszkalnymi i głównymi ośrodkami miejskimi. Obszary o dużym znaczeniu przyrodniczym i krajobrazowym znajdujące się na terenie Gdańska (w 2008 roku było to w sumie 6005 ha, czyli 22,9% powierzchni miasta) objęte są ochroną prawną w czterech obszarach chronionego krajobrazu (z których największe znaczenie ma południowa część Trójmiejskiego Parku Krajobrazowego i znajdujące się na jego terenie Lasy Oliwskie), pięciu rezerwatach przyrody (położonych w obrębie wyżej wymienionych obszarów chronionych), dwóch zespołach przyrodniczo–krajobrazowych oraz w obrębie trzynastu użytków ekologicznych.\n",
            "W granicach administracyjnych miasta znajdują się 182 pomniki przyrody: 143 pojedyncze drzewa, 28 grup drzew, 1 aleja parkowa, 9 głazów narzutowych i 1 pomnik powierzchniowy. Tak duża ilość stawia je w czołówce Polskich miast pod względem ich ilości. Wśród drzew uznanych za pomniki przyrody najwięcej jest buków i dębów. Pomniki te miejscami skupione są blisko siebie, między innymi w rejonie starego Wrzeszcza, w parku Steffensa i w rejonie starej Oliwy.\n",
            "Położenie miasta w bliskim sąsiedztwie morza i znacznych połaci lasu sprzyja czystości środowiska. W przeglądach większych aglomeracji Gdańsk plasuje się w Polsce jako najczystsze miasto zarówno pod względem czystości powietrza, jak i czystości wody dostarczanej przez sieć wodno-kanalizacyjną.\n"
          ],
          "name": "stdout"
        }
      ]
    }
  ]
}