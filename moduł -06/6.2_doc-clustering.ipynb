{
 "cells": [
  {
   "cell_type": "markdown",
   "metadata": {
    "id": "IyTj32ED4Xj-"
   },
   "source": [
    "# Grupowanie dokumentów"
   ]
  },
  {
   "cell_type": "code",
   "execution_count": 2,
   "metadata": {
    "colab": {
     "base_uri": "https://localhost:8080/"
    },
    "executionInfo": {
     "elapsed": 22455,
     "status": "ok",
     "timestamp": 1609688042593,
     "user": {
      "displayName": "Piotr Pęzik",
      "photoUrl": "https://lh3.googleusercontent.com/a-/AOh14GiZ7i0oPBUhmXYrUMEAOBIuQfvFWyKz4sEOLJ2otC4=s64",
      "userId": "15401984500622025149"
     },
     "user_tz": -60
    },
    "id": "RbXCgOLP4cHF",
    "outputId": "2e3b7cf5-87da-493c-8a47-56877b074502"
   },
   "outputs": [
    {
     "name": "stdout",
     "output_type": "stream",
     "text": [
      "Collecting wikipedia\n",
      "  Downloading https://files.pythonhosted.org/packages/67/35/25e68fbc99e672127cc6fbb14b8ec1ba3dfef035bf1e4c90f78f24a80b7d/wikipedia-1.4.0.tar.gz\n",
      "Requirement already satisfied: beautifulsoup4 in /usr/local/lib/python3.6/dist-packages (from wikipedia) (4.6.3)\n",
      "Requirement already satisfied: requests<3.0.0,>=2.0.0 in /usr/local/lib/python3.6/dist-packages (from wikipedia) (2.23.0)\n",
      "Requirement already satisfied: urllib3!=1.25.0,!=1.25.1,<1.26,>=1.21.1 in /usr/local/lib/python3.6/dist-packages (from requests<3.0.0,>=2.0.0->wikipedia) (1.24.3)\n",
      "Requirement already satisfied: chardet<4,>=3.0.2 in /usr/local/lib/python3.6/dist-packages (from requests<3.0.0,>=2.0.0->wikipedia) (3.0.4)\n",
      "Requirement already satisfied: certifi>=2017.4.17 in /usr/local/lib/python3.6/dist-packages (from requests<3.0.0,>=2.0.0->wikipedia) (2020.12.5)\n",
      "Requirement already satisfied: idna<3,>=2.5 in /usr/local/lib/python3.6/dist-packages (from requests<3.0.0,>=2.0.0->wikipedia) (2.10)\n",
      "Building wheels for collected packages: wikipedia\n",
      "  Building wheel for wikipedia (setup.py) ... \u001b[?25l\u001b[?25hdone\n",
      "  Created wheel for wikipedia: filename=wikipedia-1.4.0-cp36-none-any.whl size=11686 sha256=5757a02c19bec72c942f12c39d7954f818e33427ee38f63878ce79d5f1cb90ab\n",
      "  Stored in directory: /root/.cache/pip/wheels/87/2a/18/4e471fd96d12114d16fe4a446d00c3b38fb9efcb744bd31f4a\n",
      "Successfully built wikipedia\n",
      "Installing collected packages: wikipedia\n",
      "Successfully installed wikipedia-1.4.0\n"
     ]
    }
   ],
   "source": [
    "!pip install wikipedia"
   ]
  },
  {
   "cell_type": "code",
   "execution_count": 3,
   "metadata": {
    "colab": {
     "base_uri": "https://localhost:8080/"
    },
    "executionInfo": {
     "elapsed": 24533,
     "status": "ok",
     "timestamp": 1609688053699,
     "user": {
      "displayName": "Piotr Pęzik",
      "photoUrl": "https://lh3.googleusercontent.com/a-/AOh14GiZ7i0oPBUhmXYrUMEAOBIuQfvFWyKz4sEOLJ2otC4=s64",
      "userId": "15401984500622025149"
     },
     "user_tz": -60
    },
    "id": "jr4FPmQ54XkD",
    "outputId": "51afce67-0825-4a6f-b7b0-f270be750409"
   },
   "outputs": [
    {
     "name": "stdout",
     "output_type": "stream",
     "text": [
      "Downloading: Klon_srebrzysty (1 of 14).\n",
      "Downloading: Dąb_czerwony (2 of 14).\n",
      "Downloading: Dąb_błotny (3 of 14).\n",
      "Downloading: Sosna_wejmutka (4 of 14).\n",
      "Downloading: Świerk_pospolity (5 of 14).\n",
      "Downloading: Szczur_wędrowny (6 of 14).\n",
      "Downloading: Szczur_śniady (7 of 14).\n",
      "Downloading: Mysz_domowa (8 of 14).\n",
      "Downloading: Suseł_perełkowany (9 of 14).\n",
      "Downloading: Wiewiórka_pospolita (10 of 14).\n",
      "Downloading: Mysz_komputerowa (11 of 14).\n",
      "Downloading: Dżojstik (12 of 14).\n",
      "Downloading: Klawiatura_komputerowa (13 of 14).\n",
      "Downloading: Monitor_komputera (14 of 14).\n"
     ]
    }
   ],
   "source": [
    "# For the original example of clustering English Wikipedia articles see: https://towardsdatascience.com/clustering-documents-with-python-97314ad6a78d\n",
    "\n",
    "# Dla języka polskiego pobieramy kilkanaście artykułów z Wikipedii z trzech różnych grup tematycznych: \n",
    "# 1) gatunki drzew, 2) gryzonie, 3) peryferia komputerowe\n",
    "\n",
    "import wikipedia\n",
    "\n",
    "wikipedia.set_lang(\"pl\")\n",
    "art_titles=[\n",
    "   'Klon_srebrzysty','Dąb_czerwony','Dąb_błotny','Sosna_wejmutka','Świerk_pospolity',\n",
    "   'Szczur_wędrowny','Szczur_śniady','Mysz_domowa','Suseł_perełkowany','Wiewiórka_pospolita',\n",
    "   'Mysz_komputerowa','Dżojstik','Klawiatura_komputerowa','Monitor_komputera'\n",
    "]\n",
    "art_texts=[]\n",
    "for ai, art in enumerate(art_titles):\n",
    "   print(\"Downloading: {} ({} of {}).\".format(art, ai + 1, len(art_titles)))\n",
    "   art_texts.append(wikipedia.page(art).content)\n",
    "\n"
   ]
  },
  {
   "cell_type": "code",
   "execution_count": 4,
   "metadata": {
    "colab": {
     "base_uri": "https://localhost:8080/"
    },
    "executionInfo": {
     "elapsed": 894,
     "status": "ok",
     "timestamp": 1609688122912,
     "user": {
      "displayName": "Piotr Pęzik",
      "photoUrl": "https://lh3.googleusercontent.com/a-/AOh14GiZ7i0oPBUhmXYrUMEAOBIuQfvFWyKz4sEOLJ2otC4=s64",
      "userId": "15401984500622025149"
     },
     "user_tz": -60
    },
    "id": "cVj_SRyO4XkF",
    "outputId": "ea9662f5-5ccd-4cc4-d069-e6f719f74fbf"
   },
   "outputs": [
    {
     "name": "stdout",
     "output_type": "stream",
     "text": [
      "Klon srebrzysty (Acer saccharinum L.) – gatunek drzew z rodziny mydleńcowatych (Sapindaceae). W obrębie rodzaju klasyfikowany do sekcji Rubra. Występuje we wschodniej Ameryce Północnej. Jest częstym gatunkiem drzewa w Stanach Zjednoczonych. Do Europy sprowadzony w roku 1725, a do Polski na początku \n",
      "Dąb czerwony (Quercus rubra L.) – gatunek drzew z rodziny bukowatych (Fagaceae). Pochodzi ze wschodniej części Ameryki Północnej, w której jest najpospolitszym gatunkiem dębu. W Polsce jest gatunkiem introdukowanym, ok. XIX w. został sprowadzony przez leśników jako gatunek pielęgnacyjny i ochronny. Zaliczany jest do roślin inwazyjnych – niebezpiecznych dla rodzimej flory – i jako taki powinien być usuwany z obszarów chronionych, a także z lasów p\n"
     ]
    }
   ],
   "source": [
    "# Drukujemy przykładowe dokumenty\n",
    "\n",
    "print(art_texts[0][0:300])\n",
    "print(art_texts[1][0:450])"
   ]
  },
  {
   "cell_type": "code",
   "execution_count": 5,
   "metadata": {
    "colab": {
     "base_uri": "https://localhost:8080/"
    },
    "executionInfo": {
     "elapsed": 1583,
     "status": "ok",
     "timestamp": 1609688125692,
     "user": {
      "displayName": "Piotr Pęzik",
      "photoUrl": "https://lh3.googleusercontent.com/a-/AOh14GiZ7i0oPBUhmXYrUMEAOBIuQfvFWyKz4sEOLJ2otC4=s64",
      "userId": "15401984500622025149"
     },
     "user_tz": -60
    },
    "id": "2XF1UMjG4XkF",
    "outputId": "8a75522c-8a0f-45f3-f5b4-52ad343a6f59"
   },
   "outputs": [
    {
     "name": "stdout",
     "output_type": "stream",
     "text": [
      "IDF\n",
      "\n",
      "[3.01490302 3.01490302 3.01490302 ... 3.01490302 3.01490302 3.01490302]\n",
      "\n",
      "TF-IDF\n",
      "\n",
      "(14, 6445)\n",
      "[[0.         0.         0.07040202 ... 0.         0.         0.        ]\n",
      " [0.         0.         0.         ... 0.         0.         0.        ]\n",
      " [0.         0.         0.         ... 0.         0.         0.        ]\n",
      " ...\n",
      " [0.         0.         0.         ... 0.         0.         0.        ]\n",
      " [0.         0.         0.         ... 0.         0.         0.        ]\n",
      " [0.         0.         0.         ... 0.         0.         0.        ]]\n"
     ]
    }
   ],
   "source": [
    "# Tworzymy wektory tf-idf z pobranych dokumentów, zob. moduł 3.3 i 3.8\n",
    "# W przypadku prawdziwych zbiorów można rozważyć uprzednią lematyzację \n",
    "\n",
    "from sklearn.feature_extraction.text import TfidfVectorizer\n",
    "vectorizer = TfidfVectorizer(sublinear_tf=True, min_df=1, norm='l2', encoding='utf-8')\n",
    "X = vectorizer.fit_transform(art_texts)\n",
    "\n",
    "# Słownik:\n",
    "# print({k: v for k, v in sorted(vectorizer.vocabulary_.items(), key=lambda item: item[1])})\n",
    "\n",
    "# Wagi:\n",
    "print(\"IDF\\n\")\n",
    "print(vectorizer.idf_)\n",
    "print(\"\\nTF-IDF\\n\")\n",
    "print(X.shape)\n",
    "print(X.toarray())"
   ]
  },
  {
   "cell_type": "code",
   "execution_count": 6,
   "metadata": {
    "colab": {
     "base_uri": "https://localhost:8080/"
    },
    "executionInfo": {
     "elapsed": 1048,
     "status": "ok",
     "timestamp": 1609688130079,
     "user": {
      "displayName": "Piotr Pęzik",
      "photoUrl": "https://lh3.googleusercontent.com/a-/AOh14GiZ7i0oPBUhmXYrUMEAOBIuQfvFWyKz4sEOLJ2otC4=s64",
      "userId": "15401984500622025149"
     },
     "user_tz": -60
    },
    "id": "f4wux6E24XkG",
    "outputId": "b4c6cb94-9dbf-40b1-f702-606abaf79a5b"
   },
   "outputs": [
    {
     "name": "stdout",
     "output_type": "stream",
     "text": [
      "                     title  cluster\n",
      "5          Szczur_wędrowny        0\n",
      "6            Szczur_śniady        0\n",
      "7              Mysz_domowa        0\n",
      "8        Suseł_perełkowany        0\n",
      "9      Wiewiórka_pospolita        0\n",
      "10        Mysz_komputerowa        1\n",
      "11                Dżojstik        1\n",
      "12  Klawiatura_komputerowa        1\n",
      "13       Monitor_komputera        1\n",
      "0          Klon_srebrzysty        2\n",
      "1             Dąb_czerwony        2\n",
      "2               Dąb_błotny        2\n",
      "3           Sosna_wejmutka        2\n",
      "4         Świerk_pospolity        2\n"
     ]
    }
   ],
   "source": [
    "# Następnie grupujemy dokumenty algorytmem centroidów K-means\n",
    "from sklearn.cluster import KMeans\n",
    "import pandas as pd \n",
    "\n",
    "max_iterations = 100 # Maksymalna liczba iteracji\n",
    "n_init = 10 # Liczba przebiegów z różną inicjalizacją centroidów\n",
    "true_k = 3 # Znana/ przybliżona/ pożądana liczba skupień\n",
    "\n",
    "model = KMeans(n_clusters=true_k, init='k-means++', max_iter=max_iterations, n_init=n_init)\n",
    "\n",
    "model.fit(X.toarray())\n",
    "labels=model.labels_\n",
    "res_df=pd.DataFrame(list(zip(art_titles,labels)),columns=['title','cluster'])\n",
    "print(res_df.sort_values(by=['cluster']))"
   ]
  },
  {
   "cell_type": "code",
   "execution_count": 7,
   "metadata": {
    "colab": {
     "base_uri": "https://localhost:8080/",
     "height": 298
    },
    "executionInfo": {
     "elapsed": 1123,
     "status": "ok",
     "timestamp": 1609688133382,
     "user": {
      "displayName": "Piotr Pęzik",
      "photoUrl": "https://lh3.googleusercontent.com/a-/AOh14GiZ7i0oPBUhmXYrUMEAOBIuQfvFWyKz4sEOLJ2otC4=s64",
      "userId": "15401984500622025149"
     },
     "user_tz": -60
    },
    "id": "FT2yB33g4XkG",
    "outputId": "aeb0a627-fa34-4915-c172-4fa4646304f1"
   },
   "outputs": [
    {
     "data": {
      "image/png": "[encoded data removed]",
      "text/plain": [
       "<Figure size 432x288 with 1 Axes>"
      ]
     },
     "metadata": {
      "needs_background": "light",
      "tags": []
     },
     "output_type": "display_data"
    }
   ],
   "source": [
    "# Przykład klastrowania hierarchicznego skopiowany z: https://scikit-learn.org/stable/auto_examples/cluster/plot_agglomerative_dendrogram.html#sphx-glr-auto-examples-cluster-plot-agglomerative-dendrogram-py\n",
    "# Scikit-learn: Machine Learning in Python, Pedregosa et al., JMLR 12, pp. 2825-2830, 2011.\n",
    "\n",
    "from scipy.cluster.hierarchy import dendrogram\n",
    "from sklearn.cluster import AgglomerativeClustering\n",
    "from matplotlib import pyplot as plt\n",
    "import numpy as np\n",
    "\n",
    "def plot_dendrogram(model, **kwargs):\n",
    "    # Create linkage matrix and then plot the dendrogram\n",
    "    # create the counts of samples under each node\n",
    "    counts = np.zeros(model.children_.shape[0])\n",
    "    n_samples = len(model.labels_)\n",
    "    for i, merge in enumerate(model.children_):\n",
    "        current_count = 0\n",
    "        for child_idx in merge:\n",
    "            if child_idx < n_samples:\n",
    "                current_count += 1  # leaf node\n",
    "            else:\n",
    "                current_count += counts[child_idx - n_samples]\n",
    "        counts[i] = current_count\n",
    "\n",
    "    linkage_matrix = np.column_stack([model.children_, model.distances_,\n",
    "                                      counts]).astype(float)\n",
    "    dendrogram(linkage_matrix, **kwargs)\n",
    "\n",
    "    \n",
    "model = AgglomerativeClustering(distance_threshold=0, n_clusters=None)\n",
    "\n",
    "model = model.fit(X.toarray())\n",
    "plt.title('Hierarchical Clustering Dendrogram')\n",
    "# plot the top three levels of the dendrogram\n",
    "plot_dendrogram(model, truncate_mode='level', p=3)\n",
    "plt.xlabel(\"Number of points in node (or index of point if no parenthesis).\")\n",
    "plt.show()\n",
    "    \n",
    "    "
   ]
  },
  {
   "cell_type": "code",
   "execution_count": 8,
   "metadata": {
    "colab": {
     "base_uri": "https://localhost:8080/"
    },
    "executionInfo": {
     "elapsed": 739,
     "status": "ok",
     "timestamp": 1609688142471,
     "user": {
      "displayName": "Piotr Pęzik",
      "photoUrl": "https://lh3.googleusercontent.com/a-/AOh14GiZ7i0oPBUhmXYrUMEAOBIuQfvFWyKz4sEOLJ2otC4=s64",
      "userId": "15401984500622025149"
     },
     "user_tz": -60
    },
    "id": "Wxi4GRA64XkH",
    "outputId": "6fcbe90a-bca8-47c1-9949-de9e878e2bbe"
   },
   "outputs": [
    {
     "name": "stdout",
     "output_type": "stream",
     "text": [
      "[1, 1, 1, 1, 1, 0, 0, 0, 0, 0, 2, 2, 2, 2]\n",
      "[ 8 10  7 11  3 13  9  4  6  1 12  5  2  0]\n",
      "0.9999999999999996\n",
      "0.4143050267559162\n",
      "0.5858778960946418\n"
     ]
    }
   ],
   "source": [
    "# Miary jednorodności i kompletności\n",
    "\n",
    "from sklearn import metrics\n",
    "\n",
    "true_labels = [1,1,1,1,1,0,0,0,0,0,2,2,2,2]\n",
    "\n",
    "print(true_labels)\n",
    "print(model.labels_)\n",
    "print(metrics.homogeneity_score(true_labels , model.labels_))\n",
    "print(metrics.completeness_score(true_labels, model.labels_))\n",
    "print(metrics.v_measure_score(true_labels , model.labels_))"
   ]
  },
  {
   "cell_type": "code",
   "execution_count": 9,
   "metadata": {
    "colab": {
     "base_uri": "https://localhost:8080/"
    },
    "executionInfo": {
     "elapsed": 903,
     "status": "ok",
     "timestamp": 1609688145941,
     "user": {
      "displayName": "Piotr Pęzik",
      "photoUrl": "https://lh3.googleusercontent.com/a-/AOh14GiZ7i0oPBUhmXYrUMEAOBIuQfvFWyKz4sEOLJ2otC4=s64",
      "userId": "15401984500622025149"
     },
     "user_tz": -60
    },
    "id": "NWWpCgij4XkH",
    "outputId": "eaeb9ac5-33b9-4770-df27-ecbac71add35"
   },
   "outputs": [
    {
     "name": "stdout",
     "output_type": "stream",
     "text": [
      "[1, 1, 1, 0, 0, 0]\n",
      "[0, 0, 0, 1, 1, 2]\n",
      "1.0\n",
      "0.6853314789615865\n",
      "0.8132898335036762\n"
     ]
    }
   ],
   "source": [
    "# Jednorodne ale niekompletne skupienia\n",
    "\n",
    "true_labels = [1,1,1,0,0,0]\n",
    "model_labels = [0,0,0,1,1,2]\n",
    "\n",
    "print(true_labels)\n",
    "print(model_labels)\n",
    "print(metrics.homogeneity_score(true_labels , model_labels))\n",
    "print(metrics.completeness_score(true_labels, model_labels))\n",
    "print(metrics.v_measure_score(true_labels , model_labels))"
   ]
  },
  {
   "cell_type": "code",
   "execution_count": 10,
   "metadata": {
    "colab": {
     "base_uri": "https://localhost:8080/"
    },
    "executionInfo": {
     "elapsed": 938,
     "status": "ok",
     "timestamp": 1609688148019,
     "user": {
      "displayName": "Piotr Pęzik",
      "photoUrl": "https://lh3.googleusercontent.com/a-/AOh14GiZ7i0oPBUhmXYrUMEAOBIuQfvFWyKz4sEOLJ2otC4=s64",
      "userId": "15401984500622025149"
     },
     "user_tz": -60
    },
    "id": "hw9-wL6l4XkI",
    "outputId": "9349e722-f147-469f-fdd1-dd5ea1acc956"
   },
   "outputs": [
    {
     "name": "stdout",
     "output_type": "stream",
     "text": [
      "[1, 1, 1, 0, 0, 0]\n",
      "[1, 1, 1, 1, 1, 1]\n",
      "3.203426503814918e-16\n",
      "1.0\n",
      "6.406853007629835e-16\n"
     ]
    }
   ],
   "source": [
    "# Kompletne ale niejednorodne skupienia\n",
    "\n",
    "true_labels = [1,1,1,0,0,0]\n",
    "model_labels = [1,1,1,1,1,1]\n",
    "\n",
    "print(true_labels)\n",
    "print(model_labels)\n",
    "print(metrics.homogeneity_score(true_labels , model_labels))\n",
    "print(metrics.completeness_score(true_labels, model_labels))\n",
    "print(metrics.v_measure_score(true_labels , model_labels))"
   ]
  },
  {
   "cell_type": "code",
   "execution_count": 11,
   "metadata": {
    "colab": {
     "base_uri": "https://localhost:8080/",
     "height": 295
    },
    "executionInfo": {
     "elapsed": 2138,
     "status": "ok",
     "timestamp": 1609688151380,
     "user": {
      "displayName": "Piotr Pęzik",
      "photoUrl": "https://lh3.googleusercontent.com/a-/AOh14GiZ7i0oPBUhmXYrUMEAOBIuQfvFWyKz4sEOLJ2otC4=s64",
      "userId": "15401984500622025149"
     },
     "user_tz": -60
    },
    "id": "McRMFysb4XkI",
    "outputId": "21ec169b-5b9f-45ad-df74-78d6f94b70ca"
   },
   "outputs": [
    {
     "data": {
      "image/png": "[encoded data removed]",
      "text/plain": [
       "<Figure size 432x288 with 1 Axes>"
      ]
     },
     "metadata": {
      "needs_background": "light",
      "tags": []
     },
     "output_type": "display_data"
    }
   ],
   "source": [
    "# Poszukiwanie optymalnej liczby skupień\n",
    "# Zob. https://towardsdatascience.com/clustering-documents-with-python-97314ad6a78d\n",
    "\n",
    "import pandas as pd\n",
    "import matplotlib.pyplot as mplt\n",
    "\n",
    "sum_of_sq_dist = [] # Suma kwadratów odległości od dokumentów do ich najbliższych centroidów\n",
    "K = range(2,5)\n",
    "for k in K:\n",
    "   km = KMeans(n_clusters=k, max_iter=max_iterations, n_init=n_init)\n",
    "   km = km.fit(X)\n",
    "   # Zob. też distortion metric, see: https://www.geeksforgeeks.org/elbow-method-for-optimal-value-of-k-in-kmeans/\n",
    "   sum_of_sq_dist.append(km.inertia_)\n",
    "mplt.plot(K, sum_of_sq_dist, 'bx-')\n",
    "mplt.xlabel('k')\n",
    "mplt.ylabel('Suma kwadratów odlegości')\n",
    "mplt.title('Wykres łokciowy')\n",
    "mplt.show()"
   ]
  },
  {
   "cell_type": "code",
   "execution_count": 3,
   "metadata": {
    "colab": {
     "base_uri": "https://localhost:8080/",
     "height": 1000
    },
    "executionInfo": {
     "elapsed": 12020,
     "status": "error",
     "timestamp": 1609690370776,
     "user": {
      "displayName": "Piotr Pęzik",
      "photoUrl": "https://lh3.googleusercontent.com/a-/AOh14GiZ7i0oPBUhmXYrUMEAOBIuQfvFWyKz4sEOLJ2otC4=s64",
      "userId": "15401984500622025149"
     },
     "user_tz": -60
    },
    "id": "pp_ksdYh4XkI",
    "outputId": "ffd7b1e7-ebde-49a3-a323-3287f30e30a7"
   },
   "outputs": [],
   "source": [
    "# Ciekawszy wykres łokciowy. Zob. https://www.scikit-yb.org/en/latest/api/cluster/elbow.html\n"
   ]
  },
  {
   "cell_type": "code",
   "execution_count": 14,
   "metadata": {
    "colab": {
     "base_uri": "https://localhost:8080/"
    },
    "executionInfo": {
     "elapsed": 10512,
     "status": "ok",
     "timestamp": 1609688238908,
     "user": {
      "displayName": "Piotr Pęzik",
      "photoUrl": "https://lh3.googleusercontent.com/a-/AOh14GiZ7i0oPBUhmXYrUMEAOBIuQfvFWyKz4sEOLJ2otC4=s64",
      "userId": "15401984500622025149"
     },
     "user_tz": -60
    },
    "id": "VqTZOeZy4XkJ",
    "outputId": "cd86396c-afb3-4481-a31e-d0c11cd6d933"
   },
   "outputs": [
    {
     "name": "stdout",
     "output_type": "stream",
     "text": [
      "Collecting MulticoreTSNE\n",
      "  Downloading https://files.pythonhosted.org/packages/2d/e8/2afa896fa4eebfa1d0d0ba2673fddac45582ec0f06b2bdda88108ced5425/MulticoreTSNE-0.1.tar.gz\n",
      "Requirement already satisfied: numpy in /usr/local/lib/python3.6/dist-packages (from MulticoreTSNE) (1.19.4)\n",
      "Requirement already satisfied: cffi in /usr/local/lib/python3.6/dist-packages (from MulticoreTSNE) (1.14.4)\n",
      "Requirement already satisfied: pycparser in /usr/local/lib/python3.6/dist-packages (from cffi->MulticoreTSNE) (2.20)\n",
      "Building wheels for collected packages: MulticoreTSNE\n",
      "  Building wheel for MulticoreTSNE (setup.py) ... \u001b[?25l\u001b[?25hdone\n",
      "  Created wheel for MulticoreTSNE: filename=MulticoreTSNE-0.1-cp36-cp36m-linux_x86_64.whl size=68503 sha256=db9d44da1bf85003a5b70bc0f792f22448b4450e981f635c86c24acf2c1e8f6f\n",
      "  Stored in directory: /root/.cache/pip/wheels/27/59/53/3b52ee63add3692254c30d687fa4dff4d128d0557861fb028e\n",
      "Successfully built MulticoreTSNE\n",
      "Installing collected packages: MulticoreTSNE\n",
      "Successfully installed MulticoreTSNE-0.1\n"
     ]
    }
   ],
   "source": [
    "!pip install MulticoreTSNE"
   ]
  },
  {
   "cell_type": "code",
   "execution_count": 15,
   "metadata": {
    "executionInfo": {
     "elapsed": 785,
     "status": "ok",
     "timestamp": 1609688242205,
     "user": {
      "displayName": "Piotr Pęzik",
      "photoUrl": "https://lh3.googleusercontent.com/a-/AOh14GiZ7i0oPBUhmXYrUMEAOBIuQfvFWyKz4sEOLJ2otC4=s64",
      "userId": "15401984500622025149"
     },
     "user_tz": -60
    },
    "id": "9VNxa_JO4XkJ"
   },
   "outputs": [],
   "source": [
    "from bokeh.io import output_notebook\n",
    "output_notebook()\n",
    "\n",
    "def load_data(doc_titles, doc_vectors, max_docs=100):\n",
    "    vecs = []\n",
    "    top_titles, tfidf_vecs = [], []\n",
    "    for dvi, dvc in enumerate(doc_vectors[:max_docs]):\n",
    "        top_titles.append(doc_titles[dvi])\n",
    "        tfidf_vecs.append(dvc)     \n",
    "    return top_titles, np.array(tfidf_vecs)\n",
    "    \n",
    "doc_vecs = load_data(art_titles, X.toarray())\n",
    "#print(doc_vecs)\n",
    "\n"
   ]
  },
  {
   "cell_type": "code",
   "execution_count": 16,
   "metadata": {
    "colab": {
     "base_uri": "https://localhost:8080/",
     "height": 737
    },
    "executionInfo": {
     "elapsed": 788,
     "status": "ok",
     "timestamp": 1609688247634,
     "user": {
      "displayName": "Piotr Pęzik",
      "photoUrl": "https://lh3.googleusercontent.com/a-/AOh14GiZ7i0oPBUhmXYrUMEAOBIuQfvFWyKz4sEOLJ2otC4=s64",
      "userId": "15401984500622025149"
     },
     "user_tz": -60
    },
    "id": "QN-pYsjI4XkJ",
    "outputId": "9c5d87ac-473d-46ac-9b56-276ec3154815"
   },
   "outputs": [
    {
     "data": {
      "application/javascript": [
       "\n",
       "(function(root) {\n",
       "  function now() {\n",
       "    return new Date();\n",
       "  }\n",
       "\n",
       "  var force = true;\n",
       "\n",
       "  if (typeof root._bokeh_onload_callbacks === \"undefined\" || force === true) {\n",
       "    root._bokeh_onload_callbacks = [];\n",
       "    root._bokeh_is_loading = undefined;\n",
       "  }\n",
       "\n",
       "  var JS_MIME_TYPE = 'application/javascript';\n",
       "  var HTML_MIME_TYPE = 'text/html';\n",
       "  var EXEC_MIME_TYPE = 'application/vnd.bokehjs_exec.v0+json';\n",
       "  var CLASS_NAME = 'output_bokeh rendered_html';\n",
       "\n",
       "  /**\n",
       "   * Render data to the DOM node\n",
       "   */\n",
       "  function render(props, node) {\n",
       "    var script = document.createElement(\"script\");\n",
       "    node.appendChild(script);\n",
       "  }\n",
       "\n",
       "  /**\n",
       "   * Handle when an output is cleared or removed\n",
       "   */\n",
       "  function handleClearOutput(event, handle) {\n",
       "    var cell = handle.cell;\n",
       "\n",
       "    var id = cell.output_area._bokeh_element_id;\n",
       "    var server_id = cell.output_area._bokeh_server_id;\n",
       "    // Clean up Bokeh references\n",
       "    if (id != null && id in Bokeh.index) {\n",
       "      Bokeh.index[id].model.document.clear();\n",
       "      delete Bokeh.index[id];\n",
       "    }\n",
       "\n",
       "    if (server_id !== undefined) {\n",
       "      // Clean up Bokeh references\n",
       "      var cmd = \"from bokeh.io.state import curstate; print(curstate().uuid_to_server['\" + server_id + \"'].get_sessions()[0].document.roots[0]._id)\";\n",
       "      cell.notebook.kernel.execute(cmd, {\n",
       "        iopub: {\n",
       "          output: function(msg) {\n",
       "            var id = msg.content.text.trim();\n",
       "            if (id in Bokeh.index) {\n",
       "              Bokeh.index[id].model.document.clear();\n",
       "              delete Bokeh.index[id];\n",
       "            }\n",
       "          }\n",
       "        }\n",
       "      });\n",
       "      // Destroy server and session\n",
       "      var cmd = \"import bokeh.io.notebook as ion; ion.destroy_server('\" + server_id + \"')\";\n",
       "      cell.notebook.kernel.execute(cmd);\n",
       "    }\n",
       "  }\n",
       "\n",
       "  /**\n",
       "   * Handle when a new output is added\n",
       "   */\n",
       "  function handleAddOutput(event, handle) {\n",
       "    var output_area = handle.output_area;\n",
       "    var output = handle.output;\n",
       "\n",
       "    // limit handleAddOutput to display_data with EXEC_MIME_TYPE content only\n",
       "    if ((output.output_type != \"display_data\") || (!output.data.hasOwnProperty(EXEC_MIME_TYPE))) {\n",
       "      return\n",
       "    }\n",
       "\n",
       "    var toinsert = output_area.element.find(\".\" + CLASS_NAME.split(' ')[0]);\n",
       "\n",
       "    if (output.metadata[EXEC_MIME_TYPE][\"id\"] !== undefined) {\n",
       "      toinsert[toinsert.length - 1].firstChild.textContent = output.data[JS_MIME_TYPE];\n",
       "      // store reference to embed id on output_area\n",
       "      output_area._bokeh_element_id = output.metadata[EXEC_MIME_TYPE][\"id\"];\n",
       "    }\n",
       "    if (output.metadata[EXEC_MIME_TYPE][\"server_id\"] !== undefined) {\n",
       "      var bk_div = document.createElement(\"div\");\n",
       "      bk_div.innerHTML = output.data[HTML_MIME_TYPE];\n",
       "      var script_attrs = bk_div.children[0].attributes;\n",
       "      for (var i = 0; i < script_attrs.length; i++) {\n",
       "        toinsert[toinsert.length - 1].firstChild.setAttribute(script_attrs[i].name, script_attrs[i].value);\n",
       "        toinsert[toinsert.length - 1].firstChild.textContent = bk_div.children[0].textContent\n",
       "      }\n",
       "      // store reference to server id on output_area\n",
       "      output_area._bokeh_server_id = output.metadata[EXEC_MIME_TYPE][\"server_id\"];\n",
       "    }\n",
       "  }\n",
       "\n",
       "  function register_renderer(events, OutputArea) {\n",
       "\n",
       "    function append_mime(data, metadata, element) {\n",
       "      // create a DOM node to render to\n",
       "      var toinsert = this.create_output_subarea(\n",
       "        metadata,\n",
       "        CLASS_NAME,\n",
       "        EXEC_MIME_TYPE\n",
       "      );\n",
       "      this.keyboard_manager.register_events(toinsert);\n",
       "      // Render to node\n",
       "      var props = {data: data, metadata: metadata[EXEC_MIME_TYPE]};\n",
       "      render(props, toinsert[toinsert.length - 1]);\n",
       "      element.append(toinsert);\n",
       "      return toinsert\n",
       "    }\n",
       "\n",
       "    /* Handle when an output is cleared or removed */\n",
       "    events.on('clear_output.CodeCell', handleClearOutput);\n",
       "    events.on('delete.Cell', handleClearOutput);\n",
       "\n",
       "    /* Handle when a new output is added */\n",
       "    events.on('output_added.OutputArea', handleAddOutput);\n",
       "\n",
       "    /**\n",
       "     * Register the mime type and append_mime function with output_area\n",
       "     */\n",
       "    OutputArea.prototype.register_mime_type(EXEC_MIME_TYPE, append_mime, {\n",
       "      /* Is output safe? */\n",
       "      safe: true,\n",
       "      /* Index of renderer in `output_area.display_order` */\n",
       "      index: 0\n",
       "    });\n",
       "  }\n",
       "\n",
       "  // register the mime type if in Jupyter Notebook environment and previously unregistered\n",
       "  if (root.Jupyter !== undefined) {\n",
       "    var events = require('base/js/events');\n",
       "    var OutputArea = require('notebook/js/outputarea').OutputArea;\n",
       "\n",
       "    if (OutputArea.prototype.mime_types().indexOf(EXEC_MIME_TYPE) == -1) {\n",
       "      register_renderer(events, OutputArea);\n",
       "    }\n",
       "  }\n",
       "\n",
       "  \n",
       "  if (typeof (root._bokeh_timeout) === \"undefined\" || force === true) {\n",
       "    root._bokeh_timeout = Date.now() + 5000;\n",
       "    root._bokeh_failed_load = false;\n",
       "  }\n",
       "\n",
       "  var NB_LOAD_WARNING = {'data': {'text/html':\n",
       "     \"<div style='background-color: #fdd'>\\n\"+\n",
       "     \"<p>\\n\"+\n",
       "     \"BokehJS does not appear to have successfully loaded. If loading BokehJS from CDN, this \\n\"+\n",
       "     \"may be due to a slow or bad network connection. Possible fixes:\\n\"+\n",
       "     \"</p>\\n\"+\n",
       "     \"<ul>\\n\"+\n",
       "     \"<li>re-rerun `output_notebook()` to attempt to load from CDN again, or</li>\\n\"+\n",
       "     \"<li>use INLINE resources instead, as so:</li>\\n\"+\n",
       "     \"</ul>\\n\"+\n",
       "     \"<code>\\n\"+\n",
       "     \"from bokeh.resources import INLINE\\n\"+\n",
       "     \"output_notebook(resources=INLINE)\\n\"+\n",
       "     \"</code>\\n\"+\n",
       "     \"</div>\"}};\n",
       "\n",
       "  function display_loaded() {\n",
       "    var el = document.getElementById(null);\n",
       "    if (el != null) {\n",
       "      el.textContent = \"BokehJS is loading...\";\n",
       "    }\n",
       "    if (root.Bokeh !== undefined) {\n",
       "      if (el != null) {\n",
       "        el.textContent = \"BokehJS \" + root.Bokeh.version + \" successfully loaded.\";\n",
       "      }\n",
       "    } else if (Date.now() < root._bokeh_timeout) {\n",
       "      setTimeout(display_loaded, 100)\n",
       "    }\n",
       "  }\n",
       "\n",
       "\n",
       "  function run_callbacks() {\n",
       "    try {\n",
       "      root._bokeh_onload_callbacks.forEach(function(callback) {\n",
       "        if (callback != null)\n",
       "          callback();\n",
       "      });\n",
       "    } finally {\n",
       "      delete root._bokeh_onload_callbacks\n",
       "    }\n",
       "    console.debug(\"Bokeh: all callbacks have finished\");\n",
       "  }\n",
       "\n",
       "  function load_libs(css_urls, js_urls, callback) {\n",
       "    if (css_urls == null) css_urls = [];\n",
       "    if (js_urls == null) js_urls = [];\n",
       "\n",
       "    root._bokeh_onload_callbacks.push(callback);\n",
       "    if (root._bokeh_is_loading > 0) {\n",
       "      console.debug(\"Bokeh: BokehJS is being loaded, scheduling callback at\", now());\n",
       "      return null;\n",
       "    }\n",
       "    if (js_urls == null || js_urls.length === 0) {\n",
       "      run_callbacks();\n",
       "      return null;\n",
       "    }\n",
       "    console.debug(\"Bokeh: BokehJS not loaded, scheduling load and callback at\", now());\n",
       "    root._bokeh_is_loading = css_urls.length + js_urls.length;\n",
       "\n",
       "    function on_load() {\n",
       "      root._bokeh_is_loading--;\n",
       "      if (root._bokeh_is_loading === 0) {\n",
       "        console.debug(\"Bokeh: all BokehJS libraries/stylesheets loaded\");\n",
       "        run_callbacks()\n",
       "      }\n",
       "    }\n",
       "\n",
       "    function on_error() {\n",
       "      console.error(\"failed to load \" + url);\n",
       "    }\n",
       "\n",
       "    for (var i = 0; i < css_urls.length; i++) {\n",
       "      var url = css_urls[i];\n",
       "      const element = document.createElement(\"link\");\n",
       "      element.onload = on_load;\n",
       "      element.onerror = on_error;\n",
       "      element.rel = \"stylesheet\";\n",
       "      element.type = \"text/css\";\n",
       "      element.href = url;\n",
       "      console.debug(\"Bokeh: injecting link tag for BokehJS stylesheet: \", url);\n",
       "      document.body.appendChild(element);\n",
       "    }\n",
       "\n",
       "    const hashes = {\"https://cdn.bokeh.org/bokeh/release/bokeh-2.1.1.min.js\": \"kLr4fYcqcSpbuI95brIH3vnnYCquzzSxHPU6XGQCIkQRGJwhg0StNbj1eegrHs12\", \"https://cdn.bokeh.org/bokeh/release/bokeh-widgets-2.1.1.min.js\": \"xIGPmVtaOm+z0BqfSOMn4lOR6ciex448GIKG4eE61LsAvmGj48XcMQZtKcE/UXZe\", \"https://cdn.bokeh.org/bokeh/release/bokeh-tables-2.1.1.min.js\": \"Dc9u1wF/0zApGIWoBbH77iWEHtdmkuYWG839Uzmv8y8yBLXebjO9ZnERsde5Ln/P\", \"https://cdn.bokeh.org/bokeh/release/bokeh-gl-2.1.1.min.js\": \"cT9JaBz7GiRXdENrJLZNSC6eMNF3nh3fa5fTF51Svp+ukxPdwcU5kGXGPBgDCa2j\"};\n",
       "\n",
       "    for (var i = 0; i < js_urls.length; i++) {\n",
       "      var url = js_urls[i];\n",
       "      var element = document.createElement('script');\n",
       "      element.onload = on_load;\n",
       "      element.onerror = on_error;\n",
       "      element.async = false;\n",
       "      element.src = url;\n",
       "      if (url in hashes) {\n",
       "        element.crossOrigin = \"anonymous\";\n",
       "        element.integrity = \"sha384-\" + hashes[url];\n",
       "      }\n",
       "      console.debug(\"Bokeh: injecting script tag for BokehJS library: \", url);\n",
       "      document.head.appendChild(element);\n",
       "    }\n",
       "  };\n",
       "\n",
       "  function inject_raw_css(css) {\n",
       "    const element = document.createElement(\"style\");\n",
       "    element.appendChild(document.createTextNode(css));\n",
       "    document.body.appendChild(element);\n",
       "  }\n",
       "\n",
       "  \n",
       "  var js_urls = [\"https://cdn.bokeh.org/bokeh/release/bokeh-2.1.1.min.js\", \"https://cdn.bokeh.org/bokeh/release/bokeh-widgets-2.1.1.min.js\", \"https://cdn.bokeh.org/bokeh/release/bokeh-tables-2.1.1.min.js\", \"https://cdn.bokeh.org/bokeh/release/bokeh-gl-2.1.1.min.js\"];\n",
       "  var css_urls = [];\n",
       "  \n",
       "\n",
       "  var inline_js = [\n",
       "    function(Bokeh) {\n",
       "      Bokeh.set_log_level(\"info\");\n",
       "    },\n",
       "    function(Bokeh) {\n",
       "    \n",
       "    \n",
       "    }\n",
       "  ];\n",
       "\n",
       "  function run_inline_js() {\n",
       "    \n",
       "    if (root.Bokeh !== undefined || force === true) {\n",
       "      \n",
       "    for (var i = 0; i < inline_js.length; i++) {\n",
       "      inline_js[i].call(root, root.Bokeh);\n",
       "    }\n",
       "    } else if (Date.now() < root._bokeh_timeout) {\n",
       "      setTimeout(run_inline_js, 100);\n",
       "    } else if (!root._bokeh_failed_load) {\n",
       "      console.log(\"Bokeh: BokehJS failed to load within specified timeout.\");\n",
       "      root._bokeh_failed_load = true;\n",
       "    } else if (force !== true) {\n",
       "      var cell = $(document.getElementById(null)).parents('.cell').data().cell;\n",
       "      cell.output_area.append_execute_result(NB_LOAD_WARNING)\n",
       "    }\n",
       "\n",
       "  }\n",
       "\n",
       "  if (root._bokeh_is_loading === 0) {\n",
       "    console.debug(\"Bokeh: BokehJS loaded, going straight to plotting\");\n",
       "    run_inline_js();\n",
       "  } else {\n",
       "    load_libs(css_urls, js_urls, function() {\n",
       "      console.debug(\"Bokeh: BokehJS plotting callback run at\", now());\n",
       "      run_inline_js();\n",
       "    });\n",
       "  }\n",
       "}(window));"
      ],
      "application/vnd.bokehjs_load.v0+json": "\n(function(root) {\n  function now() {\n    return new Date();\n  }\n\n  var force = true;\n\n  if (typeof root._bokeh_onload_callbacks === \"undefined\" || force === true) {\n    root._bokeh_onload_callbacks = [];\n    root._bokeh_is_loading = undefined;\n  }\n\n  \n\n  \n  if (typeof (root._bokeh_timeout) === \"undefined\" || force === true) {\n    root._bokeh_timeout = Date.now() + 5000;\n    root._bokeh_failed_load = false;\n  }\n\n  var NB_LOAD_WARNING = {'data': {'text/html':\n     \"<div style='background-color: #fdd'>\\n\"+\n     \"<p>\\n\"+\n     \"BokehJS does not appear to have successfully loaded. If loading BokehJS from CDN, this \\n\"+\n     \"may be due to a slow or bad network connection. Possible fixes:\\n\"+\n     \"</p>\\n\"+\n     \"<ul>\\n\"+\n     \"<li>re-rerun `output_notebook()` to attempt to load from CDN again, or</li>\\n\"+\n     \"<li>use INLINE resources instead, as so:</li>\\n\"+\n     \"</ul>\\n\"+\n     \"<code>\\n\"+\n     \"from bokeh.resources import INLINE\\n\"+\n     \"output_notebook(resources=INLINE)\\n\"+\n     \"</code>\\n\"+\n     \"</div>\"}};\n\n  function display_loaded() {\n    var el = document.getElementById(null);\n    if (el != null) {\n      el.textContent = \"BokehJS is loading...\";\n    }\n    if (root.Bokeh !== undefined) {\n      if (el != null) {\n        el.textContent = \"BokehJS \" + root.Bokeh.version + \" successfully loaded.\";\n      }\n    } else if (Date.now() < root._bokeh_timeout) {\n      setTimeout(display_loaded, 100)\n    }\n  }\n\n\n  function run_callbacks() {\n    try {\n      root._bokeh_onload_callbacks.forEach(function(callback) {\n        if (callback != null)\n          callback();\n      });\n    } finally {\n      delete root._bokeh_onload_callbacks\n    }\n    console.debug(\"Bokeh: all callbacks have finished\");\n  }\n\n  function load_libs(css_urls, js_urls, callback) {\n    if (css_urls == null) css_urls = [];\n    if (js_urls == null) js_urls = [];\n\n    root._bokeh_onload_callbacks.push(callback);\n    if (root._bokeh_is_loading > 0) {\n      console.debug(\"Bokeh: BokehJS is being loaded, scheduling callback at\", now());\n      return null;\n    }\n    if (js_urls == null || js_urls.length === 0) {\n      run_callbacks();\n      return null;\n    }\n    console.debug(\"Bokeh: BokehJS not loaded, scheduling load and callback at\", now());\n    root._bokeh_is_loading = css_urls.length + js_urls.length;\n\n    function on_load() {\n      root._bokeh_is_loading--;\n      if (root._bokeh_is_loading === 0) {\n        console.debug(\"Bokeh: all BokehJS libraries/stylesheets loaded\");\n        run_callbacks()\n      }\n    }\n\n    function on_error() {\n      console.error(\"failed to load \" + url);\n    }\n\n    for (var i = 0; i < css_urls.length; i++) {\n      var url = css_urls[i];\n      const element = document.createElement(\"link\");\n      element.onload = on_load;\n      element.onerror = on_error;\n      element.rel = \"stylesheet\";\n      element.type = \"text/css\";\n      element.href = url;\n      console.debug(\"Bokeh: injecting link tag for BokehJS stylesheet: \", url);\n      document.body.appendChild(element);\n    }\n\n    const hashes = {\"https://cdn.bokeh.org/bokeh/release/bokeh-2.1.1.min.js\": \"kLr4fYcqcSpbuI95brIH3vnnYCquzzSxHPU6XGQCIkQRGJwhg0StNbj1eegrHs12\", \"https://cdn.bokeh.org/bokeh/release/bokeh-widgets-2.1.1.min.js\": \"xIGPmVtaOm+z0BqfSOMn4lOR6ciex448GIKG4eE61LsAvmGj48XcMQZtKcE/UXZe\", \"https://cdn.bokeh.org/bokeh/release/bokeh-tables-2.1.1.min.js\": \"Dc9u1wF/0zApGIWoBbH77iWEHtdmkuYWG839Uzmv8y8yBLXebjO9ZnERsde5Ln/P\", \"https://cdn.bokeh.org/bokeh/release/bokeh-gl-2.1.1.min.js\": \"cT9JaBz7GiRXdENrJLZNSC6eMNF3nh3fa5fTF51Svp+ukxPdwcU5kGXGPBgDCa2j\"};\n\n    for (var i = 0; i < js_urls.length; i++) {\n      var url = js_urls[i];\n      var element = document.createElement('script');\n      element.onload = on_load;\n      element.onerror = on_error;\n      element.async = false;\n      element.src = url;\n      if (url in hashes) {\n        element.crossOrigin = \"anonymous\";\n        element.integrity = \"sha384-\" + hashes[url];\n      }\n      console.debug(\"Bokeh: injecting script tag for BokehJS library: \", url);\n      document.head.appendChild(element);\n    }\n  };\n\n  function inject_raw_css(css) {\n    const element = document.createElement(\"style\");\n    element.appendChild(document.createTextNode(css));\n    document.body.appendChild(element);\n  }\n\n  \n  var js_urls = [\"https://cdn.bokeh.org/bokeh/release/bokeh-2.1.1.min.js\", \"https://cdn.bokeh.org/bokeh/release/bokeh-widgets-2.1.1.min.js\", \"https://cdn.bokeh.org/bokeh/release/bokeh-tables-2.1.1.min.js\", \"https://cdn.bokeh.org/bokeh/release/bokeh-gl-2.1.1.min.js\"];\n  var css_urls = [];\n  \n\n  var inline_js = [\n    function(Bokeh) {\n      Bokeh.set_log_level(\"info\");\n    },\n    function(Bokeh) {\n    \n    \n    }\n  ];\n\n  function run_inline_js() {\n    \n    if (root.Bokeh !== undefined || force === true) {\n      \n    for (var i = 0; i < inline_js.length; i++) {\n      inline_js[i].call(root, root.Bokeh);\n    }\n    } else if (Date.now() < root._bokeh_timeout) {\n      setTimeout(run_inline_js, 100);\n    } else if (!root._bokeh_failed_load) {\n      console.log(\"Bokeh: BokehJS failed to load within specified timeout.\");\n      root._bokeh_failed_load = true;\n    } else if (force !== true) {\n      var cell = $(document.getElementById(null)).parents('.cell').data().cell;\n      cell.output_area.append_execute_result(NB_LOAD_WARNING)\n    }\n\n  }\n\n  if (root._bokeh_is_loading === 0) {\n    console.debug(\"Bokeh: BokehJS loaded, going straight to plotting\");\n    run_inline_js();\n  } else {\n    load_libs(css_urls, js_urls, function() {\n      console.debug(\"Bokeh: BokehJS plotting callback run at\", now());\n      run_inline_js();\n    });\n  }\n}(window));"
     },
     "metadata": {
      "tags": []
     },
     "output_type": "display_data"
    },
    {
     "data": {
      "text/html": [
       "\n",
       "\n",
       "\n",
       "\n",
       "\n",
       "\n",
       "  <div class=\"bk-root\" id=\"d4ee7ec6-2ada-4a0f-ba70-601542e1d79d\" data-root-id=\"1003\"></div>\n"
      ]
     },
     "metadata": {
      "tags": []
     },
     "output_type": "display_data"
    },
    {
     "data": {
      "application/javascript": [
       "(function(root) {\n",
       "  function embed_document(root) {\n",
       "    \n",
       "  var docs_json = {\"77da1867-8fc0-402e-b387-18ec5126a3ff\":{\"roots\":{\"references\":[{\"attributes\":{\"below\":[{\"id\":\"1014\"}],\"center\":[{\"id\":\"1017\"},{\"id\":\"1021\"},{\"id\":\"1035\"}],\"left\":[{\"id\":\"1018\"}],\"plot_height\":720,\"plot_width\":1200,\"renderers\":[{\"id\":\"1033\"}],\"title\":{\"id\":\"1004\"},\"toolbar\":{\"id\":\"1025\"},\"x_range\":{\"id\":\"1006\"},\"x_scale\":{\"id\":\"1010\"},\"y_range\":{\"id\":\"1008\"},\"y_scale\":{\"id\":\"1012\"}},\"id\":\"1003\",\"subtype\":\"Figure\",\"type\":\"Plot\"},{\"attributes\":{},\"id\":\"1022\",\"type\":\"PanTool\"},{\"attributes\":{},\"id\":\"1023\",\"type\":\"WheelZoomTool\"},{\"attributes\":{\"callback\":null,\"tooltips\":[[\"doc\",\"@docs\"]]},\"id\":\"1002\",\"type\":\"HoverTool\"},{\"attributes\":{},\"id\":\"1024\",\"type\":\"ResetTool\"},{\"attributes\":{\"active_drag\":\"auto\",\"active_inspect\":\"auto\",\"active_multi\":null,\"active_scroll\":\"auto\",\"active_tap\":\"auto\",\"tools\":[{\"id\":\"1002\"},{\"id\":\"1022\"},{\"id\":\"1023\"},{\"id\":\"1024\"}]},\"id\":\"1025\",\"type\":\"Toolbar\"},{\"attributes\":{},\"id\":\"1043\",\"type\":\"UnionRenderers\"},{\"attributes\":{},\"id\":\"1006\",\"type\":\"DataRange1d\"},{\"attributes\":{\"fill_color\":{\"value\":\"#1f77b4\"},\"line_color\":{\"value\":\"#1f77b4\"},\"size\":{\"units\":\"screen\",\"value\":8},\"x\":{\"field\":\"x\"},\"y\":{\"field\":\"y\"}},\"id\":\"1031\",\"type\":\"Scatter\"},{\"attributes\":{},\"id\":\"1008\",\"type\":\"DataRange1d\"},{\"attributes\":{},\"id\":\"1039\",\"type\":\"BasicTickFormatter\"},{\"attributes\":{},\"id\":\"1010\",\"type\":\"LinearScale\"},{\"attributes\":{\"text\":\"t-SNE embedding of top 14 documents\"},\"id\":\"1004\",\"type\":\"Title\"},{\"attributes\":{},\"id\":\"1042\",\"type\":\"Selection\"},{\"attributes\":{},\"id\":\"1012\",\"type\":\"LinearScale\"},{\"attributes\":{\"fill_alpha\":{\"value\":0.1},\"fill_color\":{\"value\":\"#1f77b4\"},\"line_alpha\":{\"value\":0.1},\"line_color\":{\"value\":\"#1f77b4\"},\"size\":{\"units\":\"screen\",\"value\":8},\"x\":{\"field\":\"x\"},\"y\":{\"field\":\"y\"}},\"id\":\"1032\",\"type\":\"Scatter\"},{\"attributes\":{\"formatter\":{\"id\":\"1041\"},\"ticker\":{\"id\":\"1015\"}},\"id\":\"1014\",\"type\":\"LinearAxis\"},{\"attributes\":{},\"id\":\"1015\",\"type\":\"BasicTicker\"},{\"attributes\":{\"axis\":{\"id\":\"1014\"},\"ticker\":null},\"id\":\"1017\",\"type\":\"Grid\"},{\"attributes\":{\"formatter\":{\"id\":\"1039\"},\"ticker\":{\"id\":\"1019\"}},\"id\":\"1018\",\"type\":\"LinearAxis\"},{\"attributes\":{\"source\":{\"id\":\"1001\"}},\"id\":\"1034\",\"type\":\"CDSView\"},{\"attributes\":{},\"id\":\"1019\",\"type\":\"BasicTicker\"},{\"attributes\":{\"axis\":{\"id\":\"1018\"},\"dimension\":1,\"ticker\":null},\"id\":\"1021\",\"type\":\"Grid\"},{\"attributes\":{\"data\":{\"words\":[\"Klon_srebrzysty\",\"D\\u0105b_czerwony\",\"D\\u0105b_b\\u0142otny\",\"Sosna_wejmutka\",\"\\u015awierk_pospolity\",\"Szczur_w\\u0119drowny\",\"Szczur_\\u015bniady\",\"Mysz_domowa\",\"Suse\\u0142_pere\\u0142kowany\",\"Wiewi\\u00f3rka_pospolita\",\"Mysz_komputerowa\",\"D\\u017cojstik\",\"Klawiatura_komputerowa\",\"Monitor_komputera\"],\"x\":{\"__ndarray__\":\"JzRsSy6pWMBHhZEhYGZVwK3DARNRfVXAHB1TNYprScBaIRnNhXdKwAkqUFcQSShAgZMaZBxU6j8sC2tcRqw8QBPbfOwu8iBAKr3bKumKQEBedBN2c5xQQLBsbMZJQE9A9PSLqvntVUCHhZUvP4dSQA==\",\"dtype\":\"float64\",\"order\":\"little\",\"shape\":[14]},\"y\":{\"__ndarray__\":\"rRWfGqqsNsDchl8oDA5AwMDgAcMgIkjAib1DdBVyPMDN0rCGfOIswKW8lhlOPS7Am9d1/ycrE8CQRCW1kIYSwEEpLvQpHkHAjy46xWOpQMCm0iN8Vq5OQARKbBF9qkdADIBU9HgRSkDZ6X3Ue01TQA==\",\"dtype\":\"float64\",\"order\":\"little\",\"shape\":[14]}},\"selected\":{\"id\":\"1042\"},\"selection_policy\":{\"id\":\"1043\"}},\"id\":\"1001\",\"type\":\"ColumnDataSource\"},{\"attributes\":{},\"id\":\"1041\",\"type\":\"BasicTickFormatter\"},{\"attributes\":{\"data_source\":{\"id\":\"1001\"},\"glyph\":{\"id\":\"1031\"},\"hover_glyph\":null,\"muted_glyph\":null,\"nonselection_glyph\":{\"id\":\"1032\"},\"selection_glyph\":null,\"view\":{\"id\":\"1034\"}},\"id\":\"1033\",\"type\":\"GlyphRenderer\"},{\"attributes\":{\"level\":\"glyph\",\"source\":{\"id\":\"1001\"},\"text\":{\"field\":\"words\"},\"x\":{\"field\":\"x\"},\"x_offset\":{\"value\":5},\"y\":{\"field\":\"y\"},\"y_offset\":{\"value\":5}},\"id\":\"1035\",\"type\":\"LabelSet\"}],\"root_ids\":[\"1003\"]},\"title\":\"Bokeh Application\",\"version\":\"2.1.1\"}};\n",
       "  var render_items = [{\"docid\":\"77da1867-8fc0-402e-b387-18ec5126a3ff\",\"root_ids\":[\"1003\"],\"roots\":{\"1003\":\"d4ee7ec6-2ada-4a0f-ba70-601542e1d79d\"}}];\n",
       "  root.Bokeh.embed.embed_items_notebook(docs_json, render_items);\n",
       "\n",
       "  }\n",
       "  if (root.Bokeh !== undefined) {\n",
       "    embed_document(root);\n",
       "  } else {\n",
       "    var attempts = 0;\n",
       "    var timer = setInterval(function(root) {\n",
       "      if (root.Bokeh !== undefined) {\n",
       "        clearInterval(timer);\n",
       "        embed_document(root);\n",
       "      } else {\n",
       "        attempts++;\n",
       "        if (attempts > 100) {\n",
       "          clearInterval(timer);\n",
       "          console.log(\"Bokeh: ERROR: Unable to run BokehJS code because BokehJS library is missing\");\n",
       "        }\n",
       "      }\n",
       "    }, 10, root)\n",
       "  }\n",
       "})(window);"
      ],
      "application/vnd.bokehjs_exec.v0+json": ""
     },
     "metadata": {
      "application/vnd.bokehjs_exec.v0+json": {
       "id": "1003"
      },
      "tags": []
     },
     "output_type": "display_data"
    }
   ],
   "source": [
    "#Adapted from: https://gist.github.com/RustingSword/f9d78163e96554c6708d96d0a513de25\n",
    "\n",
    "from bokeh.plotting import figure, show, output_file\n",
    "from bokeh.models import ColumnDataSource, LabelSet, HoverTool\n",
    "import numpy as np\n",
    "from MulticoreTSNE import MulticoreTSNE as TSNE\n",
    "\n",
    "\n",
    "def plot_docs(doc_titles, doc_vectors, max_docs=100,perplexity=25):\n",
    "    \n",
    "    titles, docvecs = load_data(doc_titles, doc_vectors, max_docs=max_docs)\n",
    "    tsne = TSNE(n_jobs=4, perplexity=perplexity)\n",
    "    Y = tsne.fit_transform(docvecs)\n",
    "    source = ColumnDataSource(data=dict(x=Y[:,0], y=Y[:,1], words=titles))\n",
    "    hover = HoverTool(tooltips=[(\"doc\", \"@docs\")])\n",
    "\n",
    "    TOOLS = ['pan', 'wheel_zoom', 'reset', hover]\n",
    "    p = figure(title='t-SNE embedding of top ' + str(len(Y)) + ' documents',\n",
    "            plot_width=1200, plot_height=720, tools=TOOLS)\n",
    "    p.scatter(x='x', y='y', size=8, source=source)\n",
    "    labels = LabelSet(x='x', y='y', text='words', level='glyph',\n",
    "            x_offset=5, y_offset=5, source=source, render_mode='canvas')\n",
    "    p.add_layout(labels)\n",
    "    show(p)\n",
    "\n",
    "plot_docs(art_titles, X.toarray())\n",
    "    "
   ]
  }
 ],
 "metadata": {
  "colab": {
   "collapsed_sections": [],
   "name": "doc-clustering.ipynb",
   "provenance": []
  },
  "kernelspec": {
   "display_name": "Python 3",
   "language": "python",
   "name": "python3"
  },
  "language_info": {
   "codemirror_mode": {
    "name": "ipython",
    "version": 3
   },
   "file_extension": ".py",
   "mimetype": "text/x-python",
   "name": "python",
   "nbconvert_exporter": "python",
   "pygments_lexer": "ipython3",
   "version": "3.7.2"
  }
 },
 "nbformat": 4,
 "nbformat_minor": 1
}
