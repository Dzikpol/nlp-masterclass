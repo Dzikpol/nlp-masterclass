{
  "nbformat": 4,
  "nbformat_minor": 0,
  "metadata": {
    "colab": {
      "name": "L6.3-wsd-zadania.ipynb",
      "provenance": [],
      "collapsed_sections": [],
      "toc_visible": true
    },
    "kernelspec": {
      "display_name": "Python 3",
      "name": "python3"
    }
  },
  "cells": [
    {
      "cell_type": "markdown",
      "metadata": {
        "id": "2UShbBsFN0Yo"
      },
      "source": [
        "# Ujednoznacznianie sensu słów (WSD) — Zadania"
      ]
    },
    {
      "cell_type": "markdown",
      "metadata": {
        "id": "NvWZC7NRLsBo"
      },
      "source": [
        "Wykorzystując **Słowosieć 3.0**, wykonaj poniższe zadania.\n",
        "\n",
        "Link: https://clarin-pl.eu/dspace/bitstream/handle/11321/273/plwordnet_3_0.7z?sequence=2&isAllowed=y"
      ]
    },
    {
      "cell_type": "markdown",
      "metadata": {
        "id": "jMfuLFFpvWez"
      },
      "source": [
        "## Zadanie 1"
      ]
    },
    {
      "cell_type": "markdown",
      "metadata": {
        "id": "trxhchv3L6tx"
      },
      "source": [
        "Dla każdej części mowy (*part-of-speech*) wskaż lemat, który posiada najwięcej znaczeń (jednostek leksykalnych)."
      ]
    },
    {
      "cell_type": "markdown",
      "metadata": {
        "id": "ZuRSBSovMpR-"
      },
      "source": [
        "**Wskazówka**\n",
        "\n",
        "Część mowy jest atrybutem jednostki leksykalnej i jest zapisania w atrybucie pos.\n",
        "\n",
        "```\n",
        "<lexical-unit id=\"1599\" name=\"ekran\" pos=\"rzeczownik\" tagcount=\"718\"\n",
        "    domain=\"msc\"\n",
        "    desc=\"##K: og. ##D: płaszczyzna, na którą rzuca się obraz, np. w kinie.\"\n",
        "    workstate=\"Sprawdzone\" source=\"systemowy\" variant=\"3\"/>\n",
        "```\n",
        "\n",
        "W Słowosieci występują następujące części mowy:\n",
        "```\n",
        "{'czasownik',\n",
        " 'czasownik pwn',\n",
        " 'przymiotnik',\n",
        " 'przymiotnik pwn',\n",
        " 'przysłówek',\n",
        " 'przysłówek pwn',\n",
        " 'rzeczownik',\n",
        " 'rzeczownik pwn'}\n",
        " ```"
      ]
    },
    {
      "cell_type": "markdown",
      "metadata": {
        "id": "zLldrlzGLm9Q"
      },
      "source": [
        "## Zadanie 2"
      ]
    },
    {
      "cell_type": "markdown",
      "metadata": {
        "id": "lmgmM2e1NTuB"
      },
      "source": [
        "W części praktycznej została użyta metoda `similarity` z pakietu spaCy do porównania kontekstu słowa z dostępnymi definicjami dla lematu *ekran*. Do reprezentacji zdania były wykorzystane wektory osadzeń, które są uśrednieniem wektorów dla poszczególnych słów. Przy uśrednianiu brane są pod uwagę wszystkie słowa, nawet te, które nie niosą istotnej informacji lub są na tyle częste i występują w wielu definicjach, przez co sztucznie zawyżają podobieństwo. Zaproponuj, w jaki sposób można pominąć słowa nieistotne, aby poprawić wynik ujednoznacznienia dla słowa *ekran* w poniższym zdaniu."
      ]
    },
    {
      "cell_type": "code",
      "metadata": {
        "id": "gfqQ2peCOmY5"
      },
      "source": [
        "text = \"Jak włączyłem komputer to na ekranie wyświetlił się komunikat o błędzie\""
      ],
      "execution_count": null,
      "outputs": []
    },
    {
      "cell_type": "markdown",
      "metadata": {
        "id": "qc4qQhvbOuRB"
      },
      "source": [
        "Wynik bazowy:\n",
        "\n",
        "```\n",
        " 0.62    4879  płaszczyzna, na którą rzuca się obraz, np. w kinie.\n",
        " 0.61     799  wyświetlacz; powierzchnia, na której jest coś wyświetlane.\n",
        " 0.40  238951  duża naszywka z nazwą zespołu, która pasuje na środkowy klin jeansowej kurtki lub kamizelki.\n",
        " 0.35    8264  osłona pełniąca funkcję zabezpieczenia, izolacji przed czymś szkodliwym.\n",
        " 0.29  248273  rodzaj zasłony (z tkaniny, skóry, żelaza), która bywa ustawiana przed kominkiem.\n",
        " ```"
      ]
    },
    {
      "cell_type": "markdown",
      "metadata": {
        "id": "ir7Cbs_uQOeb"
      },
      "source": [
        "**Wskazówka**\n",
        "\n",
        "Wykorzystaj poznany wcześniej sposób do ważenia terminów w kolekcji dokumentów. Co będzie Twoją kolekcją tekstów w tym zadaniu?"
      ]
    }
  ]
}