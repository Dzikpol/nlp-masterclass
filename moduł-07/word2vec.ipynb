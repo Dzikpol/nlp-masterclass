{
 "cells": [
  {
   "cell_type": "markdown",
   "metadata": {
    "id": "tq14PCwGYUJw"
   },
   "source": [
    "# 7.c.i Semantyka dystrybucyjna\n",
    "\n",
    "Musimy uaktualnić moduł gensim, po wykonaniu poniższej komórki proszę zresetować runtime"
   ]
  },
  {
   "cell_type": "code",
   "execution_count": null,
   "metadata": {
    "colab": {
     "base_uri": "https://localhost:8080/"
    },
    "executionInfo": {
     "elapsed": 8511,
     "status": "ok",
     "timestamp": 1609797803729,
     "user": {
      "displayName": "Ryszard Tuora",
      "photoUrl": "https://lh3.googleusercontent.com/a-/AOh14GhxT_VWm_ztdUElbQgkkqDhFhKGY98a0kqy8jvGYw=s64",
      "userId": "14358185409280519443"
     },
     "user_tz": -60
    },
    "id": "NV9xhs8wbL66",
    "outputId": "9f404aef-b7f1-45f1-a74f-e4cea9f080d2"
   },
   "outputs": [],
   "source": [
    "!python3 -m pip install gensim==4.0.0b"
   ]
  },
  {
   "cell_type": "markdown",
   "metadata": {
    "id": "is70ocP7YUJ0"
   },
   "source": [
    "#### Wykorzystanie gotowego modelu wektorowego"
   ]
  },
  {
   "cell_type": "code",
   "execution_count": null,
   "metadata": {
    "colab": {
     "base_uri": "https://localhost:8080/"
    },
    "executionInfo": {
     "elapsed": 536642,
     "status": "ok",
     "timestamp": 1609799092500,
     "user": {
      "displayName": "Ryszard Tuora",
      "photoUrl": "https://lh3.googleusercontent.com/a-/AOh14GhxT_VWm_ztdUElbQgkkqDhFhKGY98a0kqy8jvGYw=s64",
      "userId": "14358185409280519443"
     },
     "user_tz": -60
    },
    "id": "gWa6JHyNYUJ1",
    "outputId": "d956d782-1d2b-4998-e509-07a4e723d3a1"
   },
   "outputs": [],
   "source": [
    "!wget http://dsmodels.nlp.ipipan.waw.pl/dsmodels/nkjp+wiki-forms-all-100-cbow-hs.txt.gz\n",
    "!gunzip nkjp+wiki-forms-all-100-cbow-hs.txt.gz\n",
    "\n",
    "from gensim.models import KeyedVectors\n",
    "\n",
    "wv = KeyedVectors.load_word2vec_format(\"nkjp+wiki-forms-all-100-cbow-hs.txt\")"
   ]
  },
  {
   "cell_type": "markdown",
   "metadata": {
    "id": "d5_towfPZ69r"
   },
   "source": [
    "#### Praca z wektorami słów"
   ]
  },
  {
   "cell_type": "code",
   "execution_count": null,
   "metadata": {
    "colab": {
     "base_uri": "https://localhost:8080/"
    },
    "executionInfo": {
     "elapsed": 618,
     "status": "ok",
     "timestamp": 1609801126189,
     "user": {
      "displayName": "Ryszard Tuora",
      "photoUrl": "https://lh3.googleusercontent.com/a-/AOh14GhxT_VWm_ztdUElbQgkkqDhFhKGY98a0kqy8jvGYw=s64",
      "userId": "14358185409280519443"
     },
     "user_tz": -60
    },
    "id": "dwggGiYXYf7U",
    "outputId": "79efcc86-cd56-41ed-9593-07d4724fdb94"
   },
   "outputs": [],
   "source": [
    "marchew = wv[\"marchew\"]\n",
    "print(type(marchew), marchew.shape, \"\\n\", marchew)"
   ]
  },
  {
   "cell_type": "markdown",
   "metadata": {
    "id": "aXJr8rgmZ3Xq"
   },
   "source": [
    "#### Podobieństwo słów\n",
    "\n",
    "Podobieństwo jest liczone jako cosinus kąta między wektorami (znormalizowany iloczyn skalarny wektorów)."
   ]
  },
  {
   "cell_type": "code",
   "execution_count": null,
   "metadata": {
    "colab": {
     "base_uri": "https://localhost:8080/"
    },
    "executionInfo": {
     "elapsed": 709,
     "status": "ok",
     "timestamp": 1609801155106,
     "user": {
      "displayName": "Ryszard Tuora",
      "photoUrl": "https://lh3.googleusercontent.com/a-/AOh14GhxT_VWm_ztdUElbQgkkqDhFhKGY98a0kqy8jvGYw=s64",
      "userId": "14358185409280519443"
     },
     "user_tz": -60
    },
    "id": "7WmTUvpbY2Vm",
    "outputId": "6043bdb5-d661-4c25-9648-09ae953ce2a4"
   },
   "outputs": [],
   "source": [
    "print(wv.similarity(\"marchew\", \"cebula\"))\n",
    "print(wv.similarity(\"marchew\", \"stół\"))"
   ]
  },
  {
   "cell_type": "markdown",
   "metadata": {
    "id": "uzAQchgPZ0XR"
   },
   "source": [
    "#### Ranking podobieństwa"
   ]
  },
  {
   "cell_type": "code",
   "execution_count": null,
   "metadata": {
    "colab": {
     "base_uri": "https://localhost:8080/"
    },
    "executionInfo": {
     "elapsed": 2156,
     "status": "ok",
     "timestamp": 1609801180775,
     "user": {
      "displayName": "Ryszard Tuora",
      "photoUrl": "https://lh3.googleusercontent.com/a-/AOh14GhxT_VWm_ztdUElbQgkkqDhFhKGY98a0kqy8jvGYw=s64",
      "userId": "14358185409280519443"
     },
     "user_tz": -60
    },
    "id": "EkxkHo22ZL5F",
    "outputId": "03cf3d59-a413-4b81-ed1a-d502ba912a9b"
   },
   "outputs": [],
   "source": [
    "wv.most_similar(\"szklanka\")"
   ]
  },
  {
   "cell_type": "markdown",
   "metadata": {
    "id": "ZRZl2FFoZxq5"
   },
   "source": [
    "#### Problem antonimii"
   ]
  },
  {
   "cell_type": "code",
   "execution_count": null,
   "metadata": {
    "colab": {
     "base_uri": "https://localhost:8080/"
    },
    "executionInfo": {
     "elapsed": 598,
     "status": "ok",
     "timestamp": 1609801196603,
     "user": {
      "displayName": "Ryszard Tuora",
      "photoUrl": "https://lh3.googleusercontent.com/a-/AOh14GhxT_VWm_ztdUElbQgkkqDhFhKGY98a0kqy8jvGYw=s64",
      "userId": "14358185409280519443"
     },
     "user_tz": -60
    },
    "id": "X_6GONxNZRSG",
    "outputId": "835f5c33-3344-4707-8d13-a3b6d5615d18"
   },
   "outputs": [],
   "source": [
    "wv.most_similar(\"ładny\")"
   ]
  },
  {
   "cell_type": "markdown",
   "metadata": {
    "id": "TUoxTGxfZaer"
   },
   "source": [
    "Kobieta ma się do mężczyzny, jak kto do króla?\n",
    "\n",
    "Arytmetyka wektorów:\n",
    "\n",
    "    królowa = król - mężczyzna + kobieta"
   ]
  },
  {
   "cell_type": "code",
   "execution_count": null,
   "metadata": {
    "colab": {
     "base_uri": "https://localhost:8080/"
    },
    "executionInfo": {
     "elapsed": 597,
     "status": "ok",
     "timestamp": 1609801326612,
     "user": {
      "displayName": "Ryszard Tuora",
      "photoUrl": "https://lh3.googleusercontent.com/a-/AOh14GhxT_VWm_ztdUElbQgkkqDhFhKGY98a0kqy8jvGYw=s64",
      "userId": "14358185409280519443"
     },
     "user_tz": -60
    },
    "id": "hpNlYOIjZZ_-",
    "outputId": "44c04a31-eda7-49ec-89a3-b5549ca80d56"
   },
   "outputs": [],
   "source": [
    "wv.most_similar([\"król\", \"kobieta\"], negative=[\"mężczyzna\"])"
   ]
  },
  {
   "cell_type": "code",
   "execution_count": null,
   "metadata": {
    "colab": {
     "base_uri": "https://localhost:8080/",
     "height": 35
    },
    "executionInfo": {
     "elapsed": 590,
     "status": "ok",
     "timestamp": 1609801383082,
     "user": {
      "displayName": "Ryszard Tuora",
      "photoUrl": "https://lh3.googleusercontent.com/a-/AOh14GhxT_VWm_ztdUElbQgkkqDhFhKGY98a0kqy8jvGYw=s64",
      "userId": "14358185409280519443"
     },
     "user_tz": -60
    },
    "id": "9E8nkcawZePJ",
    "outputId": "5dbd0967-a396-40f2-96b0-b388fb147277"
   },
   "outputs": [],
   "source": [
    "wv.doesnt_match([\"topola\", \"buk\", \"bóbr\", \"sosna\"])"
   ]
  },
  {
   "cell_type": "markdown",
   "metadata": {
    "id": "koonFaTWYUJ1"
   },
   "source": [
    "### Tworzenie modelu word2vec"
   ]
  },
  {
   "cell_type": "markdown",
   "metadata": {
    "id": "KYcEKStiYUJ2"
   },
   "source": [
    "#### Przygotowanie danych\n",
    "Jako zbiór danych wykorzystamy trylogię Sienkiewicza"
   ]
  },
  {
   "cell_type": "code",
   "execution_count": null,
   "metadata": {
    "colab": {
     "base_uri": "https://localhost:8080/"
    },
    "executionInfo": {
     "elapsed": 13996,
     "status": "ok",
     "timestamp": 1609801491076,
     "user": {
      "displayName": "Ryszard Tuora",
      "photoUrl": "https://lh3.googleusercontent.com/a-/AOh14GhxT_VWm_ztdUElbQgkkqDhFhKGY98a0kqy8jvGYw=s64",
      "userId": "14358185409280519443"
     },
     "user_tz": -60
    },
    "id": "pYRQtqkHarfp",
    "outputId": "c2ed6aab-6c4f-4d53-bf88-e8e0ee0b2fbf"
   },
   "outputs": [],
   "source": [
    "!wget https://github.com/sagespl/nlp-masterclass/blob/main/modu%C5%82-07/word2vec_data.zip?raw=true\n",
    "!mv word2vec_data.zip?raw=true word2vec_data.zip\n",
    "!unzip word2vec_data.zip"
   ]
  },
  {
   "cell_type": "code",
   "execution_count": null,
   "metadata": {
    "colab": {
     "base_uri": "https://localhost:8080/"
    },
    "executionInfo": {
     "elapsed": 851,
     "status": "ok",
     "timestamp": 1609801527548,
     "user": {
      "displayName": "Ryszard Tuora",
      "photoUrl": "https://lh3.googleusercontent.com/a-/AOh14GhxT_VWm_ztdUElbQgkkqDhFhKGY98a0kqy8jvGYw=s64",
      "userId": "14358185409280519443"
     },
     "user_tz": -60
    },
    "id": "FPqI77gVYUJ2",
    "outputId": "0475a0a9-10f9-476b-d616-10020d1dd46d"
   },
   "outputs": [],
   "source": [
    "import os\n",
    "import re\n",
    "\n",
    "tokenizer = re.compile(r\"[\\w]+\")\n",
    "\n",
    "def preprocess(doc):\n",
    "    lowered = doc.lower()\n",
    "    tokenized = tokenizer.findall(lowered)\n",
    "    return tokenized\n",
    "\n",
    "train_docs = []\n",
    "folder = \"word2vec_data\"\n",
    "for file in os.listdir(folder):\n",
    "    fullpath = os.path.join(folder, file)\n",
    "    with open(fullpath) as f:\n",
    "        txt = f.read()\n",
    "    docs = [preprocess(doc) for doc in txt.split(\"\\n\") if doc!=\"\"]\n",
    "    train_docs.extend(docs)\n",
    "\n",
    "print(len(train_docs))"
   ]
  },
  {
   "cell_type": "markdown",
   "metadata": {
    "id": "TjTYKaekYUJ3"
   },
   "source": [
    "#### Inicjalizacja i trening modelu"
   ]
  },
  {
   "cell_type": "code",
   "execution_count": null,
   "metadata": {
    "colab": {
     "base_uri": "https://localhost:8080/"
    },
    "executionInfo": {
     "elapsed": 28418,
     "status": "ok",
     "timestamp": 1609801578048,
     "user": {
      "displayName": "Ryszard Tuora",
      "photoUrl": "https://lh3.googleusercontent.com/a-/AOh14GhxT_VWm_ztdUElbQgkkqDhFhKGY98a0kqy8jvGYw=s64",
      "userId": "14358185409280519443"
     },
     "user_tz": -60
    },
    "id": "9jJxhbprYUJ3",
    "outputId": "5ac32a16-9be7-4e1a-97d1-e86b6143fc85"
   },
   "outputs": [],
   "source": [
    "from gensim.models import Word2Vec\n",
    "\n",
    "model = Word2Vec(sentences=train_docs, vector_size=100, window=3, min_count=2, seed=42, workers=1)\n",
    "model.train(train_docs, total_examples=len(train_docs), epochs=10)"
   ]
  },
  {
   "cell_type": "markdown",
   "metadata": {
    "id": "veF6Vav7YUJ3"
   },
   "source": [
    "#### Predykcja słów na podstawie kontekstu"
   ]
  },
  {
   "cell_type": "code",
   "execution_count": null,
   "metadata": {
    "colab": {
     "base_uri": "https://localhost:8080/"
    },
    "executionInfo": {
     "elapsed": 697,
     "status": "ok",
     "timestamp": 1609801628305,
     "user": {
      "displayName": "Ryszard Tuora",
      "photoUrl": "https://lh3.googleusercontent.com/a-/AOh14GhxT_VWm_ztdUElbQgkkqDhFhKGY98a0kqy8jvGYw=s64",
      "userId": "14358185409280519443"
     },
     "user_tz": -60
    },
    "id": "xZlbXVmmYUJ4",
    "outputId": "10395812-5db8-4f12-bf6b-9707440929b1"
   },
   "outputs": [],
   "source": [
    "model.predict_output_word([\"z\", \"rany\", \"polała\", \"się\"])"
   ]
  },
  {
   "cell_type": "markdown",
   "metadata": {
    "id": "dqtOKovkYUJ4"
   },
   "source": [
    "### Ewaluacja zanurzeń/embeddingów"
   ]
  },
  {
   "cell_type": "markdown",
   "metadata": {
    "id": "ocKRBj_zYUJ4"
   },
   "source": [
    "#### Wynikowe wektory słów"
   ]
  },
  {
   "cell_type": "code",
   "execution_count": null,
   "metadata": {
    "colab": {
     "base_uri": "https://localhost:8080/"
    },
    "executionInfo": {
     "elapsed": 846,
     "status": "ok",
     "timestamp": 1609801660592,
     "user": {
      "displayName": "Ryszard Tuora",
      "photoUrl": "https://lh3.googleusercontent.com/a-/AOh14GhxT_VWm_ztdUElbQgkkqDhFhKGY98a0kqy8jvGYw=s64",
      "userId": "14358185409280519443"
     },
     "user_tz": -60
    },
    "id": "sJtMvysYYUJ4",
    "outputId": "9d6f6958-1daf-45bb-a8fa-86e048f75080"
   },
   "outputs": [],
   "source": [
    "wv = model.wv\n",
    "rzeczpospolita = wv[\"rzeczpospolita\"]\n",
    "print(type(rzeczpospolita), rzeczpospolita.shape, \"\\n\", rzeczpospolita)"
   ]
  },
  {
   "cell_type": "markdown",
   "metadata": {
    "id": "1ibAPgu4YUJ5"
   },
   "source": [
    "#### Podobieństwo między słowami\n",
    "Podobieństwo jest liczone jako cosinus kąta między wektorami (znormalizowany iloczyn skalarny wektorów)."
   ]
  },
  {
   "cell_type": "code",
   "execution_count": null,
   "metadata": {
    "colab": {
     "base_uri": "https://localhost:8080/"
    },
    "executionInfo": {
     "elapsed": 596,
     "status": "ok",
     "timestamp": 1609801722772,
     "user": {
      "displayName": "Ryszard Tuora",
      "photoUrl": "https://lh3.googleusercontent.com/a-/AOh14GhxT_VWm_ztdUElbQgkkqDhFhKGY98a0kqy8jvGYw=s64",
      "userId": "14358185409280519443"
     },
     "user_tz": -60
    },
    "id": "hp8tvJcIYUJ5",
    "outputId": "8467211a-5f9a-4bb2-af4b-fe7c353c6def"
   },
   "outputs": [],
   "source": [
    "import numpy\n",
    "\n",
    "\n",
    "\n",
    "man, woman = wv[\"mężczyzna\"], wv[\"kobieta\"]\n",
    "lena, lenb = numpy.linalg.norm(man), numpy.linalg.norm(woman)\n",
    "similarity = numpy.dot(man, woman.T)/(lena * lenb)\n",
    "\n",
    "print(similarity)\n",
    "print(wv.similarity(\"kobieta\", \"mężczyzna\"))"
   ]
  },
  {
   "cell_type": "markdown",
   "metadata": {
    "id": "XKn34kfSYUJ5"
   },
   "source": [
    "#### Ranking podobieństwa dla słowa \"kmicic\""
   ]
  },
  {
   "cell_type": "code",
   "execution_count": null,
   "metadata": {
    "colab": {
     "base_uri": "https://localhost:8080/"
    },
    "executionInfo": {
     "elapsed": 574,
     "status": "ok",
     "timestamp": 1609801728961,
     "user": {
      "displayName": "Ryszard Tuora",
      "photoUrl": "https://lh3.googleusercontent.com/a-/AOh14GhxT_VWm_ztdUElbQgkkqDhFhKGY98a0kqy8jvGYw=s64",
      "userId": "14358185409280519443"
     },
     "user_tz": -60
    },
    "id": "WlC0G7-6YUJ5",
    "outputId": "c2cf89d9-c837-45a1-eb2c-1372bcd0e303"
   },
   "outputs": [],
   "source": [
    "wv.most_similar(\"kmicic\")"
   ]
  },
  {
   "cell_type": "markdown",
   "metadata": {
    "id": "P0oVSPYaYUJ5"
   },
   "source": [
    "#### Problem antonimii"
   ]
  },
  {
   "cell_type": "code",
   "execution_count": null,
   "metadata": {
    "colab": {
     "base_uri": "https://localhost:8080/"
    },
    "executionInfo": {
     "elapsed": 594,
     "status": "ok",
     "timestamp": 1609801760043,
     "user": {
      "displayName": "Ryszard Tuora",
      "photoUrl": "https://lh3.googleusercontent.com/a-/AOh14GhxT_VWm_ztdUElbQgkkqDhFhKGY98a0kqy8jvGYw=s64",
      "userId": "14358185409280519443"
     },
     "user_tz": -60
    },
    "id": "kzrYuyvVYUJ6",
    "outputId": "e27100b6-7c19-4f5c-eacb-7f2c7759107f"
   },
   "outputs": [],
   "source": [
    "wv.most_similar(\"pogodny\")"
   ]
  },
  {
   "cell_type": "markdown",
   "metadata": {
    "id": "TH6tFoLRYUJ6"
   },
   "source": [
    "#### Odnajdywanie analogii\n",
    "Oleńka ma się do Kmicica, jak kto do Wołodyjowskiego?\n",
    "\n",
    "Arytmetyka wektorów:\n",
    "\n",
    "    basia = oleńka - kmicic + wołodyjowski"
   ]
  },
  {
   "cell_type": "code",
   "execution_count": null,
   "metadata": {
    "colab": {
     "base_uri": "https://localhost:8080/"
    },
    "executionInfo": {
     "elapsed": 620,
     "status": "ok",
     "timestamp": 1609801809613,
     "user": {
      "displayName": "Ryszard Tuora",
      "photoUrl": "https://lh3.googleusercontent.com/a-/AOh14GhxT_VWm_ztdUElbQgkkqDhFhKGY98a0kqy8jvGYw=s64",
      "userId": "14358185409280519443"
     },
     "user_tz": -60
    },
    "id": "pDzvVdBNYUJ6",
    "outputId": "2c0253be-aeef-4cd4-abf5-a397c3321bff"
   },
   "outputs": [],
   "source": [
    "wv.most_similar([\"oleńka\", \"wołodyjowski\"], negative=[\"kmicic\"])"
   ]
  },
  {
   "cell_type": "markdown",
   "metadata": {
    "id": "eO7Mqb7OYUJ6"
   },
   "source": [
    "#### Wykrywanie elementów niepasujących do reszty"
   ]
  },
  {
   "cell_type": "code",
   "execution_count": null,
   "metadata": {
    "colab": {
     "base_uri": "https://localhost:8080/",
     "height": 35
    },
    "executionInfo": {
     "elapsed": 607,
     "status": "ok",
     "timestamp": 1609801836218,
     "user": {
      "displayName": "Ryszard Tuora",
      "photoUrl": "https://lh3.googleusercontent.com/a-/AOh14GhxT_VWm_ztdUElbQgkkqDhFhKGY98a0kqy8jvGYw=s64",
      "userId": "14358185409280519443"
     },
     "user_tz": -60
    },
    "id": "FnL3YLKIYUJ6",
    "outputId": "4d02f76c-2271-4a1f-c46a-7448359ce42d"
   },
   "outputs": [],
   "source": [
    "wv.doesnt_match([\"szabla\", \"armata\", \"muszkiet\", \"oko\"])"
   ]
  },
  {
   "cell_type": "markdown",
   "metadata": {
    "id": "oaF6GZsfYUJ6"
   },
   "source": [
    "### Wizualizacja zanurzeń"
   ]
  },
  {
   "cell_type": "markdown",
   "metadata": {
    "id": "c86IYo_1YUJ7"
   },
   "source": [
    "#### Redukcja wymiarowości"
   ]
  },
  {
   "cell_type": "code",
   "execution_count": null,
   "metadata": {
    "colab": {
     "base_uri": "https://localhost:8080/"
    },
    "executionInfo": {
     "elapsed": 921,
     "status": "ok",
     "timestamp": 1609801896757,
     "user": {
      "displayName": "Ryszard Tuora",
      "photoUrl": "https://lh3.googleusercontent.com/a-/AOh14GhxT_VWm_ztdUElbQgkkqDhFhKGY98a0kqy8jvGYw=s64",
      "userId": "14358185409280519443"
     },
     "user_tz": -60
    },
    "id": "lvwGxTW9YUJ7",
    "outputId": "30008903-1009-481f-e9d0-2005fdf0c64d"
   },
   "outputs": [],
   "source": [
    "from sklearn.decomposition import PCA\n",
    "\n",
    "dim_reductor = PCA(n_components=2)\n",
    "words = [\"noc\", \"dzień\", \"kobieta\", \"mężczyzna\", \"pies\", \"koń\", \"kot\", \"łzy\", \"krew\"]\n",
    "\n",
    "data = [wv[w] for w in words]\n",
    "\n",
    "reduced = dim_reductor.fit_transform(data)\n",
    "print(reduced)"
   ]
  },
  {
   "cell_type": "markdown",
   "metadata": {
    "id": "5SbhUDn6YUJ7"
   },
   "source": [
    "#### Rysowanie wykresu"
   ]
  },
  {
   "cell_type": "code",
   "execution_count": null,
   "metadata": {
    "colab": {
     "base_uri": "https://localhost:8080/",
     "height": 265
    },
    "executionInfo": {
     "elapsed": 928,
     "status": "ok",
     "timestamp": 1609801912844,
     "user": {
      "displayName": "Ryszard Tuora",
      "photoUrl": "https://lh3.googleusercontent.com/a-/AOh14GhxT_VWm_ztdUElbQgkkqDhFhKGY98a0kqy8jvGYw=s64",
      "userId": "14358185409280519443"
     },
     "user_tz": -60
    },
    "id": "nLPdXaAdYUJ7",
    "outputId": "4e147dc5-4022-491a-e60a-574c06560de0"
   },
   "outputs": [],
   "source": [
    "import matplotlib.pyplot as plt\n",
    "\n",
    "\n",
    "x = [p[0] for p in reduced]\n",
    "y = [p[1] for p in reduced]\n",
    "\n",
    "fig, ax = plt.subplots()\n",
    "ax.scatter(x, y)\n",
    "\n",
    "for i, txt in enumerate(words):\n",
    "    ax.annotate(txt, (x[i], y[i]))\n",
    "\n",
    "\n",
    "#fig.show()"
   ]
  },
  {
   "cell_type": "markdown",
   "metadata": {
    "id": "peMU-1iEYUJ7"
   },
   "source": [
    "Dla pełniejszego wglądu, warto skorzystać z narzędzia https://projector.tensorflow.org, poniżej zapisywanie wektorów w wymaganym formacie."
   ]
  },
  {
   "cell_type": "code",
   "execution_count": null,
   "metadata": {
    "executionInfo": {
     "elapsed": 3686,
     "status": "ok",
     "timestamp": 1609801958979,
     "user": {
      "displayName": "Ryszard Tuora",
      "photoUrl": "https://lh3.googleusercontent.com/a-/AOh14GhxT_VWm_ztdUElbQgkkqDhFhKGY98a0kqy8jvGYw=s64",
      "userId": "14358185409280519443"
     },
     "user_tz": -60
    },
    "id": "pjti7nBaYUJ7"
   },
   "outputs": [],
   "source": [
    "labels = [wv.index_to_key[i] for i in range(len(wv))]\n",
    "lab_tsv = \"\\n\".join(labels)\n",
    "vec_tsv = \"\\n\".join([\"\\t\".join([str(v) for v in wv[lab]]) for lab in labels])\n",
    "with open(\"lab.tsv\", \"w\") as f:\n",
    "    f.write(lab_tsv)\n",
    "with open(\"vec.tsv\", \"w\") as f:\n",
    "    f.write(vec_tsv)"
   ]
  },
  {
   "cell_type": "markdown",
   "metadata": {
    "id": "JOfWd6nEYUJ8"
   },
   "source": [
    "### Zapisywanie i wczytywanie modelu"
   ]
  },
  {
   "cell_type": "code",
   "execution_count": null,
   "metadata": {
    "executionInfo": {
     "elapsed": 7269,
     "status": "ok",
     "timestamp": 1609802128045,
     "user": {
      "displayName": "Ryszard Tuora",
      "photoUrl": "https://lh3.googleusercontent.com/a-/AOh14GhxT_VWm_ztdUElbQgkkqDhFhKGY98a0kqy8jvGYw=s64",
      "userId": "14358185409280519443"
     },
     "user_tz": -60
    },
    "id": "A2KVmu_IYUJ8"
   },
   "outputs": [],
   "source": [
    "from gensim.models import KeyedVectors\n",
    "\n",
    "wv.save_word2vec_format(\"trylogia.vec\")\n",
    "wv2 = KeyedVectors.load_word2vec_format(\"trylogia.vec\")"
   ]
  }
 ],
 "metadata": {
  "colab": {
   "collapsed_sections": [],
   "name": "word2vec.ipynb",
   "provenance": [],
   "toc_visible": true
  },
  "kernelspec": {
   "display_name": "Python 3",
   "language": "python",
   "name": "python3"
  },
  "language_info": {
   "codemirror_mode": {
    "name": "ipython",
    "version": 3
   },
   "file_extension": ".py",
   "mimetype": "text/x-python",
   "name": "python",
   "nbconvert_exporter": "python",
   "pygments_lexer": "ipython3",
   "version": "3.6.9"
  }
 },
 "nbformat": 4,
 "nbformat_minor": 1
}
