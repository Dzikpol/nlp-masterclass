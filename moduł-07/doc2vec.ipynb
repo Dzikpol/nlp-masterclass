{
 "cells": [
  {
   "cell_type": "markdown",
   "metadata": {
    "id": "90QQ7W9J_V8-"
   },
   "source": [
    "# 7.c.ii Semantyka dystrybucyjna dokumentów\n",
    "\n",
    "Musimy uaktualnić moduł gensim, po wykonaniu poniższej komórki proszę zresetować runtime"
   ]
  },
  {
   "cell_type": "code",
   "execution_count": null,
   "metadata": {
    "colab": {
     "base_uri": "https://localhost:8080/"
    },
    "executionInfo": {
     "elapsed": 11302,
     "status": "ok",
     "timestamp": 1609879555496,
     "user": {
      "displayName": "Ryszard Tuora",
      "photoUrl": "https://lh3.googleusercontent.com/a-/AOh14GhxT_VWm_ztdUElbQgkkqDhFhKGY98a0kqy8jvGYw=s64",
      "userId": "14358185409280519443"
     },
     "user_tz": -60
    },
    "id": "s4Ix9zI7TBZC",
    "outputId": "c0f636a8-6373-4914-a0d5-3f075c5deddd"
   },
   "outputs": [],
   "source": [
    "!python3 -m pip install gensim==4.0.0b"
   ]
  },
  {
   "cell_type": "markdown",
   "metadata": {
    "id": "5B4gsLSS_Yso"
   },
   "source": [
    "Pobranie danych"
   ]
  },
  {
   "cell_type": "code",
   "execution_count": null,
   "metadata": {
    "colab": {
     "base_uri": "https://localhost:8080/"
    },
    "executionInfo": {
     "elapsed": 9253,
     "status": "ok",
     "timestamp": 1609879323289,
     "user": {
      "displayName": "Ryszard Tuora",
      "photoUrl": "https://lh3.googleusercontent.com/a-/AOh14GhxT_VWm_ztdUElbQgkkqDhFhKGY98a0kqy8jvGYw=s64",
      "userId": "14358185409280519443"
     },
     "user_tz": -60
    },
    "id": "5eZmcluw_YP5",
    "outputId": "ee31232c-c069-4aab-961d-9a5e8667e0d4"
   },
   "outputs": [],
   "source": [
    "!wget https://github.com/sagespl/nlp-masterclass/blob/main/modu%C5%82-07/doc2vec_data.zip?raw=true\n",
    "!mv doc2vec_data.zip?raw=true doc2vec_data.zip\n",
    "!unzip doc2vec_data.zip"
   ]
  },
  {
   "cell_type": "markdown",
   "metadata": {
    "id": "6VDG4N0v_V9A"
   },
   "source": [
    "### Tworzenie modelu doc2vec"
   ]
  },
  {
   "cell_type": "markdown",
   "metadata": {
    "id": "bKBnl6P-_V9A"
   },
   "source": [
    "#### Import potrzebnych pakietów"
   ]
  },
  {
   "cell_type": "code",
   "execution_count": null,
   "metadata": {
    "executionInfo": {
     "elapsed": 945,
     "status": "ok",
     "timestamp": 1609880789672,
     "user": {
      "displayName": "Ryszard Tuora",
      "photoUrl": "https://lh3.googleusercontent.com/a-/AOh14GhxT_VWm_ztdUElbQgkkqDhFhKGY98a0kqy8jvGYw=s64",
      "userId": "14358185409280519443"
     },
     "user_tz": -60
    },
    "id": "PjtG7XrT_V9B"
   },
   "outputs": [],
   "source": [
    "from gensim.models import Word2Vec, Doc2Vec, KeyedVectors\n",
    "from gensim.models.doc2vec import  TaggedDocument\n",
    "import os"
   ]
  },
  {
   "cell_type": "markdown",
   "metadata": {
    "id": "6CN9Zwpo_V9C"
   },
   "source": [
    "#### Wczytywanie danych i podział na paragrafy"
   ]
  },
  {
   "cell_type": "code",
   "execution_count": null,
   "metadata": {
    "executionInfo": {
     "elapsed": 852,
     "status": "ok",
     "timestamp": 1609880810770,
     "user": {
      "displayName": "Ryszard Tuora",
      "photoUrl": "https://lh3.googleusercontent.com/a-/AOh14GhxT_VWm_ztdUElbQgkkqDhFhKGY98a0kqy8jvGYw=s64",
      "userId": "14358185409280519443"
     },
     "user_tz": -60
    },
    "id": "Q0asiT5w_V9C"
   },
   "outputs": [],
   "source": [
    "with open(os.path.join(\"doc2vec_data\", \"odyseja.txt\")) as f:\n",
    "    txt = f.read()\n",
    "    odyseja = txt.split(\"\\n\\n\")\n",
    "\n",
    "with open(os.path.join(\"doc2vec_data\", \"iliada.txt\")) as f:\n",
    "    txt = f.read()\n",
    "    iliada = txt.split(\"\\n\\n\")\n"
   ]
  },
  {
   "cell_type": "markdown",
   "metadata": {
    "id": "qN0_G9wY_V9D"
   },
   "source": [
    "#### Definicja funkcji do preprocessingu\n",
    "Funkcja w fazie treningowej zwraca obiekt TaggedDocument składający się z tokenów, oraz oznaczenia dokumentu (numeru na liście paragrafów), w fazie wykorzystania (inference stage) wystarczy sama lista Tokenów"
   ]
  },
  {
   "cell_type": "code",
   "execution_count": null,
   "metadata": {
    "executionInfo": {
     "elapsed": 990,
     "status": "ok",
     "timestamp": 1609879577502,
     "user": {
      "displayName": "Ryszard Tuora",
      "photoUrl": "https://lh3.googleusercontent.com/a-/AOh14GhxT_VWm_ztdUElbQgkkqDhFhKGY98a0kqy8jvGYw=s64",
      "userId": "14358185409280519443"
     },
     "user_tz": -60
    },
    "id": "x7CUFP7D_V9D",
    "scrolled": true
   },
   "outputs": [],
   "source": [
    "import re\n",
    "\n",
    "tokenizer = re.compile(r\"[\\w]+\")\n",
    "\n",
    "def preprocess(doc, index=None):\n",
    "    lowered = doc.lower()\n",
    "    tokenized = tokenizer.findall(lowered)\n",
    "    if index is not None:\n",
    "        # training document indexed according to the corpus\n",
    "        doc = TaggedDocument(tokenized, [index])\n",
    "        return doc\n",
    "    else:\n",
    "        # inference stage\n",
    "        return tokenized"
   ]
  },
  {
   "cell_type": "markdown",
   "metadata": {
    "id": "tCgJhJjO_V9E"
   },
   "source": [
    "#### Przetworzenie danych do treningu\n",
    "Wypisanie liczby paragrafów w zbiorze treningowym"
   ]
  },
  {
   "cell_type": "code",
   "execution_count": null,
   "metadata": {
    "colab": {
     "base_uri": "https://localhost:8080/"
    },
    "executionInfo": {
     "elapsed": 987,
     "status": "ok",
     "timestamp": 1609881144621,
     "user": {
      "displayName": "Ryszard Tuora",
      "photoUrl": "https://lh3.googleusercontent.com/a-/AOh14GhxT_VWm_ztdUElbQgkkqDhFhKGY98a0kqy8jvGYw=s64",
      "userId": "14358185409280519443"
     },
     "user_tz": -60
    },
    "id": "jXBtdm6C_V9E",
    "outputId": "0d39b477-82a8-43ef-a9b1-c75704f975b6"
   },
   "outputs": [],
   "source": [
    "total = iliada + odyseja\n",
    "train_data = [preprocess(doc, i) for i, doc in enumerate(total)]\n",
    "print(len(train_data))\n"
   ]
  },
  {
   "cell_type": "markdown",
   "metadata": {
    "id": "avu5pnd9_V9F"
   },
   "source": [
    "#### Inicjalizacja i trening modelu\n",
    "Parametr dm=0 oznacza że trenujemy model DBOW, który różni się od opisywanego w prezentacji modelu doc2vec tym, że nie zawiera już embeddingów dla pojedynczych słów."
   ]
  },
  {
   "cell_type": "code",
   "execution_count": null,
   "metadata": {
    "executionInfo": {
     "elapsed": 57705,
     "status": "ok",
     "timestamp": 1609881290929,
     "user": {
      "displayName": "Ryszard Tuora",
      "photoUrl": "https://lh3.googleusercontent.com/a-/AOh14GhxT_VWm_ztdUElbQgkkqDhFhKGY98a0kqy8jvGYw=s64",
      "userId": "14358185409280519443"
     },
     "user_tz": -60
    },
    "id": "pwr5SeHW_V9F"
   },
   "outputs": [],
   "source": [
    "EPOCHS = 200\n",
    "FEATURES_NUM = 500\n",
    "model = Doc2Vec(vector_size=FEATURES_NUM, epochs=EPOCHS, dm=0)\n",
    "model.build_vocab(train_data)\n",
    "model.train(train_data, total_examples=model.corpus_count, epochs=EPOCHS)\n",
    "dv = model.dv"
   ]
  },
  {
   "cell_type": "markdown",
   "metadata": {
    "id": "hSBVHQco_V9G"
   },
   "source": [
    "#### Szukanie fragmentów tekstu\n",
    "Stosujemy odległość kosinusową, by znaleźć paragraf najbardziej zbliżony do naszego opisu zdarzeń w tekście."
   ]
  },
  {
   "cell_type": "code",
   "execution_count": null,
   "metadata": {
    "colab": {
     "base_uri": "https://localhost:8080/"
    },
    "executionInfo": {
     "elapsed": 893,
     "status": "ok",
     "timestamp": 1609881637576,
     "user": {
      "displayName": "Ryszard Tuora",
      "photoUrl": "https://lh3.googleusercontent.com/a-/AOh14GhxT_VWm_ztdUElbQgkkqDhFhKGY98a0kqy8jvGYw=s64",
      "userId": "14358185409280519443"
     },
     "user_tz": -60
    },
    "id": "hEvRDXSR_V9G",
    "outputId": "2d3fd4b2-542e-48a7-c386-e917de0f4be5"
   },
   "outputs": [],
   "source": [
    "#example = \"Ojciec płaci okup za ciało Hektora.\"\n",
    "#example = \"Achilles płacze po stracie przyjaciela.\"\n",
    "example = \"Odys chroni się przed śpiewem syren.\"\n",
    "preprocessed = preprocess(example)\n",
    "example_vec = model.infer_vector(preprocessed)\n",
    "for i, x in enumerate(dv.most_similar([example_vec], topn=5)):\n",
    "    print(i+1, x[1], \"\\n\", total[x[0]], \"\\n\")"
   ]
  },
  {
   "cell_type": "markdown",
   "metadata": {
    "id": "bKPx-QbP_V9H"
   },
   "source": [
    "#### Zapisywanie modelu"
   ]
  },
  {
   "cell_type": "code",
   "execution_count": null,
   "metadata": {
    "executionInfo": {
     "elapsed": 1318,
     "status": "ok",
     "timestamp": 1609881667523,
     "user": {
      "displayName": "Ryszard Tuora",
      "photoUrl": "https://lh3.googleusercontent.com/a-/AOh14GhxT_VWm_ztdUElbQgkkqDhFhKGY98a0kqy8jvGYw=s64",
      "userId": "14358185409280519443"
     },
     "user_tz": -60
    },
    "id": "mMMDaps3_V9H"
   },
   "outputs": [],
   "source": [
    "model.save(\"doc2vec.mdl\")\n",
    "model = Doc2Vec.load(\"doc2vec.mdl\")"
   ]
  },
  {
   "cell_type": "markdown",
   "metadata": {
    "id": "tgKx3QN-_V9H"
   },
   "source": [
    "### Wykorzystanie word2vec do reprezentacji dokumentów"
   ]
  },
  {
   "cell_type": "markdown",
   "metadata": {
    "id": "XCXK63zK_V9I"
   },
   "source": [
    "#### Trenowanie modelu"
   ]
  },
  {
   "cell_type": "code",
   "execution_count": null,
   "metadata": {
    "executionInfo": {
     "elapsed": 55382,
     "status": "ok",
     "timestamp": 1609881754762,
     "user": {
      "displayName": "Ryszard Tuora",
      "photoUrl": "https://lh3.googleusercontent.com/a-/AOh14GhxT_VWm_ztdUElbQgkkqDhFhKGY98a0kqy8jvGYw=s64",
      "userId": "14358185409280519443"
     },
     "user_tz": -60
    },
    "id": "GoDWBSvd_V9I"
   },
   "outputs": [],
   "source": [
    "import numpy\n",
    "\n",
    "num_features = 100\n",
    "train_sents = [d.words for d in train_data]\n",
    "\n",
    "EPOCHS = 200\n",
    "w2v_model = Word2Vec(vector_size=num_features, window=5, min_count=1)\n",
    "w2v_model.build_vocab(train_sents)\n",
    "w2v_model.train(train_sents, total_examples=model.corpus_count, epochs=EPOCHS)\n",
    "w2v_wv = w2v_model.wv"
   ]
  },
  {
   "cell_type": "markdown",
   "metadata": {
    "id": "eFx3cF_T_V9I"
   },
   "source": [
    "#### Przygotowanie tablicy zanurzeń dla dokumentów\n",
    "Definiujemy funkcję agregującą wektory dla paragrafu, jako średni wektor tokenów.\n",
    "Przygotowujemy obiekt, przechowujący wektory, dla którego kluczem są numery paragrafów, a wartościami uśrednione wektory paragrafów."
   ]
  },
  {
   "cell_type": "code",
   "execution_count": null,
   "metadata": {
    "executionInfo": {
     "elapsed": 1983,
     "status": "ok",
     "timestamp": 1609881800917,
     "user": {
      "displayName": "Ryszard Tuora",
      "photoUrl": "https://lh3.googleusercontent.com/a-/AOh14GhxT_VWm_ztdUElbQgkkqDhFhKGY98a0kqy8jvGYw=s64",
      "userId": "14358185409280519443"
     },
     "user_tz": -60
    },
    "id": "4RdR9QQS_V9I"
   },
   "outputs": [],
   "source": [
    "def w2v_for_docs(doc):\n",
    "    tokenized = preprocess(doc)\n",
    "    unk = numpy.zeros((num_features,))\n",
    "    vex = []\n",
    "    for tok in tokenized:\n",
    "        try:\n",
    "            vex.append(w2v_wv[tok])\n",
    "        except KeyError:\n",
    "            vex.append(unk)\n",
    "    avg = numpy.average(vex, axis=0)\n",
    "    return avg\n",
    "\n",
    "vec_table = [w2v_for_docs(doc) for doc in total]\n",
    "kv = KeyedVectors(num_features)\n",
    "indices = list(range(len(vec_table)))\n",
    "kv.add_vectors(indices, vec_table)"
   ]
  },
  {
   "cell_type": "markdown",
   "metadata": {
    "id": "8QUNYo-C_V9J"
   },
   "source": [
    "#### Szukanie fragmentów tekstu"
   ]
  },
  {
   "cell_type": "code",
   "execution_count": null,
   "metadata": {
    "colab": {
     "base_uri": "https://localhost:8080/"
    },
    "executionInfo": {
     "elapsed": 873,
     "status": "ok",
     "timestamp": 1609883007887,
     "user": {
      "displayName": "Ryszard Tuora",
      "photoUrl": "https://lh3.googleusercontent.com/a-/AOh14GhxT_VWm_ztdUElbQgkkqDhFhKGY98a0kqy8jvGYw=s64",
      "userId": "14358185409280519443"
     },
     "user_tz": -60
    },
    "id": "mimiwj0k_V9J",
    "outputId": "1e28953c-ce56-4861-944f-21b8f73b585b"
   },
   "outputs": [],
   "source": [
    "#example = \"Ojciec płaci okup za ciało Hektora.\"\n",
    "#example = \"Achilles płacze po stracie przyjaciela.\"\n",
    "example = \"Odys chroni się przed śpiewem syren\"\n",
    "\n",
    "example_vec = w2v_for_docs(example)\n",
    "for i, x in enumerate(kv.most_similar([example_vec], topn=5)):\n",
    "    print(i+1, x[1], \"\\n\", total[x[0]], \"\\n\")"
   ]
  }
 ],
 "metadata": {
  "colab": {
   "collapsed_sections": [],
   "name": "doc2vec.ipynb",
   "provenance": [],
   "toc_visible": true
  },
  "kernelspec": {
   "display_name": "Python 3",
   "language": "python",
   "name": "python3"
  },
  "language_info": {
   "codemirror_mode": {
    "name": "ipython",
    "version": 3
   },
   "file_extension": ".py",
   "mimetype": "text/x-python",
   "name": "python",
   "nbconvert_exporter": "python",
   "pygments_lexer": "ipython3",
   "version": "3.6.9"
  }
 },
 "nbformat": 4,
 "nbformat_minor": 1
}
